{
 "cells": [
  {
   "cell_type": "code",
   "execution_count": 1,
   "id": "715552d6",
   "metadata": {},
   "outputs": [
    {
     "name": "stdout",
     "output_type": "stream",
     "text": [
      "\r",
      " -----    -----    -----      -      -----   \n",
      "|     |  |     |  |     |    | |    |     |  \n",
      "|     |  |        |         |   |   |     |  \n",
      "|     |   -----   |        |     |  |-----   \n",
      "|     |        |  |        |-----|  |   |    \n",
      "|     |  |     |  |     |  |     |  |    |   \n",
      " -----    -----    -----   -     -  -     -  \n",
      "\n",
      "...combining (and extending) ANTIC, GAP, Polymake and Singular\n",
      "Version\u001b[32m 0.12.1-DEV \u001b[39m... \n",
      " ... which comes with absolutely no warranty whatsoever\n",
      "Type: '?Oscar' for more information\n",
      "(c) 2019-2023 by The OSCAR Development Team\n"
     ]
    }
   ],
   "source": [
    "using Oscar"
   ]
  },
  {
   "cell_type": "markdown",
   "id": "48f70dd6",
   "metadata": {},
   "source": [
    "We consider an SU(5) Tate model over an arbitrary base. To construct this model, we begin with a $\\mathbb{P}^{2, 3, 1}$ fibration over a complex $n$-dimensional base manifold $B$, such that the homogeneous coordinates $[x : y : z]$ transform as\n",
    "    $$x \\in H^0(B, \\bar{K}_B^{\\otimes 2})\\,, \\quad y \\in H^0(B, \\bar{K}_B^{\\otimes 3})\\,, \\quad z \\in H^0(B, \\mathcal{O}_B)\\,,$$\n",
    "with $K_B$ the canonical bundle of the base. A Tate model is realized as a hypersurface in this $(n + 2)$-dimensional ambient space given by the locus\n",
    "    $$y^2 + a_1 x y z + a_3 y z^3 = x^3 + a_2 x^2 z^2 + a_4 x z^4 + a_6 z^6\\,,$$\n",
    "with $a_i \\in H^0(B, \\bar{K}_B^{\\otimes i})$. These data define an elliptic fibration $X$ over the base $B$.\n",
    "\n",
    "For the SU(5) Tate model, we tune the parameters $a_i$ of the model so they become proportional to specific powers of $w$, with $w = 0$ a divisor in the base $B$:\n",
    "    $$a_1 = w^0 a_{1, 0}\\,, \\quad a_2 = w^1 a_{2, 1}\\,, \\quad a_3 = w^2 a_{3, 2}\\,, \\quad a_4 = w^3 a_{4, 3}\\,, \\quad a_6 = w^5 a_{6, 5}\\,.$$"
   ]
  },
  {
   "cell_type": "markdown",
   "id": "c46e076e",
   "metadata": {},
   "source": [
    "With FTheoryTools, we can create this model with the following code. First, we create an auxiliary base ring with the parameters needed to define our model:"
   ]
  },
  {
   "cell_type": "code",
   "execution_count": 2,
   "id": "63473e91",
   "metadata": {},
   "outputs": [
    {
     "data": {
      "text/plain": [
       "(Multivariate Polynomial Ring in 6 variables a10, a21, a32, a43, ..., w over Rational Field, QQMPolyRingElem[a10, a21, a32, a43, a65, w])"
      ]
     },
     "execution_count": 2,
     "metadata": {},
     "output_type": "execute_result"
    }
   ],
   "source": [
    "auxiliary_base_ring, (a10, a21, a32, a43, a65, w) = QQ[\"a10\", \"a21\", \"a32\", \"a43\", \"a65\", \"w\"]"
   ]
  },
  {
   "cell_type": "markdown",
   "id": "73c98964",
   "metadata": {},
   "source": [
    "Then, we define the Tate model as given above (in this case, we will choose $n = 3$ for the dimension of the base):"
   ]
  },
  {
   "cell_type": "code",
   "execution_count": 3,
   "id": "3e0b2258",
   "metadata": {},
   "outputs": [
    {
     "data": {
      "text/plain": [
       "Global Tate model over a not fully specified base"
      ]
     },
     "execution_count": 3,
     "metadata": {},
     "output_type": "execute_result"
    }
   ],
   "source": [
    "su5_tate = global_tate_model([w^0 * a10, w^1 * a21, w^2 * a32, w^3 * a43, w^5 * a65], auxiliary_base_ring, 3)"
   ]
  },
  {
   "cell_type": "markdown",
   "id": "98dffa94",
   "metadata": {},
   "source": [
    "We can then extract the defining polynomial of the fibration, name the generators of its base ring, and define its vanishing locus as an ideal:"
   ]
  },
  {
   "cell_type": "code",
   "execution_count": 4,
   "id": "6933c119",
   "metadata": {},
   "outputs": [
    {
     "data": {
      "text/plain": [
       "ideal(-a10*x*y*z + a21*w*x^2*z^2 - a32*w^2*y*z^3 + a43*w^3*x*z^4 + a65*w^5*z^6 + x^3 - y^2)"
      ]
     },
     "execution_count": 4,
     "metadata": {},
     "output_type": "execute_result"
    }
   ],
   "source": [
    "su5_tate_poly = tate_polynomial(su5_tate);\n",
    "(a10_0, a21_0, a32_0, a43_0, a65_0, w_0, x_0, y_0, z_0) = gens(parent(su5_tate_poly));\n",
    "su5_ideal = ideal([su5_tate_poly])"
   ]
  },
  {
   "cell_type": "markdown",
   "id": "d1b5c4da",
   "metadata": {},
   "source": [
    "For use later, we also compute the irrelevant ideal, the Stanley–Reisner ideal, and the ideal of linear relations of the toric ambient space:"
   ]
  },
  {
   "cell_type": "code",
   "execution_count": 5,
   "id": "cadf1932",
   "metadata": {},
   "outputs": [],
   "source": [
    "su5_tas = su5_tate.toric_ambient_space;\n",
    "irr_0 = irrelevant_ideal(su5_tas);\n",
    "sri_0 = stanley_reisner_ideal(su5_tas);\n",
    "lin_0 = ideal_of_linear_relations(su5_tas);"
   ]
  },
  {
   "cell_type": "markdown",
   "id": "25988f10",
   "metadata": {},
   "source": [
    "This model has singularities, and various information about these singularities determines the physics of the model. First, we compute the discriminant to determine where the model is singular:"
   ]
  },
  {
   "cell_type": "code",
   "execution_count": 6,
   "id": "4890e14f",
   "metadata": {},
   "outputs": [
    {
     "data": {
      "text/plain": [
       "(1//16) * w^5 * (a10^6*a65 - a10^5*a32*a43 + a10^4*a21*a32^2 + 12*a10^4*a21*a65*w - a10^4*a43^2*w - 8*a10^3*a21*a32*a43*w - a10^3*a32^3*w - 36*a10^3*a32*a65*w^2 + 8*a10^2*a21^2*a32^2*w + 48*a10^2*a21^2*a65*w^2 - 8*a10^2*a21*a43^2*w^2 + 30*a10^2*a32^2*a43*w^2 - 72*a10^2*a43*a65*w^3 - 16*a10*a21^2*a32*a43*w^2 - 36*a10*a21*a32^3*w^2 - 144*a10*a21*a32*a65*w^3 + 96*a10*a32*a43^2*w^3 + 16*a21^3*a32^2*w^2 + 64*a21^3*a65*w^3 - 16*a21^2*a43^2*w^3 - 72*a21*a32^2*a43*w^3 - 288*a21*a43*a65*w^4 + 27*a32^4*w^3 + 216*a32^2*a65*w^4 + 64*a43^3*w^4 + 432*a65^2*w^5)"
      ]
     },
     "execution_count": 6,
     "metadata": {},
     "output_type": "execute_result"
    }
   ],
   "source": [
    "su5_disc = factor(discriminant(su5_tate))"
   ]
  },
  {
   "cell_type": "markdown",
   "id": "7749dd23",
   "metadata": {},
   "source": [
    "We see that the discriminant vanishes to order 5 at $w = 0$.\n",
    "\n",
    "We can also compute the coefficients $f$ and $g$ of the corresponding Weierstrass model (defined analogously to our Tate model, but with the hypersurface equation given in short Weierstrass form):"
   ]
  },
  {
   "cell_type": "code",
   "execution_count": 7,
   "id": "2187dd4a",
   "metadata": {},
   "outputs": [
    {
     "data": {
      "text/plain": [
       "Global Weierstrass model over a not fully specified base"
      ]
     },
     "execution_count": 7,
     "metadata": {},
     "output_type": "execute_result"
    }
   ],
   "source": [
    "su5_weierstrass = global_weierstrass_model(su5_tate)"
   ]
  },
  {
   "cell_type": "code",
   "execution_count": 8,
   "id": "7a1b70ce",
   "metadata": {},
   "outputs": [
    {
     "data": {
      "text/plain": [
       "-1//48*a10^4 - 1//6*a10^2*a21*w + 1//2*a10*a32*w^2 - 1//3*a21^2*w^2 + a43*w^3"
      ]
     },
     "execution_count": 8,
     "metadata": {},
     "output_type": "execute_result"
    }
   ],
   "source": [
    "su5_f = weierstrass_section_f(su5_weierstrass)"
   ]
  },
  {
   "cell_type": "code",
   "execution_count": 9,
   "id": "15ec06fb",
   "metadata": {},
   "outputs": [
    {
     "data": {
      "text/plain": [
       "1//864*a10^6 + 1//72*a10^4*a21*w - 1//24*a10^3*a32*w^2 + 1//18*a10^2*a21^2*w^2 - 1//12*a10^2*a43*w^3 - 1//6*a10*a21*a32*w^3 + 2//27*a21^3*w^3 - 1//3*a21*a43*w^4 + 1//4*a32^2*w^4 + a65*w^5"
      ]
     },
     "execution_count": 9,
     "metadata": {},
     "output_type": "execute_result"
    }
   ],
   "source": [
    "su5_g = weierstrass_section_g(su5_weierstrass)"
   ]
  },
  {
   "cell_type": "markdown",
   "id": "a7758aac",
   "metadata": {},
   "source": [
    "These sections do not vanish at $w = 0$:"
   ]
  },
  {
   "cell_type": "code",
   "execution_count": 10,
   "id": "eb28f69d",
   "metadata": {},
   "outputs": [
    {
     "data": {
      "text/plain": [
       "(-1//48) * (a10^4 + 8*a10^2*a21*w - 24*a10*a32*w^2 + 16*a21^2*w^2 - 48*a43*w^3)"
      ]
     },
     "execution_count": 10,
     "metadata": {},
     "output_type": "execute_result"
    }
   ],
   "source": [
    "factor(su5_f)"
   ]
  },
  {
   "cell_type": "code",
   "execution_count": 11,
   "id": "f262e22e",
   "metadata": {},
   "outputs": [
    {
     "data": {
      "text/plain": [
       "(1//864) * (a10^6 + 12*a10^4*a21*w - 36*a10^3*a32*w^2 + 48*a10^2*a21^2*w^2 - 72*a10^2*a43*w^3 - 144*a10*a21*a32*w^3 + 64*a21^3*w^3 - 288*a21*a43*w^4 + 216*a32^2*w^4 + 864*a65*w^5)"
      ]
     },
     "execution_count": 11,
     "metadata": {},
     "output_type": "execute_result"
    }
   ],
   "source": [
    "factor(su5_g)"
   ]
  },
  {
   "cell_type": "markdown",
   "id": "db64b3ac",
   "metadata": {},
   "source": [
    "This indicates that the singularity at $w = 0$ has Kodaira type $I_5$, which gives rise to an SU(5) gauge group, as desired. This analysis can also be carried out automatically:"
   ]
  },
  {
   "cell_type": "code",
   "execution_count": 12,
   "id": "7a5471ef",
   "metadata": {},
   "outputs": [
    {
     "data": {
      "text/plain": [
       "2-element Vector{Tuple{MPolyIdeal{MPolyDecRingElem{QQFieldElem, QQMPolyRingElem}}, Tuple{Int64, Int64, Int64}, String}}:\n",
       " (ideal(a10^6*a65 - a10^5*a32*a43 + a10^4*a21*a32^2 + 12*a10^4*a21*a65*w - a10^4*a43^2*w - 8*a10^3*a21*a32*a43*w - a10^3*a32^3*w - 36*a10^3*a32*a65*w^2 + 8*a10^2*a21^2*a32^2*w + 48*a10^2*a21^2*a65*w^2 - 8*a10^2*a21*a43^2*w^2 + 30*a10^2*a32^2*a43*w^2 - 72*a10^2*a43*a65*w^3 - 16*a10*a21^2*a32*a43*w^2 - 36*a10*a21*a32^3*w^2 - 144*a10*a21*a32*a65*w^3 + 96*a10*a32*a43^2*w^3 + 16*a21^3*a32^2*w^2 + 64*a21^3*a65*w^3 - 16*a21^2*a43^2*w^3 - 72*a21*a32^2*a43*w^3 - 288*a21*a43*a65*w^4 + 27*a32^4*w^3 + 216*a32^2*a65*w^4 + 64*a43^3*w^4 + 432*a65^2*w^5), (0, 0, 1), \"I_1\")\n",
       " (ideal(w), (0, 0, 5), \"Split I_5\")"
      ]
     },
     "execution_count": 12,
     "metadata": {},
     "output_type": "execute_result"
    }
   ],
   "source": [
    "singular_loci(su5_tate)"
   ]
  },
  {
   "cell_type": "markdown",
   "id": "37b3dbdd",
   "metadata": {},
   "source": [
    "This indicates a split (indicating the Tate monodromy type) $I_5$ singularity at $w = 0$, and identifies the rest of the discriminant as a type $I_1$ singularity. (Note that we are using the Kodaira classification, despite the fact that $X$ is not an elliptic surface; we will further abuse the classification by using it at codimension higher than 1. This is standard in the physics literature, and though acknowledged as improper, always gives consistent physical results in known examples.)"
   ]
  },
  {
   "cell_type": "markdown",
   "id": "c735f4f7",
   "metadata": {},
   "source": [
    "In order to analyze the fibers over the singular locus, we wish to resolve the singularities of the space $X$. However, due to physical constraints (in order to maintain supersymmetry), we restrict ourselves only to crepant resolutions, and we leave any terminal singularities unresolved. The particular model we are considering can be crepantly resolved through codimension 3 by the following sequence of blowups:\n",
    "    $$X_4 \\xrightarrow{(b_{3, 1}, e_2)} X_3 \\xrightarrow{(b_{2, 2}, b_{2, 3})} X_2 \\xrightarrow{(b_{1, 1}, b_{1, 2}, e_1)} X_1 \\xrightarrow{(x, y, w)} X\\,,$$\n",
    "where the center of each blowup is indicated above the corresponding arrow. For blowup $i$ with center $(g_1, \\dotsc, g_m)$, the blowup is carried out as $g_j \\to e_i b_{i, j}$, so that $e_i = 0$ is the exceptional locus of the blowup."
   ]
  },
  {
   "cell_type": "markdown",
   "id": "ada41dd7",
   "metadata": {},
   "source": [
    "The blowup above can be carried out using FTheoryTools as follows:"
   ]
  },
  {
   "cell_type": "code",
   "execution_count": 13,
   "id": "c145545c",
   "metadata": {
    "scrolled": false
   },
   "outputs": [],
   "source": [
    "su5_strict_transform, exceptionals, crepant, irr_4, sri_4, lin_4, S, S_gens, ring_map = _blowup_global_sequence(su5_ideal, [[7, 8, 6], [2, 3, 1], [3, 4], [2, 4]], irr_0, sri_0, lin_0);"
   ]
  },
  {
   "cell_type": "markdown",
   "id": "3ae89c0f",
   "metadata": {},
   "source": [
    "This blowup is crepant, as desired:"
   ]
  },
  {
   "cell_type": "code",
   "execution_count": 14,
   "id": "0a645032",
   "metadata": {},
   "outputs": [
    {
     "data": {
      "text/plain": [
       "true"
      ]
     },
     "execution_count": 14,
     "metadata": {},
     "output_type": "execute_result"
    }
   ],
   "source": [
    "crepant"
   ]
  },
  {
   "cell_type": "markdown",
   "id": "5b303d02",
   "metadata": {},
   "source": [
    "Among other data, we can extract the exceptional loci of the blowups:"
   ]
  },
  {
   "cell_type": "code",
   "execution_count": 15,
   "id": "ce8086d6",
   "metadata": {},
   "outputs": [
    {
     "data": {
      "text/plain": [
       "4-element Vector{Oscar.IdealGens{QQMPolyRingElem}}:\n",
       " Gröbner basis with elements\n",
       "1 -> y\n",
       "2 -> x\n",
       "3 -> w\n",
       "4 -> e_1\n",
       "with respect to the ordering\n",
       "degrevlex([e_4, b_4_1, b_4_2, e_3, b_3_1, b_3_2, e_2, b_2_1, b_2_2, b_2_3, e_1, b_1_1, b_1_2, b_1_3, a10, a21, a32, a43, a65, w, x, y, z])\n",
       " Gröbner basis with elements\n",
       "1 -> y\n",
       "2 -> x\n",
       "3 -> w\n",
       "4 -> b_1_2\n",
       "5 -> b_1_1\n",
       "6 -> e_1\n",
       "7 -> e_2\n",
       "with respect to the ordering\n",
       "degrevlex([e_4, b_4_1, b_4_2, e_3, b_3_1, b_3_2, e_2, b_2_1, b_2_2, b_2_3, e_1, b_1_1, b_1_2, b_1_3, a10, a21, a32, a43, a65, w, x, y, z])\n",
       " Gröbner basis with elements\n",
       "1 -> y\n",
       "2 -> x\n",
       "3 -> w\n",
       "4 -> b_1_2\n",
       "5 -> e_1\n",
       "6 -> b_2_3\n",
       "7 -> b_2_2\n",
       "8 -> e_3\n",
       "9 -> e_2*b_2_1 - b_1_1\n",
       "with respect to the ordering\n",
       "degrevlex([e_4, b_4_1, b_4_2, e_3, b_3_1, b_3_2, e_2, b_2_1, b_2_2, b_2_3, e_1, b_1_1, b_1_2, b_1_3, a10, a21, a32, a43, a65, w, x, y, z])\n",
       " Gröbner basis with elements\n",
       "1 -> y\n",
       "2 -> x\n",
       "3 -> w\n",
       "4 -> b_1_2\n",
       "5 -> b_1_1\n",
       "6 -> e_1\n",
       "7 -> b_2_2\n",
       "8 -> e_2\n",
       "9 -> b_3_1\n",
       "10 -> e_4\n",
       "11 -> e_3*b_3_2 - b_2_3\n",
       "with respect to the ordering\n",
       "degrevlex([e_4, b_4_1, b_4_2, e_3, b_3_1, b_3_2, e_2, b_2_1, b_2_2, b_2_3, e_1, b_1_1, b_1_2, b_1_3, a10, a21, a32, a43, a65, w, x, y, z])"
      ]
     },
     "execution_count": 15,
     "metadata": {},
     "output_type": "execute_result"
    }
   ],
   "source": [
    "map(standard_basis, exceptionals)"
   ]
  },
  {
   "cell_type": "markdown",
   "id": "2ce7c941",
   "metadata": {},
   "source": [
    "In the resolved model, the fiber over generic points of $w = 0$ splits into a collection of five $\\mathbb{P}^1$s that intersect in the form of an affine $\\hat{A}_4$ Dynkin diagram. This can be checked with the following command (note that it takes a while to run!):"
   ]
  },
  {
   "cell_type": "code",
   "execution_count": 16,
   "id": "dd864669",
   "metadata": {},
   "outputs": [
    {
     "data": {
      "text/plain": [
       "10-element Vector{Tuple{Tuple{Int64, Int64}, Vector{MPolyIdeal{QQMPolyRingElem}}}}:\n",
       " ((1, 2), [ideal(e_2*b_2_1 - b_1_1, b_3_1*a10*z - b_3_2*b_1_1^2, b_4_1*a10*z - b_4_2*b_3_2*b_2_1*b_1_1, b_4_1*b_1_1 - b_4_2*b_3_1*b_2_1, b_4_1*e_2 - b_4_2*b_3_1, e_4*b_4_2 - e_2, e_4*b_4_1 - b_3_1, y, x, w, b_1_3, b_1_2, e_1, b_2_3, b_2_2, e_3)])\n",
       " ((1, 3), [ideal(b_1_1*a10*z + b_1_2, b_2_1*a10*z + b_2_2, b_2_1*b_1_2 - b_2_2*b_1_1, e_2*b_2_2 - b_1_2, e_2*b_2_1 - b_1_1, e_3*b_3_1 - b_2_2, b_4_1*b_1_2 - b_4_2*b_3_1*b_2_2, b_4_1*b_1_1 - b_4_2*b_3_1*b_2_1, b_4_1*e_2 - b_4_2*b_3_1, e_4*b_4_2 - e_2, e_4*b_4_1 - b_3_1, y, x, w, b_1_3, e_1, b_2_3, b_3_2)])\n",
       " ((1, 4), [])\n",
       " ((1, 5), [])\n",
       " ((2, 3), [ideal(a10, e_2*b_2_1 - b_1_1, b_4_1*b_1_1 - b_4_2*b_3_1*b_2_1, b_4_1*e_2 - b_4_2*b_3_1, e_4*b_4_2 - e_2, e_4*b_4_1 - b_3_1, y, x, w, b_1_2, e_1, b_2_3, b_2_2, b_3_2, e_3)])\n",
       " ((2, 4), [ideal(a10, e_4*b_4_1 - b_3_1, y, x, w, b_1_2, b_1_1, e_1, b_2_3, b_2_2, e_2, e_3, b_4_2)])\n",
       " ((2, 5), [ideal(b_4_1*a10 - b_4_2*b_3_2*b_2_1*b_1_3*a21*z, y, x, w, b_1_2, b_1_1, e_1, b_2_3, b_2_2, e_2, b_3_1, e_3, e_4)])\n",
       " ((3, 4), [ideal(b_2_1*a10*z + b_2_2, e_3*b_3_1 - b_2_2, e_4*b_4_1 - b_3_1, y, x, w, b_1_2, b_1_1, e_1, b_2_3, e_2, b_3_2, b_4_2)])\n",
       " ((3, 5), [])\n",
       " ((4, 5), [ideal(b_2_1*a10 + b_2_3*b_1_3^2*a32*z^2, e_3*b_3_2 - b_2_3, y, x, w, b_1_2, b_1_1, e_1, b_2_2, e_2, b_3_1, b_4_2, e_4)])"
      ]
     },
     "execution_count": 16,
     "metadata": {},
     "output_type": "execute_result"
    }
   ],
   "source": [
    "fiber_intersections = analyze_fibers(su5_tate, [[7, 8, 6], [2, 3, 1], [3, 4], [2, 4]]);\n",
    "fiber_intersections[1][2]"
   ]
  },
  {
   "cell_type": "markdown",
   "id": "5b6f0222",
   "metadata": {},
   "source": [
    "This output returns the loci in which the curves $\\mathbb{P}^1_i$ and $\\mathbb{P}^1_j$ intersect. We note that there is a loop of intersections $\\mathbb{P}^1_1 \\leftrightarrow \\mathbb{P}^1_2 \\leftrightarrow \\mathbb{P}^1_5 \\leftrightarrow \\mathbb{P}^1_4 \\leftrightarrow \\mathbb{P}^1_3 \\leftrightarrow \\mathbb{P}^1_1$, as expected for $\\hat{A}_4$. However, we also see that $\\mathbb{P}^1_2$ intersects both $\\mathbb{P}^1_3$ and $\\mathbb{P}^1_4$; this is okay, because these intersections occur at $a_{1, 0} = 0$, meaning that they are not at generic points of $w = 0$ but rather at codimension 2 in the base."
   ]
  },
  {
   "cell_type": "markdown",
   "id": "d3dc1e39",
   "metadata": {},
   "source": [
    "That's all for now, but in the future (among many other things) we would also like to analyze the structure of the fibers over generic points of codimension-2 and codimension-3 (in the base) loci where the singularity type enhances. This includes assigning a \"would-be\" Kodaira type to the singularities there and analyzing their fiber structure, as discussed above for the codimension-1 case."
   ]
  }
 ],
 "metadata": {
  "kernelspec": {
   "display_name": "Julia 1.7.2",
   "language": "julia",
   "name": "julia-1.7"
  },
  "language_info": {
   "file_extension": ".jl",
   "mimetype": "application/julia",
   "name": "julia",
   "version": "1.7.2"
  }
 },
 "nbformat": 4,
 "nbformat_minor": 5
}
