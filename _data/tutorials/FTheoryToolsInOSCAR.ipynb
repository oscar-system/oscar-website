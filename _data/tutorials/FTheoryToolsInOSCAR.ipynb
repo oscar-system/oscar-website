{
 "cells": [
  {
   "cell_type": "markdown",
   "id": "a4518a50-2354-4d56-8315-d6edc7a4b0f9",
   "metadata": {},
   "source": [
    "# *FTheoryTools*\n",
    "\n",
    "This tutorial provides a brief introduction to the *FTheoryTools* in *OSCAR*.\n",
    "\n",
    "The aim is to describe some basic constructions. In order to facilitate this introduction, we are very selective in what we present. For a full description of the available functionality, see https://docs.oscar-system.org/stable/Experimental/FTheoryTools/introduction/. It is worth mentioning that *FTheoryTools* is still (as of January 24, 2024) in its experimental stage in *OSCAR*. Consequently, major changes may happen in the future.\n",
    "\n",
    "For this tutorial, no prior knowledge of *OSCAR* is necessary.\n",
    "\n",
    "## Content\n",
    "1. [An SU(5) Tate model from scratch](#1-An-SU(5)-Tate-model-from-scratch)\n",
    "   - [Construction](#1.A-Construction)\n",
    "   - [Properties and Attributes](#1.B-Properties-and-Attributes)\n",
    "2. [Literature Models and Singularity Resolution](#2-Literature-Models-and-Singularity-Resolution)\n",
    "   - [Creating a Literature Model](#2-A-Creating-a-Literature-Model)\n",
    "   - [Attributes and Properties of Literature Models](#2.B-Attributes-and-Properties-of-Literature-Models)\n",
    "   - [Singularity Resolution](#2.C-Singularity-Resolution)"
   ]
  },
  {
   "cell_type": "code",
   "execution_count": 1,
   "id": "cb6d851b-35d7-42c0-8ca8-3ee36551cfc1",
   "metadata": {},
   "outputs": [
    {
     "name": "stdout",
     "output_type": "stream",
     "text": [
      " -----    -----    -----      -      -----   \n",
      "|     |  |     |  |     |    | |    |     |  \n",
      "|     |  |        |         |   |   |     |  \n",
      "|     |   -----   |        |     |  |-----   \n",
      "|     |        |  |        |-----|  |   |    \n",
      "|     |  |     |  |     |  |     |  |    |   \n",
      " -----    -----    -----   -     -  -     -  \n",
      "\n",
      "...combining (and extending) ANTIC, GAP, Polymake and Singular\n",
      "Version\u001b[32m 0.14.0 \u001b[39m... \n",
      " ... which comes with absolutely no warranty whatsoever\n",
      "Type: '?Oscar' for more information\n",
      "(c) 2019-2024 by The OSCAR Development Team\n"
     ]
    }
   ],
   "source": [
    "using Oscar"
   ]
  },
  {
   "cell_type": "markdown",
   "id": "ebe8b891-7d57-465a-b237-80f766e923a4",
   "metadata": {},
   "source": [
    "# 1 An SU(5) Tate model from scratch"
   ]
  },
  {
   "cell_type": "markdown",
   "id": "5116cd56-24d4-48ef-9eee-4eac2dcafb22",
   "metadata": {},
   "source": [
    "## 1.A Construction"
   ]
  },
  {
   "cell_type": "markdown",
   "id": "48f70dd6",
   "metadata": {},
   "source": [
    "We consider an SU(5) Tate model over an arbitrary base. To construct this model, we begin with a $\\mathbb{P}^{2, 3, 1}$ fibration over a complex $n$-dimensional base manifold $B$, such that the homogeneous coordinates $[x : y : z]$ transform as\n",
    "    $$x \\in H^0(B, \\bar{K}_B^{\\otimes 2})\\,, \\quad y \\in H^0(B, \\bar{K}_B^{\\otimes 3})\\,, \\quad z \\in H^0(B, \\mathcal{O}_B)\\,,$$\n",
    "with $K_B$ the canonical bundle of the base. A Tate model is realized as a hypersurface in this $(n + 2)$-dimensional ambient space given by the locus\n",
    "    $$y^2 + a_1 x y z + a_3 y z^3 = x^3 + a_2 x^2 z^2 + a_4 x z^4 + a_6 z^6\\,,$$\n",
    "with $a_i \\in H^0(B, \\bar{K}_B^{\\otimes i})$. These data define an elliptic fibration $X$ over the base $B$.\n",
    "\n",
    "For the SU(5) Tate model, we tune the parameters $a_i$ of the model so they become proportional to specific powers of $w$, with $w = 0$ a divisor in the base $B$:\n",
    "    $$a_1 = w^0 a_{1, 0}\\,, \\quad a_2 = w^1 a_{2, 1}\\,, \\quad a_3 = w^2 a_{3, 2}\\,, \\quad a_4 = w^3 a_{4, 3}\\,, \\quad a_6 = w^5 a_{6, 5}\\,.$$"
   ]
  },
  {
   "cell_type": "markdown",
   "id": "c46e076e",
   "metadata": {},
   "source": [
    "With FTheoryTools, we can create this model with the following code. First, we create an auxiliary base ring with the parameters needed to define our model:"
   ]
  },
  {
   "cell_type": "code",
   "execution_count": 2,
   "id": "6ee360c2-4154-45e1-bc4d-ff17fc7b5ee8",
   "metadata": {},
   "outputs": [
    {
     "data": {
      "text/plain": [
       "(Multivariate polynomial ring in 6 variables over QQ, QQMPolyRingElem[a10, a21, a32, a43, a65, w])"
      ]
     },
     "execution_count": 2,
     "metadata": {},
     "output_type": "execute_result"
    }
   ],
   "source": [
    "auxiliary_base_ring, (a10, a21, a32, a43, a65, w) = QQ[\"a10\", \"a21\", \"a32\", \"a43\", \"a65\", \"w\"]"
   ]
  },
  {
   "cell_type": "code",
   "execution_count": 3,
   "id": "8fcfca37-fa7b-48a2-8aa5-828387958e2f",
   "metadata": {},
   "outputs": [
    {
     "data": {
      "text/plain": [
       "2×6 Matrix{Int64}:\n",
       " 1   2   3   4   6  0\n",
       " 0  -1  -2  -3  -5  1"
      ]
     },
     "execution_count": 3,
     "metadata": {},
     "output_type": "execute_result"
    }
   ],
   "source": [
    "auxiliary_base_grading = [1 2 3 4 6 0; 0 -1 -2 -3 -5 1]"
   ]
  },
  {
   "cell_type": "code",
   "execution_count": 4,
   "id": "8bc562ca-2114-4e58-8190-12e3e212b51e",
   "metadata": {},
   "outputs": [
    {
     "data": {
      "text/plain": [
       "a10"
      ]
     },
     "execution_count": 4,
     "metadata": {},
     "output_type": "execute_result"
    }
   ],
   "source": [
    "a1 = a10"
   ]
  },
  {
   "cell_type": "code",
   "execution_count": 5,
   "id": "d5e9f388-e77b-4efc-b4b1-e5988a629bc4",
   "metadata": {},
   "outputs": [
    {
     "data": {
      "text/plain": [
       "a21*w"
      ]
     },
     "execution_count": 5,
     "metadata": {},
     "output_type": "execute_result"
    }
   ],
   "source": [
    "a2 = a21 * w"
   ]
  },
  {
   "cell_type": "code",
   "execution_count": 6,
   "id": "100160dc-631c-49c8-9392-7eb3a616b940",
   "metadata": {},
   "outputs": [
    {
     "data": {
      "text/plain": [
       "a32*w^2"
      ]
     },
     "execution_count": 6,
     "metadata": {},
     "output_type": "execute_result"
    }
   ],
   "source": [
    "a3 = a32 * w^2"
   ]
  },
  {
   "cell_type": "code",
   "execution_count": 7,
   "id": "90f5e4cb-fef4-4a0e-97a1-0bbdf3c21c37",
   "metadata": {},
   "outputs": [
    {
     "data": {
      "text/plain": [
       "a43*w^3"
      ]
     },
     "execution_count": 7,
     "metadata": {},
     "output_type": "execute_result"
    }
   ],
   "source": [
    "a4 = a43 * w^3"
   ]
  },
  {
   "cell_type": "code",
   "execution_count": 8,
   "id": "54b429a1-ea68-46fc-a4ef-fb078e8269b5",
   "metadata": {},
   "outputs": [
    {
     "data": {
      "text/plain": [
       "a65*w^5"
      ]
     },
     "execution_count": 8,
     "metadata": {},
     "output_type": "execute_result"
    }
   ],
   "source": [
    "a6 = a65 * w^5"
   ]
  },
  {
   "cell_type": "code",
   "execution_count": 9,
   "id": "ccc408a5-674f-4a1b-a107-a35594c853fb",
   "metadata": {},
   "outputs": [
    {
     "data": {
      "text/plain": [
       "5-element Vector{QQMPolyRingElem}:\n",
       " a10\n",
       " a21*w\n",
       " a32*w^2\n",
       " a43*w^3\n",
       " a65*w^5"
      ]
     },
     "execution_count": 9,
     "metadata": {},
     "output_type": "execute_result"
    }
   ],
   "source": [
    "ais = [a1, a2, a3, a4, a6]"
   ]
  },
  {
   "cell_type": "markdown",
   "id": "73c98964",
   "metadata": {},
   "source": [
    "Then, we define the Tate model as given above (in this case, we will choose $d = 3$ for the dimension of the base):"
   ]
  },
  {
   "cell_type": "code",
   "execution_count": 10,
   "id": "3e0b2258",
   "metadata": {},
   "outputs": [
    {
     "name": "stdout",
     "output_type": "stream",
     "text": [
      "Assuming that the first row of the given grading is the grading under Kbar\n",
      "\n"
     ]
    },
    {
     "data": {
      "text/plain": [
       "Global Tate model over a not fully specified base"
      ]
     },
     "execution_count": 10,
     "metadata": {},
     "output_type": "execute_result"
    }
   ],
   "source": [
    "su5_tate = global_tate_model(auxiliary_base_ring, auxiliary_base_grading, 3, ais)"
   ]
  },
  {
   "cell_type": "markdown",
   "id": "3679c88e-9ebf-42f1-ac19-ad854f3fccd1",
   "metadata": {},
   "source": [
    "## 1.B Properties and Attributes"
   ]
  },
  {
   "cell_type": "markdown",
   "id": "98dffa94",
   "metadata": {},
   "source": [
    "We can then extract the Tate polynomial, the Tate sections, base spaces etc. of this model."
   ]
  },
  {
   "cell_type": "code",
   "execution_count": 11,
   "id": "6933c119",
   "metadata": {},
   "outputs": [
    {
     "data": {
      "text/plain": [
       "-a10*x*y*z + a21*w*x^2*z^2 - a32*w^2*y*z^3 + a43*w^3*x*z^4 + a65*w^5*z^6 + x^3 - y^2"
      ]
     },
     "execution_count": 11,
     "metadata": {},
     "output_type": "execute_result"
    }
   ],
   "source": [
    "su5_tate_poly = tate_polynomial(su5_tate)"
   ]
  },
  {
   "cell_type": "code",
   "execution_count": 12,
   "id": "2785b979-5ff2-47de-88e1-57eeb0bede14",
   "metadata": {},
   "outputs": [
    {
     "data": {
      "text/plain": [
       "A family of spaces of dimension d = 3"
      ]
     },
     "execution_count": 12,
     "metadata": {},
     "output_type": "execute_result"
    }
   ],
   "source": [
    "base_space(su5_tate)"
   ]
  },
  {
   "cell_type": "code",
   "execution_count": 13,
   "id": "8824185f-cc9b-40b5-b40e-26e950adbd08",
   "metadata": {},
   "outputs": [
    {
     "data": {
      "text/plain": [
       "A family of spaces of dimension d = 5"
      ]
     },
     "execution_count": 13,
     "metadata": {},
     "output_type": "execute_result"
    }
   ],
   "source": [
    "ambient_space(su5_tate)"
   ]
  },
  {
   "cell_type": "markdown",
   "id": "25988f10",
   "metadata": {},
   "source": [
    "This model has singularities, and various information about these singularities determines the physics of the model. First, we compute the discriminant to determine where the model is singular:"
   ]
  },
  {
   "cell_type": "code",
   "execution_count": 14,
   "id": "4890e14f",
   "metadata": {},
   "outputs": [
    {
     "data": {
      "text/plain": [
       "(1//16) * w^5 * (a10^6*a65 - a10^5*a32*a43 + a10^4*a21*a32^2 + 12*a10^4*a21*a65*w - a10^4*a43^2*w - 8*a10^3*a21*a32*a43*w - a10^3*a32^3*w - 36*a10^3*a32*a65*w^2 + 8*a10^2*a21^2*a32^2*w + 48*a10^2*a21^2*a65*w^2 - 8*a10^2*a21*a43^2*w^2 + 30*a10^2*a32^2*a43*w^2 - 72*a10^2*a43*a65*w^3 - 16*a10*a21^2*a32*a43*w^2 - 36*a10*a21*a32^3*w^2 - 144*a10*a21*a32*a65*w^3 + 96*a10*a32*a43^2*w^3 + 16*a21^3*a32^2*w^2 + 64*a21^3*a65*w^3 - 16*a21^2*a43^2*w^3 - 72*a21*a32^2*a43*w^3 - 288*a21*a43*a65*w^4 + 27*a32^4*w^3 + 216*a32^2*a65*w^4 + 64*a43^3*w^4 + 432*a65^2*w^5)"
      ]
     },
     "execution_count": 14,
     "metadata": {},
     "output_type": "execute_result"
    }
   ],
   "source": [
    "su5_disc = factor(discriminant(su5_tate))"
   ]
  },
  {
   "cell_type": "markdown",
   "id": "b6870818-dc74-4fb4-9b59-777ab64e4cdd",
   "metadata": {},
   "source": [
    "(Careful with the above method. It assumes that family of spaces more or less work as a toric space internally. This is to be discussed and possibly overhauled in the future development process. As a consequence, the output might change. However, the above result is of course correct and as expected in the literature.)"
   ]
  },
  {
   "cell_type": "markdown",
   "id": "7749dd23",
   "metadata": {},
   "source": [
    "We see that the discriminant vanishes to order 5 at $w = 0$.\n",
    "\n",
    "We can also compute the coefficients $f$ and $g$ of the corresponding Weierstrass model (defined analogously to our Tate model, but with the hypersurface equation given in short Weierstrass form):"
   ]
  },
  {
   "cell_type": "code",
   "execution_count": 15,
   "id": "2187dd4a",
   "metadata": {},
   "outputs": [
    {
     "data": {
      "text/plain": [
       "Weierstrass model over a not fully specified base"
      ]
     },
     "execution_count": 15,
     "metadata": {},
     "output_type": "execute_result"
    }
   ],
   "source": [
    "su5_weierstrass = weierstrass_model(su5_tate)"
   ]
  },
  {
   "cell_type": "code",
   "execution_count": 16,
   "id": "7a1b70ce",
   "metadata": {},
   "outputs": [
    {
     "data": {
      "text/plain": [
       "-1//48*a10^4 - 1//6*a10^2*a21*w + 1//2*a10*a32*w^2 - 1//3*a21^2*w^2 + a43*w^3"
      ]
     },
     "execution_count": 16,
     "metadata": {},
     "output_type": "execute_result"
    }
   ],
   "source": [
    "su5_f = weierstrass_section_f(su5_weierstrass)"
   ]
  },
  {
   "cell_type": "code",
   "execution_count": 17,
   "id": "15ec06fb",
   "metadata": {},
   "outputs": [
    {
     "data": {
      "text/plain": [
       "1//864*a10^6 + 1//72*a10^4*a21*w - 1//24*a10^3*a32*w^2 + 1//18*a10^2*a21^2*w^2 - 1//12*a10^2*a43*w^3 - 1//6*a10*a21*a32*w^3 + 2//27*a21^3*w^3 - 1//3*a21*a43*w^4 + 1//4*a32^2*w^4 + a65*w^5"
      ]
     },
     "execution_count": 17,
     "metadata": {},
     "output_type": "execute_result"
    }
   ],
   "source": [
    "su5_g = weierstrass_section_g(su5_weierstrass)"
   ]
  },
  {
   "cell_type": "markdown",
   "id": "a7758aac",
   "metadata": {},
   "source": [
    "These sections do not vanish at $w = 0$:"
   ]
  },
  {
   "cell_type": "code",
   "execution_count": 18,
   "id": "eb28f69d",
   "metadata": {},
   "outputs": [
    {
     "data": {
      "text/plain": [
       "(-1//48) * (a10^4 + 8*a10^2*a21*w - 24*a10*a32*w^2 + 16*a21^2*w^2 - 48*a43*w^3)"
      ]
     },
     "execution_count": 18,
     "metadata": {},
     "output_type": "execute_result"
    }
   ],
   "source": [
    "factor(su5_f)"
   ]
  },
  {
   "cell_type": "code",
   "execution_count": 19,
   "id": "f262e22e",
   "metadata": {},
   "outputs": [
    {
     "data": {
      "text/plain": [
       "(1//864) * (a10^6 + 12*a10^4*a21*w - 36*a10^3*a32*w^2 + 48*a10^2*a21^2*w^2 - 72*a10^2*a43*w^3 - 144*a10*a21*a32*w^3 + 64*a21^3*w^3 - 288*a21*a43*w^4 + 216*a32^2*w^4 + 864*a65*w^5)"
      ]
     },
     "execution_count": 19,
     "metadata": {},
     "output_type": "execute_result"
    }
   ],
   "source": [
    "factor(su5_g)"
   ]
  },
  {
   "cell_type": "markdown",
   "id": "db64b3ac",
   "metadata": {},
   "source": [
    "This indicates that the singularity at $w = 0$ has Kodaira type $I_5$, which gives rise to an SU(5) gauge group, as desired. This analysis can also be carried out automatically:"
   ]
  },
  {
   "cell_type": "code",
   "execution_count": 20,
   "id": "7a5471ef",
   "metadata": {},
   "outputs": [
    {
     "data": {
      "text/plain": [
       "2-element Vector{Tuple{MPolyIdeal{<:MPolyRingElem}, Tuple{Int64, Int64, Int64}, String}}:\n",
       " (ideal(a10^6*a65 - a10^5*a32*a43 + a10^4*a21*a32^2 + 12*a10^4*a21*a65*w - a10^4*a43^2*w - 8*a10^3*a21*a32*a43*w - a10^3*a32^3*w - 36*a10^3*a32*a65*w^2 + 8*a10^2*a21^2*a32^2*w + 48*a10^2*a21^2*a65*w^2 - 8*a10^2*a21*a43^2*w^2 + 30*a10^2*a32^2*a43*w^2 - 72*a10^2*a43*a65*w^3 - 16*a10*a21^2*a32*a43*w^2 - 36*a10*a21*a32^3*w^2 - 144*a10*a21*a32*a65*w^3 + 96*a10*a32*a43^2*w^3 + 16*a21^3*a32^2*w^2 + 64*a21^3*a65*w^3 - 16*a21^2*a43^2*w^3 - 72*a21*a32^2*a43*w^3 - 288*a21*a43*a65*w^4 + 27*a32^4*w^3 + 216*a32^2*a65*w^4 + 64*a43^3*w^4 + 432*a65^2*w^5), (0, 0, 1), \"I_1\")\n",
       " (ideal(w), (0, 0, 5), \"Split I_5\")"
      ]
     },
     "execution_count": 20,
     "metadata": {},
     "output_type": "execute_result"
    }
   ],
   "source": [
    "singular_loci(su5_tate)"
   ]
  },
  {
   "cell_type": "markdown",
   "id": "37b3dbdd",
   "metadata": {},
   "source": [
    "This indicates a split (indicating the Tate monodromy type) $I_5$ singularity at $w = 0$, and identifies the rest of the discriminant as a type $I_1$ singularity.\n",
    "\n",
    "(Note that we are using the Kodaira classification, despite the fact that $X$ is not an elliptic surface; we will further abuse the classification by using it at codimension higher than 1. This is standard in the physics literature, and though acknowledged as improper, always gives consistent physical results in known examples.)"
   ]
  },
  {
   "cell_type": "markdown",
   "id": "c735f4f7",
   "metadata": {},
   "source": [
    "In order to analyze the fibers over the singular locus, we wish to resolve the singularities of the space $X$. However, due to physical constraints (in order to maintain supersymmetry), we restrict ourselves only to crepant resolutions, and we leave any terminal singularities unresolved. The particular model we are considering can be crepantly resolved through codimension 3 by the following sequence of blowups:\n",
    "    $$X_4 \\xrightarrow{(b_{3, 1}, e_2)} X_3 \\xrightarrow{(b_{2, 2}, b_{2, 3})} X_2 \\xrightarrow{(b_{1, 1}, b_{1, 2}, e_1)} X_1 \\xrightarrow{(x, y, w)} X\\,,$$\n",
    "where the center of each blowup is indicated above the corresponding arrow. For blowup $i$ with center $(g_1, \\dotsc, g_m)$, the blowup is carried out as $g_j \\to e_i b_{i, j}$, so that $e_i = 0$ is the exceptional locus of the blowup."
   ]
  },
  {
   "cell_type": "markdown",
   "id": "ada41dd7",
   "metadata": {},
   "source": [
    "The blowup above can be carried out using *FTheoryTools*, provided that the base space is a concrete toric variety. We turn to this next."
   ]
  },
  {
   "cell_type": "markdown",
   "id": "d7793f07-90a6-4309-9ab9-bcfb603a7dc1",
   "metadata": {},
   "source": [
    "# 2 Literature Models and Singularity Resolution"
   ]
  },
  {
   "cell_type": "markdown",
   "id": "70b089f4-da5d-4368-8559-132529f6e0a9",
   "metadata": {},
   "source": [
    "## 2.A Creating a Literature Model"
   ]
  },
  {
   "cell_type": "markdown",
   "id": "b487c660-744b-4e45-90c1-54cb50c45560",
   "metadata": {},
   "source": [
    "We begin by creating the above model anew. However, this time we choose a different route:\n",
    "* The above model is a well-known literature construction, and we provide specialized constructor for such standard constructions. In particular, these constructors will know about known resolutions, such as the one mentioned in the previous paragraph.\n",
    "* We create this model over a concrete base space. Thereby, we can explicitly execute the resolution in question."
   ]
  },
  {
   "cell_type": "code",
   "execution_count": 21,
   "id": "1b687093-aeea-4243-8c2a-db02ac458ee9",
   "metadata": {},
   "outputs": [
    {
     "data": {
      "text/plain": [
       "Normal toric variety"
      ]
     },
     "execution_count": 21,
     "metadata": {},
     "output_type": "execute_result"
    }
   ],
   "source": [
    "B3 = projective_space(NormalToricVariety, 3)"
   ]
  },
  {
   "cell_type": "code",
   "execution_count": 22,
   "id": "299c67a6-f21b-40c3-9685-430f42d909ce",
   "metadata": {},
   "outputs": [
    {
     "data": {
      "text/plain": [
       "Torus-invariant, prime divisor on a normal toric variety"
      ]
     },
     "execution_count": 22,
     "metadata": {},
     "output_type": "execute_result"
    }
   ],
   "source": [
    "w = torusinvariant_prime_divisors(B3)[1]"
   ]
  },
  {
   "cell_type": "code",
   "execution_count": 23,
   "id": "45e8145d-0bba-4758-bec3-5c0222834432",
   "metadata": {},
   "outputs": [
    {
     "name": "stdout",
     "output_type": "stream",
     "text": [
      "Construction over concrete base may lead to singularity enhancement. Consider computing singular_loci. However, this may take time!\n",
      "\n"
     ]
    },
    {
     "data": {
      "text/plain": [
       "Global Tate model over a concrete base -- SU(5)xU(1) restricted Tate model based on arXiv paper 1109.3454 Eq. (3.1)"
      ]
     },
     "execution_count": 23,
     "metadata": {},
     "output_type": "execute_result"
    }
   ],
   "source": [
    "t2 = literature_model(arxiv_id = \"1109.3454\", equation = \"3.1\", base_space = B3, model_sections = Dict(\"w\" => w), completeness_check = false)"
   ]
  },
  {
   "cell_type": "markdown",
   "id": "0cf9eab2-c874-47eb-af2e-2d2d489d9d64",
   "metadata": {},
   "source": [
    "Note that in the above case, we used the arxiv identifier of the paper in question as well as the equation number in said paper to fully specify the model that we seek to construct. Of course, other information can be provided too."
   ]
  },
  {
   "cell_type": "markdown",
   "id": "c3b0918b-14fa-458e-ac78-c63ae0d51206",
   "metadata": {},
   "source": [
    "## 2.B Attributes and Properties of Literature Models"
   ]
  },
  {
   "cell_type": "markdown",
   "id": "ae7a8823-9a68-4c94-86d4-855f0ff6acbb",
   "metadata": {},
   "source": [
    "Of course, the now constructed model known about its origin in the literature:"
   ]
  },
  {
   "cell_type": "code",
   "execution_count": 24,
   "id": "0309af3c-fe33-4a9c-bcda-3c7c5c91d5b3",
   "metadata": {},
   "outputs": [
    {
     "data": {
      "text/plain": [
       "\"1109.3454\""
      ]
     },
     "execution_count": 24,
     "metadata": {},
     "output_type": "execute_result"
    }
   ],
   "source": [
    "arxiv_id(t2)"
   ]
  },
  {
   "cell_type": "code",
   "execution_count": 25,
   "id": "32304579-563f-477e-8304-3317e07f3b91",
   "metadata": {},
   "outputs": [
    {
     "data": {
      "text/plain": [
       "3-element Vector{String}:\n",
       " \"Sven Krause\"\n",
       " \"Christoph Mayrhofer\"\n",
       " \"Timo Weigand\""
      ]
     },
     "execution_count": 25,
     "metadata": {},
     "output_type": "execute_result"
    }
   ],
   "source": [
    "paper_authors(t2)"
   ]
  },
  {
   "cell_type": "markdown",
   "id": "d04d46a4-6fc1-4a49-9550-5ef84618df6c",
   "metadata": {},
   "source": [
    "But of course, we can also just compute \"standard\" information:"
   ]
  },
  {
   "cell_type": "code",
   "execution_count": 26,
   "id": "a97f3664-af2b-4844-9179-e672f6aef30b",
   "metadata": {},
   "outputs": [],
   "source": [
    "singular_loci(t2);"
   ]
  },
  {
   "cell_type": "code",
   "execution_count": 27,
   "id": "dbf0ba37-7022-4692-829d-98026ddd0ae3",
   "metadata": {},
   "outputs": [
    {
     "data": {
      "text/plain": [
       "2"
      ]
     },
     "execution_count": 27,
     "metadata": {},
     "output_type": "execute_result"
    }
   ],
   "source": [
    "length(singular_loci(t2))"
   ]
  },
  {
   "cell_type": "code",
   "execution_count": 28,
   "id": "4a4a8810-2e2c-4852-bac6-b3d66ca316e8",
   "metadata": {},
   "outputs": [
    {
     "data": {
      "text/plain": [
       "Normal, 3-dimensional toric variety without torusfactor"
      ]
     },
     "execution_count": 28,
     "metadata": {},
     "output_type": "execute_result"
    }
   ],
   "source": [
    "base_space(t2)"
   ]
  },
  {
   "cell_type": "code",
   "execution_count": 29,
   "id": "4dbcde29-8110-4850-bb69-f22add537583",
   "metadata": {},
   "outputs": [
    {
     "data": {
      "text/plain": [
       "Multivariate polynomial ring in 4 variables over QQ graded by \n",
       "  x1 -> [1]\n",
       "  x2 -> [1]\n",
       "  x3 -> [1]\n",
       "  x4 -> [1]"
      ]
     },
     "execution_count": 29,
     "metadata": {},
     "output_type": "execute_result"
    }
   ],
   "source": [
    "cox_ring(base_space(t2))"
   ]
  },
  {
   "cell_type": "code",
   "execution_count": 30,
   "id": "c708dd62-1c1c-4870-a313-0a3bc36c9708",
   "metadata": {},
   "outputs": [
    {
     "data": {
      "text/plain": [
       "Multivariate polynomial ring in 7 variables over QQ graded by \n",
       "  x1 -> [1 0]\n",
       "  x2 -> [1 0]\n",
       "  x3 -> [1 0]\n",
       "  x4 -> [1 0]\n",
       "  x -> [8 2]\n",
       "  y -> [12 3]\n",
       "  z -> [0 1]"
      ]
     },
     "execution_count": 30,
     "metadata": {},
     "output_type": "execute_result"
    }
   ],
   "source": [
    "cox_ring(ambient_space(t2))"
   ]
  },
  {
   "cell_type": "markdown",
   "id": "b0761d07-e96d-40a1-99b4-4aa7964791f7",
   "metadata": {},
   "source": [
    "Crucially, the model *t2* knowns the resolutions worked out in the literature. In the case at hand:"
   ]
  },
  {
   "cell_type": "code",
   "execution_count": 31,
   "id": "3f71acf4-81fb-41e1-a373-5acccb64f4e3",
   "metadata": {},
   "outputs": [
    {
     "data": {
      "text/plain": [
       "1-element Vector{Vector{Vector}}:\n",
       " [[[\"x\", \"y\", \"w\"], [\"y\", \"e1\"], [\"x\", \"e4\"], [\"y\", \"e2\"], [\"x\", \"y\"]], [\"e1\", \"e4\", \"e2\", \"e3\", \"s\"]]"
      ]
     },
     "execution_count": 31,
     "metadata": {},
     "output_type": "execute_result"
    }
   ],
   "source": [
    "resolutions(t2)"
   ]
  },
  {
   "cell_type": "markdown",
   "id": "ddff4fe4-3022-4173-94e5-d980c078966b",
   "metadata": {},
   "source": [
    "## 2.C Singularity Resolution"
   ]
  },
  {
   "cell_type": "markdown",
   "id": "a27615fe-00a8-4b99-b320-a0a7e2b4610f",
   "metadata": {},
   "source": [
    "Let us now resolve this model. Given that the known sequence of blowups is known, we \"just\" have to execute those blowups. Note however that this step may be technically very challenging, for instance if schemes are employed as bases or the blowups are non-toric. However, in the case at hand everything is toric and thus simple. Therefore, the resolution is super easy to execute (but still tedious and very time consuming if done by hand).\n",
    "\n",
    "To resolve this model in an instance and without any hard and tedious \"human\" labor, we just have to select which resolution/blowup sequence the computer should employ. In the case at hand there is only one sequence of (non-weighted) blowups known, as displayed above. Our choice is thus simply \"1\", which says \"resolve with the first available blowup resolution sequence\". Here is the result:"
   ]
  },
  {
   "cell_type": "code",
   "execution_count": 32,
   "id": "d3216a12-116c-4174-9248-a2ab1c78c0b1",
   "metadata": {},
   "outputs": [
    {
     "data": {
      "text/plain": [
       "Partially resolved global Tate model over a concrete base -- SU(5)xU(1) restricted Tate model based on arXiv paper 1109.3454 Eq. (3.1)"
      ]
     },
     "execution_count": 32,
     "metadata": {},
     "output_type": "execute_result"
    }
   ],
   "source": [
    "t2_resolved = resolve(t2, 1)"
   ]
  },
  {
   "cell_type": "markdown",
   "id": "243fd529-7cf6-4b2e-989b-2b90fd492a5b",
   "metadata": {},
   "source": [
    "Currently, there are no checks implemented to tell if a model has been fully resolved. Rather, internally the system just remembers if resolution techniques were applied and then informs about this by saying that the model is \"partially resolved\". However, in the above case, the model is actually fully resolved. (Recall, that this refers to a crepeant resolution, and that singularities which cannot be resolved crepeantly are still around.)"
   ]
  },
  {
   "cell_type": "code",
   "execution_count": 33,
   "id": "999d7f5c-e3d6-46fc-86cf-94b4ae6d8f46",
   "metadata": {},
   "outputs": [
    {
     "data": {
      "text/plain": [
       "Multivariate polynomial ring in 12 variables over QQ graded by \n",
       "  x1 -> [1 0 0 0 0 0 0]\n",
       "  x2 -> [0 1 0 0 0 0 0]\n",
       "  x3 -> [0 1 0 0 0 0 0]\n",
       "  x4 -> [0 1 0 0 0 0 0]\n",
       "  x -> [0 0 1 0 0 0 0]\n",
       "  y -> [0 0 0 1 0 0 0]\n",
       "  z -> [0 0 0 0 1 0 0]\n",
       "  e1 -> [0 0 0 0 0 1 0]\n",
       "  e4 -> [0 0 0 0 0 0 1]\n",
       "  e2 -> [-1 -3 -1 1 -1 -1 0]\n",
       "  e3 -> [0 4 1 -1 1 0 -1]\n",
       "  s -> [2 6 -1 0 2 1 1]"
      ]
     },
     "execution_count": 33,
     "metadata": {},
     "output_type": "execute_result"
    }
   ],
   "source": [
    "cox_ring(ambient_space(t2_resolved))"
   ]
  },
  {
   "cell_type": "code",
   "execution_count": 34,
   "id": "ad4f3be1-f6a6-43f9-902f-933e9a8da84a",
   "metadata": {},
   "outputs": [],
   "source": [
    "tate_polynomial(t2_resolved);"
   ]
  },
  {
   "cell_type": "markdown",
   "id": "e798f850-6d90-4840-a553-8d09bda8347d",
   "metadata": {},
   "source": [
    "This is now the starting point of more refined investigations, say of topological data to gauge for instance the Tadpole cancellation condition, or to work out the chiral spectrum. Or to work out the vector-like spectrum, coupling strength of Yukawa interactions etc. We do not yet touch upon this subject. However, we hope to touch on this material once the foundational material has been extended to schemes and families of spaces as base spaces."
   ]
  },
  {
   "cell_type": "code",
   "execution_count": null,
   "id": "2b2b669e-674f-499c-8143-8f070806ffcf",
   "metadata": {},
   "outputs": [],
   "source": []
  }
 ],
 "metadata": {
  "kernelspec": {
   "display_name": "Julia 1.9.2",
   "language": "julia",
   "name": "julia-1.9"
  },
  "language_info": {
   "file_extension": ".jl",
   "mimetype": "application/julia",
   "name": "julia",
   "version": "1.9.2"
  }
 },
 "nbformat": 4,
 "nbformat_minor": 5
}
