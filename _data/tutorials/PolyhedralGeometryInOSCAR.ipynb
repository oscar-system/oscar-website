{
 "cells": [
  {
   "cell_type": "markdown",
   "id": "a6df9a27",
   "metadata": {},
   "source": [
    "# Polyhedral Geometry\n",
    "\n",
    "* Authors: Luca Remke\n",
    "* Version: OSCAR version 0.14.0\n",
    "* Last modified: January 26, 2024"
   ]
  },
  {
   "cell_type": "markdown",
   "id": "48a4ce25-724b-4828-bbeb-1af79f0531f3",
   "metadata": {},
   "source": [
    "This tutorial provides an introduction to polyhedral geometry in *OSCAR*.\n",
    "\n",
    "The aim is to describe the basic constructions for convex polytopes, cones and polyhedral fans and to explain them with minimal examples.\n",
    "In order to facilitate the introduction, some of the methods are not presented in their entirety. For a full description of the topic, see https://docs.oscar-system.org/stable/PolyhedralGeometry/intro/.\n",
    " \n",
    "No prior knowledge of *OSCAR* is assumed.\n",
    "\n",
    "## Content\n",
    "1. [Polyhedra](#1.-Polyhedra)\n",
    "   - [Polyhedra from *H*-representation](#1.A-Polyhedra-from-*H*-representation)\n",
    "   - [Polyhedra from *V*-representation](#1.B-Polyhedra-from-*V*-representation)\n",
    "   - [Polyhedra from existing Polyhedra](#1.C-Polyhedra-from-existing-Polyhedra)\n",
    "   - [Standard Constructions](#1.D-Standard-Constructions)\n",
    "   - [Geometric data of Polyhedra](#1.E-Geometric-data-of-Polyhedra)\n",
    "   - [Combinatorial data of Polyhedra](#1.F-Combinatorial-data-of-Polyhedra)\n",
    "   - [Groups associated to Polyhedra](#1.G-Groups-associated-to-Polyhedra)\n",
    "   - [Other Functionality for Polyhedra](#1.H-Other-Functionality-for-Polyhedra)\n",
    "2. [Cones](#2.-Cones)\n",
    "   - [Constructors](#2.A-Constructors)\n",
    "   - [Attributes and Properties](#2.B-Attributes-and-Properties)\n",
    "3. [Polyhedral Fans](#3.-Polyhedral-Fans)\n",
    "   - [Constructors](#3.A-Constructors)\n",
    "   - [Attributes and Properties](#3.B-Attributes-and-Properties)"
   ]
  },
  {
   "cell_type": "code",
   "execution_count": 1,
   "id": "2c3cd666",
   "metadata": {},
   "outputs": [
    {
     "name": "stdout",
     "output_type": "stream",
     "text": [
      " -----    -----    -----      -      -----   \n",
      "|     |  |     |  |     |    | |    |     |  \n",
      "|     |  |        |         |   |   |     |  \n",
      "|     |   -----   |        |     |  |-----   \n",
      "|     |        |  |        |-----|  |   |    \n",
      "|     |  |     |  |     |  |     |  |    |   \n",
      " -----    -----    -----   -     -  -     -  \n",
      "\n",
      "...combining (and extending) ANTIC, GAP, Polymake and Singular\n",
      "Version\u001b[32m 0.14.0 \u001b[39m... \n",
      " ... which comes with absolutely no warranty whatsoever\n",
      "Type: '?Oscar' for more information\n",
      "(c) 2019-2024 by The OSCAR Development Team\n"
     ]
    }
   ],
   "source": [
    "using Oscar"
   ]
  },
  {
   "cell_type": "markdown",
   "id": "a7c2ecc7",
   "metadata": {},
   "source": [
    "# 1. Polyhedra\n",
    "\n",
    "Polyhedra can be represented as:\n",
    "- a finite intersection of closed affine half-spaces (*H-representation*),\n",
    "- a convex hull of finitely many points (*V-representation*).\n",
    "\n",
    "Along these lines, *OSCAR* allows to constructor polyhedra from *H-* and *V-representations*. In addition, one can create new polyhedra from already existing polyhedra. An example of this is the Minkowski sum of two polyhedra. We will now discuss these three approaches to constructing polyhedra.\n",
    "\n",
    "Let us mention that in *OSCAR* we can draw pictures of polyhedra. For this, simply use `visualize(P)`, where `P` is the polyhedron that you want to draw. Similarly, let us mention that it is possible to save polyhedra to files and load them afterwards:\n",
    "- `save(\"/path/to/your/desired/data/file\", P)`,\n",
    "- `load(\"/path/to/your/desired/data/file\")`.\n",
    "\n",
    "The functionality of `visualize` extends also to cones and polyhedral fans. Saving and loading via the functions `save(filename::String, obj::Any)` and `load(filename::String)` is possible for many (if not most) objects created in *OSCAR*.\n",
    "\n",
    "## 1.A Polyhedra from *H*-representation\n",
    "\n",
    "There are two different ways in which polyhedra can be defined in *OSCAR* using the *H* representation:\n",
    "\n",
    "| Method |\n",
    "| :----------- |\n",
    "| `Polyhedron{T}(A::AnyVecOrMat, b) where T<:scalar_types` |\n",
    "| `Polyhedron{T}(I::Union{Nothing, AbstractCollection[AffineHalfspace]}, E::Union{Nothing, AbstractCollection[AffineHyperplane]} = nothing) where T<:scalar_types` |\n",
    "\n",
    "The first method defines a polyhedron by $P = \\{x \\in \\mathbb{R}^n \\; \\vert \\; Ax \\leq b\\}$ for a matrix $A$ and a vector $b$. \n",
    "With the second method, the polyhedron is obtained by specifying the inequalities and equations of the half-spaces and hyperplanes involved in the finite section representing the polyhedron. \n",
    "\n",
    "The complete *H* representation of a polyhedron can be recovered using the functions `facets` and `affine_hull`.\n",
    "\n",
    "An example is in order. For this, let us create the standard 2-simplex:"
   ]
  },
  {
   "cell_type": "code",
   "execution_count": 2,
   "id": "42280e94",
   "metadata": {},
   "outputs": [
    {
     "data": {
      "text/plain": [
       "Polyhedron in ambient dimension 2"
      ]
     },
     "execution_count": 2,
     "metadata": {},
     "output_type": "execute_result"
    }
   ],
   "source": [
    "A = [-1 0; 0 -1; 1 1]\n",
    "b = [0, 0, 1]\n",
    "P1 = polyhedron(A,b)"
   ]
  },
  {
   "cell_type": "markdown",
   "id": "503b2d2c-0ec0-4394-8fdc-90868c6e400a",
   "metadata": {},
   "source": [
    "Here is an alternative way of creating the very same polyhedron:"
   ]
  },
  {
   "cell_type": "code",
   "execution_count": 3,
   "id": "89f45a3b-e399-45ae-8d7c-4fcd7f0bc926",
   "metadata": {},
   "outputs": [
    {
     "data": {
      "text/plain": [
       "Polyhedron in ambient dimension 2"
      ]
     },
     "execution_count": 3,
     "metadata": {},
     "output_type": "execute_result"
    }
   ],
   "source": [
    "I = ([-1 0; 0 -1; 1 1], [0, 0, 1]);\n",
    "P2 = polyhedron(I)"
   ]
  },
  {
   "cell_type": "markdown",
   "id": "552fa2a9-8eda-4f86-b6fe-d5f651b7595f",
   "metadata": {},
   "source": [
    "Let us verify with *OSCAR* that those polyhedra are identical:"
   ]
  },
  {
   "cell_type": "code",
   "execution_count": 4,
   "id": "818f175b-5100-4cd5-bf36-b3f3e11de03a",
   "metadata": {},
   "outputs": [
    {
     "data": {
      "text/plain": [
       "true"
      ]
     },
     "execution_count": 4,
     "metadata": {},
     "output_type": "execute_result"
    }
   ],
   "source": [
    "P1==P2"
   ]
  },
  {
   "cell_type": "markdown",
   "id": "50f8b830-cabd-407c-b656-6bb3122b00ad",
   "metadata": {},
   "source": [
    "To gain a better understanding of the polyhedron in question, let us also compute the facets of *P1*:"
   ]
  },
  {
   "cell_type": "code",
   "execution_count": 5,
   "id": "953996f5-0f26-4c06-ba1c-5c375c36e636",
   "metadata": {},
   "outputs": [
    {
     "data": {
      "text/plain": [
       "3-element SubObjectIterator{AffineHalfspace{QQFieldElem}} over the Halfspaces of R^2 described by:\n",
       "-x_1 <= 0\n",
       "-x_2 <= 0\n",
       "x_1 + x_2 <= 1\n"
      ]
     },
     "execution_count": 5,
     "metadata": {},
     "output_type": "execute_result"
    }
   ],
   "source": [
    "facets(P1)"
   ]
  },
  {
   "cell_type": "markdown",
   "id": "ea91ef4e",
   "metadata": {},
   "source": [
    "## 1.B Polyhedra from *V*-representation\n",
    "\n",
    "For the *V*-representation of a polyhedron, i.e. $P = \\mathrm{conv}(p_1, \\ldots , p_N), p_i \\in \\mathbb{R}^n$, the following method is used:\n",
    "\n",
    "| Method |\n",
    "| :----------- |\n",
    "| `convex_hull([::Type{T} = QQFieldElem,] V [, R [, L]]; non_redundant::Bool = false)` |\n",
    "\n",
    "The method constructs the convex hull from vertices `V`, rays `R` and generators of the linearity space `L`. \n",
    "The arguments `R` and `L` are optional and are treated as zero if missing. \n",
    "The arguments can be given as a matrix, and the individual components must be written row by row. \n",
    "If the convex hull is to be calculated from `V` and `L` only, `R` must be defined as an empty matrix or `nothing`.\n",
    "\n",
    "The complete *V*-representation of a polyhedron can be recovered using the functions `vertices`, `rays` and `lineality_space`.\n",
    "\n",
    "For an example, let us revisit the 2-simplex yet again:"
   ]
  },
  {
   "cell_type": "code",
   "execution_count": 6,
   "id": "ab8602ca",
   "metadata": {},
   "outputs": [
    {
     "data": {
      "text/plain": [
       "Polyhedron in ambient dimension 2"
      ]
     },
     "execution_count": 6,
     "metadata": {},
     "output_type": "execute_result"
    }
   ],
   "source": [
    "V = [0 0; 1 0; 0 1]\n",
    "P3 = convex_hull(V)"
   ]
  },
  {
   "cell_type": "markdown",
   "id": "bceb9586-8bc3-437e-bdff-d40f3a565307",
   "metadata": {},
   "source": [
    "Let us verify that this gives us the same polyhedron as above:"
   ]
  },
  {
   "cell_type": "code",
   "execution_count": 7,
   "id": "54081af6-8c04-4db9-ac64-7c499576b7eb",
   "metadata": {},
   "outputs": [
    {
     "data": {
      "text/plain": [
       "true"
      ]
     },
     "execution_count": 7,
     "metadata": {},
     "output_type": "execute_result"
    }
   ],
   "source": [
    "P2 == P3"
   ]
  },
  {
   "cell_type": "markdown",
   "id": "220be51d-cffa-4805-9e9b-c0b257cd760e",
   "metadata": {},
   "source": [
    "Starting with a *V*-representation, the vertices are known: "
   ]
  },
  {
   "cell_type": "code",
   "execution_count": 8,
   "id": "985de68f-e99d-4b4f-a010-65da925192fc",
   "metadata": {},
   "outputs": [
    {
     "data": {
      "text/plain": [
       "3-element SubObjectIterator{PointVector{QQFieldElem}}:\n",
       " [0, 0]\n",
       " [1, 0]\n",
       " [0, 1]"
      ]
     },
     "execution_count": 8,
     "metadata": {},
     "output_type": "execute_result"
    }
   ],
   "source": [
    "vertices(P3)"
   ]
  },
  {
   "cell_type": "markdown",
   "id": "bec860b7-00d0-41cc-835e-0aba9aced7ff",
   "metadata": {},
   "source": [
    "For a more complex example, let us look at the closed-upper half plane in $\\mathbb{R}^2$:"
   ]
  },
  {
   "cell_type": "code",
   "execution_count": 9,
   "id": "c6fce061",
   "metadata": {},
   "outputs": [
    {
     "data": {
      "text/plain": [
       "Polyhedron in ambient dimension 2"
      ]
     },
     "execution_count": 9,
     "metadata": {},
     "output_type": "execute_result"
    }
   ],
   "source": [
    "V = [0 0]; R = [0 1]; L = [1 0];\n",
    "H = convex_hull(V, R, L)"
   ]
  },
  {
   "cell_type": "code",
   "execution_count": 10,
   "id": "251d2998-d9a6-4523-8150-45898b55596a",
   "metadata": {},
   "outputs": [
    {
     "data": {
      "text/plain": [
       "0-element SubObjectIterator{PointVector{QQFieldElem}}"
      ]
     },
     "execution_count": 10,
     "metadata": {},
     "output_type": "execute_result"
    }
   ],
   "source": [
    "vertices(H)"
   ]
  },
  {
   "cell_type": "code",
   "execution_count": 11,
   "id": "99c463ca-84d1-4692-b2f2-7ab977a4faf3",
   "metadata": {},
   "outputs": [
    {
     "data": {
      "text/plain": [
       "1-element SubObjectIterator{AffineHalfspace{QQFieldElem}} over the Halfspaces of R^2 described by:\n",
       "-x_2 <= 0\n"
      ]
     },
     "execution_count": 11,
     "metadata": {},
     "output_type": "execute_result"
    }
   ],
   "source": [
    "facets(H)"
   ]
  },
  {
   "cell_type": "markdown",
   "id": "727dd7bb",
   "metadata": {},
   "source": [
    "## 1.C Polyhedra from existing Polyhedra\n",
    "\n",
    "Polyhedra can be produced through operations on other polyhedra:\n",
    "\n",
    "| Method | Description |\n",
    "| :----------- | :----------- |\n",
    "| `+(P::Polyhedron, Q::Polyhedron)` | Minkowski sum $P+Q = \\{x+y \\; \\vert \\; x \\in P, y \\in Q\\}$ von `P` und `Q`. |\n",
    "| `*(k::Int, Q::Polyhedron)` | Scaled polyhedron  $kQ = \\{kx \\; \\vert \\; x \\in Q\\}$. |\n",
    "| `*(P::Polyhedron, Q::Polyhedron)` | Cartesian product of `P` and `Q`. |\n",
    "| `bipyramid(P::Polyhedron, z::Number = 1, z_prime::Number = -z)` | Bipyramid over a pointed polyhedron `P`.  |\n",
    "| `intersect(P::Polyhedron, Q::Polyhedron)` | Intersection $P \\cap Q$ of `P` and `Q`. |\n",
    "| `pyramid(P::Polyhedron, z::Number = 1)` | Pyramid over `P` with distance `z` between the vertex barycenter of `P` and the top of the pyramid. |\n",
    "| `convex_hull(P::Polyhedron, Q::Polyhedron)` | Convex hull of `P` and `Q`. |\n",
    "\n",
    "For an example, consider the Minkowski sum $\\Delta_2 + \\Delta_2$ of the standard 2-simplexes is given by $\\{(0,0), (1,0), (0,1), (1,1), (2,0),(0,2)\\}$ and thus defined by the vertices $(0,0)$, $(2,0)$ and $(0,2)$. \n",
    "This is exactly the polyhedron $2\\Delta_2$ that we obtain by scaling the standard 2-simplex by $2$. \n",
    "Moreover, since $(\\tfrac{1}{3}, \\tfrac{1}{3})$ is the centroid of $\\Delta_2$, we get a pyramid with vertex $(\\tfrac{1}{3}, \\tfrac{1}{3}, 1)$."
   ]
  },
  {
   "cell_type": "code",
   "execution_count": 12,
   "id": "0d692644",
   "metadata": {},
   "outputs": [
    {
     "data": {
      "text/plain": [
       "4-element Vector{SubObjectIterator{PointVector{QQFieldElem}}}:\n",
       " [[0, 0], [2, 0], [0, 2]]\n",
       " [[0, 0], [2, 0], [0, 2]]\n",
       " [[0, 0, 0, 0], [0, 0, 1, 0], [0, 0, 0, 1], [1, 0, 0, 0], [1, 0, 1, 0], [1, 0, 0, 1], [0, 1, 0, 0], [0, 1, 1, 0], [0, 1, 0, 1]]\n",
       " [[0, 0, 0], [1, 0, 0], [0, 1, 0], [1//3, 1//3, 1]]"
      ]
     },
     "execution_count": 12,
     "metadata": {},
     "output_type": "execute_result"
    }
   ],
   "source": [
    "S1 = +(simplex(2), simplex(2)) #or: simplex(2) + simplex(2)\n",
    "S2 = *(2, simplex(2)) #or: 2*simplex(2)\n",
    "S3 = *(simplex(2), simplex(2)) #or: simplex(2) * simplex(2)\n",
    "S4 = pyramid(simplex(2))\n",
    "\n",
    "[vertices(S1), vertices(S2), vertices(S3), vertices(S4)]"
   ]
  },
  {
   "cell_type": "markdown",
   "id": "8899d3bf-2b03-4678-bad0-657b06340126",
   "metadata": {},
   "source": [
    "## 1.D Standard Constructions\n",
    "\n",
    "Many known literature and standard constructions for polyhedra as supported in *OSCAR*. The supported constructions include the following:\n",
    "\n",
    "| Function | Description |\n",
    "| :----------- | :----------- |\n",
    "| `archimedean_solid(s::String)` | Archimedean solid with the name given by String `s`, see [here](https://docs.oscar-system.org/stable/PolyhedralGeometry/Polyhedra/constructions/). |\n",
    "| `birkhoff(n::Integer, even::Bool = false)` | Birkhoff polytop of dimension `n`$^2$. |\n",
    "| `catalan_solid(s::String)` | Catalan solid with the name given by String `s`, see [here](https://docs.oscar-system.org/stable/PolyhedralGeometry/Polyhedra/constructions/). |\n",
    "| `cross_polytope([::Type{T} = QQFieldElem,] d::Int [,n::Rational])` | `d`-dimensional cross polytope around the origin with vertices located at $\\pm e_i$ for each unit vector $e_i$ of $\\mathbb{R}^d$, scaled by `n`. |\n",
    "| `cube([::Type{T} = QQFieldElem,] d::Int , [l::Rational = -1, u::Rational = 1])` | $[l,u]$-cube in dimension `d`. |\n",
    "| `cyclic_polytope(d::Int, n::Int)` | Cyclic polytope that is the convex hull of `n` points on the moment curve in dimension `d`. |\n",
    "| `del_pezzo_polytope(d::Int)` | `d`-dimensional del Pezzo polytop. |\n",
    "| `dodecahedron()` | Regular dodecahedron, one of the Platonic solids. |\n",
    "| `fano_simplex(d::Int)` | A lattice simplex such that the origin is the unique interior lattice point. |\n",
    "| `fractional_cut_polytope(G::Graph{Undirected})` | The fractional cut polytope of the graph `G`. |\n",
    "| `fractional_matching_polytope(G::Graph{Undirected})` | The fractional matching polytope of the graph `G`. |\n",
    "| `gelfand_tsetlin(lambda::AbstractVector)` | Gelfand Tsetlin polytope indexed by a weakly decreasing vector `lambda`. |\n",
    "| `icosahedron()` | Regular icosahedron, one of the Platonic solids. |\n",
    "| `johnson_solid(i::Int)` | `i`-th proper Johnson solid. |\n",
    "| `newton_polytope(poly::Polynomial)` | Newton polytope of the multivariate polynomial `poly`. |\n",
    "| `orbit_polytope(V::AbstractCollection[PointVector], G::PermGroup)` | Convex hull of the orbit of one or several points (given row-wise in `V`) under the action of `G`. |\n",
    "| `platonic_solid(s::String)` | Platonic solid with the name given by String `s`, see [here](https://docs.oscar-system.org/stable/PolyhedralGeometry/Polyhedra/constructions/). |\n",
    "| `rand_spherical_polytope([rng::AbstractRNG,] d::Int, n::Int;` <br> `distribution=:uniform, precision=nothing, seed=nothing)` | The convex hull of `n` points on the unit sphere in $\\mathbb{R}^d$. |\n",
    "| `regular_24_cell()` | Regular 24-cell, one out of three exceptional regular 4-polytopes. |\n",
    "| `regular_120_cell()` | Regular 120-cell, one out of three exceptional regular 4-polytopes. |\n",
    "| `regular_600_cell()` | Regular 600-cell, one out of three exceptional regular 4-polytopes. |\n",
    "| `simplex([::Type{T} = QQFieldElem,] d::Int [,n::Rational])` | Simplex which is the convex hull of the standard basis vectors along with the origin in $\\mathbb{R}^d$, scaled by `n`. |\n",
    "| `tetrahedron()` | Regular tetrahedron, one of the Platonic solids. |\n"
   ]
  },
  {
   "cell_type": "markdown",
   "id": "8d7733ec",
   "metadata": {},
   "source": [
    "## 1.E Geometric data of Polyhedra\n",
    "\n",
    "Of course, there is geometric data associated to polyhedra. Among others, the following is supported in *OSCAR*:\n",
    "\n",
    "| Method | Description |\n",
    "| :----------- | :----------- |\n",
    "| `facets(as::Type{T} = AffineHalfspace, P::Polyhedron)` | Facets of `P` in the format defined by `as` (`Halfspace` (Default), `Polyhedron` or `Pair`). |\n",
    "| `vertices(P::Polyhedron)` | Iterator over the vertices of a polyhedron `P` as points. |\n",
    "| `rays(P::Polyhedron)` | Minimal set of generators of the cone of unbounded directions of `P` (i.e. its rays) as points. |\n",
    "| `rays_modulo_lineality(as, P::Polyhedron)` | Rays of the recession cone of `P` up to lineality as a `NamedTuple` with two iterators. |\n",
    "| `minimal_faces(as, P::Polyhedron)` | Minimal faces of a polyhedron as a `NamedTuple` with two iterators. |\n",
    "| `affine_hull(P::Polytope)` | (Affine) hyperplanes generating the affine hull of `P`.  |\n",
    "| `ambient_dim(P::Polyhedron)` | Ambient dimension of `P`. |\n",
    "| `dim(P::Polyhedron)` | Dimension of `P`. |\n",
    "| `codim(P::Polyhedron)` | Codimension of `P`. |\n",
    "| `is_bounded(P::Polyhedron)` | Checks whether `P` is bounded. |\n",
    "| `is_feasible(P::Polyhedron)` | Checks whether `P` is non-empty. |\n",
    "| `is_fulldimensional(P::Polyhedron)` | Checks whether `P` is full-dimensional. |\n",
    "| `is_lattice_polytope(P::Polyhedron{QQFieldElem})` | Checks whether `P` is bounded and has integral vertices. |\n",
    "| `lineality_dim(P::Polyhedron)` | Dimension of the largest affine subspace contained in `P`. |\n",
    "| `lineality_space(P::Polyhedron)` | Matrix whose row span is the lineality space of `P`. |\n",
    "| `recession_cone(P::Polyhedron)` | Recession cone of `P`. |\n",
    "| `relative_interior_point(P::Polyhedron)` | A point in `P` not contained in any facet. |\n",
    "\n",
    "Here is an example:"
   ]
  },
  {
   "cell_type": "code",
   "execution_count": 13,
   "id": "cddb273d",
   "metadata": {},
   "outputs": [
    {
     "data": {
      "text/plain": [
       "6-element Vector{Any}:\n",
       " PointVector{QQFieldElem}[[0, 0], [1, 0], [0, 1]]\n",
       " Pair{Matrix{QQFieldElem}, QQFieldElem}[[-1 0] => 0, [0 -1] => 0, [1 1] => 1]\n",
       " (2, 2, 0)\n",
       " (true, true, true)\n",
       " 0-element SubObjectIterator{RayVector{QQFieldElem}}\n",
       " QQFieldElem[1//3, 1//3]"
      ]
     },
     "execution_count": 13,
     "metadata": {},
     "output_type": "execute_result"
    }
   ],
   "source": [
    "# geometric data of the standard 2-simplex\n",
    "S = simplex(2)\n",
    "\n",
    "[\n",
    "    vertices(S), facets(Pair, S), \n",
    "    (ambient_dim(S), dim(S), codim(S)),\n",
    "    (is_bounded(S), is_feasible(S), is_fulldimensional(S)),\n",
    "    lineality_space(S),\n",
    "    relative_interior_point(S)    \n",
    "]"
   ]
  },
  {
   "cell_type": "markdown",
   "id": "25b5ad7e",
   "metadata": {},
   "source": [
    "## 1.F Combinatorial data of Polyhedra\n",
    "\n",
    "Similarly, combinatorial data associated to polyhedra is available in *OSCAR*:\n",
    "\n",
    "| Method | Description |\n",
    "| :----------- | :----------- |\n",
    "| `nfacets(P::Polyhedron)` | Number of facets of `P`. |\n",
    "| `nvertices(P::Polyhedron)` | Number of vertices of `P`. |\n",
    "| `f_vector(P::Polyhedron)` | Vector $(f_1, ..., f_{\\dim(PF)-1})$, where $f_i$ is the number of faces of `P` of dimension $i$. |\n",
    "| `g_vector(P::Polyhedron)` | Toric $g$-vector of a (bounded) polytope, defined by $g_0=1$ and $g_k = h_k - h_{k-1}$ for $1 \\leq k \\leq \\lceil (d+1)/2 \\rceil$, where $h$ is the $h$-vector and $d = \\dim P$. |\n",
    "| `h_vector(P::Polyhedron)` | Toric $h$-vector of a (bounded) polytope; for simplicial polytopes this is a linear transformation of the $f$-vector. |\n",
    "\n",
    "Let us demonstrate this functionality:"
   ]
  },
  {
   "cell_type": "code",
   "execution_count": 14,
   "id": "e44ea029",
   "metadata": {},
   "outputs": [
    {
     "data": {
      "text/plain": [
       "4-element Vector{Any}:\n",
       " (3, 3)\n",
       " ZZRingElem[3, 3]\n",
       " ZZRingElem[1, 0]\n",
       " ZZRingElem[1, 1, 1]"
      ]
     },
     "execution_count": 14,
     "metadata": {},
     "output_type": "execute_result"
    }
   ],
   "source": [
    "# combinatorial data of the standard 2-simplex\n",
    "S = simplex(2)\n",
    "[\n",
    "    (nvertices(S), nfacets(S)),\n",
    "    f_vector(S),\n",
    "    g_vector(S),\n",
    "    h_vector(S)\n",
    "]"
   ]
  },
  {
   "cell_type": "markdown",
   "id": "0a70467f",
   "metadata": {},
   "source": [
    "## 1.G Groups associated to Polyhedra\n",
    "\n",
    "Finally, there are even groups associated to polyhedra. The following are supported:\n",
    "\n",
    "| Method | Description |\n",
    "| :----------- | :----------- |\n",
    "| `linear_symmetries(P::Polyhedron)` | Group of linear symmetries on the vertices of a polyhedron given as permutations of the vertices (or rather vertex indices) of `P`. |\n",
    "| `combinatorial_symmetries(P::Polyhedron)` | Combinatorial symmetries (i.e., automorphisms of the face lattice) of `P` given as permutations of the vertices (or rather vertex indices) of `P`. |\n",
    "| `automorphism_group(P::Polyhedron; type = :combinatorial, action = :all)` | Group of automorphisms of a polyhedron `P`. The parameters are `:combinatorial` or `:linear` resp. `:all`, `:on_vertices` or `:on_facets`. |\n",
    "| `automorphism_group_generators(P::Polyhedron; type = :combinatorial, action = :all)` | Generators of the group of automorphisms of a polyhedron `P` (parameter as above). |\n",
    "| `automorphism_group(IM::IncidenceMatrix; action = :all)` | Group of automorphisms of an IncidenceMatrix `IM`.  |\n",
    "| `automorphism_group_generators(IM::IncidenceMatrix; action = :all)` | Generators of the group of automorphisms of an IncidenceMatrix `IM`. The parameters for `action` are `:all` (Default), `:on_cols` and `:on_rows` for only the generators of the permutation action on the columns resp. rows. |\n",
    "\n",
    "For an example, let us return to the standard 2-simplex and compute the group of its linear symmetries as well as its automorphism group:"
   ]
  },
  {
   "cell_type": "code",
   "execution_count": 15,
   "id": "833704ab",
   "metadata": {},
   "outputs": [
    {
     "data": {
      "text/plain": [
       "Polyhedron in ambient dimension 2"
      ]
     },
     "execution_count": 15,
     "metadata": {},
     "output_type": "execute_result"
    }
   ],
   "source": [
    "S = simplex(2)"
   ]
  },
  {
   "cell_type": "code",
   "execution_count": 16,
   "id": "daa5069e-4e61-4c6d-978f-17c2e718db69",
   "metadata": {},
   "outputs": [
    {
     "data": {
      "text/plain": [
       "Permutation group of degree 3"
      ]
     },
     "execution_count": 16,
     "metadata": {},
     "output_type": "execute_result"
    }
   ],
   "source": [
    "G1 = linear_symmetries(S)"
   ]
  },
  {
   "cell_type": "code",
   "execution_count": 17,
   "id": "db6e39cb-cf8b-4ca6-8001-664ae61b92bc",
   "metadata": {},
   "outputs": [
    {
     "data": {
      "text/plain": [
       "6-element Vector{PermGroupElem}:\n",
       " ()\n",
       " (2,3)\n",
       " (1,2)\n",
       " (1,2,3)\n",
       " (1,3,2)\n",
       " (1,3)"
      ]
     },
     "execution_count": 17,
     "metadata": {},
     "output_type": "execute_result"
    }
   ],
   "source": [
    "elements(G1)"
   ]
  },
  {
   "cell_type": "code",
   "execution_count": 18,
   "id": "aa58ac98-df5c-46c1-bfd6-2f54d73879d7",
   "metadata": {},
   "outputs": [
    {
     "data": {
      "text/plain": [
       "Dict{Symbol, PermGroup} with 2 entries:\n",
       "  :on_vertices => Permutation group of degree 3\n",
       "  :on_facets   => Permutation group of degree 3"
      ]
     },
     "execution_count": 18,
     "metadata": {},
     "output_type": "execute_result"
    }
   ],
   "source": [
    "G2 = automorphism_group(S)"
   ]
  },
  {
   "cell_type": "markdown",
   "id": "5bacc124",
   "metadata": {},
   "source": [
    "## 1.H Other Functionality for Polyhedra\n",
    "\n",
    "There is yet more functionality avaialble for polyhedra. This includes the following:\n",
    "\n",
    "| Method | Description |\n",
    "| :----------- | :----------- |\n",
    "| `all_triangulations(P::Polyhedron)` | All triangulations on the points given as the rows of `P`. |\n",
    "| `boundary_lattice_points(P::Polyhedron{QQFieldElem})` | Integer points contained in the boundary of the bounded polyhedron `P`. |\n",
    "| `in(v::AbstractVector, P::Polyhedron)` | Checks whether the vector `v` is contained in the polyhedron `P`. |\n",
    "| `issubset(P::Polyhedron, Q::Polyhedron)` | Checks whether `P` is a subset of the polyhedron `Q`. |\n",
    "| `ehrhart_polynomial(R::QQMPolyRing, P::Polyhedron{QQFieldElem})` | Computes the Ehrhart polynomial of `P` and returns it as a polynomial in `R`. |\n",
    "| `h_star_polynomial(R::QQMPolyRing, P::Polyhedron)` | Computes the $h^\\ast$ polynomial of `P` (and optionally returns it as a polynomial in `R`). |\n",
    "| `interior_lattice_points(P::Polyhedron{QQFieldElem})` | Integer points contained in the interior of the bounded polyhedron `P`. |\n",
    "| `is_normal(P::Polyhedron{QQFieldElem})` | Checks whether `P` is normal. |\n",
    "| `is_simple(P::Polyhedron)` | Checks whether `P` is simple. |\n",
    "| `is_smooth(P::Polyhedron{QQFieldElem})` | Checks whether `P` is smooth. |\n",
    "| `is_very_ample(P::Polyhedron{QQFieldElem})` | Checks whether `P` is very ample. |\n",
    "| `lattice_points(P::Polyhedron{QQFieldElem})` | Integer points contained in the bounded polyhedron `P`. |\n",
    "| `lattice_volume(P::Polyhedron{QQFieldElem})` | Lattice volume of `P`. |\n",
    "| `normalized_volume(P::Polyhedron)` | The (normalized) volume of `P`. |\n",
    "| `polarize(P::Polyhedron)` | Polar dual of `P`. |\n",
    "| `project_full(P::Polyhedron)` | Project the polyhedron `P` down such that it becomes full dimensional in the new ambient space. |\n",
    "| `print_constraints(A::AnyVecOrMat, b::AbstractVector; trivial::Bool = false, numbered::Bool = false)` <br> `print_constraints(P::Polyhedron; trivial::Bool = false, numbered::Bool = false)` | Pretty print the constraints given by $P(A,b) = \\{x \\; \\vert \\; Ax \\leq b\\}$. Trivial inequalities are included if `trivial` is set to `true`. |\n",
    "| `regular_triangulations(pts::AbstractCollection[PointVector]; full=false)` <br> `regular_triangulations(P::Polyhedron)` | All regular triangulations on the points given as the rows of `pts` resp. all regular triangulations that can be formed using the vertices of the given bounded and full-dimensional polytope `P`. |\n",
    "| `secondary_polytope(P::Polyhedron)` | Secondary polytope of a polyhedron `P`. |\n",
    "| `solve_ineq(A::fmpz_mat, b::fmpz_mat)` | Solves $Ax \\leq b$, assuming finite solution set. |\n",
    "| `solve_mixed(A::fmpz_mat, b::fmpz_mat, C::fmpz_mat, d::fmpz_mat)` | Solves $Ax = b$ under $Cx \\geq d$, assuming finite solution set. |\n",
    "| `solve_non_negative(A::fmpz_mat, b::fmpz_mat)` | Solves $Ax = b$ under $Cx \\geq 0$, assuming finite solution set.  |\n",
    "| `support_function(P::Polyhedron; convention::Symbol = :max)` | Produce a function $h(\\omega) = \\max(\\dot(x,\\omega) \\; \\vert \\; x \\in P\\}$. $\\max$ may be changed to $\\min$ by setting `convention = : min`. |\n",
    "| `volume(P::Polyhedron)` | (Euclidean) volume of `P`. |\n",
    "\n",
    "For an example, look once again at the standard 2-simplex $\\Delta_2$. It contains the lattice points $(0,0)$, $e_1 = (1,0)$ and $e_2 = (0,1)$, which are all edge points. So it contains the vector $(1,0)$ but not the vector $(1,1)$. This polyhedron $\\Delta_2$ is normal, smooth, simple and very ample. The volume of $\\Delta_2$ is $\\tfrac{1}{2} \\cdot |e_1| \\cdot |e_2| = \\tfrac{1}{2}$ and the lattice volume is $\\sqrt{\\det(e_1,e_2)} = 1$. Since the origin $(0,0)$ is not an interior point of $\\Delta_2$, the dual of the standard 2-simplex is an unbounded polyhedron with rays $e_1$ and $e_2$. Let us recompute these results with *OSCAR*:"
   ]
  },
  {
   "cell_type": "code",
   "execution_count": 19,
   "id": "c0f26e16",
   "metadata": {},
   "outputs": [
    {
     "data": {
      "text/plain": [
       "Polyhedron in ambient dimension 2"
      ]
     },
     "execution_count": 19,
     "metadata": {},
     "output_type": "execute_result"
    }
   ],
   "source": [
    "S = simplex(2)"
   ]
  },
  {
   "cell_type": "code",
   "execution_count": 20,
   "id": "14e740b8-e051-43ce-9a30-b58cfa884069",
   "metadata": {},
   "outputs": [
    {
     "data": {
      "text/plain": [
       "3-element SubObjectIterator{PointVector{ZZRingElem}}:\n",
       " [0, 0]\n",
       " [0, 1]\n",
       " [1, 0]"
      ]
     },
     "execution_count": 20,
     "metadata": {},
     "output_type": "execute_result"
    }
   ],
   "source": [
    "boundary_lattice_points(S)"
   ]
  },
  {
   "cell_type": "code",
   "execution_count": 21,
   "id": "2c142510-adc9-401b-843f-5ddcc82eb809",
   "metadata": {},
   "outputs": [
    {
     "data": {
      "text/plain": [
       "0-element SubObjectIterator{PointVector{ZZRingElem}}"
      ]
     },
     "execution_count": 21,
     "metadata": {},
     "output_type": "execute_result"
    }
   ],
   "source": [
    "interior_lattice_points(S)"
   ]
  },
  {
   "cell_type": "code",
   "execution_count": 22,
   "id": "13a64bdc-2692-4f28-af88-0bba56ed7feb",
   "metadata": {},
   "outputs": [
    {
     "data": {
      "text/plain": [
       "true"
      ]
     },
     "execution_count": 22,
     "metadata": {},
     "output_type": "execute_result"
    }
   ],
   "source": [
    "contains(S, [0, 1])"
   ]
  },
  {
   "cell_type": "code",
   "execution_count": 23,
   "id": "677d9776-8170-4a56-acd8-0e402f1c6286",
   "metadata": {},
   "outputs": [
    {
     "data": {
      "text/plain": [
       "false"
      ]
     },
     "execution_count": 23,
     "metadata": {},
     "output_type": "execute_result"
    }
   ],
   "source": [
    "contains(S, [1, 1])"
   ]
  },
  {
   "cell_type": "code",
   "execution_count": 24,
   "id": "5edf6aa8-fd67-4bad-bd8e-cb7250e051af",
   "metadata": {},
   "outputs": [
    {
     "data": {
      "text/plain": [
       "true"
      ]
     },
     "execution_count": 24,
     "metadata": {},
     "output_type": "execute_result"
    }
   ],
   "source": [
    "is_normal(S)"
   ]
  },
  {
   "cell_type": "code",
   "execution_count": 25,
   "id": "795bf4db-6a9a-4490-9b90-871f4205dd9b",
   "metadata": {},
   "outputs": [
    {
     "data": {
      "text/plain": [
       "true"
      ]
     },
     "execution_count": 25,
     "metadata": {},
     "output_type": "execute_result"
    }
   ],
   "source": [
    "is_simple(S)"
   ]
  },
  {
   "cell_type": "code",
   "execution_count": 26,
   "id": "447c14a1-788f-4ed3-9569-66d4a216f1d1",
   "metadata": {},
   "outputs": [
    {
     "data": {
      "text/plain": [
       "true"
      ]
     },
     "execution_count": 26,
     "metadata": {},
     "output_type": "execute_result"
    }
   ],
   "source": [
    "is_smooth(S)"
   ]
  },
  {
   "cell_type": "code",
   "execution_count": 27,
   "id": "66b3701f-91b7-46db-b587-73e0dc93d6f8",
   "metadata": {},
   "outputs": [
    {
     "data": {
      "text/plain": [
       "true"
      ]
     },
     "execution_count": 27,
     "metadata": {},
     "output_type": "execute_result"
    }
   ],
   "source": [
    "is_very_ample(S)"
   ]
  },
  {
   "cell_type": "code",
   "execution_count": 28,
   "id": "453d4089-e204-4570-9e8a-85854621871d",
   "metadata": {},
   "outputs": [
    {
     "data": {
      "text/plain": [
       "1"
      ]
     },
     "execution_count": 28,
     "metadata": {},
     "output_type": "execute_result"
    }
   ],
   "source": [
    "lattice_volume(S)"
   ]
  },
  {
   "cell_type": "code",
   "execution_count": 29,
   "id": "fede8686-e30a-4505-b34d-822fbc9a712b",
   "metadata": {},
   "outputs": [
    {
     "data": {
      "text/plain": [
       "1"
      ]
     },
     "execution_count": 29,
     "metadata": {},
     "output_type": "execute_result"
    }
   ],
   "source": [
    "normalized_volume(S)"
   ]
  },
  {
   "cell_type": "code",
   "execution_count": 30,
   "id": "d9951173-e0fd-48d4-a218-b5f18fe6b61b",
   "metadata": {},
   "outputs": [
    {
     "data": {
      "text/plain": [
       "1//2"
      ]
     },
     "execution_count": 30,
     "metadata": {},
     "output_type": "execute_result"
    }
   ],
   "source": [
    "volume(S)"
   ]
  },
  {
   "cell_type": "code",
   "execution_count": 31,
   "id": "dfab5ec6-c948-4ab0-be69-a784019a0329",
   "metadata": {},
   "outputs": [
    {
     "data": {
      "text/plain": [
       "Polyhedron in ambient dimension 2"
      ]
     },
     "execution_count": 31,
     "metadata": {},
     "output_type": "execute_result"
    }
   ],
   "source": [
    "S_dual = polarize(S)"
   ]
  },
  {
   "cell_type": "code",
   "execution_count": 32,
   "id": "24e7b9bb-ca30-4576-ad3e-316db0323680",
   "metadata": {},
   "outputs": [
    {
     "data": {
      "text/plain": [
       "2-element SubObjectIterator{RayVector{QQFieldElem}}:\n",
       " [1, 0]\n",
       " [0, 1]"
      ]
     },
     "execution_count": 32,
     "metadata": {},
     "output_type": "execute_result"
    }
   ],
   "source": [
    "rays(S_dual)"
   ]
  },
  {
   "cell_type": "code",
   "execution_count": 33,
   "id": "ee951d73-0d8f-4e61-aa7d-5929b7c1a018",
   "metadata": {},
   "outputs": [
    {
     "data": {
      "text/plain": [
       "false"
      ]
     },
     "execution_count": 33,
     "metadata": {},
     "output_type": "execute_result"
    }
   ],
   "source": [
    "is_bounded(S_dual)"
   ]
  },
  {
   "cell_type": "markdown",
   "id": "2834aa75",
   "metadata": {},
   "source": [
    "# 2. Cones\n",
    "\n",
    "Although polyhedral cones are special cases of polyhedra, they are treated as a separate type in OSCAR. \n",
    "For this reason, some of the methods of polyhedra will also appear here.\n",
    "\n",
    "## 2.A Constructors\n",
    "\n",
    "The standard way to construct a polyhedral cone is to define the positive hull of its rays `R`, with lineality given by `L`.\n",
    "\n",
    "| Method |\n",
    "| :----------- |\n",
    "| `positive_hull([::Type{T} = QQFieldElem,] R::AbstractCollection[RayVector] [, L::AbstractCollection[RayVector]]; non_redundant::Bool = false) where T<:scalar_types` |\n",
    "\n",
    "Here, `R` is given row-wise as representative vectors, with lineality generated by the rows of `L`, i.e. the cone consists of all positive linear combinations of the rows of `R` plus all linear combinations of the rows of `L`.\n",
    "\n",
    "In addition, the following functions can be used to construct a polyhedral cone:\n",
    "\n",
    "| Method |\n",
    "| :----------- |\n",
    "| `cone_from_inequalities([::Type{T} = QQFieldElem,] I::AbstractCollection[LinearHalfspace] [, E::AbstractCollection[LinearHyperplane]]; non_redundant::Bool = false)` | \n",
    "| `cone_from_equations([::Type{T} = QQFieldElem,] E::AbstractCollection[LinearHyperplane]; non_redundant::Bool = false)` |\n",
    "\n",
    "These methods construct the (convex) cone defined by $\\{x \\; \\vert \\; Ix \\leq 0, \\, Ex=0\\}$ resp. $\\{x \\; \\vert \\; Ex=0\\}$.\n",
    "To avoid unnecessary redundancy checks, set `non_redundant` to `true`, if the given description contains no redundant rows.\n",
    "\n",
    "The construction of the secondary cone is done by:\n",
    "\n",
    "| Method |\n",
    "| :----------- |\n",
    "| `secondary_cone(SOP::SubdivisionOfPoints)` |\n",
    "\n",
    "Here is an example:"
   ]
  },
  {
   "cell_type": "code",
   "execution_count": 34,
   "id": "ccc68380",
   "metadata": {},
   "outputs": [
    {
     "data": {
      "text/plain": [
       "Polyhedral cone in ambient dimension 2"
      ]
     },
     "execution_count": 34,
     "metadata": {},
     "output_type": "execute_result"
    }
   ],
   "source": [
    "R = [2 -1; 0 1]\n",
    "C = positive_hull(R)"
   ]
  },
  {
   "cell_type": "markdown",
   "id": "0a8a789d",
   "metadata": {},
   "source": [
    "## 2.B Attributes and Properties\n",
    "\n",
    "| Method | Description |\n",
    "| :----------- | :----------- |\n",
    "| `ambient_dim(C::Cone)` | Ambient dimension of  `C`. |\n",
    "| `in(v::AbstractVector, C::Cone)` | Checks whether the vector `v` is contained in the cone `C`. |\n",
    "| `issubset(C0::Cone, C1::Cone)` | Checks whether `C0` is a subset of the cone `C1`. |\n",
    "| `f_vector(C::Cone)` | Vector $(f_1, ..., f_{dim(PF)-1})$, where $f_i$ is the number of faces of `C` of dimension $i$. |\n",
    "| `hilbert_basis(C::Cone{QQFieldElem})` | Hilbert basis of a pointed cone `C` as the rows of a matrix. |\n",
    "| `codim(C::Cone)` | Codimension of `C`. |\n",
    "| `dim(C::Cone)` | Dimension of `C`. |\n",
    "| `polarize(C::Cone)` | Polar dual of `P`. |\n",
    "| `intersect(C0::Cone{T}, C1::Cone{T}) where T<:scalar_types` | Intersection $C0 \\cap C1$ of `C0` and `C1`. |\n",
    "| `is_pointed(C::Cone)` | Determines whether `C` is pointed. |\n",
    "| `is_fulldimensional(C::Cone)` | Determines whether `C` is full-dimensional. |\n",
    "| `lineality_dim(C::Cone)` | Dimension of the largest linear subspace contained in `C`. |\n",
    "| `lineality_space(C::Cone)` | Basis of the lineality space of `C`. |\n",
    "| `nfacets(C::Cone)` | Number of facets of a cone `C`. |\n",
    "| `nrays(C::Cone)` | Number of rays of `C`. |\n",
    "| `rays(C::Cone)` | Rays of `C`. |\n",
    "| `rays_modulo_lineality(as, C::Cone)` | Rays of the cone of `C` up to lineality as a `NamedTuple` with two iterators.  |\n",
    "\n",
    "We demonstrate this with a simple example. The cone $\\sigma \\subset \\mathbb{Q}^2$ is pointed and full-dimensional with the two edges $2e_1 - e_2$ and $e_2$, which are also facets. The dual $\\sigma^\\vee$ is generated by the rays $e_1$ and $e_1 + 2e_2$."
   ]
  },
  {
   "cell_type": "code",
   "execution_count": 35,
   "id": "ee28d83b",
   "metadata": {},
   "outputs": [
    {
     "data": {
      "text/plain": [
       "Polyhedral cone in ambient dimension 2"
      ]
     },
     "execution_count": 35,
     "metadata": {},
     "output_type": "execute_result"
    }
   ],
   "source": [
    "R = [2 -1; 0 1]\n",
    "C = positive_hull(R)"
   ]
  },
  {
   "cell_type": "code",
   "execution_count": 36,
   "id": "c9b466b3-315d-471f-b0f0-0cbc198b11a2",
   "metadata": {},
   "outputs": [
    {
     "data": {
      "text/plain": [
       "2"
      ]
     },
     "execution_count": 36,
     "metadata": {},
     "output_type": "execute_result"
    }
   ],
   "source": [
    "ambient_dim(C)"
   ]
  },
  {
   "cell_type": "code",
   "execution_count": 37,
   "id": "c1fa541a-441d-437c-8c5c-c3025889671e",
   "metadata": {},
   "outputs": [
    {
     "data": {
      "text/plain": [
       "2"
      ]
     },
     "execution_count": 37,
     "metadata": {},
     "output_type": "execute_result"
    }
   ],
   "source": [
    "dim(C)"
   ]
  },
  {
   "cell_type": "code",
   "execution_count": 38,
   "id": "a7efa2d6-32e5-45cd-8209-3c55c916441d",
   "metadata": {},
   "outputs": [
    {
     "data": {
      "text/plain": [
       "0"
      ]
     },
     "execution_count": 38,
     "metadata": {},
     "output_type": "execute_result"
    }
   ],
   "source": [
    "codim(C)"
   ]
  },
  {
   "cell_type": "code",
   "execution_count": 39,
   "id": "f56ed471-ac3e-40d7-ba32-b130551d6739",
   "metadata": {},
   "outputs": [
    {
     "data": {
      "text/plain": [
       "true"
      ]
     },
     "execution_count": 39,
     "metadata": {},
     "output_type": "execute_result"
    }
   ],
   "source": [
    "is_pointed(C)"
   ]
  },
  {
   "cell_type": "code",
   "execution_count": 40,
   "id": "7f217d20-fa7a-4424-9e56-1c009b731548",
   "metadata": {},
   "outputs": [
    {
     "data": {
      "text/plain": [
       "true"
      ]
     },
     "execution_count": 40,
     "metadata": {},
     "output_type": "execute_result"
    }
   ],
   "source": [
    "is_fulldimensional(C)"
   ]
  },
  {
   "cell_type": "code",
   "execution_count": 41,
   "id": "e848db61-07a5-4963-beae-73cd40a4501e",
   "metadata": {},
   "outputs": [
    {
     "data": {
      "text/plain": [
       "2"
      ]
     },
     "execution_count": 41,
     "metadata": {},
     "output_type": "execute_result"
    }
   ],
   "source": [
    "nrays(C)"
   ]
  },
  {
   "cell_type": "code",
   "execution_count": 42,
   "id": "58ffdcbe-16b9-4f38-85f7-731e7e67a6c7",
   "metadata": {},
   "outputs": [
    {
     "data": {
      "text/plain": [
       "2"
      ]
     },
     "execution_count": 42,
     "metadata": {},
     "output_type": "execute_result"
    }
   ],
   "source": [
    "nfacets(C)"
   ]
  },
  {
   "cell_type": "code",
   "execution_count": 43,
   "id": "3b4975a7-98d7-4185-8c5c-3589bc454a73",
   "metadata": {},
   "outputs": [
    {
     "data": {
      "text/plain": [
       "2-element SubObjectIterator{RayVector{QQFieldElem}}:\n",
       " [1, 0]\n",
       " [1, 2]"
      ]
     },
     "execution_count": 43,
     "metadata": {},
     "output_type": "execute_result"
    }
   ],
   "source": [
    "rays(polarize(C))"
   ]
  },
  {
   "cell_type": "markdown",
   "id": "a28dbe9e",
   "metadata": {},
   "source": [
    "# 3. Polyhedral Fans\n",
    "\n",
    "## 3.A Constructors\n",
    "\n",
    "To construct a polyhedral fan, you must pass the rays of each cone in the fan, along with an IncidenceMatrix encoding which rays generate which cones:\n",
    "\n",
    "| Method |\n",
    "| :----------- |\n",
    "| `PolyhedralFan{T}(Rays, Cones; non_redundant = false) where T<:scalar_types` |\n",
    "\n",
    "The arguments of `PolyhedralFan` are:\n",
    "- `Rays::AbstractCollection[RayVector]` : Rays generating the cones of the fan; encoded row-wise as representative vectors.\n",
    "- `Cones::IncidenceMatrix` : An incidence matrix defined by 1 at position $(i,j)$ if cone $i$ has ray $j$ as an extremal ray and 0 otherwise.\n",
    "\n",
    "A polyhedral fan formed from rays and cones made of these rays. The cones are given as an IncidenceMatrix, where the columns represent the rays and the rows represent the cones.\n",
    "\n",
    "The following method constructs a polyhedral fan with a group action:\n",
    "\n",
    "| Method |\n",
    "| :----------- |\n",
    "| `polyhedral_fan_from_rays_action(::Type{T}, Rays::AbstractCollection[RayVector], MC_reps::IncidenceMatrix, perms::AbstractVector{PermGroupElem}) where T<:scalar_types` |\n",
    "\n",
    "with arguments:\n",
    "- `Rays`: The rays of the fan\n",
    "- `MC_reps`: IncidenceMatrix whose rows give the indices of the rays forming representatives of the maximal cones under the group action.\n",
    "- `perms`: A vector of permutations PermGroupElem that form generators of the group acting on the rays of the fan.\n",
    "\n",
    "\n",
    "The normal fan and the face fan of a polyhedron `P` can also be constructed:\n",
    "\n",
    "| Method |\n",
    "| :----------- |\n",
    "| `normal_fan(P::Polyhedron)` |\n",
    "| `face_fan(P::Polyhedron)` |\n",
    "\n",
    "For an example, consider the fan $\\Sigma_{\\mathbb{P}^2}$ associated with the projective plane $\\mathbb{P}^2$. This fan has ray generators $e_1$, $e_2$ and $-e_1-e_2$."
   ]
  },
  {
   "cell_type": "code",
   "execution_count": 44,
   "id": "77cbcf4d",
   "metadata": {},
   "outputs": [
    {
     "data": {
      "text/plain": [
       "Polyhedral fan in ambient dimension 2"
      ]
     },
     "execution_count": 44,
     "metadata": {},
     "output_type": "execute_result"
    }
   ],
   "source": [
    "R = [1 0; 0 1; -1 -1]\n",
    "IM = IncidenceMatrix([[1, 2], [2, 3], [1, 3]])\n",
    "PF = PolyhedralFan(R, IM)"
   ]
  },
  {
   "cell_type": "markdown",
   "id": "71916b87",
   "metadata": {},
   "source": [
    "## 3.B Attributes and Properties\n",
    "\n",
    "| Methode | Rückgabe |\n",
    "| :----------- | :----------- |\n",
    "| `ambient_dim(PF::PolyhedralFan)` | Ambient dimension of `PF`. |\n",
    "| `dim(PF::PolyhedralFan)` | Dimension of `PF`. |\n",
    "| `f_vector(PF::PolyhedralFan)` | Vector $(f_1, ..., f_{dim(PF)-1})$, where $f_i$ is the number of faces of `PF` of dimension $i$. |\n",
    "| `is_complete(PF::PolyhedralFan)` | Determines whether `PF` is complete. |\n",
    "| `is_pointed(PF::PolyhedralFan)` | Determines whether `PF` is pointed. |\n",
    "| `is_regular(PF::PolyhedralFan)` | Determines whether `PF` is regular. |\n",
    "| `is_simplicial(PF::PolyhedralFan)` | Determines whether `PF` is simpicial. |\n",
    "| `is_smooth(PF::PolyhedralFan{fmpq})` | Determines whether `PF` is smooth. |\n",
    "| `lineality_dim(PF::PolyhedralFan)` | Dimension of the largest linear subspace of `PF`. |\n",
    "| `lineality_space(PF::PolyhedralFan)` | Non-redundant matrix whose rows are generators of the lineality space of  `PF`. |\n",
    "| `maximal_cones(PF::PolyhedralFan)` | Maximal cones of  `PF`. |\n",
    "| `cones(PF::PolyhedralFan, cone_dim::Int)` | Iterator over the cones of `PF` of dimension `cone_dim`. |\n",
    "| `cones(PF::PolyhedralFan)` | Ray indices of all non-zero-dimensional cones in a polyhedral fan `PF`. |\n",
    "| `n_maximal_cones(PF::PolyhedralFan)` | Number of maximal cones of `PF`. |\n",
    "| `n_cones(PF::PolyhedralFan)` | Number of cones of `PF`. |\n",
    "| `nrays(PF::PolyhedralFan)` | Number of rays of `PF`. |\n",
    "| `rays(PF::PolyhedralFan)` | Rays of `P`. |\n",
    "| `rays_modulo_lineality(as, F::PolyhedralFan)` | Rays of the polyhedral fan `F` up to lineality as a `NamedTuple` with two iterators. |\n",
    "| `primitive_collections(PF::PolyhedralFan)` | Primitive collections of `PF`. |\n",
    "| `starsubdivision(PF::PolyhedralFan, n::Int)` | Star subdivision of a polyhedral fan `PF` at its `n`-th maximal torus orbit. |\n",
    "| `*(PF1::PolyhedralFan, PF2::PolyhedralFan)` | Cartesian/direct product of two polyhedral fans `PF1` and `PF2`. |\n",
    "\n",
    "### Example\n",
    "\n",
    "The fan $\\Sigma_{\\mathbb{P}^2} \\subset \\mathbb{Q}^2$ consists of faces $\\{0\\}$, three $1$-dimensional rays $\\tau_{ij} = \\sigma_i \\cap \\sigma_j$ and three $2$-dimensional facets $\\sigma_0$, $\\sigma_1$ and $\\sigma_2$, all of which are strongly-convex. Further, the fan $\\sigma_{\\mathbb{P}^2}$ is complete, smooth and regular. It is the normal fan of the standard 2-simplex $\\Delta_2$."
   ]
  },
  {
   "cell_type": "code",
   "execution_count": 45,
   "id": "150dec92",
   "metadata": {},
   "outputs": [
    {
     "data": {
      "text/plain": [
       "Polyhedral fan in ambient dimension 2"
      ]
     },
     "execution_count": 45,
     "metadata": {},
     "output_type": "execute_result"
    }
   ],
   "source": [
    "R = [1 0; 0 1; -1 -1]\n",
    "IM = IncidenceMatrix([[1, 2], [2, 3], [1, 3]])\n",
    "PF = PolyhedralFan(R, IM)"
   ]
  },
  {
   "cell_type": "code",
   "execution_count": 46,
   "id": "e6a30e56-f6b4-4c28-bd0b-f3ca0d9a62a5",
   "metadata": {},
   "outputs": [
    {
     "data": {
      "text/plain": [
       "2"
      ]
     },
     "execution_count": 46,
     "metadata": {},
     "output_type": "execute_result"
    }
   ],
   "source": [
    "ambient_dim(PF)"
   ]
  },
  {
   "cell_type": "code",
   "execution_count": 47,
   "id": "e4b7cf1c-8add-4a6c-9040-c8dc68d3e538",
   "metadata": {},
   "outputs": [
    {
     "data": {
      "text/plain": [
       "2"
      ]
     },
     "execution_count": 47,
     "metadata": {},
     "output_type": "execute_result"
    }
   ],
   "source": [
    "dim(PF)"
   ]
  },
  {
   "cell_type": "markdown",
   "id": "df305606-a201-4aa6-8a31-bd6d68523a04",
   "metadata": {},
   "source": [
    "The f_vector tells us how many cones of dimensions 1, 2, 3, etc. exist in a polyhedral fan. For *PF*, there are three 1-dimensional and three 2-dimensional cones and no higher dimensional cones. So the answer should be (3,3):"
   ]
  },
  {
   "cell_type": "code",
   "execution_count": 48,
   "id": "957a4bcc-aaa3-4133-bada-2db4f9b5d68a",
   "metadata": {},
   "outputs": [
    {
     "data": {
      "text/plain": [
       "2-element Vector{ZZRingElem}:\n",
       " 3\n",
       " 3"
      ]
     },
     "execution_count": 48,
     "metadata": {},
     "output_type": "execute_result"
    }
   ],
   "source": [
    "f_vector(PF)"
   ]
  },
  {
   "cell_type": "code",
   "execution_count": 49,
   "id": "247ddc36-a834-47d2-9a07-fbd2ca6ec2c0",
   "metadata": {},
   "outputs": [
    {
     "data": {
      "text/plain": [
       "true"
      ]
     },
     "execution_count": 49,
     "metadata": {},
     "output_type": "execute_result"
    }
   ],
   "source": [
    "is_pointed(PF)"
   ]
  },
  {
   "cell_type": "code",
   "execution_count": 50,
   "id": "8b3bb74a-23ab-4ad2-b796-f6954b8edaf1",
   "metadata": {},
   "outputs": [
    {
     "data": {
      "text/plain": [
       "true"
      ]
     },
     "execution_count": 50,
     "metadata": {},
     "output_type": "execute_result"
    }
   ],
   "source": [
    "is_complete(PF)"
   ]
  },
  {
   "cell_type": "code",
   "execution_count": 51,
   "id": "bc00a4f5-fde9-448b-946a-4ca0ce3d55c6",
   "metadata": {},
   "outputs": [
    {
     "data": {
      "text/plain": [
       "true"
      ]
     },
     "execution_count": 51,
     "metadata": {},
     "output_type": "execute_result"
    }
   ],
   "source": [
    "is_smooth(PF)"
   ]
  },
  {
   "cell_type": "code",
   "execution_count": 52,
   "id": "ae2f7e82-9933-4c4a-b4bd-61055d903655",
   "metadata": {},
   "outputs": [
    {
     "data": {
      "text/plain": [
       "true"
      ]
     },
     "execution_count": 52,
     "metadata": {},
     "output_type": "execute_result"
    }
   ],
   "source": [
    "is_simplicial(PF)"
   ]
  },
  {
   "cell_type": "code",
   "execution_count": 53,
   "id": "77649318-fbbf-4027-9b92-61b653419e86",
   "metadata": {},
   "outputs": [
    {
     "data": {
      "text/plain": [
       "true"
      ]
     },
     "execution_count": 53,
     "metadata": {},
     "output_type": "execute_result"
    }
   ],
   "source": [
    "is_regular(PF)"
   ]
  },
  {
   "cell_type": "code",
   "execution_count": 54,
   "id": "5146f9e9-566f-4b8b-8ef6-c21d514aba2d",
   "metadata": {},
   "outputs": [
    {
     "data": {
      "text/plain": [
       "3-element SubObjectIterator{RayVector{QQFieldElem}}:\n",
       " [1, 0]\n",
       " [0, 1]\n",
       " [-1, -1]"
      ]
     },
     "execution_count": 54,
     "metadata": {},
     "output_type": "execute_result"
    }
   ],
   "source": [
    "rays(PF)"
   ]
  },
  {
   "cell_type": "code",
   "execution_count": 55,
   "id": "da8b7320-a756-4810-a733-f6af5d492a86",
   "metadata": {},
   "outputs": [
    {
     "data": {
      "text/plain": [
       "3-element SubObjectIterator{RayVector{QQFieldElem}}:\n",
       " [1, 0]\n",
       " [0, 1]\n",
       " [-1, -1]"
      ]
     },
     "execution_count": 55,
     "metadata": {},
     "output_type": "execute_result"
    }
   ],
   "source": [
    "rays(normal_fan(simplex(2)))"
   ]
  },
  {
   "cell_type": "code",
   "execution_count": null,
   "id": "2a15699d-0932-48ef-a90a-5d0a4c36199f",
   "metadata": {},
   "outputs": [],
   "source": []
  }
 ],
 "metadata": {
  "kernelspec": {
   "display_name": "Julia 1.9.2",
   "language": "julia",
   "name": "julia-1.9"
  },
  "language_info": {
   "file_extension": ".jl",
   "mimetype": "application/julia",
   "name": "julia",
   "version": "1.9.2"
  }
 },
 "nbformat": 4,
 "nbformat_minor": 5
}
