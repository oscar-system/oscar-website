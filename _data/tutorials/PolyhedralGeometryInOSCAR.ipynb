{
 "cells": [
  {
   "cell_type": "markdown",
   "id": "a6df9a27",
   "metadata": {},
   "source": [
    "# Polyhedral Geometry\n",
    "\n",
    "This tutorial provides an introduction to polyhedral geometry in OSCAR.\n",
    "The aim is to describe the basic constructions for convex polytopes and polyhedral fnas and to explain them with minimal examples.\n",
    "In order to facilitate the introduction, some of the methods are not presented in their entirety.\n",
    "For a full description of the topic, see https://docs.oscar-system.org/stable/PolyhedralGeometry/intro/\n",
    "\n",
    "The reader needs no special knowledge of OSCAR.\n",
    "\n",
    "The first step is to import the OSCAR package."
   ]
  },
  {
   "cell_type": "code",
   "execution_count": 1,
   "id": "2c3cd666",
   "metadata": {},
   "outputs": [
    {
     "name": "stdout",
     "output_type": "stream",
     "text": [
      " -----    -----    -----      -      -----   \n",
      "|     |  |     |  |     |    | |    |     |  \n",
      "|     |  |        |         |   |   |     |  \n",
      "|     |   -----   |        |     |  |-----   \n",
      "|     |        |  |        |-----|  |   |    \n",
      "|     |  |     |  |     |  |     |  |    |   \n",
      " -----    -----    -----   -     -  -     -  \n",
      "\n",
      "...combining (and extending) ANTIC, GAP, Polymake and Singular\n",
      "Version\u001b[32m 0.12.0 \u001b[39m... \n",
      " ... which comes with absolutely no warranty whatsoever\n",
      "Type: '?Oscar' for more information\n",
      "(c) 2019-2023 by The OSCAR Development Team\n"
     ]
    }
   ],
   "source": [
    "using Oscar"
   ]
  },
  {
   "cell_type": "markdown",
   "id": "a7c2ecc7",
   "metadata": {},
   "source": [
    "## Polyhedra\n",
    "\n",
    "### Constructions\n",
    "\n",
    "Polyhedra can be represented as:\n",
    "\n",
    "- a finite intersectionsection of closed affine half-spaces (*H-representation*).\n",
    "- a convex hull of finitely many points (*V-representation*).\n",
    "\n",
    "For some polyhedra these representations are already predefined in OSCAR. \n",
    "Furthermore, polyhedra can be constructed from already existing polyhedra.\n",
    "\n",
    "#### *H*-representation\n",
    "\n",
    "There are two different ways in which polyhedra can be defined in OSCAR using the *H* representation:\n",
    "\n",
    "| Method |\n",
    "| :----------- |\n",
    "| `Polyhedron{T}(A::AnyVecOrMat, b) where T<:scalar_types` |\n",
    "| `Polyhedron{T}(I::Union{Nothing, AbstractCollection[AffineHalfspace]}, E::Union{Nothing, AbstractCollection[AffineHyperplane]} = nothing) where T<:scalar_types` |\n",
    "\n",
    "The first method defines a polyhedron by $P = \\{x \\in \\mathbb{R}^n \\; \\vert \\; Ax \\leq b\\}$ for a matrix $A$ and a vector $b$. \n",
    "With the second method, the polyhedron is obtained by specifying the inequalities and equations of the half-spaces and hyperplanes involved in the finite section representing the polyhedron. \n",
    "\n",
    "The complete *H* representation of a polyhedron can be recovered using the functions `facets` and `affine_hull`.\n",
    "\n",
    "##### Example"
   ]
  },
  {
   "cell_type": "code",
   "execution_count": 2,
   "id": "42280e94",
   "metadata": {},
   "outputs": [
    {
     "data": {
      "text/plain": [
       "3-element Vector{Any}:\n",
       " true\n",
       "     Pair{Matrix{QQFieldElem}, QQFieldElem}[[-1 0] => 0, [0 -1] => 0, [1 1] => 1]\n",
       "     0-element SubObjectIterator{AffineHyperplane{QQFieldElem}}"
      ]
     },
     "execution_count": 2,
     "metadata": {},
     "output_type": "execute_result"
    }
   ],
   "source": [
    "# Representation of the standard 2-simplex\n",
    "A = [-1 0; 0 -1; 1 1]\n",
    "b = [0, 0, 1]\n",
    "P1 = Polyhedron(A,b)\n",
    "\n",
    "I = ([-1 0; 0 -1; 1 1], [0, 0, 1]);\n",
    "P2 = Polyhedron(I)\n",
    "\n",
    "[P1==P2, facets(Pair, P1), affine_hull(P1)]"
   ]
  },
  {
   "cell_type": "markdown",
   "id": "ea91ef4e",
   "metadata": {},
   "source": [
    "#### *V*-representation\n",
    "\n",
    "For the *V*-representation of a polyhedron, i.e. $P = \\mathrm{conv}(p_1, \\ldots , p_N), p_i \\in \\mathbb{R}^n$, the following method is used:\n",
    "\n",
    "| Method |\n",
    "| :----------- |\n",
    "| `convex_hull([::Type{T} = QQFieldElem,] V [, R [, L]]; non_redundant::Bool = false)` |\n",
    "\n",
    "The method constructs the convex hull from vertices `V`, rays `R` and generators of the linearity space `L`. \n",
    "The arguments `R` and `L` are optional and are treated as zero if missing. \n",
    "The arguments can be given as a matrix, and the individual components must be written row by row. \n",
    "If the convex hull is to be calculated from `V` and `L` only, `R` must be defined as an empty matrix or `nothing`.\n",
    "\n",
    "The complete *V*-representation of a polyhedron can be recovered using the functions `vertices`, `rays` and `lineality_space`.\n",
    "\n",
    "##### Example"
   ]
  },
  {
   "cell_type": "code",
   "execution_count": 3,
   "id": "ab8602ca",
   "metadata": {},
   "outputs": [
    {
     "data": {
      "text/plain": [
       "3-element SubObjectIterator{PointVector{QQFieldElem}}:\n",
       " [0, 0]\n",
       " [1, 0]\n",
       " [0, 1]"
      ]
     },
     "execution_count": 3,
     "metadata": {},
     "output_type": "execute_result"
    }
   ],
   "source": [
    "# Representation of the standard 2-simplex\n",
    "V = [0 0; 1 0; 0 1]\n",
    "P = convex_hull(V)\n",
    "vertices(P)"
   ]
  },
  {
   "cell_type": "code",
   "execution_count": 4,
   "id": "c6fce061",
   "metadata": {},
   "outputs": [
    {
     "data": {
      "text/plain": [
       "Polyhedron in ambient dimension 2"
      ]
     },
     "execution_count": 4,
     "metadata": {},
     "output_type": "execute_result"
    }
   ],
   "source": [
    "# closed-upper half plane of R^2\n",
    "V = [0 0]; R = [0 1]; L = [1 0];\n",
    "H = convex_hull(V, R, L)"
   ]
  },
  {
   "cell_type": "markdown",
   "id": "aa477916",
   "metadata": {},
   "source": [
    "#### Regular Polytopes\n",
    "\n",
    "| Function | Description |\n",
    "| :----------- | :----------- |\n",
    "| `simplex([::Type{T} = QQFieldElem,] d::Int [,n::Rational])` | Simplex which is the convex hull of the standard basis vectors along with the origin in $\\mathbb{R}^d$, scaled by `n`. |\n",
    "| `cross_polytope([::Type{T} = QQFieldElem,] d::Int [,n::Rational])` | `d`-dimensional cross polytope around the origin with vertices located at $\\pm e_i$ for each unit vector $e_i$ of $\\mathbb{R}^d$, scaled by `n`. |\n",
    "| `cube([::Type{T} = QQFieldElem,] d::Int , [l::Rational = -1, u::Rational = 1])` | $[l,u]$-cube in dimension `d`. |\n",
    "| `tetrahedron()` | Regular tetrahedron, one of the Platonic solids. |\n",
    "| `dodecahedron()` | Regular dodecahedron, one of the Platonic solids. |\n",
    "| `icosahedron()` | Regular icosahedron, one of the Platonic solids. |\n",
    "| `platonic_solid(s::String)` | Platonic solid with the name given by String `s`, see [here](https://docs.oscar-system.org/stable/PolyhedralGeometry/Polyhedra/constructions/). |\n",
    "| `archimedean_solid(s::String)` | Archimedean solid with the name given by String `s`, see [here](https://docs.oscar-system.org/stable/PolyhedralGeometry/Polyhedra/constructions/). |\n",
    "| `johnson_solid(i::Int)` | `i`-th proper Johnson solid. |\n",
    "| `catalan_solid(s::String)` | Catalan solid with the name given by String `s`, see [here](https://docs.oscar-system.org/stable/PolyhedralGeometry/Polyhedra/constructions/). |\n",
    "| `regular_24_cell()` | Regular 24-cell, one out of three exceptional regular 4-polytopes. |\n",
    "| `regular_120_cell()` | Regular 120-cell, one out of three exceptional regular 4-polytopes. |\n",
    "| `regular_600_cell()` | Regular 600-cell, one out of three exceptional regular 4-polytopes. |\n",
    "\n",
    "\n",
    "#### Other polytope constructions\n",
    "\n",
    "| Function | Description |\n",
    "| :----------- | :----------- |\n",
    "| `birkhoff(n::Integer, even::Bool = false)` | Birkhoff polytop of dimension `n`$^2$. |\n",
    "| `cyclic_polytope(d::Int, n::Int)` | Cyclic polytope that is the convex hull of `n` points on the moment curve in dimension `d`. |\n",
    "| `del_pezzo_polytope(d::Int)` | `d`-dimensional del Pezzo polytop. |\n",
    "| `fano_simplex(d::Int)` | A lattice simplex such that the origin is the unique interior lattice point. |\n",
    "| `fractional_cut_polytope(G::Graph{Undirected})` | The fractional cut polytope of the graph `G`. |\n",
    "| `fractional_matching_polytope(G::Graph{Undirected})` | The fractional matching polytope of the graph `G`. |\n",
    "| `gelfand_tsetlin(lambda::AbstractVector)` | Gelfand Tsetlin polytope indexed by a weakly decreasing vector `lambda`. |\n",
    "| `newton_polytope(poly::Polynomial)` | Newton polytope of the multivariate polynomial `poly`. |\n",
    "| `orbit_polytope(V::AbstractCollection[PointVector], G::PermGroup)` | Convex hull of the orbit of one or several points (given row-wise in `V`) under the action of `G`. |\n",
    "| `rand_spherical_polytope([rng::AbstractRNG,] d::Int, n::Int;` <br> `distribution=:uniform, precision=nothing, seed=nothing)` | The convex hull of `n` points on the unit sphere in $\\mathbb{R}^d$. |"
   ]
  },
  {
   "cell_type": "markdown",
   "id": "727dd7bb",
   "metadata": {},
   "source": [
    "#### Operations on polyhedra\n",
    "\n",
    "Polyhedra can be produced through operations on other polyhedra:\n",
    "\n",
    "| Method | Description |\n",
    "| :----------- | :----------- |\n",
    "| `+(P::Polyhedron, Q::Polyhedron)` | Minkowski sum $P+Q = \\{x+y \\; \\vert \\; x \\in P, y \\in Q\\}$ von `P` und `Q`. |\n",
    "| `*(k::Int, Q::Polyhedron)` | Scaled polyhedron  $kQ = \\{kx \\; \\vert \\; x \\in Q\\}$. |\n",
    "| `*(P::Polyhedron, Q::Polyhedron)` | Cartesian product of `P` and `Q`. |\n",
    "| `bipyramid(P::Polyhedron, z::Number = 1, z_prime::Number = -z)` | Bipyramid over a pointed polyhedron `P`.  |\n",
    "| `intersect(P::Polyhedron, Q::Polyhedron)` | Intersection $P \\cap Q$ of `P` and `Q`. |\n",
    "| `pyramid(P::Polyhedron, z::Number = 1)` | Pyramid over `P` with distance `z` between the vertex barycenter of `P` and the top of the pyramid. |\n",
    "| `convex_hull(P::Polyhedron, Q::Polyhedron)` | Convex hull of `P` and `Q`. |\n",
    "\n",
    "##### Example\n",
    "\n",
    "The Minkowski sum $\\Delta_2 + \\Delta_2$ of the standard 2-simplexes is given by $\\{(0,0), (1,0), (0,1), (1,1), (2,0),(0,2)\\}$ and thus defined by the vertices $(0,0)$, $(2,0)$ and $(0,2)$. \n",
    "This is exactly the polyhedron $2\\Delta_2$ that we obtain by scaling the standard 2-simplex by $2$. \n",
    "Moreover, since $(\\tfrac{1}{3}, \\tfrac{1}{3})$ is the centroid of $\\Delta_2$, we get a pyramid with vertex $(\\tfrac{1}{3}, \\tfrac{1}{3}, 1)$."
   ]
  },
  {
   "cell_type": "code",
   "execution_count": 5,
   "id": "0d692644",
   "metadata": {},
   "outputs": [
    {
     "data": {
      "text/plain": [
       "4-element Vector{SubObjectIterator{PointVector{QQFieldElem}}}:\n",
       " [[0, 0], [2, 0], [0, 2]]\n",
       " [[0, 0], [2, 0], [0, 2]]\n",
       " [[0, 0, 0, 0], [0, 0, 1, 0], [0, 0, 0, 1], [1, 0, 0, 0], [1, 0, 1, 0], [1, 0, 0, 1], [0, 1, 0, 0], [0, 1, 1, 0], [0, 1, 0, 1]]\n",
       " [[0, 0, 0], [1, 0, 0], [0, 1, 0], [1//3, 1//3, 1]]"
      ]
     },
     "execution_count": 5,
     "metadata": {},
     "output_type": "execute_result"
    }
   ],
   "source": [
    "S1 = +(simplex(2), simplex(2)) #or: simplex(2) + simplex(2)\n",
    "S2 = *(2, simplex(2)) #or: 2*simplex(2)\n",
    "S3 = *(simplex(2), simplex(2)) #or: simplex(2) * simplex(2)\n",
    "S4 = pyramid(simplex(2))\n",
    "\n",
    "[vertices(S1), vertices(S2), vertices(S3), vertices(S4)]"
   ]
  },
  {
   "cell_type": "markdown",
   "id": "8d7733ec",
   "metadata": {},
   "source": [
    "### Auxiliary functions\n",
    "\n",
    "There are many functions that can be used to determine properties of polyhedra.\n",
    "\n",
    "#### Geometric data\n",
    "\n",
    "| Method | Description |\n",
    "| :----------- | :----------- |\n",
    "| `facets(as::Type{T} = AffineHalfspace, P::Polyhedron)` | Facets of `P` in the format defined by `as` (`Halfspace` (Default), `Polyhedron` or `Pair`). |\n",
    "| `vertices(P::Polyhedron)` | Iterator over the vertices of a polyhedron `P` as points. |\n",
    "| `rays(P::Polyhedron)` | Minimal set of generators of the cone of unbounded directions of `P` (i.e. its rays) as points. |\n",
    "| `rays_modulo_lineality(as, P::Polyhedron)` | Rays of the recession cone of `P` up to lineality as a `NamedTuple` with two iterators. |\n",
    "| `minimal_faces(as, P::Polyhedron)` | Minimal faces of a polyhedron as a `NamedTuple` with two iterators. |\n",
    "| `affine_hull(P::Polytope)` | (Affine) hyperplanes generating the affine hull of `P`.  |\n",
    "| `ambient_dim(P::Polyhedron)` | Ambient dimension of `P`. |\n",
    "| `dim(P::Polyhedron)` | Dimension of `P`. |\n",
    "| `codim(P::Polyhedron)` | Codimension of `P`. |\n",
    "| `is_bounded(P::Polyhedron)` | Checks whether `P` is bounded. |\n",
    "| `is_feasible(P::Polyhedron)` | Checks whether `P` is non-empty. |\n",
    "| `is_fulldimensional(P::Polyhedron)` | Checks whether `P` is full-dimensional. |\n",
    "| `is_lattice_polytope(P::Polyhedron{QQFieldElem})` | Checks whether `P` is bounded and has integral vertices. |\n",
    "| `lineality_dim(P::Polyhedron)` | Dimension of the largest affine subspace contained in `P`. |\n",
    "| `lineality_space(P::Polyhedron)` | Matrix whose row span is the lineality space of `P`. |\n",
    "| `recession_cone(P::Polyhedron)` | Recession cone of `P`. |\n",
    "| `relative_interior_point(P::Polyhedron)` | A point in `P` not contained in any facet. |\n",
    "\n",
    "##### Example"
   ]
  },
  {
   "cell_type": "code",
   "execution_count": 6,
   "id": "cddb273d",
   "metadata": {},
   "outputs": [
    {
     "data": {
      "text/plain": [
       "6-element Vector{Any}:\n",
       " PointVector{QQFieldElem}[[0, 0], [1, 0], [0, 1]]\n",
       " Pair{Matrix{QQFieldElem}, QQFieldElem}[[-1 0] => 0, [0 -1] => 0, [1 1] => 1]\n",
       " (2, 2, 0)\n",
       " (true, true, true)\n",
       " 0-element SubObjectIterator{RayVector{QQFieldElem}}\n",
       " QQFieldElem[1//3, 1//3]"
      ]
     },
     "execution_count": 6,
     "metadata": {},
     "output_type": "execute_result"
    }
   ],
   "source": [
    "# geometric data of the standard 2-simplex\n",
    "S = simplex(2)\n",
    "\n",
    "[\n",
    "    vertices(S), facets(Pair, S), \n",
    "    (ambient_dim(S), dim(S), codim(S)),\n",
    "    (is_bounded(S), is_feasible(S), is_fulldimensional(S)),\n",
    "    lineality_space(S),\n",
    "    relative_interior_point(S)    \n",
    "]"
   ]
  },
  {
   "cell_type": "markdown",
   "id": "25b5ad7e",
   "metadata": {},
   "source": [
    "#### Combinatorial data\n",
    "\n",
    "| Method | Description |\n",
    "| :----------- | :----------- |\n",
    "| `nfacets(P::Polyhedron)` | Number of facets of `P`. |\n",
    "| `nvertices(P::Polyhedron)` | Number of vertices of `P`. |\n",
    "| `f_vector(P::Polyhedron)` | Vector $(f_1, ..., f_{\\dim(PF)-1})$, where $f_i$ is the number of faces of `P` of dimension $i$. |\n",
    "| `g_vector(P::Polyhedron)` | Toric $g$-vector of a (bounded) polytope, defined by $g_0=1$ and $g_k = h_k - h_{k-1}$ for $1 \\leq k \\leq \\lceil (d+1)/2 \\rceil$, where $h$ is the $h$-vector and $d = \\dim P$. |\n",
    "| `h_vector(P::Polyhedron)` | Toric $h$-vector of a (bounded) polytope; for simplicial polytopes this is a linear transformation of the $f$-vector. |\n",
    "\n",
    "##### Example"
   ]
  },
  {
   "cell_type": "code",
   "execution_count": 8,
   "id": "e44ea029",
   "metadata": {},
   "outputs": [
    {
     "data": {
      "text/plain": [
       "4-element Vector{Any}:\n",
       " (3, 3)\n",
       " ZZRingElem[3, 3]\n",
       " ZZRingElem[1, 0]\n",
       " ZZRingElem[1, 1, 1]"
      ]
     },
     "execution_count": 8,
     "metadata": {},
     "output_type": "execute_result"
    }
   ],
   "source": [
    "# combinatorial data of the standard 2-simplex\n",
    "S = simplex(2)\n",
    "[\n",
    "    (nvertices(S), nfacets(S)),\n",
    "    f_vector(S),\n",
    "    g_vector(S),\n",
    "    h_vector(S)\n",
    "]"
   ]
  },
  {
   "cell_type": "markdown",
   "id": "0a70467f",
   "metadata": {},
   "source": [
    "#### Groups\n",
    "\n",
    "| Method | Description |\n",
    "| :----------- | :----------- |\n",
    "| `linear_symmetries(P::Polyhedron)` | Group of linear symmetries on the vertices of a polyhedron given as permutations of the vertices (or rather vertex indices) of `P`. |\n",
    "| `combinatorial_symmetries(P::Polyhedron)` | Combinatorial symmetries (i.e., automorphisms of the face lattice) of `P` given as permutations of the vertices (or rather vertex indices) of `P`. |\n",
    "| `automorphism_group(P::Polyhedron; type = :combinatorial, action = :all)` | Group of automorphisms of a polyhedron `P`. The parameters are `:combinatorial` or `:linear` resp. `:all`, `:on_vertices` or `:on_facets`. |\n",
    "| `automorphism_group_generators(P::Polyhedron; type = :combinatorial, action = :all)` | Generators of the group of automorphisms of a polyhedron `P` (parameter as above). |\n",
    "| `automorphism_group(IM::IncidenceMatrix; action = :all)` | Group of automorphisms of an IncidenceMatrix `IM`.  |\n",
    "| `automorphism_group_generators(IM::IncidenceMatrix; action = :all)` | Generators of the group of automorphisms of an IncidenceMatrix `IM`. The parameters for `action` are `:all` (Default), `:on_cols` and `:on_rows` for only the generators of the permutation action on the columns resp. rows. |\n",
    "\n",
    "##### Example"
   ]
  },
  {
   "cell_type": "code",
   "execution_count": 9,
   "id": "833704ab",
   "metadata": {},
   "outputs": [
    {
     "data": {
      "text/plain": [
       "2-element Vector{Any}:\n",
       " PermGroupElem[(), (2,3), (1,2), (1,2,3), (1,3,2), (1,3)]\n",
       " Dict{Symbol, PermGroup}(:on_vertices => Group([ (2,3), (1,2) ]), :on_facets => Group([ (1,2), (1,3) ]))"
      ]
     },
     "execution_count": 9,
     "metadata": {},
     "output_type": "execute_result"
    }
   ],
   "source": [
    "# groups of the standard-2-simplex\n",
    "S = simplex(2)\n",
    "[elements(linear_symmetries(S)), automorphism_group(S)]"
   ]
  },
  {
   "cell_type": "markdown",
   "id": "5bacc124",
   "metadata": {},
   "source": [
    "#### Other\n",
    "\n",
    "| Method | Description |\n",
    "| :----------- | :----------- |\n",
    "| `all_triangulations(P::Polyhedron)` | All triangulations on the points given as the rows of `P`. |\n",
    "| `boundary_lattice_points(P::Polyhedron{QQFieldElem})` | Integer points contained in the boundary of the bounded polyhedron `P`. |\n",
    "| `in(v::AbstractVector, P::Polyhedron)` | Checks whether the vector `v` is contained in the polyhedron `P`. |\n",
    "| `issubset(P::Polyhedron, Q::Polyhedron)` | Checks whether `P` is a subset of the polyhedron `Q`. |\n",
    "| `ehrhart_polynomial(R::QQMPolyRing, P::Polyhedron{QQFieldElem})` | Computes the Ehrhart polynomial of `P` and returns it as a polynomial in `R`. |\n",
    "| `h_star_polynomial(R::QQMPolyRing, P::Polyhedron)` | Computes the $h^\\ast$ polynomial of `P` (and optionally returns it as a polynomial in `R`). |\n",
    "| `interior_lattice_points(P::Polyhedron{QQFieldElem})` | Integer points contained in the interior of the bounded polyhedron `P`. |\n",
    "| `is_normal(P::Polyhedron{QQFieldElem})` | Checks whether `P` is normal. |\n",
    "| `is_simple(P::Polyhedron)` | Checks whether `P` is simple. |\n",
    "| `is_smooth(P::Polyhedron{QQFieldElem})` | Checks whether `P` is smooth. |\n",
    "| `is_very_ample(P::Polyhedron{QQFieldElem})` | Checks whether `P` is very ample. |\n",
    "| `lattice_points(P::Polyhedron{QQFieldElem})` | Integer points contained in the bounded polyhedron `P`. |\n",
    "| `lattice_volume(P::Polyhedron{QQFieldElem})` | Lattice volume of `P`. |\n",
    "| `normalized_volume(P::Polyhedron)` | The (normalized) volume of `P`. |\n",
    "| `polarize(P::Polyhedron)` | Polar dual of `P`. |\n",
    "| `project_full(P::Polyhedron)` | Project the polyhedron `P` down such that it becomes full dimensional in the new ambient space. |\n",
    "| `print_constraints(A::AnyVecOrMat, b::AbstractVector; trivial::Bool = false, numbered::Bool = false)` <br> `print_constraints(P::Polyhedron; trivial::Bool = false, numbered::Bool = false)` | Pretty print the constraints given by $P(A,b) = \\{x \\; \\vert \\; Ax \\leq b\\}$. Trivial inequalities are included if `trivial` is set to `true`. |\n",
    "| `regular_triangulations(pts::AbstractCollection[PointVector]; full=false)` <br> `regular_triangulations(P::Polyhedron)` | All regular triangulations on the points given as the rows of `pts` resp. all regular triangulations that can be formed using the vertices of the given bounded and full-dimensional polytope `P`. |\n",
    "| `secondary_polytope(P::Polyhedron)` | Secondary polytope of a polyhedron `P`. |\n",
    "| `solve_ineq(A::fmpz_mat, b::fmpz_mat)` | Solves $Ax \\leq b$, assuming finite solution set. |\n",
    "| `solve_mixed(A::fmpz_mat, b::fmpz_mat, C::fmpz_mat, d::fmpz_mat)` | Solves $Ax = b$ under $Cx \\geq d$, assuming finite solution set. |\n",
    "| `solve_non_negative(A::fmpz_mat, b::fmpz_mat)` | Solves $Ax = b$ under $Cx \\geq 0$, assuming finite solution set.  |\n",
    "| `support_function(P::Polyhedron; convention::Symbol = :max)` | Produce a function $h(\\omega) = \\max(\\dot(x,\\omega) \\; \\vert \\; x \\in P\\}$. $\\max$ may be changed to $\\min$ by setting `convention = : min`. |\n",
    "| `volume(P::Polyhedron)` | (Euclidean) volume of `P`. |\n",
    "\n",
    "##### Example\n",
    "\n",
    "The standard 2-simplex $\\Delta_2$ contains the lattice points $(0,0)$, $e_1 = (1,0)$ and $e_2 = (0,1)$, which are all edge points. \n",
    "So it contains the vector $(1,0)$ but not the vector $(1,1)$. \n",
    "It is normal, smooth, simple and very ample. \n",
    "The volume of $\\Delta_2$ is $\\tfrac{1}{2} \\cdot |e_1| \\cdot |e_2| = \\tfrac{1}{2}$ and the lattice volume is $\\sqrt{\\det(e_1,e_2)} = 1$. \n",
    "Since the origin $(0,0)$ is not an interior point of $\\Delta_2$, the dual of the standard 2-simplex is an unbounded polyhedron with rays $e_1$ and $e_2$."
   ]
  },
  {
   "cell_type": "code",
   "execution_count": 10,
   "id": "c0f26e16",
   "metadata": {},
   "outputs": [
    {
     "data": {
      "text/plain": [
       "7-element Vector{Any}:\n",
       "      PointVector{ZZRingElem}[[0, 0], [0, 1], [1, 0]]\n",
       "      0-element SubObjectIterator{PointVector{ZZRingElem}}\n",
       "      (true, false)\n",
       "      (true, true, true, true)\n",
       "      (1, 1, 1//2)\n",
       " false\n",
       "      RayVector{QQFieldElem}[[1, 0], [0, 1]]"
      ]
     },
     "execution_count": 10,
     "metadata": {},
     "output_type": "execute_result"
    }
   ],
   "source": [
    "S = simplex(2)\n",
    "[\n",
    "    boundary_lattice_points(S),\n",
    "    interior_lattice_points(S),\n",
    "    (contains(S, [0, 1]), contains(S, [1, 1])),\n",
    "    (is_normal(S), is_simple(S), is_smooth(S), is_very_ample(S)),\n",
    "    (lattice_volume(S), normalized_volume(S), volume(S)),\n",
    "    is_bounded(polarize(S)),\n",
    "    rays(polarize(S))\n",
    "]"
   ]
  },
  {
   "cell_type": "markdown",
   "id": "2834aa75",
   "metadata": {},
   "source": [
    "## Cones\n",
    "\n",
    "Although polyhedral cones are special cases of polyhedra, they are treated as a separate type in OSCAR. \n",
    "For this reason, some of the methods of polyhedra will also appear here.\n",
    "\n",
    "### Construction\n",
    "\n",
    "The standard way to construct a polyhedral cone is to define the positive hull of its rays `R`, with lineality given by `L`.\n",
    "\n",
    "| Method |\n",
    "| :----------- |\n",
    "| `positive_hull([::Type{T} = QQFieldElem,] R::AbstractCollection[RayVector] [, L::AbstractCollection[RayVector]]; non_redundant::Bool = false) where T<:scalar_types` |\n",
    "\n",
    "Here, `R` is given row-wise as representative vectors, with lineality generated by the rows of `L`, i.e. the cone consists of all positive linear combinations of the rows of `R` plus all linear combinations of the rows of `L`.\n",
    "\n",
    "In addition, the following functions can be used to construct a polyhedral cone:\n",
    "\n",
    "| Method |\n",
    "| :----------- |\n",
    "| `cone_from_inequalities([::Type{T} = QQFieldElem,] I::AbstractCollection[LinearHalfspace] [, E::AbstractCollection[LinearHyperplane]]; non_redundant::Bool = false)` | \n",
    "| `cone_from_equations([::Type{T} = QQFieldElem,] E::AbstractCollection[LinearHyperplane]; non_redundant::Bool = false)` |\n",
    "\n",
    "These methods construct the (convex) cone defined by $\\{x \\; \\vert \\; Ix \\leq 0, \\, Ex=0\\}$ resp. $\\{x \\; \\vert \\; Ex=0\\}$.\n",
    "To avoid unnecessary redundancy checks, set `non_redundant` to `true`, if the given description contains no redundant rows.\n",
    "\n",
    "The construction of the secondary cone is done by:\n",
    "\n",
    "| Method |\n",
    "| :----------- |\n",
    "| `secondary_cone(SOP::SubdivisionOfPoints)` |\n",
    "\n",
    "\n",
    "##### Example"
   ]
  },
  {
   "cell_type": "code",
   "execution_count": 12,
   "id": "ccc68380",
   "metadata": {},
   "outputs": [
    {
     "data": {
      "text/plain": [
       "Polyhedral cone in ambient dimension 2"
      ]
     },
     "execution_count": 12,
     "metadata": {},
     "output_type": "execute_result"
    }
   ],
   "source": [
    "R = [2 -1; 0 1]\n",
    "C = positive_hull(R)"
   ]
  },
  {
   "cell_type": "markdown",
   "id": "0a8a789d",
   "metadata": {},
   "source": [
    "### Auxiliary functions\n",
    "\n",
    "| Method | Description |\n",
    "| :----------- | :----------- |\n",
    "| `ambient_dim(C::Cone)` | Ambient dimension of  `C`. |\n",
    "| `in(v::AbstractVector, C::Cone)` | Checks whether the vector `v` is contained in the cone `C`. |\n",
    "| `issubset(C0::Cone, C1::Cone)` | Checks whether `C0` is a subset of the cone `C1`. |\n",
    "| `f_vector(C::Cone)` | Vector $(f_1, ..., f_{dim(PF)-1})$, where $f_i$ is the number of faces of `C` of dimension $i$. |\n",
    "| `hilbert_basis(C::Cone{QQFieldElem})` | Hilbert basis of a pointed cone `C` as the rows of a matrix. |\n",
    "| `codim(C::Cone)` | Codimension of `C`. |\n",
    "| `dim(C::Cone)` | Dimension of `C`. |\n",
    "| `polarize(C::Cone)` | Polar dual of `P`. |\n",
    "| `intersect(C0::Cone{T}, C1::Cone{T}) where T<:scalar_types` | Intersection $C0 \\cap C1$ of `C0` and `C1`. |\n",
    "| `is_pointed(C::Cone)` | Determines whether `C` is pointed. |\n",
    "| `is_fulldimensional(C::Cone)` | Determines whether `C` is full-dimensional. |\n",
    "| `lineality_dim(C::Cone)` | Dimension of the largest linear subspace contained in `C`. |\n",
    "| `lineality_space(C::Cone)` | Basis of the lineality space of `C`. |\n",
    "| `nfacets(C::Cone)` | Number of facets of a cone `C`. |\n",
    "| `nrays(C::Cone)` | Number of rays of `C`. |\n",
    "| `rays(C::Cone)` | Rays of `C`. |\n",
    "| `rays_modulo_lineality(as, C::Cone)` | Rays of the cone of `C` up to lineality as a `NamedTuple` with two iterators.  |\n",
    "\n",
    "##### Example\n",
    "\n",
    "The cone $\\sigma \\subset \\mathbb{Q}^2$ is pointed and full-dimensional with the two edges $2e_1 - e_2$ and $e_2$, which are also facets. \n",
    "The dual $\\sigma^\\vee$ is generated by the rays $e_1$ and $e_1 + 2e_2$."
   ]
  },
  {
   "cell_type": "code",
   "execution_count": 13,
   "id": "ee28d83b",
   "metadata": {},
   "outputs": [
    {
     "data": {
      "text/plain": [
       "4-element Vector{Any}:\n",
       " (2, 2, 0)\n",
       " (true, true)\n",
       " (2, 2)\n",
       " RayVector{QQFieldElem}[[1, 0], [1, 2]]"
      ]
     },
     "execution_count": 13,
     "metadata": {},
     "output_type": "execute_result"
    }
   ],
   "source": [
    "R = [2 -1; 0 1]\n",
    "C = positive_hull(R)\n",
    "\n",
    "[\n",
    "    (ambient_dim(C), dim(C), codim(C)),\n",
    "    (is_pointed(C), is_fulldimensional(C)),\n",
    "    (nrays(C), nfacets(C)),\n",
    "    rays(polarize(C)),\n",
    "]"
   ]
  },
  {
   "cell_type": "markdown",
   "id": "a28dbe9e",
   "metadata": {},
   "source": [
    "## Polyhedral Fans\n",
    "\n",
    "### Construction\n",
    "\n",
    "To construct a polyhedral fan, you must pass the rays of each cone in the fan, along with an IncidenceMatrix encoding which rays generate which cones:\n",
    "\n",
    "| Method |\n",
    "| :----------- |\n",
    "| `PolyhedralFan{T}(Rays, Cones; non_redundant = false) where T<:scalar_types` |\n",
    "\n",
    "The arguments of `PolyhedralFan` are:\n",
    "- `Rays::AbstractCollection[RayVector]` : Rays generating the cones of the fan; encoded row-wise as representative vectors.\n",
    "- `Cones::IncidenceMatrix` : An incidence matrix defined by 1 at position $(i,j)$ if cone $i$ has ray $j$ as an extremal ray and 0 otherwise.\n",
    "\n",
    "A polyhedral fan formed from rays and cones made of these rays. The cones are given as an IncidenceMatrix, where the columns represent the rays and the rows represent the cones.\n",
    "\n",
    "The following method constructs a polyhedral fan with a group action:\n",
    "\n",
    "| Method |\n",
    "| :----------- |\n",
    "| `polyhedral_fan_from_rays_action(::Type{T}, Rays::AbstractCollection[RayVector], MC_reps::IncidenceMatrix, perms::AbstractVector{PermGroupElem}) where T<:scalar_types` |\n",
    "\n",
    "with arguments:\n",
    "- `Rays`: The rays of the fan\n",
    "- `MC_reps`: IncidenceMatrix whose rows give the indices of the rays forming representatives of the maximal cones under the group action.\n",
    "- `perms`: A vector of permutations PermGroupElem that form generators of the group acting on the rays of the fan.\n",
    "\n",
    "\n",
    "The normal fan and the face fan of a polyhedron `P` can also be constructed:\n",
    "\n",
    "| Method |\n",
    "| :----------- |\n",
    "| `normal_fan(P::Polyhedron)` |\n",
    "| `face_fan(P::Polyhedron)` |\n",
    "\n",
    "##### Example\n",
    "\n",
    "The fan $\\Sigma_{\\mathbb{P}^2}$ associated with the projective plane $\\mathbb{P}^2$ is obtained from the rays $e_1$, $e_2$ and $-e_1-e_2$."
   ]
  },
  {
   "cell_type": "code",
   "execution_count": 16,
   "id": "77cbcf4d",
   "metadata": {},
   "outputs": [
    {
     "data": {
      "text/plain": [
       "Polyhedral fan in ambient dimension 2"
      ]
     },
     "execution_count": 16,
     "metadata": {},
     "output_type": "execute_result"
    }
   ],
   "source": [
    "# fan of P^2\n",
    "R = [1 0; 0 1; -1 -1]\n",
    "IM = IncidenceMatrix([[1, 2], [2, 3], [1, 3]])\n",
    "PF = PolyhedralFan(R, IM)"
   ]
  },
  {
   "cell_type": "markdown",
   "id": "71916b87",
   "metadata": {},
   "source": [
    "### Auxiliary functions\n",
    "\n",
    "| Methode | Rückgabe |\n",
    "| :----------- | :----------- |\n",
    "| `ambient_dim(PF::PolyhedralFan)` | Ambient dimension of `PF`. |\n",
    "| `dim(PF::PolyhedralFan)` | Dimension of `PF`. |\n",
    "| `f_vector(PF::PolyhedralFan)` | Vector $(f_1, ..., f_{dim(PF)-1})$, where $f_i$ is the number of faces of `PF` of dimension $i$. |\n",
    "| `is_complete(PF::PolyhedralFan)` | Determines whether `PF` is complete. |\n",
    "| `is_pointed(PF::PolyhedralFan)` | Determines whether `PF` is pointed. |\n",
    "| `is_regular(PF::PolyhedralFan)` | Determines whether `PF` is regular. |\n",
    "| `is_simplicial(PF::PolyhedralFan)` | Determines whether `PF` is simpicial. |\n",
    "| `is_smooth(PF::PolyhedralFan{fmpq})` | Determines whether `PF` is smooth. |\n",
    "| `lineality_dim(PF::PolyhedralFan)` | Dimension of the largest linear subspace of `PF`. |\n",
    "| `lineality_space(PF::PolyhedralFan)` | Non-redundant matrix whose rows are generators of the lineality space of  `PF`. |\n",
    "| `maximal_cones(PF::PolyhedralFan)` | Maximal cones of  `PF`. |\n",
    "| `cones(PF::PolyhedralFan, cone_dim::Int)` | Iterator over the cones of `PF` of dimension `cone_dim`. |\n",
    "| `cones(PF::PolyhedralFan)` | Ray indices of all non-zero-dimensional cones in a polyhedral fan `PF`. |\n",
    "| `n_maximal_cones(PF::PolyhedralFan)` | Number of maximal cones of `PF`. |\n",
    "| `n_cones(PF::PolyhedralFan)` | Number of cones of `PF`. |\n",
    "| `nrays(PF::PolyhedralFan)` | Number of rays of `PF`. |\n",
    "| `rays(PF::PolyhedralFan)` | Rays of `P`. |\n",
    "| `rays_modulo_lineality(as, F::PolyhedralFan)` | Rays of the polyhedral fan `F` up to lineality as a `NamedTuple` with two iterators. |\n",
    "| `primitive_collections(PF::PolyhedralFan)` | Primitive collections of `PF`. |\n",
    "| `starsubdivision(PF::PolyhedralFan, n::Int)` | Star subdivision of a polyhedral fan `PF` at its `n`-th maximal torus orbit. |\n",
    "| `*(PF1::PolyhedralFan, PF2::PolyhedralFan)` | Cartesian/direct product of two polyhedral fans `PF1` and `PF2`. |\n",
    "\n",
    "##### Example\n",
    "\n",
    "The fan $\\Sigma_{\\mathbb{P}^2} \\subset \\mathbb{Q}^2$ consists of faces $\\{0\\}$, three $1$-dimensional rays $\\tau_{ij} = \\sigma_i \\cap \\sigma_j$ and three $2$-dimensional facets $\\sigma_0$, $\\sigma_1$ and $\\sigma_2$, all of which are strongly-convex. \n",
    "Further, the fan $\\sigma_{\\mathbb{P}^2}$ is complete, smooth and regular. \n",
    "It is the normal fan of the standard 2-simplex $\\Delta_2$."
   ]
  },
  {
   "cell_type": "code",
   "execution_count": 17,
   "id": "150dec92",
   "metadata": {},
   "outputs": [
    {
     "data": {
      "text/plain": [
       "5-element Vector{Any}:\n",
       " (2, 2)\n",
       " ZZRingElem[3, 3]\n",
       " (true, true, true, true, true)\n",
       " RayVector{QQFieldElem}[[1, 0], [0, 1], [-1, -1]]\n",
       " RayVector{QQFieldElem}[[1, 0], [0, 1], [-1, -1]]"
      ]
     },
     "execution_count": 17,
     "metadata": {},
     "output_type": "execute_result"
    }
   ],
   "source": [
    "# properties of the fan of P^2\n",
    "R = [1 0; 0 1; -1 -1]\n",
    "IM = IncidenceMatrix([[1, 2], [2, 3], [1, 3]])\n",
    "PF = PolyhedralFan(R, IM)\n",
    "\n",
    "[\n",
    "    (ambient_dim(PF), dim(PF)),\n",
    "    f_vector(PF),\n",
    "    (is_pointed(PF), is_complete(PF), is_smooth(PF), is_simplicial(PF), is_regular(PF)),\n",
    "    rays(PF),\n",
    "    rays(normal_fan(simplex(2)))\n",
    "]"
   ]
  },
  {
   "cell_type": "markdown",
   "id": "66f57d07",
   "metadata": {},
   "source": [
    "## Visualization\n",
    "\n",
    "To visualize the types `Cone`, `PolyhedralFan` and `Polyhedron` we can use the methods `visualize(C::Cone)`, `visualize(PF::PolyhedralFan)` and `visualize(P::Polyhedron)` respectively. These types can also be saved to a file using `save(filename::String, obj::Any)` and loaded using `load(filename::String)`."
   ]
  }
 ],
 "metadata": {
  "kernelspec": {
   "display_name": "Julia 1.9.0",
   "language": "julia",
   "name": "julia-1.9"
  },
  "language_info": {
   "file_extension": ".jl",
   "mimetype": "application/julia",
   "name": "julia",
   "version": "1.9.0"
  }
 },
 "nbformat": 4,
 "nbformat_minor": 5
}
