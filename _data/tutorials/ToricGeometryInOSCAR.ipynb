{
 "cells": [
  {
   "cell_type": "markdown",
   "id": "1181aec5-bf82-4eb3-87bf-40870ebe0436",
   "metadata": {},
   "source": [
    "# Toric geometry"
   ]
  },
  {
   "cell_type": "markdown",
   "id": "aa5a7942-0d7c-44f4-817e-d99dfdd8a428",
   "metadata": {},
   "source": [
    "Authors: Martin Bies, Luca Remke\n",
    "Version: OSCAR version 0.14.0\n",
    "\n",
    "This tutorial provides an introduction to (normal) toric varieties in OSCAR. The aim is to describe important functionality and to exemplify it, so that users can start to use OSCAR more easily. Still, let us note that this tutorial does not aim to cover all of the existing functionality. Instead, we present a selection of arguably very important functions and features. For a more complete overview, please consult the documentation at https://docs.oscar-system.org/stable/AlgebraicGeometry/ToricVarieties/intro/.\n",
    "\n",
    "For this tutorial, the reader is assumed to be familiar with OSCAR's commutative algebra and polyhedral geometry methods.\n",
    "\n",
    "The content of this notebook is as follows:\n",
    "1. [Affine toric varieties](#1-Affine-toric-varieties)\n",
    "    1. [Constructing affine toric varieties](#1.A-Constructing-affine-toric-varieties)\n",
    "    2. [Properties and attributes](#1.B-Properties-and-attributes)\n",
    "2. [The projective space](#2-The-projective-space)\n",
    "   1. [Constructing the projective space ](#2.A-Constructing-the-projective-space)\n",
    "   2. [Properties and attributes](#2.B-Properties-and-attributes)\n",
    "   3. [Weil and Cartier divisors](#2.C-Weil-and-Cartier-divisors)\n",
    "   4. [Divisor classes](#2.D-Divisor-classes)\n",
    "   5. [Line bundles](#2.E-Line-bundles)\n",
    "   6. [Line bundle cohomology with cohomCalg](#2.F-Line-bundle-cohomology-with-cohomCalg)\n",
    "   7. [The polyhedral fan](#2.G-The-polyhedral-fan)\n",
    "3. [More general constructions of normal toric varieties](#3-More-general-constructions-of-normal-toric-varieties)\n",
    "   1. [The projective space from its fan](#3.A-The-projective-space-from-its-fan)\n",
    "   2. [Del Pezzo surfaces](#3.B-Del-Pezzo-surfaces)\n",
    "   3. [Hirzebruch surfaces](#3.C-Hirzebruch-surfaces)\n",
    "   4. [Weighted projective spaces](#3.D-Weighted-projective-spaces)\n",
    "   5. [Affine spaces](#3.E-Affine-spaces)\n",
    "   6. [Cyclic quotient singularities](3.F-Cyclic-quotient-singularities)\n",
    "   7. [Toric blowups](#3.G-Toric-blowups)\n",
    "   8. [Cartesian products](#3.H-Cartesian-products)\n",
    "   9. [Triangulations](#3.I-Triangulations)\n",
    "   10. [Benchmarking: An involved triangulation computation](#3.J-Benchmarking:-An-involved-triangulation-computation)\n",
    "   11. [Turning off input checks](#3.K-Turning-off-input-checks)\n",
    "4. [Advanced topics](#4-Advanced-topics)\n",
    "   1. [Vanishing sets](#4.A-Vanishing-sets)\n",
    "   2. [Intersection theory](#4.B-Intersection-theory)\n",
    "   3. [Toric morphisms](#4.C-Toric-morphisms)\n",
    "5. [Toric schemes and subvarieties](#5-Toric-schemes-and-subvarieties)"
   ]
  },
  {
   "cell_type": "code",
   "execution_count": 1,
   "id": "bd3322fa",
   "metadata": {},
   "outputs": [
    {
     "name": "stdout",
     "output_type": "stream",
     "text": [
      " -----    -----    -----      -      -----   \n",
      "|     |  |     |  |     |    | |    |     |  \n",
      "|     |  |        |         |   |   |     |  \n",
      "|     |   -----   |        |     |  |-----   \n",
      "|     |        |  |        |-----|  |   |    \n",
      "|     |  |     |  |     |  |     |  |    |   \n",
      " -----    -----    -----   -     -  -     -  \n",
      "\n",
      "...combining (and extending) ANTIC, GAP, Polymake and Singular\n",
      "Version\u001b[32m 0.14.0 \u001b[39m... \n",
      " ... which comes with absolutely no warranty whatsoever\n",
      "Type: '?Oscar' for more information\n",
      "(c) 2019-2024 by The OSCAR Development Team\n"
     ]
    }
   ],
   "source": [
    "using Oscar"
   ]
  },
  {
   "cell_type": "markdown",
   "id": "c1b3246b",
   "metadata": {},
   "source": [
    "# 1 Affine toric varieties"
   ]
  },
  {
   "cell_type": "markdown",
   "id": "01ac12be",
   "metadata": {},
   "source": [
    "We begin by discussing affine toric varieties. Those varieties are encoded by rational polyhedral cones, as stated in theorem 1.2.18 of the book *Toric Varieties* by David Cox, John Little and Hal Schenck:\n",
    "\n",
    "Let $\\sigma \\subseteq N_{\\mathbb{R}} \\cong \\mathbb{R}^n$ be a rational polyhedral cone with semigroup $S_\\sigma = \\sigma^\\vee \\cap M$. Then the associated affine toric variety $U_\\sigma$ is given by\n",
    "\n",
    "$$ U_\\sigma = \\mathrm{Spec} \\left(\\mathbb{C} \\left[ S_\\sigma \\right]\\right) = \\mathrm{Spec} \\left(\\mathbb{C} \\left[ \\sigma^\\vee \\cap M \\right]\\right) \\, .$$\n",
    "\n",
    "In particular, it holds\n",
    "\n",
    "$$\\mathrm{dim}( U_\\sigma ) = n \\, \\Leftrightarrow \\, \\text{the torus of $U_\\sigma$ is } T_N = N \\otimes_{\\mathbb{Z}} \\mathbb{C}^\\ast \\, \\Leftrightarrow \\, \\sigma \\text{ is strongly convex.}$$\n",
    "\n",
    "We focus on *strongy convex* polyhedral cones $\\sigma$, so that $T_N$ is the algebraic torus of $U_\\sigma$."
   ]
  },
  {
   "cell_type": "markdown",
   "id": "fd6d25b2",
   "metadata": {},
   "source": [
    "## 1.A Constructing affine toric varieties"
   ]
  },
  {
   "cell_type": "markdown",
   "id": "9df226ea-7255-4759-a923-858c7c4a8073",
   "metadata": {},
   "source": [
    "The following code constructs the affine space $\\mathbb{C}^2$ as toric variety:"
   ]
  },
  {
   "cell_type": "code",
   "execution_count": 2,
   "id": "87af490a",
   "metadata": {},
   "outputs": [
    {
     "data": {
      "text/plain": [
       "Normal toric variety"
      ]
     },
     "execution_count": 2,
     "metadata": {},
     "output_type": "execute_result"
    }
   ],
   "source": [
    "C = positive_hull([1 0; 0 1])\n",
    "antv = affine_normal_toric_variety(C)"
   ]
  },
  {
   "cell_type": "markdown",
   "id": "27cdee35",
   "metadata": {},
   "source": [
    "## 1.B Properties and attributes"
   ]
  },
  {
   "cell_type": "markdown",
   "id": "cec721c2",
   "metadata": {},
   "source": [
    "The cone $\\sigma$ encodes a lot of information about the affine toric variety $U_\\sigma$. In the background, *OSCAR* conducts such investigations in polyhedral geometry with Polymake (cf. https://polymake.org/doku.php/start). This allows us to access a lot of properties of affine toric varieties.\n",
    "\n",
    "The following support our claim that the toric variety *antv* constructed above is nothing but the affine space $\\mathbb{C}^2$:"
   ]
  },
  {
   "cell_type": "code",
   "execution_count": 3,
   "id": "a04652f4",
   "metadata": {},
   "outputs": [
    {
     "data": {
      "text/plain": [
       "true"
      ]
     },
     "execution_count": 3,
     "metadata": {},
     "output_type": "execute_result"
    }
   ],
   "source": [
    "is_smooth(antv)"
   ]
  },
  {
   "cell_type": "code",
   "execution_count": 4,
   "id": "2f39b2fe",
   "metadata": {},
   "outputs": [
    {
     "data": {
      "text/plain": [
       "false"
      ]
     },
     "execution_count": 4,
     "metadata": {},
     "output_type": "execute_result"
    }
   ],
   "source": [
    "is_complete(antv)"
   ]
  },
  {
   "cell_type": "code",
   "execution_count": 5,
   "id": "803b48d6-b5ab-47a8-af1b-21c3e93a97c6",
   "metadata": {},
   "outputs": [
    {
     "data": {
      "text/plain": [
       "true"
      ]
     },
     "execution_count": 5,
     "metadata": {},
     "output_type": "execute_result"
    }
   ],
   "source": [
    "is_affine(antv)"
   ]
  },
  {
   "cell_type": "markdown",
   "id": "c60aee82",
   "metadata": {},
   "source": [
    "To prove that *antv* is $\\mathbb{C}^2$, we can seek polynomials that cut out this affine variety in $\\mathbb{C}^k$ for suitable integer $k$. In the case at hand, the polynomial ideal to be investigated is the toric ideal. We compute it as follows:"
   ]
  },
  {
   "cell_type": "code",
   "execution_count": 6,
   "id": "0d1a6293",
   "metadata": {},
   "outputs": [
    {
     "data": {
      "text/plain": [
       "ideal(0)"
      ]
     },
     "execution_count": 6,
     "metadata": {},
     "output_type": "execute_result"
    }
   ],
   "source": [
    "I = toric_ideal(antv)"
   ]
  },
  {
   "cell_type": "code",
   "execution_count": 7,
   "id": "50032e50-e14c-4a31-a8c9-317bc3e831b0",
   "metadata": {},
   "outputs": [
    {
     "data": {
      "text/plain": [
       "Multivariate polynomial ring in 2 variables x1, x2\n",
       "  over rational field"
      ]
     },
     "execution_count": 7,
     "metadata": {},
     "output_type": "execute_result"
    }
   ],
   "source": [
    "parent(gens(I)[1])"
   ]
  },
  {
   "cell_type": "markdown",
   "id": "514cfe40",
   "metadata": {},
   "source": [
    "This means, that the variety *antv* is cut out by the trivial ideal in $\\mathbb{C}^2$. In other words, *antv* indeed just happens to be $\\mathbb{C}^2$.\n",
    "\n",
    "For a more interesting example, we consider the rational normal cone of degree 2:"
   ]
  },
  {
   "cell_type": "code",
   "execution_count": 8,
   "id": "386539c8",
   "metadata": {},
   "outputs": [
    {
     "data": {
      "text/plain": [
       "Normal toric variety"
      ]
     },
     "execution_count": 8,
     "metadata": {},
     "output_type": "execute_result"
    }
   ],
   "source": [
    "C2 = positive_hull([1 1; -1 1])\n",
    "antv2 = affine_normal_toric_variety(C2)"
   ]
  },
  {
   "cell_type": "markdown",
   "id": "825f0b77-1ad9-483b-bc6d-9c9f2cfd61b9",
   "metadata": {},
   "source": [
    "This variety is not smooth, but has a singularity. This we verify in *OSCAR* as follows:"
   ]
  },
  {
   "cell_type": "code",
   "execution_count": 9,
   "id": "6eeea25e",
   "metadata": {},
   "outputs": [
    {
     "data": {
      "text/plain": [
       "false"
      ]
     },
     "execution_count": 9,
     "metadata": {},
     "output_type": "execute_result"
    }
   ],
   "source": [
    "is_smooth(antv2)"
   ]
  },
  {
   "cell_type": "code",
   "execution_count": 10,
   "id": "81fb971c",
   "metadata": {},
   "outputs": [
    {
     "data": {
      "text/plain": [
       "true"
      ]
     },
     "execution_count": 10,
     "metadata": {},
     "output_type": "execute_result"
    }
   ],
   "source": [
    "is_simplicial(antv2)"
   ]
  },
  {
   "cell_type": "markdown",
   "id": "d3e50042-b776-4c07-bcd8-637efe816797",
   "metadata": {},
   "source": [
    "Just as above we can identify this affine variety more concretely by investigating its toric ideal:"
   ]
  },
  {
   "cell_type": "code",
   "execution_count": 11,
   "id": "cbd5268b",
   "metadata": {},
   "outputs": [
    {
     "data": {
      "text/plain": [
       "ideal(-x1*x2 + x3^2)"
      ]
     },
     "execution_count": 11,
     "metadata": {},
     "output_type": "execute_result"
    }
   ],
   "source": [
    "I2 = toric_ideal(antv2)"
   ]
  },
  {
   "cell_type": "code",
   "execution_count": 12,
   "id": "d9cca2e7-d931-487d-9495-0296dec3020b",
   "metadata": {},
   "outputs": [
    {
     "data": {
      "text/plain": [
       "Multivariate polynomial ring in 3 variables x1, x2, x3\n",
       "  over rational field"
      ]
     },
     "execution_count": 12,
     "metadata": {},
     "output_type": "execute_result"
    }
   ],
   "source": [
    "parent(gens(I2)[1])"
   ]
  },
  {
   "cell_type": "markdown",
   "id": "75760f69",
   "metadata": {},
   "source": [
    "So in $\\mathbb{C}^3$ with coordinate ring $\\mathbb{C}[ x_1, x_2, x_3 ]$ we are looking at the variety $X = V( - x_1 x_2 + x_3^2  )$. This is a rather classical example of a simplicial, affine toric variety.\n",
    "\n",
    "Similarly, we can consider the following affine toric variety:"
   ]
  },
  {
   "cell_type": "code",
   "execution_count": 13,
   "id": "69b221e3-788d-4ba7-8f5f-70ad6a9cbeb5",
   "metadata": {},
   "outputs": [
    {
     "data": {
      "text/plain": [
       "Normal toric variety"
      ]
     },
     "execution_count": 13,
     "metadata": {},
     "output_type": "execute_result"
    }
   ],
   "source": [
    "C3 = positive_hull([2 -1; 0 1])\n",
    "antv3 = affine_normal_toric_variety(C)"
   ]
  },
  {
   "cell_type": "markdown",
   "id": "5bcd3ee4-7fe4-4372-9159-d65e4f5c9b24",
   "metadata": {},
   "source": [
    "The cone *C3* is different from *C2*, yet *antv3* is isomorphic to *antv2*:"
   ]
  },
  {
   "cell_type": "code",
   "execution_count": 14,
   "id": "5c423e01-8786-412b-b378-de94bce06741",
   "metadata": {},
   "outputs": [
    {
     "data": {
      "text/plain": [
       "ideal(0)"
      ]
     },
     "execution_count": 14,
     "metadata": {},
     "output_type": "execute_result"
    }
   ],
   "source": [
    "I3 = toric_ideal(antv3)"
   ]
  },
  {
   "cell_type": "code",
   "execution_count": 15,
   "id": "51b947f6-94e4-43f3-8bd3-8ea34169cc50",
   "metadata": {},
   "outputs": [
    {
     "data": {
      "text/plain": [
       "Multivariate polynomial ring in 2 variables x1, x2\n",
       "  over rational field"
      ]
     },
     "execution_count": 15,
     "metadata": {},
     "output_type": "execute_result"
    }
   ],
   "source": [
    "parent(gens(I3)[1])"
   ]
  },
  {
   "cell_type": "markdown",
   "id": "0f12b883",
   "metadata": {},
   "source": [
    "# 2 The projective space"
   ]
  },
  {
   "cell_type": "markdown",
   "id": "fadfad9f",
   "metadata": {},
   "source": [
    "The most general (normal) toric varieties are encoded by collections of strongly convex polyhedral cones. And of course, it must not be a \"random\" collection of cones, but the cones have to be \"compatible\" with each other. Specifically, the collection in question must form a polyhedral fan. We give details on how to create such fans and the corresponding toric varieties in section 3 of this tutorial. However, before we discuss those advaned varieties, we wish to demonstrate more of the existing toric functionality in *OSCAR* by studying the well-known case of the projective space. For concreteness, we focus on the projective space $\\mathbb{P}^2$."
   ]
  },
  {
   "cell_type": "markdown",
   "id": "13866e6b",
   "metadata": {},
   "source": [
    "## 2.A Constructing the projective space"
   ]
  },
  {
   "cell_type": "markdown",
   "id": "c58a1631",
   "metadata": {},
   "source": [
    "We construct the projective space as follows:"
   ]
  },
  {
   "cell_type": "code",
   "execution_count": 16,
   "id": "2fff056f",
   "metadata": {},
   "outputs": [
    {
     "data": {
      "text/plain": [
       "Normal toric variety"
      ]
     },
     "execution_count": 16,
     "metadata": {},
     "output_type": "execute_result"
    }
   ],
   "source": [
    "P2 = projective_space(NormalToricVariety, 2)"
   ]
  },
  {
   "cell_type": "markdown",
   "id": "6a11cd23",
   "metadata": {},
   "source": [
    "Notice that the constructor expects us to state as first argument *NormalToricVariety*. This is a design choice made after careful consideration. Namely, the projective space could in principle be constructed as a scheme (with an arbitrary coefficient ring) or merely as a space parametrized by homogeneous coordinates. Depending on which of these perspectives is desired, specialized algorithms may be available.\n",
    "\n",
    "As of February 2024, a lot of specialized toric functionality exists in OSCAR. In this regard, providing *NormalToricVariety* as the first argument not only ensures that we obtain the projective space as toric variety, but also that we can perform a large number of computations with it."
   ]
  },
  {
   "cell_type": "markdown",
   "id": "70b7fd79",
   "metadata": {},
   "source": [
    "## 2.B Properties and attributes"
   ]
  },
  {
   "cell_type": "markdown",
   "id": "23f17fcc",
   "metadata": {},
   "source": [
    "Before we proceed, let us conduct a few consistency checks. If *P2* truely is the projective space of dimension 2, then is cannot be affine, but must be both smooth and projective. Let us verify this with *OSCAR*:"
   ]
  },
  {
   "cell_type": "code",
   "execution_count": 17,
   "id": "f7507d2b",
   "metadata": {},
   "outputs": [
    {
     "data": {
      "text/plain": [
       "false"
      ]
     },
     "execution_count": 17,
     "metadata": {},
     "output_type": "execute_result"
    }
   ],
   "source": [
    "is_affine(P2)"
   ]
  },
  {
   "cell_type": "code",
   "execution_count": 18,
   "id": "d246d1f3",
   "metadata": {},
   "outputs": [
    {
     "data": {
      "text/plain": [
       "true"
      ]
     },
     "execution_count": 18,
     "metadata": {},
     "output_type": "execute_result"
    }
   ],
   "source": [
    "is_smooth(P2)"
   ]
  },
  {
   "cell_type": "code",
   "execution_count": 19,
   "id": "055158b8",
   "metadata": {},
   "outputs": [
    {
     "data": {
      "text/plain": [
       "true"
      ]
     },
     "execution_count": 19,
     "metadata": {},
     "output_type": "execute_result"
    }
   ],
   "source": [
    "is_projective(P2)"
   ]
  },
  {
   "cell_type": "markdown",
   "id": "7ce3b10c",
   "metadata": {},
   "source": [
    "Likewise, *P2* must not have a torus factor. Let us elaborate a bit before we verify this.\n",
    "\n",
    "Toric varieties contain the set $\\mathbb{C}^\\ast$ to a suitable power as dense open set. $\\mathbb{C}^\\ast$ (to some power) is called the algebraic torus, and this gives toric varieties their name. If *P2* had a torus factor, it would mean that *P2* factors into two varieties of which one is isomorphic to an algebraic torus. This is clearly not the case for *P2*, as we can verify with *OSCAR*:"
   ]
  },
  {
   "cell_type": "code",
   "execution_count": 20,
   "id": "bb12c962",
   "metadata": {},
   "outputs": [
    {
     "data": {
      "text/plain": [
       "false"
      ]
     },
     "execution_count": 20,
     "metadata": {},
     "output_type": "execute_result"
    }
   ],
   "source": [
    "has_torusfactor(P2)"
   ]
  },
  {
   "cell_type": "markdown",
   "id": "dd19627d",
   "metadata": {},
   "source": [
    "Another basic, yet important, information about *P2* is its dimension. This should be 2 if *P2* is the projective space of dimension 2:"
   ]
  },
  {
   "cell_type": "code",
   "execution_count": 21,
   "id": "3bda02cc",
   "metadata": {},
   "outputs": [
    {
     "data": {
      "text/plain": [
       "2"
      ]
     },
     "execution_count": 21,
     "metadata": {},
     "output_type": "execute_result"
    }
   ],
   "source": [
    "dim(P2)"
   ]
  },
  {
   "cell_type": "markdown",
   "id": "871c20c8-7721-4586-8afd-5c737d338b7c",
   "metadata": {},
   "source": [
    "In addition, we should expect that the projective space $\\mathbb{P}^2$ is covered by three affine open subsets:"
   ]
  },
  {
   "cell_type": "code",
   "execution_count": 22,
   "id": "d21d4183-468c-43e3-b776-07a497db41ac",
   "metadata": {},
   "outputs": [
    {
     "data": {
      "text/plain": [
       "3-element Vector{AffineNormalToricVariety}:\n",
       " Normal toric variety\n",
       " Normal toric variety\n",
       " Normal toric variety"
      ]
     },
     "execution_count": 22,
     "metadata": {},
     "output_type": "execute_result"
    }
   ],
   "source": [
    "affine_open_covering(P2)"
   ]
  },
  {
   "cell_type": "markdown",
   "id": "2957ec7e",
   "metadata": {},
   "source": [
    "To conduct more interesting tests and computations with *P2*, let us next discuss divisors."
   ]
  },
  {
   "cell_type": "markdown",
   "id": "31454363",
   "metadata": {},
   "source": [
    "## 2.C Weil and Cartier divisors"
   ]
  },
  {
   "cell_type": "markdown",
   "id": "ce72efda-cee9-4128-83e2-bbcbd8757b3b",
   "metadata": {},
   "source": [
    "Affine schemes/varieties come with a coordinate that tells us a lot of information about these varieties. For normal toric varieties - even if not affine - there exists a counterpart to this ring, the so-called Cox ring (often also called the homogeneous coordinate ring):"
   ]
  },
  {
   "cell_type": "code",
   "execution_count": 23,
   "id": "446da093-b403-4144-ae6c-ffaf57651da0",
   "metadata": {},
   "outputs": [
    {
     "data": {
      "text/plain": [
       "Multivariate polynomial ring in 3 variables over QQ graded by \n",
       "  x1 -> [1]\n",
       "  x2 -> [1]\n",
       "  x3 -> [1]"
      ]
     },
     "execution_count": 23,
     "metadata": {},
     "output_type": "execute_result"
    }
   ],
   "source": [
    "cox_ring(P2)"
   ]
  },
  {
   "cell_type": "markdown",
   "id": "288c4a7f-881f-4b2c-b076-92e3625d8fe1",
   "metadata": {},
   "source": [
    "Just as for affine varieties/schemes, it makes sense in a toric variety to talk about $\\mathbb{V}(x1)$, $\\mathbb{V}(x2)$ and $\\mathbb{V}(x3)$. These are Weil divisors. Over the integer $\\mathbb{Z}$, these three divisors generate an important class of divisors on $\\mathbb{P}^2$: The so-called *torus-invariant* Weil divisors.\n",
    "\n",
    "We briefly mention that the algebraic torus $\\mathbb{C}^\\ast$ (to some power) is not only a dense open set of any toric variety, but also provides a torus action on the toric variety. The interested reader can find details about this in the book *Toric Varieties* by David Cox, John Little and Hal Schenck.\n",
    "\n",
    "For this tutorial, we suffice it to conclude from the above that the group of torusinvariant Weil divisors on $\\mathbb{P}^2$ is $\\mathbb{Z}^3$. Let us now compute this group for *P2*:"
   ]
  },
  {
   "cell_type": "code",
   "execution_count": 24,
   "id": "73df96b6",
   "metadata": {},
   "outputs": [
    {
     "data": {
      "text/plain": [
       "GrpAb: Z^3"
      ]
     },
     "execution_count": 24,
     "metadata": {},
     "output_type": "execute_result"
    }
   ],
   "source": [
    "torusinvariant_weil_divisor_group(P2)"
   ]
  },
  {
   "cell_type": "markdown",
   "id": "8eda8764",
   "metadata": {},
   "source": [
    "Divisors are linearly equivalent if their difference is a principal divisor, i.e. the divisor of a rational function. For the projective space $\\mathbb{P}^2$, we therefore usually only talk about the hyperplane class. Put yet differently, we should expect that\n",
    "* $D_1 = \\mathbb{V}(x1)$,\n",
    "* $D_2 = \\mathbb{V}(x2)$,\n",
    "* $D_3 = \\mathbb{V}(x3)$,\n",
    "  \n",
    "are linearly equivalent. To see this, we can map torus-invariant Weil divisors to the class group $\\mathrm{Cl}( \\mathbb{P}^2 )$, which factors exactly by the linear equivalence of the torusinvariant Weil divisors."
   ]
  },
  {
   "cell_type": "code",
   "execution_count": 25,
   "id": "d76865be-f9b7-4c03-97a3-42580e61856c",
   "metadata": {},
   "outputs": [
    {
     "data": {
      "text/plain": [
       "GrpAb: Z"
      ]
     },
     "execution_count": 25,
     "metadata": {},
     "output_type": "execute_result"
    }
   ],
   "source": [
    "class_group(P2)"
   ]
  },
  {
   "cell_type": "code",
   "execution_count": 26,
   "id": "4d121b10",
   "metadata": {},
   "outputs": [
    {
     "data": {
      "text/plain": [
       "Map\n",
       "  from GrpAb: Z^3\n",
       "  to GrpAb: Z"
      ]
     },
     "execution_count": 26,
     "metadata": {},
     "output_type": "execute_result"
    }
   ],
   "source": [
    "f1 = map_from_torusinvariant_weil_divisor_group_to_class_group(P2)"
   ]
  },
  {
   "cell_type": "markdown",
   "id": "b0394386",
   "metadata": {},
   "source": [
    "To see the mapping prescription, execute the following:"
   ]
  },
  {
   "cell_type": "code",
   "execution_count": 27,
   "id": "44633dd2",
   "metadata": {},
   "outputs": [
    {
     "data": {
      "text/plain": [
       "[1]\n",
       "[1]\n",
       "[1]"
      ]
     },
     "execution_count": 27,
     "metadata": {},
     "output_type": "execute_result"
    }
   ],
   "source": [
    "matrix(f1)"
   ]
  },
  {
   "cell_type": "markdown",
   "id": "44a08404",
   "metadata": {},
   "source": [
    "This means $[D_1] = [D_2] = [D_3]$. Or put differently, the Weil divisors $D_1$, $D_2$, $D_3$ are linearly equivalent: $D_1 \\sim D_2 \\sim D_3$.\n",
    "\n",
    "Similar functionality also exist for the group of torus-invariant Cartier divisors $\\mathrm{Div}_T(\\mathbb{P}^2)$. In the case of $\\mathbb{P}^2$ those maps are a bit boring, essentially because $\\mathbb{P}^2$ is smooth: Every toric variety in *OSCAR* is normal and so every Cartier divisor is a Weil divisor. Conversely, since $\\mathbb{P}^2$ is smooth, every Weil divisor is Cartier and the notions coincide.\n",
    "\n",
    "For non-smooth toric varieties, the notions will be different. With such spaces in mind, let us briefly demonstrate the corresponding functionality."
   ]
  },
  {
   "cell_type": "code",
   "execution_count": 28,
   "id": "cda1a0bd-f90b-4882-b868-101c782e9fda",
   "metadata": {},
   "outputs": [
    {
     "data": {
      "text/plain": [
       "GrpAb: Z^3"
      ]
     },
     "execution_count": 28,
     "metadata": {},
     "output_type": "execute_result"
    }
   ],
   "source": [
    "torusinvariant_cartier_divisor_group(P2)"
   ]
  },
  {
   "cell_type": "code",
   "execution_count": 29,
   "id": "3f9d50be",
   "metadata": {},
   "outputs": [
    {
     "data": {
      "text/plain": [
       "Map\n",
       "  from GrpAb: Z^3\n",
       "  to GrpAb: Z"
      ]
     },
     "execution_count": 29,
     "metadata": {},
     "output_type": "execute_result"
    }
   ],
   "source": [
    "f2 = map_from_cartier_divisor_group_to_picard_group(P2)"
   ]
  },
  {
   "cell_type": "code",
   "execution_count": 30,
   "id": "a9df2d5c",
   "metadata": {},
   "outputs": [
    {
     "data": {
      "text/plain": [
       "[1]\n",
       "[1]\n",
       "[1]"
      ]
     },
     "execution_count": 30,
     "metadata": {},
     "output_type": "execute_result"
    }
   ],
   "source": [
    "matrix(f2)"
   ]
  },
  {
   "cell_type": "code",
   "execution_count": 31,
   "id": "0a4b0bdb",
   "metadata": {},
   "outputs": [
    {
     "data": {
      "text/plain": [
       "GrpAb: Z"
      ]
     },
     "execution_count": 31,
     "metadata": {},
     "output_type": "execute_result"
    }
   ],
   "source": [
    "picard_group(P2)"
   ]
  },
  {
   "cell_type": "markdown",
   "id": "1acc118e",
   "metadata": {},
   "source": [
    "We can of course compute a map that take the torus-invariant Cartier divisors to the torus-invariant Weil divisors:"
   ]
  },
  {
   "cell_type": "code",
   "execution_count": 32,
   "id": "40cc9d48",
   "metadata": {},
   "outputs": [
    {
     "data": {
      "text/plain": [
       "[1   0   0]\n",
       "[0   1   0]\n",
       "[0   0   1]"
      ]
     },
     "execution_count": 32,
     "metadata": {},
     "output_type": "execute_result"
    }
   ],
   "source": [
    "f3 = map_from_torusinvariant_cartier_divisor_group_to_torusinvariant_weil_divisor_group(P2)\n",
    "matrix(f3)"
   ]
  },
  {
   "cell_type": "markdown",
   "id": "a65c7301",
   "metadata": {},
   "source": [
    "At times, it will be interesting to find a torus-invariant Weil divisor $D$ that represents a certain divisor class. This is possible because $f_1$ is surjective:"
   ]
  },
  {
   "cell_type": "code",
   "execution_count": 33,
   "id": "bfb6d2c1",
   "metadata": {},
   "outputs": [
    {
     "data": {
      "text/plain": [
       "true"
      ]
     },
     "execution_count": 33,
     "metadata": {},
     "output_type": "execute_result"
    }
   ],
   "source": [
    "is_surjective(f1)"
   ]
  },
  {
   "cell_type": "markdown",
   "id": "59245e50",
   "metadata": {},
   "source": [
    "Hence, for every $x \\in \\mathrm{Cl}(\\mathbb{P}^2)$, there is a $y \\in \\mathrm{Div}_T(\\mathbb{P}^2)$ with $f_1(y) = x$. We can compute such preimages:"
   ]
  },
  {
   "cell_type": "code",
   "execution_count": 34,
   "id": "75425fdb",
   "metadata": {},
   "outputs": [
    {
     "data": {
      "text/plain": [
       "1-element Vector{GrpAbFinGenElem}:\n",
       " Element of\n",
       "GrpAb: Z^3\n",
       "with components [1 0 0]"
      ]
     },
     "execution_count": 34,
     "metadata": {},
     "output_type": "execute_result"
    }
   ],
   "source": [
    "[preimage(f1,x) for x in gens(class_group(P2))]"
   ]
  },
  {
   "cell_type": "markdown",
   "id": "054e4683",
   "metadata": {},
   "source": [
    "Alternatively, we can even find the preinverse of $f_1$ directly:"
   ]
  },
  {
   "cell_type": "code",
   "execution_count": 35,
   "id": "e7490bcc",
   "metadata": {},
   "outputs": [
    {
     "data": {
      "text/plain": [
       "[1   0   0]"
      ]
     },
     "execution_count": 35,
     "metadata": {},
     "output_type": "execute_result"
    }
   ],
   "source": [
    "matrix(preinverse(f1))"
   ]
  },
  {
   "cell_type": "markdown",
   "id": "5d720827",
   "metadata": {},
   "source": [
    "This functionality is particularly useful in the context of line bundles on toric varieties, i.e. the elements of the Picard group $\\mathrm{Pic}(\\mathbb{P}^2)$. We will turn to line bundles momentarily.\n",
    "\n",
    "We complete this section by briefly mentioning the character lattice $N(\\mathbb{P}^2)$. Since $\\mathbb{P}^2$ has no torus factor, there is a short exact sequence:\n",
    "\n",
    "$$0 \\to N(\\mathbb{P}^2) \\hookrightarrow \\mathrm{Div}_T( \\mathbb{P}^2 ) \\twoheadrightarrow \\mathrm{Cl} ( \\mathbb{P}^2 ) \\to 0.$$\n",
    "\n",
    "The map $N(\\mathbb{P}^2) \\hookrightarrow \\mathrm{Div}_T( \\mathbb{P}^2 )$ can be computed as follows:"
   ]
  },
  {
   "cell_type": "code",
   "execution_count": 36,
   "id": "0885bf20",
   "metadata": {},
   "outputs": [
    {
     "data": {
      "text/plain": [
       "Map\n",
       "  from GrpAb: Z^2\n",
       "  to GrpAb: Z^3"
      ]
     },
     "execution_count": 36,
     "metadata": {},
     "output_type": "execute_result"
    }
   ],
   "source": [
    "f4 = map_from_character_lattice_to_torusinvariant_weil_divisor_group(P2)"
   ]
  },
  {
   "cell_type": "code",
   "execution_count": 37,
   "id": "ee225293",
   "metadata": {},
   "outputs": [
    {
     "data": {
      "text/plain": [
       "true"
      ]
     },
     "execution_count": 37,
     "metadata": {},
     "output_type": "execute_result"
    }
   ],
   "source": [
    "is_injective(f4)"
   ]
  },
  {
   "cell_type": "code",
   "execution_count": 38,
   "id": "f4b82bcc",
   "metadata": {},
   "outputs": [
    {
     "data": {
      "text/plain": [
       "false"
      ]
     },
     "execution_count": 38,
     "metadata": {},
     "output_type": "execute_result"
    }
   ],
   "source": [
    "is_surjective(f4)"
   ]
  },
  {
   "cell_type": "code",
   "execution_count": 39,
   "id": "092c219c",
   "metadata": {},
   "outputs": [
    {
     "data": {
      "text/plain": [
       "[1   0   -1]\n",
       "[0   1   -1]"
      ]
     },
     "execution_count": 39,
     "metadata": {},
     "output_type": "execute_result"
    }
   ],
   "source": [
    "matrix(f4)"
   ]
  },
  {
   "cell_type": "markdown",
   "id": "6ad5fde4",
   "metadata": {},
   "source": [
    "The columns of this matrix are the ray generators of the fan of the projective space $\\mathbb{P}^2$, that is the non-negative span of them defines a 1-dimensional cone (i.e. a ray) and these 1-dimensional cones are part of the polyhedral fan that defines $\\mathbb{P}^2$. In fact, any cone in this fan is generated by a proper subset of these three ray generators. We will return to the polyhedral fan of $\\mathbb{P}^2$ towards the end of section 2.\n",
    "\n",
    "Before we discuss divisor classes, let us mention the following important divisors:"
   ]
  },
  {
   "cell_type": "code",
   "execution_count": 40,
   "id": "2ae26e41-bf34-4634-8842-7dfac0ca96d4",
   "metadata": {},
   "outputs": [
    {
     "data": {
      "text/plain": [
       "Torus-invariant, non-prime divisor on a normal toric variety"
      ]
     },
     "execution_count": 40,
     "metadata": {},
     "output_type": "execute_result"
    }
   ],
   "source": [
    "trivial_divisor(P2)"
   ]
  },
  {
   "cell_type": "code",
   "execution_count": 41,
   "id": "25736ad1-ce5f-406c-8463-95ea493e9088",
   "metadata": {},
   "outputs": [
    {
     "data": {
      "text/plain": [
       "Torus-invariant, non-prime divisor on a normal toric variety"
      ]
     },
     "execution_count": 41,
     "metadata": {},
     "output_type": "execute_result"
    }
   ],
   "source": [
    "anticanonical_divisor(P2)"
   ]
  },
  {
   "cell_type": "code",
   "execution_count": 42,
   "id": "6a96eaa8-fe7f-4542-b9c9-3e15e77b6982",
   "metadata": {},
   "outputs": [
    {
     "data": {
      "text/plain": [
       "Torus-invariant, non-prime divisor on a normal toric variety"
      ]
     },
     "execution_count": 42,
     "metadata": {},
     "output_type": "execute_result"
    }
   ],
   "source": [
    "canonical_divisor(P2)"
   ]
  },
  {
   "cell_type": "markdown",
   "id": "6cd0092d",
   "metadata": {},
   "source": [
    "## 2.D Divisor classes"
   ]
  },
  {
   "cell_type": "markdown",
   "id": "02348463",
   "metadata": {},
   "source": [
    "Let us now create a torus-invariant Weil divisor on the projective space $\\mathbb{P}^2$. From the study of toric divisors above, we recall that the group of torus-invariant Weil divisors has 3 generators $D_1$, $D_2$ and $D_3$. Hence, the most general torus-invariant Weil divisor is of the form $a_1 D_1 + a_2 D_2 + a_3 D_3$ with $a_1, a_2, a_3 \\in \\mathbb{Z}$. The constructor for toric divisors on $\\mathbb{P}^2$ expects the list $[a_1, a_2, a_3]$ as its second argument.\n",
    "\n",
    "Let us now create the torusinvariant Weil divisor $D = 1 D_1 + 2 D_2 + 3 D_3$:"
   ]
  },
  {
   "cell_type": "code",
   "execution_count": 43,
   "id": "d0ea6e65",
   "metadata": {},
   "outputs": [
    {
     "data": {
      "text/plain": [
       "Torus-invariant, non-prime divisor on a normal toric variety"
      ]
     },
     "execution_count": 43,
     "metadata": {},
     "output_type": "execute_result"
    }
   ],
   "source": [
    "D = toric_divisor(P2,[1,2,3])"
   ]
  },
  {
   "cell_type": "markdown",
   "id": "e1c7c87c",
   "metadata": {},
   "source": [
    "We support various properties and attributes for such a divisor:"
   ]
  },
  {
   "cell_type": "code",
   "execution_count": 44,
   "id": "be31a562",
   "metadata": {},
   "outputs": [
    {
     "data": {
      "text/plain": [
       "true"
      ]
     },
     "execution_count": 44,
     "metadata": {},
     "output_type": "execute_result"
    }
   ],
   "source": [
    "is_ample(D)"
   ]
  },
  {
   "cell_type": "code",
   "execution_count": 45,
   "id": "5c0cf695",
   "metadata": {},
   "outputs": [
    {
     "data": {
      "text/plain": [
       "true"
      ]
     },
     "execution_count": 45,
     "metadata": {},
     "output_type": "execute_result"
    }
   ],
   "source": [
    "is_very_ample(D)"
   ]
  },
  {
   "cell_type": "code",
   "execution_count": 46,
   "id": "0b5ac695",
   "metadata": {},
   "outputs": [
    {
     "data": {
      "text/plain": [
       "true"
      ]
     },
     "execution_count": 46,
     "metadata": {},
     "output_type": "execute_result"
    }
   ],
   "source": [
    "is_cartier(D)"
   ]
  },
  {
   "cell_type": "code",
   "execution_count": 47,
   "id": "675e5a95",
   "metadata": {},
   "outputs": [
    {
     "data": {
      "text/plain": [
       "false"
      ]
     },
     "execution_count": 47,
     "metadata": {},
     "output_type": "execute_result"
    }
   ],
   "source": [
    "is_principal(D)"
   ]
  },
  {
   "cell_type": "code",
   "execution_count": 48,
   "id": "e4d5e530",
   "metadata": {},
   "outputs": [
    {
     "data": {
      "text/plain": [
       "3-element Vector{ZZRingElem}:\n",
       " 1\n",
       " 2\n",
       " 3"
      ]
     },
     "execution_count": 48,
     "metadata": {},
     "output_type": "execute_result"
    }
   ],
   "source": [
    "coefficients(D)"
   ]
  },
  {
   "cell_type": "markdown",
   "id": "0807874d",
   "metadata": {},
   "source": [
    "In particular we can compute the divsior class associated to this divisor:"
   ]
  },
  {
   "cell_type": "code",
   "execution_count": 49,
   "id": "2023e857",
   "metadata": {},
   "outputs": [
    {
     "data": {
      "text/plain": [
       "Divisor class on a normal toric variety"
      ]
     },
     "execution_count": 49,
     "metadata": {},
     "output_type": "execute_result"
    }
   ],
   "source": [
    "DC = toric_divisor_class(D)"
   ]
  },
  {
   "cell_type": "markdown",
   "id": "695626e4",
   "metadata": {},
   "source": [
    "The task of finding a divisor in this divisor class is exactly the question of inverting the map $f_1$ introduced above. This is handled behind the scenes with the following command:"
   ]
  },
  {
   "cell_type": "code",
   "execution_count": 50,
   "id": "562a3509",
   "metadata": {},
   "outputs": [
    {
     "data": {
      "text/plain": [
       "Torus-invariant, non-prime divisor on a normal toric variety"
      ]
     },
     "execution_count": 50,
     "metadata": {},
     "output_type": "execute_result"
    }
   ],
   "source": [
    "D2 = toric_divisor(DC)"
   ]
  },
  {
   "cell_type": "markdown",
   "id": "5d2dd009",
   "metadata": {},
   "source": [
    "Note that $D_2$ and $D$ are not identical:"
   ]
  },
  {
   "cell_type": "code",
   "execution_count": 51,
   "id": "93ab1ec0",
   "metadata": {},
   "outputs": [
    {
     "data": {
      "text/plain": [
       "false"
      ]
     },
     "execution_count": 51,
     "metadata": {},
     "output_type": "execute_result"
    }
   ],
   "source": [
    "D == D2"
   ]
  },
  {
   "cell_type": "markdown",
   "id": "63c07f21",
   "metadata": {},
   "source": [
    "We can see this explicitly, by asking for the coefficients of $D_2$:"
   ]
  },
  {
   "cell_type": "code",
   "execution_count": 52,
   "id": "995a13a1",
   "metadata": {},
   "outputs": [
    {
     "data": {
      "text/plain": [
       "3-element Vector{ZZRingElem}:\n",
       " 6\n",
       " 0\n",
       " 0"
      ]
     },
     "execution_count": 52,
     "metadata": {},
     "output_type": "execute_result"
    }
   ],
   "source": [
    "coefficients(D2)"
   ]
  },
  {
   "cell_type": "markdown",
   "id": "90d91fab",
   "metadata": {},
   "source": [
    "However, $D \\sim D_2$. This is the case since $D - D_2$ is a principal divisor:"
   ]
  },
  {
   "cell_type": "code",
   "execution_count": 53,
   "id": "976234e7",
   "metadata": {},
   "outputs": [
    {
     "data": {
      "text/plain": [
       "true"
      ]
     },
     "execution_count": 53,
     "metadata": {},
     "output_type": "execute_result"
    }
   ],
   "source": [
    "is_principal(D - D2)"
   ]
  },
  {
   "cell_type": "markdown",
   "id": "debf19bb",
   "metadata": {},
   "source": [
    "So, as expected $[D] = [D_2]$."
   ]
  },
  {
   "cell_type": "markdown",
   "id": "d6a284d3",
   "metadata": {},
   "source": [
    "## 2.E Line bundles "
   ]
  },
  {
   "cell_type": "markdown",
   "id": "e80fc043",
   "metadata": {},
   "source": [
    "Line bundles are the elements of the Picard group $\\mathrm{Pic}( \\mathbb{P}^2 )$. They are created similarly to Weil divisor. Let us first demonstrate how we can compute the Picard group $\\mathrm{Pic}(\\mathbb{P}^2)$ in OSCAR:"
   ]
  },
  {
   "cell_type": "code",
   "execution_count": 54,
   "id": "4a9c565c",
   "metadata": {},
   "outputs": [
    {
     "data": {
      "text/plain": [
       "GrpAb: Z"
      ]
     },
     "execution_count": 54,
     "metadata": {},
     "output_type": "execute_result"
    }
   ],
   "source": [
    "picard_group(P2)"
   ]
  },
  {
   "cell_type": "markdown",
   "id": "083136dd",
   "metadata": {},
   "source": [
    "Hence, this group has a single generator $G = \\mathcal{O}_{\\mathbb{P}^2}(1)$ and every element in this group is of the form $G^a = G \\otimes \\dots \\otimes G = \\mathcal{O}_{\\mathbb{P}^2}(a)$ with $a \\in \\mathbb{Z}$. Therefore, the constructor for line bundles on the projective space expects $[a]$ as input. For instance, the following creates the line bundle $\\mathcal{L} = \\mathcal{O}_{\\mathbb{P}^2}(1)$:"
   ]
  },
  {
   "cell_type": "code",
   "execution_count": 55,
   "id": "ffe01311",
   "metadata": {},
   "outputs": [
    {
     "data": {
      "text/plain": [
       "Toric line bundle on a normal toric variety"
      ]
     },
     "execution_count": 55,
     "metadata": {},
     "output_type": "execute_result"
    }
   ],
   "source": [
    "L = toric_line_bundle(P2,[1]) "
   ]
  },
  {
   "cell_type": "markdown",
   "id": "895abcee",
   "metadata": {},
   "source": [
    "Again, various properties and attributes are supported for line bundles. For example, we can check if a line bundle is the trivial line bundle (i.e. the zero element in the Picard group):"
   ]
  },
  {
   "cell_type": "code",
   "execution_count": 56,
   "id": "ffb7372e",
   "metadata": {},
   "outputs": [
    {
     "data": {
      "text/plain": [
       "false"
      ]
     },
     "execution_count": 56,
     "metadata": {},
     "output_type": "execute_result"
    }
   ],
   "source": [
    "is_trivial(L)"
   ]
  },
  {
   "cell_type": "markdown",
   "id": "a4ceaad5",
   "metadata": {},
   "source": [
    "Other properties are accessed by computing a divisor (class) corresponding to the line bundle in question (i.e. inverting the map $\\mathrm{CDiv}( \\mathbb{P}^2 ) \\to \\mathrm{Pic}( \\mathbb{P}^2 )$):"
   ]
  },
  {
   "cell_type": "code",
   "execution_count": 57,
   "id": "1c96c57e",
   "metadata": {},
   "outputs": [
    {
     "data": {
      "text/plain": [
       "Torus-invariant, cartier, non-principal, prime divisor on a normal toric variety"
      ]
     },
     "execution_count": 57,
     "metadata": {},
     "output_type": "execute_result"
    }
   ],
   "source": [
    "toric_divisor(L)"
   ]
  },
  {
   "cell_type": "code",
   "execution_count": 58,
   "id": "609c75ab",
   "metadata": {},
   "outputs": [
    {
     "data": {
      "text/plain": [
       "Divisor class on a normal toric variety"
      ]
     },
     "execution_count": 58,
     "metadata": {},
     "output_type": "execute_result"
    }
   ],
   "source": [
    "toric_divisor_class(L)"
   ]
  },
  {
   "cell_type": "markdown",
   "id": "99c507eb",
   "metadata": {},
   "source": [
    "Among others, ampleness of a line bundle is checked by checking it for the underlying divisor:"
   ]
  },
  {
   "cell_type": "code",
   "execution_count": 59,
   "id": "adb2b460",
   "metadata": {},
   "outputs": [
    {
     "data": {
      "text/plain": [
       "true"
      ]
     },
     "execution_count": 59,
     "metadata": {},
     "output_type": "execute_result"
    }
   ],
   "source": [
    "is_ample(L)"
   ]
  },
  {
   "cell_type": "code",
   "execution_count": 60,
   "id": "b1b942de",
   "metadata": {},
   "outputs": [
    {
     "data": {
      "text/plain": [
       "true"
      ]
     },
     "execution_count": 60,
     "metadata": {},
     "output_type": "execute_result"
    }
   ],
   "source": [
    "is_very_ample(L)"
   ]
  },
  {
   "cell_type": "markdown",
   "id": "4751613d",
   "metadata": {},
   "source": [
    "Another example is the degree of the line bundle:"
   ]
  },
  {
   "cell_type": "code",
   "execution_count": 61,
   "id": "92714585",
   "metadata": {},
   "outputs": [
    {
     "data": {
      "text/plain": [
       "1"
      ]
     },
     "execution_count": 61,
     "metadata": {},
     "output_type": "execute_result"
    }
   ],
   "source": [
    "degree(L)"
   ]
  },
  {
   "cell_type": "markdown",
   "id": "39fa26c4-6f8a-4a09-894d-7e6c7ce86533",
   "metadata": {},
   "source": [
    "Let us mention that toric line bundles can be tensorised via `*`. The `n`-th tensor product is calculated via `^n`. In particular, `^(-1)` calculates the inverse of a line bundle. Alternatively, the inverse can also be calculated via `inv`.\n",
    "\n",
    "The following lines bundles are of particular importance:"
   ]
  },
  {
   "cell_type": "code",
   "execution_count": 62,
   "id": "a80dd03d-88f1-4138-b3d0-943f5dbb7140",
   "metadata": {},
   "outputs": [
    {
     "data": {
      "text/plain": [
       "Toric line bundle on a normal toric variety"
      ]
     },
     "execution_count": 62,
     "metadata": {},
     "output_type": "execute_result"
    }
   ],
   "source": [
    "structure_sheaf(P2)"
   ]
  },
  {
   "cell_type": "code",
   "execution_count": 63,
   "id": "88ec3919-1f4f-41e2-b10c-f13e326028d5",
   "metadata": {},
   "outputs": [
    {
     "data": {
      "text/plain": [
       "Toric line bundle on a normal toric variety"
      ]
     },
     "execution_count": 63,
     "metadata": {},
     "output_type": "execute_result"
    }
   ],
   "source": [
    "anticanonical_bundle(P2)"
   ]
  },
  {
   "cell_type": "code",
   "execution_count": 64,
   "id": "b9770c33-8ef1-4b08-909d-2677430cd635",
   "metadata": {},
   "outputs": [
    {
     "data": {
      "text/plain": [
       "Toric line bundle on a normal toric variety"
      ]
     },
     "execution_count": 64,
     "metadata": {},
     "output_type": "execute_result"
    }
   ],
   "source": [
    "canonical_bundle(P2)"
   ]
  },
  {
   "cell_type": "markdown",
   "id": "3db328f8",
   "metadata": {},
   "source": [
    "## 2.F Line bundle cohomology with cohomCalg"
   ]
  },
  {
   "cell_type": "markdown",
   "id": "666b495d",
   "metadata": {},
   "source": [
    "To compute line bundle cohomology, we use the cohomCalg algorithm (cf. https://github.com/BenjaminJurke/cohomCalg). It is executed as follows:"
   ]
  },
  {
   "cell_type": "code",
   "execution_count": 65,
   "id": "c4d97a06",
   "metadata": {},
   "outputs": [
    {
     "data": {
      "text/plain": [
       "3-element Vector{ZZRingElem}:\n",
       " 3\n",
       " 0\n",
       " 0"
      ]
     },
     "execution_count": 65,
     "metadata": {},
     "output_type": "execute_result"
    }
   ],
   "source": [
    "all_cohomologies(L)"
   ]
  },
  {
   "cell_type": "markdown",
   "id": "04043994",
   "metadata": {},
   "source": [
    "This means that $h^0( \\mathbb{P}^2, \\mathcal{L} ) = 3$ and $h^1( \\mathbb{P}^2, \\mathcal{L} ) = h^2( \\mathbb{P}^2, \\mathcal{L} ) = 0$. This result is of course well-known to the experts. This functionality works as long as the variety in question is both smooth and complete. It will also work if the variety is both simplicial and projective.\n",
    "\n",
    "Of course, we can also compute just some of the line bundle cohomologies. For instance, the following finds $h^0( \\mathbb{P}^2, \\mathcal{L} )$:"
   ]
  },
  {
   "cell_type": "code",
   "execution_count": 66,
   "id": "e98bfca4",
   "metadata": {},
   "outputs": [
    {
     "data": {
      "text/plain": [
       "3"
      ]
     },
     "execution_count": 66,
     "metadata": {},
     "output_type": "execute_result"
    }
   ],
   "source": [
    "cohomology(L,0)"
   ]
  },
  {
   "cell_type": "markdown",
   "id": "ee4e6e1d",
   "metadata": {},
   "source": [
    "The Cox ring of the toric variety is very important. It is the algebraic counterpart to the structure sheaf $\\mathcal{O}_{\\mathbb{P}^2}$:"
   ]
  },
  {
   "cell_type": "code",
   "execution_count": 67,
   "id": "29a8dc10",
   "metadata": {},
   "outputs": [
    {
     "data": {
      "text/plain": [
       "Multivariate polynomial ring in 3 variables over QQ graded by \n",
       "  x1 -> [1]\n",
       "  x2 -> [1]\n",
       "  x3 -> [1]"
      ]
     },
     "execution_count": 67,
     "metadata": {},
     "output_type": "execute_result"
    }
   ],
   "source": [
    "cox_ring(P2)"
   ]
  },
  {
   "cell_type": "markdown",
   "id": "4451271b",
   "metadata": {},
   "source": [
    "As such, it comes at no surprise that a basis of the global sections of line bundles can be found from the homogeneous components of the Cox ring. An alternative methods exists via Laurent monomials. Both options are available within OSCAR:"
   ]
  },
  {
   "cell_type": "code",
   "execution_count": 68,
   "id": "e8adc2f5",
   "metadata": {},
   "outputs": [
    {
     "data": {
      "text/plain": [
       "3-element Vector{MPolyDecRingElem{QQFieldElem, QQMPolyRingElem}}:\n",
       " x3\n",
       " x2\n",
       " x1"
      ]
     },
     "execution_count": 68,
     "metadata": {},
     "output_type": "execute_result"
    }
   ],
   "source": [
    "basis_of_global_sections_via_homogeneous_component(L)"
   ]
  },
  {
   "cell_type": "code",
   "execution_count": 69,
   "id": "cdb4bd92",
   "metadata": {},
   "outputs": [
    {
     "data": {
      "text/plain": [
       "3-element Vector{MPolyQuoRingElem{QQMPolyRingElem}}:\n",
       " x1_\n",
       " x2*x1_\n",
       " 1"
      ]
     },
     "execution_count": 69,
     "metadata": {},
     "output_type": "execute_result"
    }
   ],
   "source": [
    "basis_of_global_sections_via_rational_functions(L)"
   ]
  },
  {
   "cell_type": "markdown",
   "id": "cfb244cf",
   "metadata": {},
   "source": [
    "Note that in this expression *x1_* refers to $\\frac{1}{x_1}$. We can see this as follows:"
   ]
  },
  {
   "cell_type": "code",
   "execution_count": 70,
   "id": "46b7ef1d-a274-4bf7-ae6e-23637f5554ef",
   "metadata": {},
   "outputs": [
    {
     "data": {
      "text/plain": [
       "Quotient\n",
       "  of multivariate polynomial ring in 4 variables x1, x2, x1_, x2_\n",
       "    over rational field\n",
       "  by ideal(x1*x1_ - 1, x2*x2_ - 1)"
      ]
     },
     "execution_count": 70,
     "metadata": {},
     "output_type": "execute_result"
    }
   ],
   "source": [
    "parent(basis_of_global_sections_via_rational_functions(L)[1])"
   ]
  },
  {
   "cell_type": "markdown",
   "id": "3f17c182-c006-474e-8a59-b7c503ec5365",
   "metadata": {},
   "source": [
    "For convenience, by default we use the homogeneous components:"
   ]
  },
  {
   "cell_type": "code",
   "execution_count": 71,
   "id": "9dcf5d1d",
   "metadata": {},
   "outputs": [
    {
     "data": {
      "text/plain": [
       "3-element Vector{MPolyDecRingElem{QQFieldElem, QQMPolyRingElem}}:\n",
       " x3\n",
       " x2\n",
       " x1"
      ]
     },
     "execution_count": 71,
     "metadata": {},
     "output_type": "execute_result"
    }
   ],
   "source": [
    "basis_of_global_sections(L)"
   ]
  },
  {
   "cell_type": "markdown",
   "id": "17cc5a0b",
   "metadata": {},
   "source": [
    "## 2.G The polyhedral fan"
   ]
  },
  {
   "cell_type": "markdown",
   "id": "a2eba4c5",
   "metadata": {},
   "source": [
    "We now come back to constructing more general toric varieties. As mentioned above, this in general relies on the construction of a polyhedral fan consisting of strongly convex polyhedral cones. This polyhedral geometry is the backbone for many computations in toric geometry. Of course, *OSCAR* knows the fan of the projective space $\\mathbb{P}^2$:"
   ]
  },
  {
   "cell_type": "code",
   "execution_count": 72,
   "id": "0a74c277",
   "metadata": {},
   "outputs": [
    {
     "data": {
      "text/plain": [
       "Polyhedral fan in ambient dimension 2"
      ]
     },
     "execution_count": 72,
     "metadata": {},
     "output_type": "execute_result"
    }
   ],
   "source": [
    "fan_of_P2 = polyhedral_fan(P2)"
   ]
  },
  {
   "cell_type": "markdown",
   "id": "d6ec0692",
   "metadata": {},
   "source": [
    "You can plot this fan by invoking the command *visualize(f)*. This will (most likely) open a separate window with an illustration of the fan. Alternatively, we can investigate the fan in more details by computing its rays and maximal cones:"
   ]
  },
  {
   "cell_type": "code",
   "execution_count": 73,
   "id": "86663d07",
   "metadata": {},
   "outputs": [
    {
     "data": {
      "text/plain": [
       "3-element SubObjectIterator{RayVector{QQFieldElem}}:\n",
       " [1, 0]\n",
       " [0, 1]\n",
       " [-1, -1]"
      ]
     },
     "execution_count": 73,
     "metadata": {},
     "output_type": "execute_result"
    }
   ],
   "source": [
    "rays(fan_of_P2)"
   ]
  },
  {
   "cell_type": "code",
   "execution_count": 74,
   "id": "4dc823b7",
   "metadata": {},
   "outputs": [
    {
     "data": {
      "text/plain": [
       "3-element SubObjectIterator{Cone{QQFieldElem}}:\n",
       " Polyhedral cone in ambient dimension 2\n",
       " Polyhedral cone in ambient dimension 2\n",
       " Polyhedral cone in ambient dimension 2"
      ]
     },
     "execution_count": 74,
     "metadata": {},
     "output_type": "execute_result"
    }
   ],
   "source": [
    "maximal_cones(fan_of_P2)"
   ]
  },
  {
   "cell_type": "code",
   "execution_count": 75,
   "id": "366f8954",
   "metadata": {},
   "outputs": [
    {
     "data": {
      "text/plain": [
       "3-element Vector{SubObjectIterator{RayVector{QQFieldElem}}}:\n",
       " [[1, 0], [0, 1]]\n",
       " [[0, 1], [-1, -1]]\n",
       " [[1, 0], [-1, -1]]"
      ]
     },
     "execution_count": 75,
     "metadata": {},
     "output_type": "execute_result"
    }
   ],
   "source": [
    "[rays(c) for c in maximal_cones(fan_of_P2)]"
   ]
  },
  {
   "cell_type": "markdown",
   "id": "447b9f54",
   "metadata": {},
   "source": [
    "Indeed, this is the famous fan of the projective space $\\mathbb{P}^2$."
   ]
  },
  {
   "cell_type": "markdown",
   "id": "e2bfeac2",
   "metadata": {},
   "source": [
    "# 3 More general constructions of normal toric varieties"
   ]
  },
  {
   "cell_type": "markdown",
   "id": "7ecd714e",
   "metadata": {},
   "source": [
    "## 3.A The projective space from its fan"
   ]
  },
  {
   "cell_type": "markdown",
   "id": "092572b7",
   "metadata": {},
   "source": [
    "We now want to demonstrate how a toric variety can be created from a fan. As we have gained familarity with the projective space in the previous sections, it is natural to exemplify the operations on the projective space $\\mathbb{P}^2$.\n",
    "\n",
    "In OSCAR, a normal toric variety can be created from a polyhedral fan in a number of ways. This includes the following:\n",
    "- Specify the maximal cones `max_cones` and the ray generators `rays` of the fan.\n",
    "- Construct the polyhedral fan `PF` and use it as input for the toric variety.\n",
    "- Specify a polyhedron `P`. Internally, we then create the normal fan of this polyhedron and return the corresponding normal toric variety.\n",
    "\n",
    "Let us use the first method. The interested reader can find information on the other two approaches in the documentation."
   ]
  },
  {
   "cell_type": "code",
   "execution_count": 76,
   "id": "8788d277",
   "metadata": {},
   "outputs": [
    {
     "data": {
      "text/plain": [
       "Normal toric variety"
      ]
     },
     "execution_count": 76,
     "metadata": {},
     "output_type": "execute_result"
    }
   ],
   "source": [
    "ray_generators = [[1, 0], [0, 1], [-1, -1]]\n",
    "max_cones = [[1, 2], [2, 3], [3, 1]]\n",
    "X = normal_toric_variety(max_cones, ray_generators)"
   ]
  },
  {
   "cell_type": "markdown",
   "id": "5e1f2c1c",
   "metadata": {},
   "source": [
    "Let us again conduct a few consistency checks to gain confidence that this variety indeed is the projective space $\\mathbb{P}^2$:"
   ]
  },
  {
   "cell_type": "code",
   "execution_count": 77,
   "id": "8e7161a1",
   "metadata": {},
   "outputs": [
    {
     "data": {
      "text/plain": [
       "true"
      ]
     },
     "execution_count": 77,
     "metadata": {},
     "output_type": "execute_result"
    }
   ],
   "source": [
    "is_projective(X)"
   ]
  },
  {
   "cell_type": "code",
   "execution_count": 78,
   "id": "a25915fe",
   "metadata": {},
   "outputs": [
    {
     "data": {
      "text/plain": [
       "true"
      ]
     },
     "execution_count": 78,
     "metadata": {},
     "output_type": "execute_result"
    }
   ],
   "source": [
    "is_smooth(X)"
   ]
  },
  {
   "cell_type": "code",
   "execution_count": 79,
   "id": "8ae4ef3f",
   "metadata": {},
   "outputs": [
    {
     "data": {
      "text/plain": [
       "2"
      ]
     },
     "execution_count": 79,
     "metadata": {},
     "output_type": "execute_result"
    }
   ],
   "source": [
    "dim(X)"
   ]
  },
  {
   "cell_type": "code",
   "execution_count": 80,
   "id": "2f9d0238",
   "metadata": {},
   "outputs": [
    {
     "data": {
      "text/plain": [
       "GrpAb: Z"
      ]
     },
     "execution_count": 80,
     "metadata": {},
     "output_type": "execute_result"
    }
   ],
   "source": [
    "class_group(X)"
   ]
  },
  {
   "cell_type": "code",
   "execution_count": 81,
   "id": "93402cb5",
   "metadata": {},
   "outputs": [
    {
     "data": {
      "text/plain": [
       "GrpAb: Z^3"
      ]
     },
     "execution_count": 81,
     "metadata": {},
     "output_type": "execute_result"
    }
   ],
   "source": [
    "torusinvariant_weil_divisor_group(X)"
   ]
  },
  {
   "cell_type": "code",
   "execution_count": 82,
   "id": "fddc4772",
   "metadata": {},
   "outputs": [
    {
     "data": {
      "text/plain": [
       "Multivariate polynomial ring in 3 variables over QQ graded by \n",
       "  x1 -> [1]\n",
       "  x2 -> [1]\n",
       "  x3 -> [1]"
      ]
     },
     "execution_count": 82,
     "metadata": {},
     "output_type": "execute_result"
    }
   ],
   "source": [
    "cox_ring(X)"
   ]
  },
  {
   "cell_type": "markdown",
   "id": "188baebd",
   "metadata": {},
   "source": [
    "## 3.B Del Pezzo surfaces "
   ]
  },
  {
   "cell_type": "markdown",
   "id": "97841eaf",
   "metadata": {},
   "source": [
    "We provide a constructor for del Pezzo surfaces. For instance, we can issue:"
   ]
  },
  {
   "cell_type": "code",
   "execution_count": 83,
   "id": "758338e3",
   "metadata": {},
   "outputs": [
    {
     "data": {
      "text/plain": [
       "Normal toric variety"
      ]
     },
     "execution_count": 83,
     "metadata": {},
     "output_type": "execute_result"
    }
   ],
   "source": [
    "dP3 = del_pezzo_surface(3)"
   ]
  },
  {
   "cell_type": "markdown",
   "id": "211211ff",
   "metadata": {},
   "source": [
    "To demonstrate that the line bundle cohomology computations also work in such more general settings, let us construct a toric line bundle and compute its sheaf cohomology dimensions:"
   ]
  },
  {
   "cell_type": "code",
   "execution_count": 84,
   "id": "d39239ef",
   "metadata": {},
   "outputs": [
    {
     "data": {
      "text/plain": [
       "GrpAb: Z^4"
      ]
     },
     "execution_count": 84,
     "metadata": {},
     "output_type": "execute_result"
    }
   ],
   "source": [
    "picard_group(dP3)"
   ]
  },
  {
   "cell_type": "code",
   "execution_count": 85,
   "id": "c41eda83",
   "metadata": {},
   "outputs": [
    {
     "data": {
      "text/plain": [
       "Toric line bundle on a normal toric variety"
      ]
     },
     "execution_count": 85,
     "metadata": {},
     "output_type": "execute_result"
    }
   ],
   "source": [
    "L2 = toric_line_bundle(dP3,[3,2,1,0])"
   ]
  },
  {
   "cell_type": "code",
   "execution_count": 86,
   "id": "faa01be0",
   "metadata": {},
   "outputs": [
    {
     "data": {
      "text/plain": [
       "3-element Vector{ZZRingElem}:\n",
       " 6\n",
       " 0\n",
       " 0"
      ]
     },
     "execution_count": 86,
     "metadata": {},
     "output_type": "execute_result"
    }
   ],
   "source": [
    "all_cohomologies(L2)"
   ]
  },
  {
   "cell_type": "markdown",
   "id": "e9d1b2c2",
   "metadata": {},
   "source": [
    "It is worth recalling that we can find a basis of the global sections. However, a basis for the higher sheaf cohomologies cannot (yet) be computed with OSCAR."
   ]
  },
  {
   "cell_type": "code",
   "execution_count": 87,
   "id": "99fec84b",
   "metadata": {},
   "outputs": [
    {
     "data": {
      "text/plain": [
       "6-element Vector{MPolyDecRingElem{QQFieldElem, QQMPolyRingElem}}:\n",
       " x2^2*x3*e3^3\n",
       " x1*x2*x3*e2*e3^2\n",
       " x1*x2^2*e1*e3^2\n",
       " x1^2*x3*e2^2*e3\n",
       " x1^2*x2*e1*e2*e3\n",
       " x1^3*e1*e2^2"
      ]
     },
     "execution_count": 87,
     "metadata": {},
     "output_type": "execute_result"
    }
   ],
   "source": [
    "basis_of_global_sections(L2)"
   ]
  },
  {
   "cell_type": "markdown",
   "id": "ba7e87fd",
   "metadata": {},
   "source": [
    "## 3.C Hirzebruch surfaces"
   ]
  },
  {
   "cell_type": "markdown",
   "id": "b2a94106",
   "metadata": {},
   "source": [
    "Similarly, we can also construct Hirzebruch surfaces:"
   ]
  },
  {
   "cell_type": "code",
   "execution_count": 88,
   "id": "dbbe622c",
   "metadata": {},
   "outputs": [
    {
     "data": {
      "text/plain": [
       "Normal toric variety"
      ]
     },
     "execution_count": 88,
     "metadata": {},
     "output_type": "execute_result"
    }
   ],
   "source": [
    "F2 = hirzebruch_surface(2)"
   ]
  },
  {
   "cell_type": "markdown",
   "id": "9a7bbcf8-18ac-4079-932f-a5ac5770c811",
   "metadata": {},
   "source": [
    "Of course, we can create line bundles on this surface and investigate their properties:"
   ]
  },
  {
   "cell_type": "code",
   "execution_count": 89,
   "id": "b0b16a08-b4b5-470d-9bdf-c1fde2a12b06",
   "metadata": {},
   "outputs": [
    {
     "data": {
      "text/plain": [
       "(false, false, false, false)"
      ]
     },
     "execution_count": 89,
     "metadata": {},
     "output_type": "execute_result"
    }
   ],
   "source": [
    "l = ToricLineBundle(F2, [0,1])\n",
    "(is_trivial(l), is_basepoint_free(l), is_ample(l), is_very_ample(l))"
   ]
  },
  {
   "cell_type": "markdown",
   "id": "e314b32a-3404-4def-963e-1eb7c2d67fe4",
   "metadata": {},
   "source": [
    "## 3.D Weighted projective spaces"
   ]
  },
  {
   "cell_type": "markdown",
   "id": "4e6e9e60-c3ae-4ed4-9fbd-0a6534681613",
   "metadata": {},
   "source": [
    "There is also support for weighted projective spaces in *OSCAR*:"
   ]
  },
  {
   "cell_type": "code",
   "execution_count": 90,
   "id": "1b0d0198-f953-47e2-bd39-51ed03931fd0",
   "metadata": {},
   "outputs": [
    {
     "data": {
      "text/plain": [
       "Normal toric variety"
      ]
     },
     "execution_count": 90,
     "metadata": {},
     "output_type": "execute_result"
    }
   ],
   "source": [
    "P231 = weighted_projective_space(NormalToricVariety, [2,3,1])"
   ]
  },
  {
   "cell_type": "code",
   "execution_count": 91,
   "id": "c4e7217a-70d7-49e0-9f37-bc642fea7114",
   "metadata": {},
   "outputs": [
    {
     "data": {
      "text/plain": [
       "false"
      ]
     },
     "execution_count": 91,
     "metadata": {},
     "output_type": "execute_result"
    }
   ],
   "source": [
    "is_smooth(P231)"
   ]
  },
  {
   "cell_type": "code",
   "execution_count": 92,
   "id": "80065099-2add-4060-b325-af8831c4d2b8",
   "metadata": {},
   "outputs": [
    {
     "data": {
      "text/plain": [
       "true"
      ]
     },
     "execution_count": 92,
     "metadata": {},
     "output_type": "execute_result"
    }
   ],
   "source": [
    "is_simplicial(P231)"
   ]
  },
  {
   "cell_type": "code",
   "execution_count": 93,
   "id": "298b2445-fc78-454b-81b9-34befe045959",
   "metadata": {},
   "outputs": [
    {
     "data": {
      "text/plain": [
       "true"
      ]
     },
     "execution_count": 93,
     "metadata": {},
     "output_type": "execute_result"
    }
   ],
   "source": [
    "is_projective(P231)"
   ]
  },
  {
   "cell_type": "markdown",
   "id": "5c1dcebd-9fa2-4d0a-bffe-a6b3395f513c",
   "metadata": {},
   "source": [
    "Consequently the necessary conditions are satisfied to apply *cohomCalg* to compute line bundle cohomology on this space:"
   ]
  },
  {
   "cell_type": "code",
   "execution_count": 94,
   "id": "343ee970-b1e0-4f6e-8b14-dfc5bccbf617",
   "metadata": {},
   "outputs": [
    {
     "data": {
      "text/plain": [
       "3-element Vector{ZZRingElem}:\n",
       " 37\n",
       " 0\n",
       " 0"
      ]
     },
     "execution_count": 94,
     "metadata": {},
     "output_type": "execute_result"
    }
   ],
   "source": [
    "l = toric_line_bundle(P231, [3])\n",
    "all_cohomologies(l)"
   ]
  },
  {
   "cell_type": "markdown",
   "id": "577ec868-1a52-425f-8875-59244de599b9",
   "metadata": {},
   "source": [
    "## 3.E Affine spaces"
   ]
  },
  {
   "cell_type": "markdown",
   "id": "99db80bb-6626-448d-9369-752db49baf5d",
   "metadata": {},
   "source": [
    "Likewise, affine spaces are supported:"
   ]
  },
  {
   "cell_type": "code",
   "execution_count": 95,
   "id": "e42943d5-6e98-4d70-92ea-7756654b40ae",
   "metadata": {},
   "outputs": [
    {
     "data": {
      "text/plain": [
       "Normal toric variety"
      ]
     },
     "execution_count": 95,
     "metadata": {},
     "output_type": "execute_result"
    }
   ],
   "source": [
    "A5 = affine_space(NormalToricVariety, 5)"
   ]
  },
  {
   "cell_type": "code",
   "execution_count": 96,
   "id": "fc83d7f4-75ac-435d-bcd1-fa5e1af73356",
   "metadata": {},
   "outputs": [
    {
     "data": {
      "text/plain": [
       "true"
      ]
     },
     "execution_count": 96,
     "metadata": {},
     "output_type": "execute_result"
    }
   ],
   "source": [
    "is_affine(A5)"
   ]
  },
  {
   "cell_type": "code",
   "execution_count": 97,
   "id": "51a8212e-4f55-488e-ae39-cdd8e47a6152",
   "metadata": {},
   "outputs": [
    {
     "data": {
      "text/plain": [
       "5"
      ]
     },
     "execution_count": 97,
     "metadata": {},
     "output_type": "execute_result"
    }
   ],
   "source": [
    "dim(A5)"
   ]
  },
  {
   "cell_type": "markdown",
   "id": "9b0c4f9d-0a7c-47a8-b96a-ee2c483644e5",
   "metadata": {},
   "source": [
    "## 3.F Cyclic quotient singularities"
   ]
  },
  {
   "cell_type": "markdown",
   "id": "8c66165b-de5f-4eb8-a799-ab62eda9ef20",
   "metadata": {},
   "source": [
    "Cyclic quotient singularities are quotients of $\\mathbb{C}^2$ by the action of $\\mathbb{Z}/n\\mathbb{Z}$ acting via \n",
    "\\begin{equation*}\n",
    "    \\begin{pmatrix} \\xi & 0 \\\\ 0 & \\xi^q \\end{pmatrix},\n",
    "\\end{equation*}\n",
    "where $\\xi$ is an $n$-th root of unity and $q,n$ are coprime integers,such that $0 < q < n$. Here is an example:"
   ]
  },
  {
   "cell_type": "code",
   "execution_count": 98,
   "id": "a7db6459-5a5d-4995-8d79-7543fda40042",
   "metadata": {},
   "outputs": [
    {
     "data": {
      "text/plain": [
       "Cyclic quotient singularity Y(7, 5)"
      ]
     },
     "execution_count": 98,
     "metadata": {},
     "output_type": "execute_result"
    }
   ],
   "source": [
    "cqs = cyclic_quotient_singularity(7,5)"
   ]
  },
  {
   "cell_type": "code",
   "execution_count": 99,
   "id": "33bbe62e-9e0a-4549-9045-804f8f275cdf",
   "metadata": {},
   "outputs": [
    {
     "data": {
      "text/plain": [
       "2"
      ]
     },
     "execution_count": 99,
     "metadata": {},
     "output_type": "execute_result"
    }
   ],
   "source": [
    "dim(cqs)"
   ]
  },
  {
   "cell_type": "markdown",
   "id": "e4b6e2a5-7924-4802-a047-c40550120700",
   "metadata": {},
   "source": [
    "Note that in the constructor `cyclic_quotient_singularity(n, q)`, we must have $0<q<n$ and $q,n$ coprime.\n",
    "\n",
    "We can then compute the Hirzebruch-Jung continued fraction corresponding to $n/q$:"
   ]
  },
  {
   "cell_type": "code",
   "execution_count": 100,
   "id": "85c56300-e223-4977-ab70-5b0d9d217cbe",
   "metadata": {},
   "outputs": [
    {
     "data": {
      "text/plain": [
       "3-element Vector{ZZRingElem}:\n",
       " 2\n",
       " 2\n",
       " 3"
      ]
     },
     "execution_count": 100,
     "metadata": {},
     "output_type": "execute_result"
    }
   ],
   "source": [
    "cf = continued_fraction_hirzebruch_jung(cqs)"
   ]
  },
  {
   "cell_type": "markdown",
   "id": "ab07aad9-0b0b-4925-8c5f-5a374c14e462",
   "metadata": {},
   "source": [
    "There is a rational number corresponding to a Hirzebruch-Jung continued fraction $[c_1,c_2,...,c_n]$. This rational number is \n",
    "\\begin{equation*}\n",
    "r([c_1,c_2,...,c_n]) = c_1 - \\tfrac{1}{r([c_2,...,c_n])},\n",
    "\\end{equation*}\n",
    "where $r([c_n]) = c_n$. Note that this is differs in sign from what is commonly known as continued fraction. In the above case we thus have:"
   ]
  },
  {
   "cell_type": "code",
   "execution_count": 101,
   "id": "249da6ad-c28d-4a30-bea6-29a75835f84e",
   "metadata": {},
   "outputs": [
    {
     "data": {
      "text/plain": [
       "7//5"
      ]
     },
     "execution_count": 101,
     "metadata": {},
     "output_type": "execute_result"
    }
   ],
   "source": [
    "r = cf[1] - 1//(cf[2] - (1//cf[3]))"
   ]
  },
  {
   "cell_type": "markdown",
   "id": "e73212b7-30dd-446d-b673-d54c3bd3f92f",
   "metadata": {},
   "source": [
    "This result we can also compute with the following function:"
   ]
  },
  {
   "cell_type": "code",
   "execution_count": 102,
   "id": "485730ed-bc3f-4f2c-bfe4-debd81e39b82",
   "metadata": {},
   "outputs": [
    {
     "data": {
      "text/plain": [
       "7//5"
      ]
     },
     "execution_count": 102,
     "metadata": {},
     "output_type": "execute_result"
    }
   ],
   "source": [
    "continued_fraction_hirzebruch_jung_to_rational(cf)"
   ]
  },
  {
   "cell_type": "markdown",
   "id": "f3e0753b-ab62-46fa-bdf4-9790ee93f0b1",
   "metadata": {},
   "source": [
    "This also works the other way around, i.e. we can seek the continued fraction corresponding to a rational number:"
   ]
  },
  {
   "cell_type": "code",
   "execution_count": 103,
   "id": "93bcf2a7-b65e-4593-b677-9c8c0d62e8ec",
   "metadata": {},
   "outputs": [
    {
     "data": {
      "text/plain": [
       "3-element Vector{ZZRingElem}:\n",
       " 2\n",
       " 2\n",
       " 3"
      ]
     },
     "execution_count": 103,
     "metadata": {},
     "output_type": "execute_result"
    }
   ],
   "source": [
    "cf2 = rational_to_continued_fraction_hirzebruch_jung(QQFieldElem(7,5))"
   ]
  },
  {
   "cell_type": "code",
   "execution_count": 104,
   "id": "c689cd54-c105-4975-89b5-9b35c298f09a",
   "metadata": {},
   "outputs": [
    {
     "data": {
      "text/plain": [
       "true"
      ]
     },
     "execution_count": 104,
     "metadata": {},
     "output_type": "execute_result"
    }
   ],
   "source": [
    "cf == cf2"
   ]
  },
  {
   "cell_type": "markdown",
   "id": "5355c57b-6d16-449e-b1ee-a881ad5d4382",
   "metadata": {},
   "source": [
    "Here is a more entertaining example:"
   ]
  },
  {
   "cell_type": "code",
   "execution_count": 105,
   "id": "c490ea67-c7a7-4415-a825-b05d38eb70c8",
   "metadata": {},
   "outputs": [
    {
     "data": {
      "text/plain": [
       "7-element Vector{ZZRingElem}:\n",
       " 17\n",
       " 11\n",
       " 23\n",
       " 46\n",
       " 18\n",
       " 19\n",
       " 37"
      ]
     },
     "execution_count": 105,
     "metadata": {},
     "output_type": "execute_result"
    }
   ],
   "source": [
    "r = QQFieldElem(2464144958, 145732115)\n",
    "cf = rational_to_continued_fraction_hirzebruch_jung(r)"
   ]
  },
  {
   "cell_type": "code",
   "execution_count": 106,
   "id": "498ed407-0a4e-498a-8961-8761055b5b16",
   "metadata": {},
   "outputs": [
    {
     "data": {
      "text/plain": [
       "2464144958//145732115"
      ]
     },
     "execution_count": 106,
     "metadata": {},
     "output_type": "execute_result"
    }
   ],
   "source": [
    "continued_fraction_hirzebruch_jung_to_rational(cf)"
   ]
  },
  {
   "cell_type": "markdown",
   "id": "4bedf6e7-cb89-4701-9458-5294c57bd198",
   "metadata": {},
   "source": [
    "Finally, we can also compute the Hirzebruch-Jung continued fraction corresponding to $q/(n-q)$:"
   ]
  },
  {
   "cell_type": "code",
   "execution_count": 107,
   "id": "1f60f94e-01a4-4db4-9041-d5365cc08cdf",
   "metadata": {},
   "outputs": [
    {
     "data": {
      "text/plain": [
       "2-element Vector{ZZRingElem}:\n",
       " 4\n",
       " 2"
      ]
     },
     "execution_count": 107,
     "metadata": {},
     "output_type": "execute_result"
    }
   ],
   "source": [
    "dcf = dual_continued_fraction_hirzebruch_jung(cqs)"
   ]
  },
  {
   "cell_type": "code",
   "execution_count": 108,
   "id": "389d65ca-7dcc-4d7a-aa28-2744f80632b8",
   "metadata": {},
   "outputs": [
    {
     "data": {
      "text/plain": [
       "7//2"
      ]
     },
     "execution_count": 108,
     "metadata": {},
     "output_type": "execute_result"
    }
   ],
   "source": [
    "continued_fraction_hirzebruch_jung_to_rational(dcf)"
   ]
  },
  {
   "cell_type": "markdown",
   "id": "3f55c72f",
   "metadata": {},
   "source": [
    "## 3.G Toric blowups"
   ]
  },
  {
   "cell_type": "markdown",
   "id": "8e86a586",
   "metadata": {},
   "source": [
    "By means of a star subdivision, one can conduct a toric blowup. The relevant functionality is available in OSCAR. To this end let us look at the projective space anew:"
   ]
  },
  {
   "cell_type": "code",
   "execution_count": 109,
   "id": "d4670946",
   "metadata": {},
   "outputs": [
    {
     "data": {
      "text/plain": [
       "Normal, non-affine, smooth, projective, 2-dimensional toric variety without torusfactor"
      ]
     },
     "execution_count": 109,
     "metadata": {},
     "output_type": "execute_result"
    }
   ],
   "source": [
    "P2"
   ]
  },
  {
   "cell_type": "code",
   "execution_count": 110,
   "id": "102f0b2c",
   "metadata": {},
   "outputs": [
    {
     "data": {
      "text/plain": [
       "Multivariate polynomial ring in 3 variables over QQ graded by \n",
       "  x1 -> [1]\n",
       "  x2 -> [1]\n",
       "  x3 -> [1]"
      ]
     },
     "execution_count": 110,
     "metadata": {},
     "output_type": "execute_result"
    }
   ],
   "source": [
    "cox_ring(P2)"
   ]
  },
  {
   "cell_type": "markdown",
   "id": "0f456d86",
   "metadata": {},
   "source": [
    "Let us now perform a blowup of the locus $V( x_1, x_2 )$. This is done as follows:"
   ]
  },
  {
   "cell_type": "code",
   "execution_count": 111,
   "id": "33bdb050",
   "metadata": {},
   "outputs": [
    {
     "data": {
      "text/plain": [
       "Toric blowdown morphism"
      ]
     },
     "execution_count": 111,
     "metadata": {},
     "output_type": "execute_result"
    }
   ],
   "source": [
    "BP2 = blowup_on_ith_minimal_torus_orbit(P2, 1, \"e\")"
   ]
  },
  {
   "cell_type": "markdown",
   "id": "beafefdf",
   "metadata": {},
   "source": [
    "The number \"1\" selects the maximal cone of the fan of $\\mathbb{P}^2$ which we divide by the star subdivision. The string \"e\" defines the name for the new homogeneous coordinate of the toric variety. Here we have the following correspondence between ray generators and homogeneous variables:\n",
    "\\begin{align}\n",
    "x_1 &\\leftrightarrow [1,0] \\,\\\\\n",
    "x_2 &\\leftrightarrow [0,1] \\,\\\\\n",
    "x_3 &\\leftrightarrow [-1,-1] \\,.\n",
    "\\end{align}\n",
    "The blowup thus requires a star subdivision of the cone $C = \\mathrm{Span}_{\\mathbb{Z}_{\\geq 0}} \\left\\{ [1,0], [0,1]\\right\\}$. To this end, we first compute the sum of the generators of $C$. This is a new ray generator:\n",
    "$$e \\leftrightarrow [1,1] \\,,$$\n",
    "which we use to define the cones which maximally subdivide $C$, namely:\n",
    "$$C_1 = \\mathrm{Span}_{\\mathbb{Z}_{\\geq 0}} \\left\\{ [1,0], [1,1]\\right\\} \\, , \\qquad C_2 = \\mathrm{Span}_{\\mathbb{Z}_{\\geq 0}} \\left\\{ [1,1], [0,1]\\right\\} \\, .$$\n",
    "Let us see that this is indeed the case for the above computed toric space $B\\mathbb{P}^2$:"
   ]
  },
  {
   "cell_type": "code",
   "execution_count": 112,
   "id": "36166499",
   "metadata": {},
   "outputs": [
    {
     "data": {
      "text/plain": [
       "Polyhedral fan in ambient dimension 2"
      ]
     },
     "execution_count": 112,
     "metadata": {},
     "output_type": "execute_result"
    }
   ],
   "source": [
    "fan_of_BP2 = polyhedral_fan(domain(BP2))"
   ]
  },
  {
   "cell_type": "code",
   "execution_count": 113,
   "id": "b9b15ce5",
   "metadata": {},
   "outputs": [
    {
     "data": {
      "text/plain": [
       "4-element SubObjectIterator{RayVector{QQFieldElem}}:\n",
       " [1, 0]\n",
       " [0, 1]\n",
       " [-1, -1]\n",
       " [1, 1]"
      ]
     },
     "execution_count": 113,
     "metadata": {},
     "output_type": "execute_result"
    }
   ],
   "source": [
    "rays(fan_of_BP2)"
   ]
  },
  {
   "cell_type": "markdown",
   "id": "c33a5c6e",
   "metadata": {},
   "source": [
    "So we notice the new ray $[1,1]$. To find the new cones $C_1$ and $C_2$, we issue the following:"
   ]
  },
  {
   "cell_type": "code",
   "execution_count": 114,
   "id": "03632a99",
   "metadata": {},
   "outputs": [
    {
     "data": {
      "text/plain": [
       "4-element Vector{SubObjectIterator{RayVector{QQFieldElem}}}:\n",
       " [[1, 0], [1, 1]]\n",
       " [[0, 1], [1, 1]]\n",
       " [[0, 1], [-1, -1]]\n",
       " [[1, 0], [-1, -1]]"
      ]
     },
     "execution_count": 114,
     "metadata": {},
     "output_type": "execute_result"
    }
   ],
   "source": [
    "[rays(c) for c in maximal_cones(fan_of_BP2)]"
   ]
  },
  {
   "cell_type": "markdown",
   "id": "19ffe865",
   "metadata": {},
   "source": [
    "So indeed, the last two cones are the expected new cones. The first two are the cones that exist for the fan of $\\mathbb{P}^2$ and were not changed.\n",
    "\n",
    "The variable $e$ we can see most prominently in the Cox ring:"
   ]
  },
  {
   "cell_type": "code",
   "execution_count": 115,
   "id": "74ada845",
   "metadata": {},
   "outputs": [
    {
     "data": {
      "text/plain": [
       "Multivariate polynomial ring in 4 variables over QQ graded by \n",
       "  x1 -> [1 0]\n",
       "  x2 -> [1 0]\n",
       "  x3 -> [0 1]\n",
       "  e -> [-1 1]"
      ]
     },
     "execution_count": 115,
     "metadata": {},
     "output_type": "execute_result"
    }
   ],
   "source": [
    "cox_ring(domain(BP2))"
   ]
  },
  {
   "cell_type": "markdown",
   "id": "2652aab6",
   "metadata": {},
   "source": [
    "It is instructive to look at the following alternative grading of the Cox ring (and we order the variables in ascending order):\n",
    "$$\\begin{array}{ccc|c} x_1 & x_2 & x_3 & e \\\\ \\hline 1 & 1 & 1 & 0 \\\\ 1 & 1 & 0 & -1 \\end{array}$$\n",
    "In the first line you notice the ordinary grading of the Cox ring of $\\mathbb{P}^2$. The second line corresonds to the toric blowup that has been conducted. The $-1$ for $e$ tells us that this is the homogeneous coordinate introduced to resemble the blowup $\\mathbb{P}^1$. The 1 for $x_1$ and $x_2$ tells us that this blowup added a $\\mathbb{P}^1$ at the locus $\\{ x_1 = x_2 = 0\\}$ in $\\mathbb{P}^2$. In other words, in $B\\mathbb{P}^2$, $x_1$ and $x_2$ cannot vanish simultaneously:\n",
    "$$\\{ [x_1 : x_2 : x_3 : e] \\in B\\mathbb{P}^2 | x_1 = x_2 = 0\\} = \\emptyset \\, .$$\n",
    "It is instructive to recall that the generators of the Stanley-Reisner ideal encode exactly which homogeneous variables cannot vanish simultaneously:"
   ]
  },
  {
   "cell_type": "code",
   "execution_count": 116,
   "id": "98458ccb",
   "metadata": {},
   "outputs": [
    {
     "data": {
      "text/plain": [
       "ideal(x1*x2, x3*e)"
      ]
     },
     "execution_count": 116,
     "metadata": {},
     "output_type": "execute_result"
    }
   ],
   "source": [
    "stanley_reisner_ideal(domain(BP2))"
   ]
  },
  {
   "cell_type": "markdown",
   "id": "bf5cf9ed",
   "metadata": {},
   "source": [
    "This means that $\\emptyset = V( x_2, x_1 ) \\subseteq B \\mathbb{P}^2$ and $\\emptyset = V( x_3, e ) \\subset B \\mathbb{P}^2$.\n",
    "\n",
    "Along these lines, we can also see that the locus $V(e) \\subset B\\mathbb{P}^2$ is a $\\mathbb{P}^1$. Namely, from the Stanley-Reisner ideal we learn that $x_3$ and $e$ cannot vanish simultaneously. So $x_3 \\neq 0$ and we can rescale it to $1$. This rescaling effectively eliminates the 2nd line in the grading of the Cox ring and leaves us with\n",
    "$$\\begin{array}{ccc|c} x_1 & x_2 \\\\ \\hline 1 & 1 \\end{array}$$\n",
    "So we notice, that the variables $x_1$ and $x_2$ each enjoy the standard grading $(1,1)$. Also, since $x_1 x_2 \\in I_{\\text{SR}}( B\\mathbb{P}^2 )$, it holds $\\emptyset = V( x_2, x_1 ) \\subset B \\mathbb{P}^2$. This implies $V( e ) \\cong \\mathbb{P}^1_{[x_1 \\colon x_2]}$."
   ]
  },
  {
   "cell_type": "markdown",
   "id": "3b26c45b",
   "metadata": {},
   "source": [
    "## 3.H Cartesian products"
   ]
  },
  {
   "cell_type": "markdown",
   "id": "649d7b9a",
   "metadata": {},
   "source": [
    "It is also possible to compute Cartesian products of toric varieties. Here is an example:"
   ]
  },
  {
   "cell_type": "code",
   "execution_count": 117,
   "id": "d2857411",
   "metadata": {},
   "outputs": [
    {
     "data": {
      "text/plain": [
       "Normal toric variety"
      ]
     },
     "execution_count": 117,
     "metadata": {},
     "output_type": "execute_result"
    }
   ],
   "source": [
    "product = P2 * F2"
   ]
  },
  {
   "cell_type": "code",
   "execution_count": 118,
   "id": "3a224cb4",
   "metadata": {},
   "outputs": [
    {
     "data": {
      "text/plain": [
       "Multivariate polynomial ring in 7 variables over QQ graded by \n",
       "  xx1 -> [1 0 0]\n",
       "  xx2 -> [1 0 0]\n",
       "  xx3 -> [1 0 0]\n",
       "  yt1 -> [0 1 0]\n",
       "  yx1 -> [0 0 1]\n",
       "  yt2 -> [0 1 0]\n",
       "  yx2 -> [0 2 1]"
      ]
     },
     "execution_count": 118,
     "metadata": {},
     "output_type": "execute_result"
    }
   ],
   "source": [
    "cox_ring(product)"
   ]
  },
  {
   "cell_type": "markdown",
   "id": "76c4fa36",
   "metadata": {},
   "source": [
    "Notice that the set of variables \"xx*\" correspond to the $\\mathbb{P}^2$ factor, and the remaining variables are the homogeneous coordinates of the Hirzebruch surface $\\mathbb{F}_2$."
   ]
  },
  {
   "cell_type": "markdown",
   "id": "4e02bd35",
   "metadata": {},
   "source": [
    "## 3.I Triangulations"
   ]
  },
  {
   "cell_type": "markdown",
   "id": "d3749867",
   "metadata": {},
   "source": [
    "Triangulations of polytopes open an entire arena for creating families of toric varieties whose properties are often related to one-another in interesting ways. A prominent example along these lines is the Kreuzer-Skarke database (cf. http://hep.itp.tuwien.ac.at/~kreuzer/CY/). Another popular example is the conifold transition, which we now use to demonstrate triangulation functionality in OSCAR:"
   ]
  },
  {
   "cell_type": "code",
   "execution_count": 119,
   "id": "3058f5f6",
   "metadata": {},
   "outputs": [
    {
     "data": {
      "text/plain": [
       "Polyhedron in ambient dimension 3"
      ]
     },
     "execution_count": 119,
     "metadata": {},
     "output_type": "execute_result"
    }
   ],
   "source": [
    "P = convex_hull([0 0 0; 0 0 1; 1 0 1; 1 1 1; 0 1 1])"
   ]
  },
  {
   "cell_type": "code",
   "execution_count": 120,
   "id": "2e6c745e",
   "metadata": {},
   "outputs": [
    {
     "data": {
      "text/plain": [
       "2-element Vector{NormalToricVariety}:\n",
       " Normal toric variety\n",
       " Normal toric variety"
      ]
     },
     "execution_count": 120,
     "metadata": {},
     "output_type": "execute_result"
    }
   ],
   "source": [
    " (v1, v2) = normal_toric_varieties_from_star_triangulations(P)"
   ]
  },
  {
   "cell_type": "markdown",
   "id": "613b4fe6",
   "metadata": {},
   "source": [
    "If desired, you can look at $P$ by invoking *visualize(P)*. The polyhedron $P$ admits exactly two fine, regular, star triangulations. These were used to create the toric varieties $v_1$ and $v_2$. We now study these two varieties:"
   ]
  },
  {
   "cell_type": "code",
   "execution_count": 121,
   "id": "355ceab9",
   "metadata": {},
   "outputs": [
    {
     "data": {
      "text/plain": [
       "true"
      ]
     },
     "execution_count": 121,
     "metadata": {},
     "output_type": "execute_result"
    }
   ],
   "source": [
    "is_smooth(v1)"
   ]
  },
  {
   "cell_type": "code",
   "execution_count": 122,
   "id": "57442ac8",
   "metadata": {},
   "outputs": [
    {
     "data": {
      "text/plain": [
       "false"
      ]
     },
     "execution_count": 122,
     "metadata": {},
     "output_type": "execute_result"
    }
   ],
   "source": [
    "is_projective(v1)"
   ]
  },
  {
   "cell_type": "code",
   "execution_count": 123,
   "id": "d184417e",
   "metadata": {},
   "outputs": [
    {
     "data": {
      "text/plain": [
       "3"
      ]
     },
     "execution_count": 123,
     "metadata": {},
     "output_type": "execute_result"
    }
   ],
   "source": [
    "dim(v1)"
   ]
  },
  {
   "cell_type": "code",
   "execution_count": 124,
   "id": "69e68a1c",
   "metadata": {},
   "outputs": [
    {
     "data": {
      "text/plain": [
       "false"
      ]
     },
     "execution_count": 124,
     "metadata": {},
     "output_type": "execute_result"
    }
   ],
   "source": [
    "is_complete(v1)"
   ]
  },
  {
   "cell_type": "code",
   "execution_count": 125,
   "id": "2cd0d131",
   "metadata": {},
   "outputs": [
    {
     "data": {
      "text/plain": [
       "Multivariate polynomial ring in 4 variables over QQ graded by \n",
       "  x1 -> [1]\n",
       "  x2 -> [-1]\n",
       "  x3 -> [-1]\n",
       "  x4 -> [1]"
      ]
     },
     "execution_count": 125,
     "metadata": {},
     "output_type": "execute_result"
    }
   ],
   "source": [
    "cox_ring(v1)"
   ]
  },
  {
   "cell_type": "code",
   "execution_count": 126,
   "id": "c6acecd8",
   "metadata": {},
   "outputs": [
    {
     "data": {
      "text/plain": [
       "ideal(x1*x4)"
      ]
     },
     "execution_count": 126,
     "metadata": {},
     "output_type": "execute_result"
    }
   ],
   "source": [
    "stanley_reisner_ideal(v1)"
   ]
  },
  {
   "cell_type": "markdown",
   "id": "333957a6",
   "metadata": {},
   "source": [
    "If we repeat these line with $v_2$, then the only difference is:"
   ]
  },
  {
   "cell_type": "code",
   "execution_count": 127,
   "id": "56b8624e",
   "metadata": {},
   "outputs": [
    {
     "data": {
      "text/plain": [
       "ideal(x2*x3)"
      ]
     },
     "execution_count": 127,
     "metadata": {},
     "output_type": "execute_result"
    }
   ],
   "source": [
    "stanley_reisner_ideal(v2)"
   ]
  },
  {
   "cell_type": "markdown",
   "id": "069877aa",
   "metadata": {},
   "source": [
    "So in a sence, the transition from $v_1$ to $v_2$ means that the roles of ($x_2$, $x_4$) and ($x_1$, $x_3$) are exchanged. Indeed, the conifold transition means to first perform a deformation which shrinks an algebraic cycle to zero. This leads to a conifold singularity which is subsequently resolved by blowing up another algebraic cycle."
   ]
  },
  {
   "cell_type": "markdown",
   "id": "05a3e827",
   "metadata": {},
   "source": [
    "## 3.J Benchmarking: An involved triangulation computation"
   ]
  },
  {
   "cell_type": "markdown",
   "id": "9edb57a6",
   "metadata": {},
   "source": [
    "Triangulations are a topic that features prominently in applied mathematics, e.g. in string theory. The following code was used in a string theory publication (https://arxiv.org/abs/2205.00008):"
   ]
  },
  {
   "cell_type": "code",
   "execution_count": 128,
   "id": "60ef9e8f",
   "metadata": {},
   "outputs": [
    {
     "data": {
      "text/plain": [
       "involved_triangulation (generic function with 1 method)"
      ]
     },
     "execution_count": 128,
     "metadata": {},
     "output_type": "execute_result"
    }
   ],
   "source": [
    "function involved_triangulation()\n",
    "    \n",
    "    # (0) Define the polytope\n",
    "    fac1 = convex_hull( [-1 -1 -1; 2 -1 -1; -1 2 -1]);\n",
    "    fac2 = convex_hull( [-1 -1 -1; 2 -1 -1; -1 -1 5]);\n",
    "    fac3 = convex_hull( [-1 -1 -1; -1 2 -1; -1 -1 5]);\n",
    "    fac4 = convex_hull( [2 -1 -1; -1 2 -1; -1 -1 5]);\n",
    "    fac = fac1;\n",
    "    \n",
    "    # (1) Set variable names of our choice\n",
    "    vars_dict = Dict();\n",
    "    vars_dict[matrix(ZZ,[-1 -1 -1])] = \"x0\";\n",
    "    vars_dict[matrix(ZZ,[2 -1 -1])] = \"x1\";\n",
    "    vars_dict[matrix(ZZ,[-1 2 -1])] = \"x2\";\n",
    "    vars_dict[matrix(ZZ,[-1 -1 5])] = \"x3\";\n",
    "    vars_dict[matrix(ZZ,[-1 -1 0])] = \"x4\";\n",
    "    vars_dict[matrix(ZZ,[-1 -1 1])] = \"x5\";\n",
    "    vars_dict[matrix(ZZ,[-1 -1 2])] = \"x6\";\n",
    "    vars_dict[matrix(ZZ,[-1 -1 3])] = \"x7\";\n",
    "    vars_dict[matrix(ZZ,[-1 -1 4])] = \"x8\";\n",
    "    vars_dict[matrix(ZZ,[-1 0 -1])] = \"x9\";\n",
    "    vars_dict[matrix(ZZ,[-1 0 0])] = \"x10\";\n",
    "    vars_dict[matrix(ZZ,[-1 0 1])] = \"x11\";\n",
    "    vars_dict[matrix(ZZ,[-1 0 2])] = \"x12\";\n",
    "    vars_dict[matrix(ZZ,[-1 0 3])] = \"x13\";\n",
    "    vars_dict[matrix(ZZ,[-1 1 -1])] = \"x14\";\n",
    "    vars_dict[matrix(ZZ,[-1 1 0])] = \"x15\";\n",
    "    vars_dict[matrix(ZZ,[-1 1 1])] = \"x16\";\n",
    "    vars_dict[matrix(ZZ,[0 -1 -1])] = \"x17\";\n",
    "    vars_dict[matrix(ZZ,[0 -1 0])] = \"x18\";\n",
    "    vars_dict[matrix(ZZ,[0 -1 1])] = \"x19\";\n",
    "    vars_dict[matrix(ZZ,[0 -1 2])] = \"x20\";\n",
    "    vars_dict[matrix(ZZ,[0 -1 3])] = \"x21\";\n",
    "    vars_dict[matrix(ZZ,[0 0 -1])] = \"x22\";\n",
    "    vars_dict[matrix(ZZ,[0 0 1])] = \"x23\";\n",
    "    vars_dict[matrix(ZZ,[0 1 -1])] = \"x24\";\n",
    "    vars_dict[matrix(ZZ,[1 -1 -1])] = \"x25\";\n",
    "    vars_dict[matrix(ZZ,[1 -1 0])] = \"x26\";\n",
    "    vars_dict[matrix(ZZ,[1 -1 1])] = \"x27\";\n",
    "    vars_dict[matrix(ZZ,[1 0 -1])] = \"x28\";\n",
    "    \n",
    "    #(2) Form point set to be triangulated\n",
    "    points = lattice_points(fac);\n",
    "    d = ambient_dim(fac)\n",
    "    pts = vcat(zero_matrix(ZZ, 1, d), matrix(ZZ, transpose(reduce(hcat,points))));\n",
    "    \n",
    "    #(3) Triangulate\n",
    "    trias = star_triangulations(pts; full=true, regular=true);\n",
    "    trias = [[[c[k]-1 for k in 2:length(c)] for c in t] for t in trias];\n",
    "    \n",
    "    #(4) Compute rays of all toric varieties\n",
    "    fan_rays = matrix(ZZ, points);\n",
    "    \n",
    "    #(5) Construct ring which contains all Stanley-Reisner ideals\n",
    "    max_cones = IncidenceMatrix(vcat(trias[1]));\n",
    "    pmfan = Polymake.fan.PolyhedralFan(RAYS=fan_rays, MAXIMAL_CONES=max_cones);\n",
    "    variety = NormalToricVariety(PolyhedralFan{fmpq}(pmfan));\n",
    "    my_vars = [vars_dict[fan_rays[i,:]] for i in 1:nrows(fan_rays)];\n",
    "    set_coordinate_names(variety, my_vars);\n",
    "    R = cox_ring(variety);\n",
    "    \n",
    "    #(6) Compute all ideals\n",
    "    sr_ideals = [];\n",
    "    for n in 1:length(trias)\n",
    "        id = stanley_reisner_ideal(R, SimplicialComplex(trias[n]));\n",
    "        push!(sr_ideals,id);\n",
    "    end;\n",
    "    \n",
    "    #(7) Finall intersect all ideals\n",
    "    return common_sr_ideal = reduce(intersect,sr_ideals);\n",
    "    \n",
    "end"
   ]
  },
  {
   "cell_type": "markdown",
   "id": "2dd7c40d",
   "metadata": {},
   "source": [
    "In a nutshell, this code computes all fine regular star triangulations of the polyhedron *fac1*, computes the Stanley-Reisner of the associated toric varieties and then intersects these ideals. As such, it finds the intersection theory that is common to this family of toric varieties.\n",
    "\n",
    "The code for *fac1* and *fac4* will likely execute within a few seconds. For the polyhedrons *fac2* or *fac3*, the task is much more involved and will likely take a few minutes. This is why in the above code, we fixed the choice of polyhedron to *fac1*. Brave users may which to challenge their computer a bit by altering that choice to *fac2* or *fac3*. The computations should still complete on most private computers within a few minutes.\n",
    "\n",
    "To benchmark the execution time of the function *involved_triangulation*, and thus provide comparision to other computer systems, we can execute the following:"
   ]
  },
  {
   "cell_type": "code",
   "execution_count": 129,
   "id": "2ba11127",
   "metadata": {},
   "outputs": [
    {
     "name": "stdout",
     "output_type": "stream",
     "text": [
      "  277.839 ms (823024 allocations: 30.45 MiB)\n"
     ]
    },
    {
     "data": {
      "text/plain": [
       "ideal(x24*x1, x17*x1, x2*x1, x0*x1, x2*x28, x9*x28, x14*x25, x0*x25, x17*x24, x9*x2, x0*x2, x0*x14, x9*x14*x1, x0*x24*x28, x14*x17*x28, x9*x24*x25, x2*x17*x25, x22*x25*x28*x1, x14*x22*x28*x1, x9*x22*x25*x1, x22*x24*x25*x28, x17*x22*x25*x28, x14*x22*x24*x28, x0*x17*x22*x28, x2*x22*x24*x25, x9*x17*x22*x25, x14*x2*x22*x24, x9*x14*x22*x24, x0*x9*x22*x24, x14*x2*x17*x22, x9*x14*x17*x22, x0*x9*x17*x22)"
      ]
     },
     "execution_count": 129,
     "metadata": {},
     "output_type": "execute_result"
    }
   ],
   "source": [
    "using BenchmarkTools\n",
    "@btime involved_triangulation()"
   ]
  },
  {
   "cell_type": "markdown",
   "id": "507ee91f",
   "metadata": {},
   "source": [
    "You might find it interesting to compare your executation time to the following result:\n",
    "* Execution time: 264.934ms,\n",
    "* 820981 allocations (30.42 MiB).\n",
    "\n",
    "This result was obtained on January 17, 2024 by runnning the OSCAR (see the beginning of this notebook for the version) with Julia 1.9.2 on a TUXEDO InfinityBook Pro 14 v6 with Intel Core i7-Quad-Core, 64GB RAM and operating system Tuxedo OS (based on Ubuntu 22.04)."
   ]
  },
  {
   "cell_type": "markdown",
   "id": "c4c37903",
   "metadata": {},
   "source": [
    "## 3.K Turning off input checks"
   ]
  },
  {
   "cell_type": "markdown",
   "id": "a7dece43",
   "metadata": {},
   "source": [
    "OSCAR aims for a broad user audience. As such, input is usually checked for consistency. This comes at the expense of loosing a bit of performance and possibly modifying the input data (if needed), e.g. shuffling it. In the toric settings, such shufflings of e.g. the order of rays can be undesirable.\n",
    "\n",
    "It is possible to switch off such input checks when creating toric varieties. *However, it must be emphasized that then it is the user's responsibility to provide sane input.*\n",
    "\n",
    "As an example, the following lines are executed internally to create the del Pezzo surface $dP_3$:"
   ]
  },
  {
   "cell_type": "code",
   "execution_count": 130,
   "id": "d2a40fcc",
   "metadata": {},
   "outputs": [
    {
     "data": {
      "text/plain": [
       "Normal toric variety"
      ]
     },
     "execution_count": 130,
     "metadata": {},
     "output_type": "execute_result"
    }
   ],
   "source": [
    "fan_rays = [1 0; 0 1; -1 -1; 1 1; 0 -1; -1 0]\n",
    "cones = IncidenceMatrix([[1, 4], [2, 4], [1, 5], [5, 3], [2, 6], [6, 3]])\n",
    "variety = normal_toric_variety(PolyhedralFan(fan_rays, cones; non_redundant = true))"
   ]
  },
  {
   "cell_type": "markdown",
   "id": "56241ab3",
   "metadata": {},
   "source": [
    "Notice the *non_redundant = true* entry in the constructor for *NormalToricVariety*. This switches off the input check by informing OSCAR that we (= the users) made sure that there is no redundancy in the input. It is encouraged to use this functionality with care and only after checking the input carefully.\n",
    "\n",
    "To continue with the above example, we would like to see that this is indeed a del Pezzo surface. This can be seen directly from the fan - the three last rays correspond to the star subdivision of the 3 maximal cones of $\\mathbb{P}^2$ - or by studying the properties of the variety in more detail. We opt for the latter and first assign suitable variable names:"
   ]
  },
  {
   "cell_type": "code",
   "execution_count": 131,
   "id": "06a0a031",
   "metadata": {},
   "outputs": [],
   "source": [
    "vars = [\"x1\", \"x2\", \"x3\", \"e1\", \"e2\", \"e3\"]\n",
    " set_coordinate_names(variety, vars[1:6])"
   ]
  },
  {
   "cell_type": "markdown",
   "id": "ebd16d50",
   "metadata": {},
   "source": [
    "It is also convenient to make a (valid!) standard choice for the grading of the cox ring. Namely, this must be such that the grading matrix corresponds to the map from the character lattice to the torus-invariant Weil divisor group. It is not too hard to verify that the following is a valid choice:"
   ]
  },
  {
   "cell_type": "code",
   "execution_count": 132,
   "id": "ea12eede",
   "metadata": {},
   "outputs": [],
   "source": [
    "weights = matrix(ZZ, [1 1 1 0; 1 1 0 1; 1 0 1 1; 0 -1 0 0; 0 0 -1 0; 0 0 0 -1])\n",
    "set_attribute!(variety, :map_from_torusinvariant_weil_divisor_group_to_class_group, hom(torusinvariant_weil_divisor_group(variety), class_group(variety), weights))"
   ]
  },
  {
   "cell_type": "markdown",
   "id": "503fae45",
   "metadata": {},
   "source": [
    "When executing *del_pezzo_surface(3)* more properties are set by OSCAR. But that put aside, the above are the internal steps of the constructor.\n",
    "\n",
    "With that said, the following should identify this space as the del Pezzo surface $dP_3$:"
   ]
  },
  {
   "cell_type": "code",
   "execution_count": 133,
   "id": "676ade3c",
   "metadata": {},
   "outputs": [
    {
     "data": {
      "text/plain": [
       "Multivariate polynomial ring in 6 variables over QQ graded by \n",
       "  x1 -> [1 1 1 0]\n",
       "  x2 -> [1 1 0 1]\n",
       "  x3 -> [1 0 1 1]\n",
       "  e1 -> [0 -1 0 0]\n",
       "  e2 -> [0 0 -1 0]\n",
       "  e3 -> [0 0 0 -1]"
      ]
     },
     "execution_count": 133,
     "metadata": {},
     "output_type": "execute_result"
    }
   ],
   "source": [
    "cox_ring(variety)"
   ]
  },
  {
   "cell_type": "code",
   "execution_count": 134,
   "id": "8dc6087a",
   "metadata": {},
   "outputs": [
    {
     "data": {
      "text/plain": [
       "true"
      ]
     },
     "execution_count": 134,
     "metadata": {},
     "output_type": "execute_result"
    }
   ],
   "source": [
    "is_smooth(variety)"
   ]
  },
  {
   "cell_type": "code",
   "execution_count": 135,
   "id": "38b14b68",
   "metadata": {},
   "outputs": [
    {
     "data": {
      "text/plain": [
       "true"
      ]
     },
     "execution_count": 135,
     "metadata": {},
     "output_type": "execute_result"
    }
   ],
   "source": [
    "is_projective(variety)"
   ]
  },
  {
   "cell_type": "code",
   "execution_count": 136,
   "id": "bb28b32e",
   "metadata": {},
   "outputs": [
    {
     "data": {
      "text/plain": [
       "5-element Vector{ZZRingElem}:\n",
       " 1\n",
       " 0\n",
       " 4\n",
       " 0\n",
       " 1"
      ]
     },
     "execution_count": 136,
     "metadata": {},
     "output_type": "execute_result"
    }
   ],
   "source": [
    "[betti_number(variety,i) for i in range(0,4)]"
   ]
  },
  {
   "cell_type": "code",
   "execution_count": 137,
   "id": "ea340fdd",
   "metadata": {},
   "outputs": [
    {
     "data": {
      "text/plain": [
       "GrpAb: Z^4"
      ]
     },
     "execution_count": 137,
     "metadata": {},
     "output_type": "execute_result"
    }
   ],
   "source": [
    "picard_group(variety)"
   ]
  },
  {
   "cell_type": "code",
   "execution_count": 138,
   "id": "3a0716f1",
   "metadata": {},
   "outputs": [
    {
     "data": {
      "text/plain": [
       "GrpAb: Z^6"
      ]
     },
     "execution_count": 138,
     "metadata": {},
     "output_type": "execute_result"
    }
   ],
   "source": [
    "torusinvariant_weil_divisor_group(variety)"
   ]
  },
  {
   "cell_type": "code",
   "execution_count": 139,
   "id": "ea65ee31",
   "metadata": {},
   "outputs": [
    {
     "data": {
      "text/plain": [
       "GrpAb: Z^2"
      ]
     },
     "execution_count": 139,
     "metadata": {},
     "output_type": "execute_result"
    }
   ],
   "source": [
    "character_lattice(variety)"
   ]
  },
  {
   "cell_type": "markdown",
   "id": "2b8a09dc",
   "metadata": {},
   "source": [
    "# 4 Advanced topics"
   ]
  },
  {
   "cell_type": "markdown",
   "id": "034ecbc0",
   "metadata": {},
   "source": [
    "## 4.A Vanishing sets"
   ]
  },
  {
   "cell_type": "markdown",
   "id": "8d31a88e",
   "metadata": {},
   "source": [
    "For (smooth, complete) and (simplicial, projective) toric varieties, it is possible to find a unified description for all line bundles for which a certain cohomology class vanishes. This set is then referred to as a vanishing set.\n",
    "\n",
    "The first description of this approach can be found in appendix B of https://arxiv.org/pdf/1802.08860.pdf. The corresponding functionality is available in Oscar.\n",
    "\n",
    "We begin by demonstrating this for the projective space $\\mathbb{P}^2$, for which the vanishing sets are well-known. Namely:\n",
    "\\begin{align}\n",
    "V^0( \\mathbb{P}^2 ) &= \\{ \\mathcal{L} \\in \\mathrm{Pic}(\\mathbb{P}^2) | h^0(\\mathbb{P}^2, \\mathcal{L}) = 0\\} = \\{ \\mathcal{L} \\in \\mathrm{Pic}(\\mathbb{P}^2) | \\mathrm{deg}( \\mathcal{L} ) < 0 \\} \\, , \\\\\n",
    "V^1( \\mathbb{P}^2 ) &= \\{ \\mathcal{L} \\in \\mathrm{Pic}(\\mathbb{P}^2) | h^1(\\mathbb{P}^2, \\mathcal{L}) = 0\\} = \\mathrm{Pic}(\\mathbb{P}^2) \\, , \\\\\n",
    "V^2( \\mathbb{P}^2 ) &= \\{ \\mathcal{L} \\in \\mathrm{Pic}(\\mathbb{P}^2) | h^2(\\mathbb{P}^2, \\mathcal{L}) = 0\\} = \\{ \\mathcal{L} \\in \\mathrm{Pic}(\\mathbb{P}^2) | \\mathrm{deg}( \\mathcal{L} ) > -2 \\}\\, .\n",
    "\\end{align}\n",
    "Let us recompute this with OSCAR:"
   ]
  },
  {
   "cell_type": "code",
   "execution_count": 140,
   "id": "fac1fd5d",
   "metadata": {},
   "outputs": [
    {
     "data": {
      "text/plain": [
       "3-element Vector{ToricVanishingSet}:\n",
       " Toric vanishing set for cohomology indices [0]\n",
       " Toric vanishing set for cohomology indices [1]\n",
       " Toric vanishing set for cohomology indices [2]"
      ]
     },
     "execution_count": 140,
     "metadata": {},
     "output_type": "execute_result"
    }
   ],
   "source": [
    "vs = vanishing_sets(P2)"
   ]
  },
  {
   "cell_type": "code",
   "execution_count": 141,
   "id": "94fafa02",
   "metadata": {},
   "outputs": [
    {
     "data": {
      "text/plain": [
       "1-element Vector{Polyhedron{QQFieldElem}}:\n",
       " Polyhedron in ambient dimension 1"
      ]
     },
     "execution_count": 141,
     "metadata": {},
     "output_type": "execute_result"
    }
   ],
   "source": [
    "polyhedra(vs[1])"
   ]
  },
  {
   "cell_type": "code",
   "execution_count": 142,
   "id": "e68b153c",
   "metadata": {},
   "outputs": [
    {
     "data": {
      "text/plain": [
       "Polyhedron in ambient dimension 1"
      ]
     },
     "execution_count": 142,
     "metadata": {},
     "output_type": "execute_result"
    }
   ],
   "source": [
    "p0 = polyhedra(vs[1])[1]"
   ]
  },
  {
   "cell_type": "code",
   "execution_count": 143,
   "id": "00fe619e",
   "metadata": {},
   "outputs": [
    {
     "data": {
      "text/plain": [
       "1-element SubObjectIterator{PointVector{QQFieldElem}}:\n",
       " [0]"
      ]
     },
     "execution_count": 143,
     "metadata": {},
     "output_type": "execute_result"
    }
   ],
   "source": [
    "vertices(p0)"
   ]
  },
  {
   "cell_type": "code",
   "execution_count": 144,
   "id": "e5601b17",
   "metadata": {},
   "outputs": [
    {
     "data": {
      "text/plain": [
       "1-element SubObjectIterator{RayVector{QQFieldElem}}:\n",
       " [1]"
      ]
     },
     "execution_count": 144,
     "metadata": {},
     "output_type": "execute_result"
    }
   ],
   "source": [
    "rays(p0)"
   ]
  },
  {
   "cell_type": "markdown",
   "id": "2c2b2a89",
   "metadata": {},
   "source": [
    "We are thus looking at $C = \\mathrm{Span}_{\\mathbb{Z}_{\\geq 0}}(1) \\}$. This cone is a subset of $\\mathrm{Pic}( \\mathbb{P}^2)$ and the vanishing set is its complement, that is:\n",
    "$$V^0( \\mathbb{P}^2 ) = \\{ \\mathcal{L} \\in \\mathrm{Pic}(\\mathbb{P}^2) | h^0(\\mathbb{P}^2, \\mathcal{L}) = 0\\} = \\{ \\mathcal{L} \\in \\mathrm{Pic}(\\mathbb{P}^2) | \\mathcal{L} ) \\notin C \\} \\, .$$\n",
    "It is readily verified that this indeed matches the above expectation.\n",
    "\n",
    "Recall that $V^1( \\mathbb{P}^2 ) = \\mathrm{Pic}(\\mathbb{P}^2)$. This we can see quickly:"
   ]
  },
  {
   "cell_type": "code",
   "execution_count": 145,
   "id": "23379a97",
   "metadata": {},
   "outputs": [
    {
     "data": {
      "text/plain": [
       "Polyhedron{QQFieldElem}[]"
      ]
     },
     "execution_count": 145,
     "metadata": {},
     "output_type": "execute_result"
    }
   ],
   "source": [
    "polyhedra(vs[2])"
   ]
  },
  {
   "cell_type": "markdown",
   "id": "dab23dd6",
   "metadata": {},
   "source": [
    "This list of polyhedra is empty. In other words, the vanishing set is the complement of the empty set in $\\mathrm{Pic}( \\mathbb{P}^2 )$, which is nothing but the entire Picard group.\n",
    "\n",
    "Let us now look at the vanishing set for $h^2$:"
   ]
  },
  {
   "cell_type": "code",
   "execution_count": 146,
   "id": "35435687",
   "metadata": {},
   "outputs": [
    {
     "data": {
      "text/plain": [
       "1-element Vector{Polyhedron{QQFieldElem}}:\n",
       " Polyhedron in ambient dimension 1"
      ]
     },
     "execution_count": 146,
     "metadata": {},
     "output_type": "execute_result"
    }
   ],
   "source": [
    "polyhedra(vs[3])"
   ]
  },
  {
   "cell_type": "code",
   "execution_count": 147,
   "id": "826cb0db",
   "metadata": {},
   "outputs": [
    {
     "data": {
      "text/plain": [
       "Polyhedron in ambient dimension 1"
      ]
     },
     "execution_count": 147,
     "metadata": {},
     "output_type": "execute_result"
    }
   ],
   "source": [
    "p3 = polyhedra(vs[3])[1]"
   ]
  },
  {
   "cell_type": "code",
   "execution_count": 148,
   "id": "7654fa72",
   "metadata": {},
   "outputs": [
    {
     "data": {
      "text/plain": [
       "1-element SubObjectIterator{PointVector{QQFieldElem}}:\n",
       " [-3]"
      ]
     },
     "execution_count": 148,
     "metadata": {},
     "output_type": "execute_result"
    }
   ],
   "source": [
    "vertices(p3)"
   ]
  },
  {
   "cell_type": "code",
   "execution_count": 149,
   "id": "7fa64721",
   "metadata": {},
   "outputs": [
    {
     "data": {
      "text/plain": [
       "1-element SubObjectIterator{RayVector{QQFieldElem}}:\n",
       " [-1]"
      ]
     },
     "execution_count": 149,
     "metadata": {},
     "output_type": "execute_result"
    }
   ],
   "source": [
    "rays(p3)"
   ]
  },
  {
   "cell_type": "markdown",
   "id": "f8a9d175",
   "metadata": {},
   "source": [
    "We are thus looking at $P_3 = \\{-3\\} + \\mathrm{Span}_{\\mathbb{Z}_{\\geq 0}} \\{-1\\}$. Its complement is $V^2( \\mathbb{P}^2 )$, which matches our expectation.\n",
    "\n",
    "Recall that we constructed a line bundle $\\mathcal{L}$ on $\\mathbb{P}^2$ above:"
   ]
  },
  {
   "cell_type": "code",
   "execution_count": 150,
   "id": "8bdbe371",
   "metadata": {},
   "outputs": [
    {
     "data": {
      "text/plain": [
       "Toric line bundle on a normal toric variety"
      ]
     },
     "execution_count": 150,
     "metadata": {},
     "output_type": "execute_result"
    }
   ],
   "source": [
    "L = toric_line_bundle(P2, [1])"
   ]
  },
  {
   "cell_type": "markdown",
   "id": "741417ca",
   "metadata": {},
   "source": [
    "Its cohomologies are:"
   ]
  },
  {
   "cell_type": "code",
   "execution_count": 151,
   "id": "59c8bc52",
   "metadata": {},
   "outputs": [
    {
     "data": {
      "text/plain": [
       "3-element Vector{ZZRingElem}:\n",
       " 3\n",
       " 0\n",
       " 0"
      ]
     },
     "execution_count": 151,
     "metadata": {},
     "output_type": "execute_result"
    }
   ],
   "source": [
    "all_cohomologies(L)"
   ]
  },
  {
   "cell_type": "markdown",
   "id": "6dd40d08",
   "metadata": {},
   "source": [
    "So $L$ is not $V^0( \\mathbb{P}^2 )$ but in $V^1( \\mathbb{P}^2 )$ and $V^2( \\mathbb{P}^2 )$:"
   ]
  },
  {
   "cell_type": "code",
   "execution_count": 152,
   "id": "a6b48579",
   "metadata": {},
   "outputs": [
    {
     "data": {
      "text/plain": [
       "false"
      ]
     },
     "execution_count": 152,
     "metadata": {},
     "output_type": "execute_result"
    }
   ],
   "source": [
    "contains(vs[1],L)"
   ]
  },
  {
   "cell_type": "code",
   "execution_count": 153,
   "id": "95d1c418",
   "metadata": {},
   "outputs": [
    {
     "data": {
      "text/plain": [
       "true"
      ]
     },
     "execution_count": 153,
     "metadata": {},
     "output_type": "execute_result"
    }
   ],
   "source": [
    "contains(vs[2],L)"
   ]
  },
  {
   "cell_type": "code",
   "execution_count": 154,
   "id": "da686378",
   "metadata": {},
   "outputs": [
    {
     "data": {
      "text/plain": [
       "true"
      ]
     },
     "execution_count": 154,
     "metadata": {},
     "output_type": "execute_result"
    }
   ],
   "source": [
    "contains(vs[3],L)"
   ]
  },
  {
   "cell_type": "markdown",
   "id": "643f4604",
   "metadata": {},
   "source": [
    "## 4.B Intersection theory"
   ]
  },
  {
   "cell_type": "markdown",
   "id": "1b882d96",
   "metadata": {},
   "source": [
    "Intersection theory for toric varieties is well-understood and the Chow ring under good control. For a good example, let us consider the del Pezzo surface $dP_2$:"
   ]
  },
  {
   "cell_type": "code",
   "execution_count": 155,
   "id": "50fb2c0a",
   "metadata": {},
   "outputs": [
    {
     "data": {
      "text/plain": [
       "Normal toric variety"
      ]
     },
     "execution_count": 155,
     "metadata": {},
     "output_type": "execute_result"
    }
   ],
   "source": [
    "dP2 = del_pezzo_surface(2)"
   ]
  },
  {
   "cell_type": "markdown",
   "id": "8d866b1c",
   "metadata": {},
   "source": [
    "Recall that this constructors invokes standard names for the homogeneous coordinates. This we can see upon execution of the Cox ring:"
   ]
  },
  {
   "cell_type": "code",
   "execution_count": 156,
   "id": "8c404f51",
   "metadata": {},
   "outputs": [
    {
     "data": {
      "text/plain": [
       "Multivariate polynomial ring in 5 variables over QQ graded by \n",
       "  x1 -> [1 1 1]\n",
       "  x2 -> [1 1 0]\n",
       "  x3 -> [1 0 1]\n",
       "  e1 -> [0 -1 0]\n",
       "  e2 -> [0 0 -1]"
      ]
     },
     "execution_count": 156,
     "metadata": {},
     "output_type": "execute_result"
    }
   ],
   "source": [
    "S = cox_ring(dP2)"
   ]
  },
  {
   "cell_type": "markdown",
   "id": "e019841a",
   "metadata": {},
   "source": [
    "We now recall the toric ideal-variety correspondence from proposition 5.2.7  in the book \"Toric Varieties\" by David Cox, Hal Schenk and John Little:\n",
    "\n",
    "Let $X_\\Sigma$ be a simplicial toric variety. Then there is a bijective correspondence\n",
    "$$ \\{ \\text{ closed subvarieties of $X_\\Sigma$ } \\} \\leftrightarrow \\{ \\text{ radical homogeneous ideals $I \\subseteq B(\\Sigma) \\subseteq S$} \\} \\, .$$\n",
    "In this expression $B(\\Sigma)$ is the irrelevant ideal. For instance, for $\\mathrm{dP}_2$ we have:"
   ]
  },
  {
   "cell_type": "code",
   "execution_count": 157,
   "id": "29b3a229",
   "metadata": {},
   "outputs": [
    {
     "data": {
      "text/plain": [
       "ideal(x2*x3*e2, x1*x3*e2, x2*x3*e1, x1*x2*e1, x1*e1*e2)"
      ]
     },
     "execution_count": 157,
     "metadata": {},
     "output_type": "execute_result"
    }
   ],
   "source": [
    "irrelevant_ideal(dP2)"
   ]
  },
  {
   "cell_type": "markdown",
   "id": "d0e0bae1",
   "metadata": {},
   "source": [
    "Consequently, for every radical homogeneous ideal $I \\subseteq B(\\Sigma) \\subseteq S$, we find a closed subvariety $V( I ) \\subseteq X_\\Sigma$ and every closed subvariety of a simplicial toric variety $X_\\Sigma$ arises in this way.\n",
    "\n",
    "An algebraic cycle is a formal linear sum of such closed subvarieties. Modulo rational equivalence, the algebraic cycles furnish the Chow ring. We can compute this ring as follows in OSCAR:"
   ]
  },
  {
   "cell_type": "code",
   "execution_count": 158,
   "id": "da0d77a6",
   "metadata": {},
   "outputs": [
    {
     "data": {
      "text/plain": [
       "Quotient\n",
       "  of multivariate polynomial ring in 5 variables x1, x2, x3, e1, e2\n",
       "    over rational field\n",
       "  by ideal(x1 - x3 + e1, x2 - x3 + e1 - e2, x1*x2, x1*x3, e1*e2, x2*e2, x3*e1)"
      ]
     },
     "execution_count": 158,
     "metadata": {},
     "output_type": "execute_result"
    }
   ],
   "source": [
    "chow_ring(dP2)"
   ]
  },
  {
   "cell_type": "markdown",
   "id": "39ab0ff2",
   "metadata": {},
   "source": [
    "There are several ways to create a rational equivalence class of an algebraic cycle. Here is one way to create such an object:"
   ]
  },
  {
   "cell_type": "code",
   "execution_count": 159,
   "id": "9a8a9e87",
   "metadata": {},
   "outputs": [
    {
     "data": {
      "text/plain": [
       "Rational equivalence class on a normal toric variety represented by 6V(x3)+V(e1)+7V(e2)"
      ]
     },
     "execution_count": 159,
     "metadata": {},
     "output_type": "execute_result"
    }
   ],
   "source": [
    "d = toric_divisor(dP2, [1, 2, 3, 4, 5]);\n",
    "ac = rational_equivalence_class(d)"
   ]
  },
  {
   "cell_type": "markdown",
   "id": "30344208",
   "metadata": {},
   "source": [
    "So $ac$ is represented by an algebraic cycle which in turn is given by a formal linear sum of the closed subvarieties $V(x_3)$, $V(e_1)$ and $V(e_2)$, namely $6 V(x_3) + 1 V( e_1 ) + 7 V( e_2 )$.\n",
    "\n",
    "Intersections of rational equivalence classes can be computed in OSCAR:"
   ]
  },
  {
   "cell_type": "code",
   "execution_count": 160,
   "id": "85c9c7e1",
   "metadata": {},
   "outputs": [
    {
     "data": {
      "text/plain": [
       "Rational equivalence class on a normal toric variety represented by 34V(x2,x3)"
      ]
     },
     "execution_count": 160,
     "metadata": {},
     "output_type": "execute_result"
    }
   ],
   "source": [
    "ac * ac"
   ]
  },
  {
   "cell_type": "markdown",
   "id": "2f2eae9e",
   "metadata": {},
   "source": [
    "If we only care about topological intersection numbers, then the intersection form suffices:"
   ]
  },
  {
   "cell_type": "code",
   "execution_count": 161,
   "id": "bfc4c884",
   "metadata": {},
   "outputs": [
    {
     "data": {
      "text/plain": [
       "Dict{MPolyRingElem, QQFieldElem} with 15 entries:\n",
       "  x1*x3 => 0\n",
       "  x3*e2 => 1\n",
       "  x1^2  => -1\n",
       "  x1*e1 => 1\n",
       "  e2^2  => -1\n",
       "  x3^2  => 0\n",
       "  x2*x3 => 1\n",
       "  e1*e2 => 0\n",
       "  x2*e1 => 1\n",
       "  x1*e2 => 1\n",
       "  x2^2  => 0\n",
       "  e1^2  => -1\n",
       "  x3*e1 => 0\n",
       "  x1*x2 => 0\n",
       "  x2*e2 => 0"
      ]
     },
     "execution_count": 161,
     "metadata": {},
     "output_type": "execute_result"
    }
   ],
   "source": [
    "intersection_form(dP2)"
   ]
  },
  {
   "cell_type": "markdown",
   "id": "1266dbbe",
   "metadata": {},
   "source": [
    "Note that this is obtained upon normalization with the volume form:"
   ]
  },
  {
   "cell_type": "code",
   "execution_count": 162,
   "id": "485e2919",
   "metadata": {},
   "outputs": [
    {
     "data": {
      "text/plain": [
       "Cohomology class on a normal toric variety given by -e2^2"
      ]
     },
     "execution_count": 162,
     "metadata": {},
     "output_type": "execute_result"
    }
   ],
   "source": [
    "volume_form(dP2)"
   ]
  },
  {
   "cell_type": "markdown",
   "id": "017512d5-6c7d-4b96-8035-fd2811b85084",
   "metadata": {},
   "source": [
    "## 4.C Toric morphisms"
   ]
  },
  {
   "cell_type": "markdown",
   "id": "c397e642-decf-4d8c-b1bc-7c5288f07a9d",
   "metadata": {},
   "source": [
    "Morphisms among toric varieties are well understood. Let $X$ and $Y$ be toric varieties with polyhedral fans $F_X$ in $\\mathbb{Z}^n$ and $F_Y$ in $\\mathbb{Z}^m$. It can be shown that a grid morphism $\\mathbb{Z}^n \\to \\mathbb{Z}^m$, such that the image of every cone in $F_X$ is contained in a cone of $F_Y$ defines a morphism $X \\to Y$. Even the converse is true!\n",
    "\n",
    "Consequently, toric morphisms are computationally accessible and a lot is known about them. Let us give a simple example:"
   ]
  },
  {
   "cell_type": "code",
   "execution_count": 163,
   "id": "26ef6f83-a0f6-45a3-9c99-55309216ca63",
   "metadata": {},
   "outputs": [
    {
     "data": {
      "text/plain": [
       "Normal toric variety"
      ]
     },
     "execution_count": 163,
     "metadata": {},
     "output_type": "execute_result"
    }
   ],
   "source": [
    "domain_variety = projective_space(NormalToricVariety, 1)"
   ]
  },
  {
   "cell_type": "code",
   "execution_count": 164,
   "id": "27281fc7-e601-4b03-bf44-bca1c7363cd2",
   "metadata": {},
   "outputs": [
    {
     "data": {
      "text/plain": [
       "Normal toric variety"
      ]
     },
     "execution_count": 164,
     "metadata": {},
     "output_type": "execute_result"
    }
   ],
   "source": [
    "codomain_variety = hirzebruch_surface(2)"
   ]
  },
  {
   "cell_type": "code",
   "execution_count": 165,
   "id": "4a26bb4f-51d9-4617-8905-0291f2e0d32b",
   "metadata": {},
   "outputs": [
    {
     "data": {
      "text/plain": [
       "Map\n",
       "  from GrpAb: Z\n",
       "  to GrpAb: Z^2"
      ]
     },
     "execution_count": 165,
     "metadata": {},
     "output_type": "execute_result"
    }
   ],
   "source": [
    "mapping_matrix = matrix(ZZ, [[0, 1]])\n",
    "grid_morphism = hom(character_lattice(domain_variety), character_lattice(codomain_variety), mapping_matrix)"
   ]
  },
  {
   "cell_type": "code",
   "execution_count": 166,
   "id": "a866ed2f-298e-4dce-bc74-315745d1d299",
   "metadata": {},
   "outputs": [
    {
     "data": {
      "text/plain": [
       "Toric morphism"
      ]
     },
     "execution_count": 166,
     "metadata": {},
     "output_type": "execute_result"
    }
   ],
   "source": [
    "tm = toric_morphism(domain_variety, grid_morphism, codomain_variety)"
   ]
  },
  {
   "cell_type": "markdown",
   "id": "a9c20520-7cf8-4d7c-9fc9-3ba1f967b593",
   "metadata": {},
   "source": [
    "A toric morphism induces, among others, a map among the class groups of the toric varieties in question. In the example above we have:"
   ]
  },
  {
   "cell_type": "code",
   "execution_count": 167,
   "id": "62eefd38-74d7-421e-a8d8-acec090ab95b",
   "metadata": {},
   "outputs": [
    {
     "data": {
      "text/plain": [
       "Map\n",
       "  from GrpAb: Z\n",
       "  to GrpAb: Z^2"
      ]
     },
     "execution_count": 167,
     "metadata": {},
     "output_type": "execute_result"
    }
   ],
   "source": [
    "induced_morphism = morphism_on_class_group(tm)"
   ]
  },
  {
   "cell_type": "code",
   "execution_count": 168,
   "id": "81a87d79-70ce-4329-8869-202f7c968321",
   "metadata": {},
   "outputs": [
    {
     "data": {
      "text/plain": [
       "[0   1]"
      ]
     },
     "execution_count": 168,
     "metadata": {},
     "output_type": "execute_result"
    }
   ],
   "source": [
    "matrix(induced_morphism)"
   ]
  },
  {
   "cell_type": "markdown",
   "id": "44e6dc87-06d9-4434-adb7-868fceb5be8b",
   "metadata": {},
   "source": [
    "# 5 Toric schemes and subvarieties"
   ]
  },
  {
   "cell_type": "markdown",
   "id": "581f93e1-8182-4fa5-84c3-074625ea4baa",
   "metadata": {},
   "source": [
    "Every toric variety has an underlying schemes, obtained by forgetting the toric origin and \"just\" gluing affine schemes. On the long run, we aim to extend the interplay between schemes and toric varieties:\n",
    "* Toric algorithms often exhibit superior performance over generic scheme algorithms.\n",
    "* Certain operations, e.g. blow-ups, can force us to leave the regime of toric geometry. This is easily facilitated by consider the toric variety as schemes\n",
    "\n",
    "Let us return to one of our starting examples to demonstrate this \"forgetting the toric origin\":"
   ]
  },
  {
   "cell_type": "code",
   "execution_count": 169,
   "id": "0f1629cc-ba61-46e8-93cc-43e20ea8cc50",
   "metadata": {},
   "outputs": [
    {
     "data": {
      "text/plain": [
       "Spectrum\n",
       "  of quotient\n",
       "    of multivariate polynomial ring in 3 variables x1, x2, x3\n",
       "      over rational field\n",
       "    by ideal(-x1*x2 + x3^2)"
      ]
     },
     "execution_count": 169,
     "metadata": {},
     "output_type": "execute_result"
    }
   ],
   "source": [
    "C2 = positive_hull([1 1; -1 1])\n",
    "antv2 = affine_normal_toric_variety(C2)\n",
    "scheme_of_antv2 = underlying_scheme(antv2)"
   ]
  },
  {
   "cell_type": "markdown",
   "id": "6d86d894-bb9d-41d3-b068-8a3e7d8150da",
   "metadata": {},
   "source": [
    "Recall that we introduced affine toric varieties via theorem 1.2.18 of the book *Toric Varieties* by David Cox, John Little and Hal Schenck:\n",
    "\n",
    "Let $\\sigma \\subseteq N_{\\mathbb{R}} \\cong \\mathbb{R}^n$ be a rational polyhedral cone with semigroup $S_\\sigma = \\sigma^\\vee \\cap M$. Then the associated affine toric variety $U_\\sigma$ is given by\n",
    "\n",
    "$$ U_\\sigma = \\mathrm{Spec} \\left(\\mathbb{C} \\left[ S_\\sigma \\right]\\right) = \\mathrm{Spec} \\left(\\mathbb{C} \\left[ \\sigma^\\vee \\cap M \\right]\\right) \\, .$$\n",
    "\n",
    "Above, *scheme_of_antv2* is exactly $U_\\sigma$! The interested reader can find details on how to investigate this scheme $U_\\sigma$ in the documentation on the scheme functionality.\n",
    "\n",
    "Certainly, we would also like to be able to define subvarieties of toric varieties in the same way that we do for schemes/varieties. Indeed this is possible. As proven in the book *Toric varieties* by David Cox, John Little, Hal Schenk every closed subvariety of a simplicial toric variety is cut out by finitely many homogeneous polynomials in the Cox ring. Here is an example:"
   ]
  },
  {
   "cell_type": "code",
   "execution_count": 170,
   "id": "fb3cd27d-ca19-4184-9259-0b02472b7fd2",
   "metadata": {},
   "outputs": [
    {
     "data": {
      "text/plain": [
       "Closed subvariety of a normal toric variety"
      ]
     },
     "execution_count": 170,
     "metadata": {},
     "output_type": "execute_result"
    }
   ],
   "source": [
    "(x1, x2, x3) = gens(cox_ring(P2))\n",
    "c = closed_subvariety_of_toric_variety(P2, [x1])"
   ]
  },
  {
   "cell_type": "markdown",
   "id": "d2c8bab5-0024-4dcc-9c7a-101cf6c6ec5c",
   "metadata": {},
   "source": [
    "It can happen that such a subvariety is the empty set. We easily verify that *c* is not empty:"
   ]
  },
  {
   "cell_type": "code",
   "execution_count": 171,
   "id": "653ebfc3-f970-4d54-8887-6f786a38e387",
   "metadata": {},
   "outputs": [
    {
     "data": {
      "text/plain": [
       "false"
      ]
     },
     "execution_count": 171,
     "metadata": {},
     "output_type": "execute_result"
    }
   ],
   "source": [
    "is_empty(c)"
   ]
  },
  {
   "cell_type": "markdown",
   "id": "736b3e9c-eabb-4b48-8590-fdc2f5354b11",
   "metadata": {},
   "source": [
    "Here is an example of an empty subvariety:"
   ]
  },
  {
   "cell_type": "code",
   "execution_count": 172,
   "id": "433b7b20-aa6e-4b8a-beca-d920073c8469",
   "metadata": {},
   "outputs": [
    {
     "data": {
      "text/plain": [
       "true"
      ]
     },
     "execution_count": 172,
     "metadata": {},
     "output_type": "execute_result"
    }
   ],
   "source": [
    "c2 = closed_subvariety_of_toric_variety(P2, [x1, x2, x3])\n",
    "is_empty(c2)"
   ]
  },
  {
   "cell_type": "markdown",
   "id": "ee77ff2d-91f9-4533-94a1-91c42eabc991",
   "metadata": {},
   "source": [
    "This is not at all surprising. After all, we know that the homogeneous coordinates *x1*, *x2*, *x3* of the projective space must not vanish simultaneously.\n",
    "\n",
    "The defining ideal of such a subvariety is recovered as follows:"
   ]
  },
  {
   "cell_type": "code",
   "execution_count": 173,
   "id": "a95adc1c-7af2-44bd-a0c8-ebf644c687d9",
   "metadata": {},
   "outputs": [
    {
     "data": {
      "text/plain": [
       "ideal(x1)"
      ]
     },
     "execution_count": 173,
     "metadata": {},
     "output_type": "execute_result"
    }
   ],
   "source": [
    "defining_ideal(c)"
   ]
  },
  {
   "cell_type": "code",
   "execution_count": 174,
   "id": "4bb11370-7734-4f14-a17d-aeb16d40e561",
   "metadata": {},
   "outputs": [
    {
     "data": {
      "text/plain": [
       "ideal(x1, x2, x3)"
      ]
     },
     "execution_count": 174,
     "metadata": {},
     "output_type": "execute_result"
    }
   ],
   "source": [
    "defining_ideal(c2)"
   ]
  },
  {
   "cell_type": "code",
   "execution_count": null,
   "id": "4d58b314-0af4-4de7-8184-f4bdea9f2d83",
   "metadata": {},
   "outputs": [],
   "source": []
  }
 ],
 "metadata": {
  "kernelspec": {
   "display_name": "Julia 1.9.2",
   "language": "julia",
   "name": "julia-1.9"
  },
  "language_info": {
   "file_extension": ".jl",
   "mimetype": "application/julia",
   "name": "julia",
   "version": "1.9.2"
  }
 },
 "nbformat": 4,
 "nbformat_minor": 5
}
