{
 "cells": [
  {
   "cell_type": "markdown",
   "id": "a6df9a27",
   "metadata": {},
   "source": [
    "# Commutative Algebra and Polynomial Rings\n",
    "\n",
    "This tutorial provides an introduction to commutative algebra in OSCAR.\n",
    "The aim is to describe the functionalities for multivariate rings and ideals in these rings and to explain them with minimal examples.\n",
    "In order to facilitate the introduction, some of the methods are not presented in their entirety.\n",
    "For a full description of the topic, see https://docs.oscar-system.org/stable/CommutativeAlgebra/intro/.\n",
    "\n",
    "The reader needs no prior knowledge of *OSCAR*.\n",
    "\n",
    "The first step is to import the *OSCAR* package."
   ]
  },
  {
   "cell_type": "code",
   "execution_count": 1,
   "id": "2c3cd666",
   "metadata": {},
   "outputs": [
    {
     "name": "stdout",
     "output_type": "stream",
     "text": [
      " -----    -----    -----      -      -----   \n",
      "|     |  |     |  |     |    | |    |     |  \n",
      "|     |  |        |         |   |   |     |  \n",
      "|     |   -----   |        |     |  |-----   \n",
      "|     |        |  |        |-----|  |   |    \n",
      "|     |  |     |  |     |  |     |  |    |   \n",
      " -----    -----    -----   -     -  -     -  \n",
      "\n",
      "...combining (and extending) ANTIC, GAP, Polymake and Singular\n",
      "Version\u001b[32m 0.14.0 \u001b[39m... \n",
      " ... which comes with absolutely no warranty whatsoever\n",
      "Type: '?Oscar' for more information\n",
      "(c) 2019-2024 by The OSCAR Development Team\n"
     ]
    }
   ],
   "source": [
    "using Oscar"
   ]
  },
  {
   "cell_type": "markdown",
   "id": "fb3221c6",
   "metadata": {},
   "source": [
    "## Creating Multivariate Rings\n",
    "\n",
    "### Constructors\n",
    "\n",
    "Multivariate polynomial rings are constructed using:\n",
    "\n",
    "| Method |\n",
    "| :----------- |\n",
    "| `PolynomialRing(C::Ring, V::Vector{String}; ordering=:lex, cached = true)` |\n",
    "\n",
    "Its return value is a tuple `R, vars` consisting of a polynomial ring `R` with coefficient ring `C` and a vector `vars` of generators corresponding to the strings in vector `V`. \n",
    "The parameter `ordering` defines the monomial order and is assigned the default value `lex`. \n",
    "Caching is used to ensure that a constructed ring is unique in the system.\n",
    "\n",
    "##### Example"
   ]
  },
  {
   "cell_type": "code",
   "execution_count": 2,
   "id": "282b95f1",
   "metadata": {},
   "outputs": [
    {
     "data": {
      "text/plain": [
       "(Multivariate polynomial ring in 3 variables over ZZ, ZZMPolyRingElem[x, y, z])"
      ]
     },
     "execution_count": 2,
     "metadata": {},
     "output_type": "execute_result"
    }
   ],
   "source": [
    "# polynomial ring Z[x,y,z]\n",
    "Z_xyz, (x, y, z) = PolynomialRing(ZZ, [\"x\", \"y\", \"z\"])"
   ]
  },
  {
   "cell_type": "code",
   "execution_count": 3,
   "id": "83be725c",
   "metadata": {
    "scrolled": true
   },
   "outputs": [
    {
     "data": {
      "text/plain": [
       "(Multivariate polynomial ring in 1 variable over QQ, QQMPolyRingElem[x])"
      ]
     },
     "execution_count": 3,
     "metadata": {},
     "output_type": "execute_result"
    }
   ],
   "source": [
    "# polynomial ring Q[x,y,z]\n",
    "Q_x, x = PolynomialRing(QQ, [\"x\"])"
   ]
  },
  {
   "cell_type": "code",
   "execution_count": 4,
   "id": "c78764c3",
   "metadata": {},
   "outputs": [
    {
     "data": {
      "text/plain": [
       "(Multivariate polynomial ring in 9 variables over QQ, QQMPolyRingElem[x[1, 1] x[1, 2] x[1, 3]; x[2, 1] x[2, 2] x[2, 3]], QQMPolyRingElem[y[1], y[2]], [z[1, 1, 1];;;])"
      ]
     },
     "execution_count": 4,
     "metadata": {},
     "output_type": "execute_result"
    }
   ],
   "source": [
    "# polynomial ring whose variables have multi-indices\n",
    "R, (x, y, z) = PolynomialRing(QQ, \"x\" => (1:2, 1:3), \"y\" => 1:2, \"z\" => (1:1, 1:1, 1:1))"
   ]
  },
  {
   "cell_type": "markdown",
   "id": "238ee1df-551d-4e51-89cc-44cfd3b6b35a",
   "metadata": {},
   "source": [
    "## Interlude: Monomial Ordering\n",
    "\n",
    "Each multivariate polynomial ring in `OSCAR` comes equipped with a monomial ordering according to which the polynomials are stored and displayed. Independently of this ordering, Gröbner bases and, more generally, standard bases can be computed with respect to any monomial ordering: The `groebner_basis` and `standard_basis` functions provided by `OSCAR` allow one to specify the desired monomial `ordering` as a keyword argument. Typically, however, the user does not have to worry about Gröbner (standard) bases: The functions discussed in this chapter compute such bases behind the scenes when needed. Once computed, each such basis is cached for later reuse.\n",
    "\n",
    "Multivariate polynomial rings can also be graded. Most of the functions that follow apply to both graded and non-graded cases. We will usually only consider the non-graded case when giving minimal examples.\n"
   ]
  },
  {
   "cell_type": "markdown",
   "id": "b83f760e",
   "metadata": {},
   "source": [
    "### Coefficient Rings\n",
    "\n",
    "In OSCAR, Gröbner bases are implemented for multivariate polynomial rings over the fields and rings below:\n",
    "\n",
    "- Ring of integers $\\mathbb{Z}$ via `ZZ`.\n",
    "- Field of rational numbers $\\mathbb{Q}$ via `QQ`\n",
    "- Finite fields $\\mathbb{F}_p$ with prime $p$ via `GF(p)`\n",
    "- Finite fields $\\mathbb{F}_{p^n}$ with $p^n$ elements and prime $p$\n",
    "- Simple algebraic extensions of $\\mathbb{Q}$ or $\\mathbb{F}_p$.\n",
    "- Purely transcendental extensions of $\\mathbb{Q}$ or $\\mathbb{F}_p$.\n",
    "\n",
    "For the construction of finite fields and algebraic or transcendental extensions the following methods are used:\n",
    "\n",
    "| Method |\n",
    "| :----------- |\n",
    "| `FlintFiniteField(char::ZZRingElem, deg::Int, s::AbstractString; cached = true)` |\n",
    "| `NumberField(f::fmpq_poly, s::Union{AbstractString, Char, Symbol}; cached::Bool = true, check::Bool = true)` |\n",
    "| `NumberField(f::Poly{NumFieldElem}, s::String; cached::Bool = false, check::Bool = false) -> NumField, NumFieldElem` |\n",
    "| `FractionField(R::Ring; cached=true)` |\n",
    "\n",
    "- `FlintFiniteField`: Returns a tuple $(S,x)$ consisting of a finite field $S$ with characteristic `char` and positive degree `d` and a generator $x$. The characteristic must be a prime. If a Conway polynomial is known, the field is generated with this polynomial, otherwise a random sparse irreducible polynomial is used. The parameter `s` determines how the name of the generator $x$ is printed. Instead of `FlintFiniteField` the shorter `FiniteField` can be used.\n",
    "<br></br>\n",
    "- `NumberField`: Returns a tuple $(R, x)$ consisting of the algebraic number field $\\mathbb{Q}[x]/(f)$, where `f` is the specified polynomial, and the generator $x$. The string `s` specifies how the name of the generator $x$ is printed.\n",
    "<br></br>\n",
    "- `NumberField`: Returns a tuple $(L, b)$ consisting of the simple algebraic number field $L = K[x]/(f)$ and the class `b` of $x$ in $L$. Here `f` is an irreducible polynomial in $K[x]$ over a number field $K$. The string `s` specifies how the primitive element $b$ is printed.\n",
    "<br></br>\n",
    "- `FractionField`: Returns the field of fractions of the ring `R`.\n",
    "\n",
    "##### Example"
   ]
  },
  {
   "cell_type": "code",
   "execution_count": 5,
   "id": "21340534",
   "metadata": {},
   "outputs": [
    {
     "data": {
      "text/plain": [
       "Integer ring"
      ]
     },
     "execution_count": 5,
     "metadata": {},
     "output_type": "execute_result"
    }
   ],
   "source": [
    "ZZ"
   ]
  },
  {
   "cell_type": "code",
   "execution_count": 6,
   "id": "514a7c77",
   "metadata": {},
   "outputs": [
    {
     "data": {
      "text/plain": [
       "Rational field"
      ]
     },
     "execution_count": 6,
     "metadata": {},
     "output_type": "execute_result"
    }
   ],
   "source": [
    "QQ"
   ]
  },
  {
   "cell_type": "code",
   "execution_count": 7,
   "id": "cc779a77",
   "metadata": {},
   "outputs": [
    {
     "data": {
      "text/plain": [
       "Finite field of degree 1 over GF(3)"
      ]
     },
     "execution_count": 7,
     "metadata": {},
     "output_type": "execute_result"
    }
   ],
   "source": [
    "GF(3)"
   ]
  },
  {
   "cell_type": "code",
   "execution_count": 8,
   "id": "1553accc",
   "metadata": {},
   "outputs": [
    {
     "data": {
      "text/plain": [
       "(Finite field of degree 70 over GF(2), a)"
      ]
     },
     "execution_count": 8,
     "metadata": {},
     "output_type": "execute_result"
    }
   ],
   "source": [
    "FiniteField(2, 70, \"a\")"
   ]
  },
  {
   "cell_type": "code",
   "execution_count": 9,
   "id": "3c1616b9",
   "metadata": {},
   "outputs": [
    {
     "data": {
      "text/plain": [
       "(Finite field of degree 2 over GF(3), a)"
      ]
     },
     "execution_count": 9,
     "metadata": {},
     "output_type": "execute_result"
    }
   ],
   "source": [
    "T, t = polynomial_ring(GF(3), \"t\")\n",
    "K, a = FiniteField(t^2 + 1, \"a\")"
   ]
  },
  {
   "cell_type": "code",
   "execution_count": 10,
   "id": "79d8faac",
   "metadata": {},
   "outputs": [
    {
     "data": {
      "text/plain": [
       "(Number field of degree 2 over QQ, a)"
      ]
     },
     "execution_count": 10,
     "metadata": {},
     "output_type": "execute_result"
    }
   ],
   "source": [
    "T, t = polynomial_ring(QQ, \"t\")\n",
    "K, a = NumberField(t^2 + 1, \"a\")"
   ]
  },
  {
   "cell_type": "code",
   "execution_count": 11,
   "id": "0fd496d2",
   "metadata": {},
   "outputs": [
    {
     "data": {
      "text/plain": [
       "Fraction field\n",
       "  of univariate polynomial ring in t over QQ"
      ]
     },
     "execution_count": 11,
     "metadata": {},
     "output_type": "execute_result"
    }
   ],
   "source": [
    "T, t = polynomial_ring(QQ, \"t\")\n",
    "QT = FractionField(T)"
   ]
  },
  {
   "cell_type": "markdown",
   "id": "c44bf613",
   "metadata": {},
   "source": [
    "### Gradings\n",
    "\n",
    "In the following, a ring $R$ which is graded by a finitely presented group $G$ is also called *$G$-graded* or *graded* and the group $G$ is called *graded group*. If $R$ is a polynomial ring over a field, a $G$-graded on $R$ is called *positive* if $G$ is free and each graded part $R_g, g \\in G$ is of finite dimension. In this case $R$ is *positively graded*. Thus, with respect to OSCAR, we call a `G`-graded ring `R` *$\\mathbb{Z}^m$-graded* if `is_free(G) && ngens(G) == rank(G) == m` evaluates to `true`. In this case we can identify elements of `G` and integer vectors of length `m`.\n",
    "\n",
    "#### Constructors\n",
    "\n",
    "There are two ways to create multivariate rings with grading:\n",
    "\n",
    "1. With `grade` a graduation is assigned to an already defined polynomial ring:\n",
    "\n",
    "| Method |\n",
    "| :----------- |\n",
    "| `grade(R::MPolyRing, W::Vector{GrpAbFinGenElem})` |\n",
    "| `grade(R::MPolyRing, W::Vector{<:Vector{<:IntegerUnion}})` |\n",
    "| `grade(R::MPolyRing, W::Union{ZZMatrix, Matrix{<:IntegerUnion}})` |\n",
    "| `grade(R::MPolyRing, W::Vector{<:IntegerUnion})` |\n",
    "| `grade(R::MPolyRing)` |\n",
    "\n",
    "In all cases, a graded ring is created together with the vector of its variables. \n",
    "For this purpose, a `G` grading on the ring `R` is defined from the vector `W` with `ngens(R)` elements of a group `G` by assigning weights to the variables corresponding to the entries of `W`. \n",
    "If integer vectors of the same length `m` are specified instead of group elements, a $\\mathbb{Z}^m$-grading is defined on the ring `R`. \n",
    "Without specifying `W`, `R` is assigned the standard $\\mathbb{Z}$-grading.\n",
    "\n",
    "2. With `graded_polynomial_ring` a polynomial ring is created together with a grading:\n",
    "\n",
    "| Method |\n",
    "| :----------- |\n",
    "| `graded_polynomial_ring(C::Ring, V::Vector{String}, W; ordering=:lex)` |\n",
    "| `graded_polynomial_ring(C::Ring, V::Vector{String}; ordering=:lex)` |\n",
    "\n",
    "The methods create a graded multivariate polynomial ring with coefficient ring `C` together with the vector of its variables whose names are determined by the strings in `V`. \n",
    "The grading of this ring is defined with the data provided by `W`, see `grade`. \n",
    "Without specifying `W`, `R` receives the standard $\\mathbb{Z}$-grading.\n",
    "\n",
    "##### Example"
   ]
  },
  {
   "cell_type": "code",
   "execution_count": 12,
   "id": "c1eeed27",
   "metadata": {},
   "outputs": [
    {
     "data": {
      "text/plain": [
       "(Graded multivariate polynomial ring in 3 variables over QQ, MPolyDecRingElem{QQFieldElem, QQMPolyRingElem}[t, x, y])"
      ]
     },
     "execution_count": 12,
     "metadata": {},
     "output_type": "execute_result"
    }
   ],
   "source": [
    "# polynomial ring Q[t,x,y]\n",
    "R, (t, x, y) = polynomial_ring(QQ, [\"t\", \"x\", \"y\"])\n",
    "\n",
    "# assigning a grading\n",
    "S, (t, x, y) = grade(R, [-1, 1, 1])"
   ]
  },
  {
   "cell_type": "code",
   "execution_count": 13,
   "id": "57f8298b",
   "metadata": {},
   "outputs": [
    {
     "data": {
      "text/plain": [
       "(Graded multivariate polynomial ring in 3 variables over QQ, MPolyDecRingElem{QQFieldElem, QQMPolyRingElem}[t, x, y])"
      ]
     },
     "execution_count": 13,
     "metadata": {},
     "output_type": "execute_result"
    }
   ],
   "source": [
    "# a graded polynomial ring\n",
    "T, (t, x, y) = graded_polynomial_ring(QQ, [\"t\", \"x\", \"y\"], [-1, 1, 1])"
   ]
  },
  {
   "cell_type": "markdown",
   "id": "8cae8e00",
   "metadata": {},
   "source": [
    "#### Tests on Graded Rings\n",
    "\n",
    "| Method | Description |\n",
    "| :----------- | :----------- |\n",
    "| `is_standard_graded(R::MPolyRing_dec)` | Checks whether `R` is standard-$\\mathbb{Z}$-graded. |\n",
    "| `is_z_graded(R::MPolyRing_dec)` | Checks whether `R` is $\\mathbb{Z}$-graded. |\n",
    "| `is_zm_graded(R::MPolyRing_dec)` | Checks whether `R` is $\\mathbb{Z}^m$-graded. |\n",
    "| `is_positively_graded(R::MPolyRing_dec)` | Checks whether `R` is positively graded. |\n",
    "\n",
    "##### Example"
   ]
  },
  {
   "cell_type": "code",
   "execution_count": 14,
   "id": "2eaf1926",
   "metadata": {},
   "outputs": [
    {
     "data": {
      "text/plain": [
       "(false, true, false)"
      ]
     },
     "execution_count": 14,
     "metadata": {},
     "output_type": "execute_result"
    }
   ],
   "source": [
    "T, (t, x, y) = graded_polynomial_ring(QQ, [\"t\", \"x\", \"y\"], [-1, 1, 1])\n",
    "(is_standard_graded(T), is_z_graded(T), is_positively_graded(T))"
   ]
  },
  {
   "cell_type": "markdown",
   "id": "534af32a",
   "metadata": {},
   "source": [
    "### Data Associated to Multivariate Rings\n",
    "\n",
    "The following information can be retrieved for a multivariate polynomial ring `R` with coefficient ring `C`:\n",
    "\n",
    "| Method | Description |\n",
    "| :----------- | :----------- |\n",
    "| `coefficient_ring(R)` | Coefficient ring `C`. |\n",
    "| `gens(R)` | Generators (variables) of `R`. |\n",
    "| `ngens(R)` | Number of the generators of `R`. |\n",
    "| `gen(R, i)` | `i`-th generator of `R`. |\n",
    "\n",
    "In the graded case, we additionally have:\n",
    "\n",
    "| Method | Description |\n",
    "| :----------- | :----------- |\n",
    "| `grading_group(R::MPolyDecRing)` | `G`-grading of `R` |\n",
    "| `homogeneous_component(R::MPolyDecRing,g::GrpAbFinGenElem)` <br><br> `homogeneous_component(R::MPolyDecRing,g::Vector{<:IntegerUnion})` <br><br> `homogeneous_component(R::MPolyDecRing,g::IntegerUnion)` | Homogeneous component of the polynomial ring `R` of degree `g` together with the embedding of the components into `R`. The type of `g` depends on the grading of `R`. |\n",
    "\n",
    "##### Example"
   ]
  },
  {
   "cell_type": "code",
   "execution_count": 15,
   "id": "fd9ccb2f",
   "metadata": {},
   "outputs": [
    {
     "data": {
      "text/plain": [
       "(Rational field, QQMPolyRingElem[x, y, z], 3, x, y, z)"
      ]
     },
     "execution_count": 15,
     "metadata": {},
     "output_type": "execute_result"
    }
   ],
   "source": [
    "R, (x, y, z) = polynomial_ring(QQ, [\"x\", \"y\", \"z\"])\n",
    "(coefficient_ring(R), gens(R), ngens(R), gen(R, 1), gen(R, 2), gen(R, 3))"
   ]
  },
  {
   "cell_type": "code",
   "execution_count": 16,
   "id": "f4096f34",
   "metadata": {},
   "outputs": [
    {
     "data": {
      "text/plain": [
       "GrpAb: Z"
      ]
     },
     "execution_count": 16,
     "metadata": {},
     "output_type": "execute_result"
    }
   ],
   "source": [
    "R, (x, y, z) = graded_polynomial_ring(QQ, [\"x\", \"y\", \"z\"], [1, 2, 3])\n",
    "grading_group(R)"
   ]
  },
  {
   "cell_type": "code",
   "execution_count": 17,
   "id": "996dc26a",
   "metadata": {},
   "outputs": [
    {
     "data": {
      "text/plain": [
       "(homogeneous component of graded multivariate polynomial ring in 3 variables over QQ of degree [1], Map: r_[1] of dim 1 -> graded multivariate polynomial ring)"
      ]
     },
     "execution_count": 17,
     "metadata": {},
     "output_type": "execute_result"
    }
   ],
   "source": [
    "R, (x, y, z) = graded_polynomial_ring(QQ, [\"x\", \"y\", \"z\"], [1, 2, 3])\n",
    "homogeneous_component(R, 1)"
   ]
  },
  {
   "cell_type": "markdown",
   "id": "d979bd8e",
   "metadata": {},
   "source": [
    "### Elements of Multivariate Rings\n",
    "\n",
    "#### Constructors\n",
    "\n",
    "There are the following possibilities for constructing elements of a polynomial ring:\n",
    "- Build up polynomials from the generators of the ring using basic arithmetic.\n",
    "- Use `MPolyBuildCtx(R::MPolyRing)`, returning a *build context*.\n",
    "- Use\n",
    "\n",
    "    | Method |\n",
    "    | :----------- |\n",
    "    | `(R::MPolyRing{T})(c::Vector{T}, e::Vector{Vector{Int}}) where T <: RingElem` |\n",
    "    \n",
    "    This generates an element of `R` with non-trivial coefficients given by the vector `c` and exponent vectors given by the elements of `e`.\n",
    "\n",
    "##### Example"
   ]
  },
  {
   "cell_type": "code",
   "execution_count": 18,
   "id": "8b7f0284",
   "metadata": {},
   "outputs": [
    {
     "data": {
      "text/plain": [
       "true"
      ]
     },
     "execution_count": 18,
     "metadata": {},
     "output_type": "execute_result"
    }
   ],
   "source": [
    "R, (x, y, z) = polynomial_ring(QQ, [\"x\", \"y\", \"z\"])\n",
    "\n",
    "# using basic arithmetic\n",
    "f = 3*x^2+y*z\n",
    "\n",
    "# Using the method\n",
    "g = R(QQ.([3, 1]), [[2, 0, 0], [0, 1, 1]])\n",
    "\n",
    "# Using MPolyBuildCtx\n",
    "B = MPolyBuildCtx(R)\n",
    "push_term!(B, 3, [2, 0, 0])\n",
    "push_term!(B, 1, [0, 1, 1])\n",
    "h = finish(B)\n",
    "\n",
    "f == g == h"
   ]
  },
  {
   "cell_type": "markdown",
   "id": "a38b2eb5",
   "metadata": {},
   "source": [
    "#### Special Elements\n",
    "\n",
    "For a multivariate polynomial ring `R`, `zero(R)` and `one(R)` denote the additive and multiplicative neutral elements of `R`, respectively. \n",
    "With `iszero(f)` or `isone(f)` these can be checked for an element `f`.\n",
    "\n",
    "#### Data Associated to Elements of Multivariate Rings\n",
    "\n",
    "The following information can be obtained from an element `f` of a multivariate ring `R`:\n",
    "\n",
    "| Method | Description |\n",
    "| :----------- | :----------- |\n",
    "| `parent(f)` | Ring `R`. |\n",
    "| `total_degree(f)` | Total degree of `f`. |\n",
    "| `monomial(f, i)` | `i`-th monomial of `f`. |\n",
    "| `term(f, i)` | `i`-th term of `f`. |\n",
    "| `coeff(f, i)` | `i`-th coefficient of `f`. |\n",
    "| `exponent_vector(f, i)` | Exponent vector of the `i`-th term of `f`. |\n",
    "\n",
    "Further functionality is available in the graded case:\n",
    "\n",
    "| Method | Description |\n",
    "| :----------- | :----------- |\n",
    "| `homogeneous_components(f::MPolyDecRingElem{T, S}) where {T, S}` <br><br> `homogeneous_component(f::MPolyDecRingElem,g::GrpAbFinGenElem)` <br><br> `homogeneous_component(f::MPolyDecRingElem,g::Vector{<:IntegerUnion})` <br><br> `homogeneous_component(f::MPolyDecRingElem, g::IntegerUnion)` | Homogeneous components of `f` of degree `g`. The type of `g` depends on the type of grading of `R`. |\n",
    "| `is_homogeneous(f::MPolyDecRingElem)` | Checks whether `f` is homogeneous. |\n",
    "| `degree(f::MPolyDecRingElem)` | Degree of `f`. |\n",
    "| `degree(::Type{Vector{Int}}, f::MPolyDecRingElem)` | Degree of a homogeneous element `f` of a $\\mathbb{Z}^m$-graded multivariate ring, converted to a vector of integer numbers. |\n",
    "| `degree(::Type{Int}, f::MPolyDecRingElem)` | Degree of a homogeneous element `f` of a $\\mathbb{Z}$-graded multivariate ring, converted to an integer number. |\n",
    "\n",
    "##### Example"
   ]
  },
  {
   "cell_type": "code",
   "execution_count": 19,
   "id": "40d91216",
   "metadata": {},
   "outputs": [
    {
     "data": {
      "text/plain": [
       "(2, 1, [0, 1, 1], y*z, y*z)"
      ]
     },
     "execution_count": 19,
     "metadata": {},
     "output_type": "execute_result"
    }
   ],
   "source": [
    "R, (x, y, z) = polynomial_ring(QQ, [\"x\", \"y\", \"z\"])\n",
    "f = 3*x^2 + y*z\n",
    "(total_degree(f), coeff(f, 2), exponent_vector(f, 2), monomial(f, 2), term(f, 2))"
   ]
  },
  {
   "cell_type": "code",
   "execution_count": 20,
   "id": "3b943bff",
   "metadata": {},
   "outputs": [
    {
     "data": {
      "text/plain": [
       "Dict{GrpAbFinGenElem, MPolyDecRingElem{QQFieldElem, QQMPolyRingElem}} with 2 entries:\n",
       "  [2] => 3*x^2\n",
       "  [5] => y*z"
      ]
     },
     "execution_count": 20,
     "metadata": {},
     "output_type": "execute_result"
    }
   ],
   "source": [
    "R, (x, y, z) = graded_polynomial_ring(QQ, [\"x\", \"y\", \"z\"], [1, 2, 3])\n",
    "f = 3*x^2 + y*z\n",
    "homogeneous_components(f)"
   ]
  },
  {
   "cell_type": "markdown",
   "id": "4d8c7157",
   "metadata": {},
   "source": [
    "### Homomorphisms From Multivariate Rings\n",
    "\n",
    "If $R$ is a multivariate polynomial ring, and $S$ is any ring, then a ring homomorphism $R \\rightarrow S$ is determined by specifying its restriction to the coefficient ring of $R$, and by assigning an image to each variable of $R$. \n",
    "In OSCAR, such homomorphisms are created by using the following constructor:\n",
    "\n",
    "| Method |\n",
    "| :----------- |\n",
    "| `hom(R::MPolyRing, S::NCRing, coeff_map, images::Vector; check::Bool = true)` |\n",
    "| `hom(R::MPolyRing, S::NCRing, images::Vector; check::Bool = true)` |\n",
    "\n",
    "\n",
    "Given a homomorphism `coeff_map` from `C` to `S`, where `C` is the coefficient ring of `R`, and given a vector `images` of `nvars(R)` elements of `S`, return the homomorphism from `R` to `S` whose restriction to `C` is `coeff_map`, and which sends the $i$-th variable of `R` to the $i$-th entry of `images`.\n",
    "\n",
    "If no coefficient map is entered, invoke a canonical homomorphism of `C` to `S`, if such a homomorphism exists, and throw an error, otherwise.\n",
    "\n",
    "In case `check = true` (default), the function checks the conditions below:\n",
    "- If `S` is graded, the assigned images must be homogeneous with respect to the given grading.\n",
    "- If `S` is noncommutative, the assigned images must pairwise commute. \n",
    "\n",
    "If $F: R \\rightarrow S$ is a ring morphism, then `domain(F)`=`R` und `codomain(F)` = `S`.\n",
    "\n",
    "##### Example"
   ]
  },
  {
   "cell_type": "code",
   "execution_count": 21,
   "id": "65b35d55",
   "metadata": {
    "scrolled": true
   },
   "outputs": [
    {
     "data": {
      "text/plain": [
       "x^2 + 1"
      ]
     },
     "execution_count": 21,
     "metadata": {},
     "output_type": "execute_result"
    }
   ],
   "source": [
    "R, (x, y) = polynomial_ring(ZZ, [\"x\", \"y\"])\n",
    "f = 3*x^2 + 2*x + 1\n",
    "\n",
    "S, (x, y) = polynomial_ring(GF(2), [\"x\", \"y\"])\n",
    "\n",
    "# morphism from R to S\n",
    "H = hom(R, S, gens(S))\n",
    "H(f)"
   ]
  },
  {
   "cell_type": "markdown",
   "id": "1c87a4f9",
   "metadata": {},
   "source": [
    "## Ideals in Multivariate Rings\n",
    "\n",
    "### Constructors\n",
    "\n",
    "The construction of ideals in multivariate polynomial rings is done by the method:\n",
    "\n",
    "| Method |\n",
    "| :----------- |\n",
    "| `ideal(R::MPolyRing, g::Vector)` |\n",
    "\n",
    "where `g` is a vector of polynomials in the ring `R`. \n",
    "The return is the ideal generated by the polynomials. \n",
    "In the graded case these polynomials must be homogeneous.\n",
    "\n",
    "##### Example"
   ]
  },
  {
   "cell_type": "code",
   "execution_count": 22,
   "id": "196e9f10",
   "metadata": {},
   "outputs": [
    {
     "data": {
      "text/plain": [
       "ideal(x*y - 3*x, -2*x^2*y + y^3)"
      ]
     },
     "execution_count": 22,
     "metadata": {},
     "output_type": "execute_result"
    }
   ],
   "source": [
    "R, (x, y) = polynomial_ring(QQ, [\"x\", \"y\"])\n",
    "I = ideal(R, [x*y-3*x, y^3-2*x^2*y])"
   ]
  },
  {
   "cell_type": "markdown",
   "id": "a5a07bc8",
   "metadata": {},
   "source": [
    "### Data Associated to Ideals\n",
    "\n",
    "If `I` is an ideal of a multivariate polynomial ring `R`, then\n",
    "\n",
    "| Method | Description |\n",
    "| :----------- | :----------- |\n",
    "| `base_ring(I)` | `R`. |\n",
    "| `gens(I)` | Generators `I`. |\n",
    "| `ngens(I)` | Number of generator of `I`. |\n",
    "| `gen(I, k)` or `I[k]` | `k`-th generator of `I`. |\n",
    "| `dim(I::MPolyIdeal)` | Krull dimension of `I`. |\n",
    "| `codim(I::MPolyIdeal)` | Codimension of `I`. |\n",
    "| `minimal_generating_set(I::MPolyIdeal{<:MPolyDecRingElem})` | Array containing a minimal set of generators of `I`. |"
   ]
  },
  {
   "cell_type": "code",
   "execution_count": 23,
   "id": "454d60af",
   "metadata": {},
   "outputs": [
    {
     "data": {
      "text/plain": [
       "(Multivariate polynomial ring in 2 variables over QQ, QQMPolyRingElem[x^2, x*y, y^2], 3, x*y)"
      ]
     },
     "execution_count": 23,
     "metadata": {},
     "output_type": "execute_result"
    }
   ],
   "source": [
    "R, (x, y) = polynomial_ring(QQ, [\"x\", \"y\"])\n",
    "I = ideal(R, [x, y])^2\n",
    "(base_ring(I), gens(I), ngens(I), gen(I, 2))"
   ]
  },
  {
   "cell_type": "code",
   "execution_count": 24,
   "id": "72341880",
   "metadata": {},
   "outputs": [
    {
     "data": {
      "text/plain": [
       "(0, 3, MPolyDecRingElem{QQFieldElem, QQMPolyRingElem}[x, z^2, y^3])"
      ]
     },
     "execution_count": 24,
     "metadata": {},
     "output_type": "execute_result"
    }
   ],
   "source": [
    "R, (x, y, z) = graded_polynomial_ring(QQ, [\"x\", \"y\", \"z\"]);\n",
    "V = [x, z^2, x^3+y^3, y^4, y*z^5];\n",
    "I = ideal(R, V)\n",
    "\n",
    "(dim(I), codim(I), minimal_generating_set(I))"
   ]
  },
  {
   "cell_type": "markdown",
   "id": "4b56f391",
   "metadata": {},
   "source": [
    "### Operations on Ideals\n",
    "\n",
    "Sums, products and powers of ideals can be formed via `+`, `*` and `^` respectively. \n",
    "Furthermore, there are the following methods:\n",
    "\n",
    "| Method | Description |\n",
    "| :----------- | :----------- |\n",
    "| `intersect(I::MPolyIdeal{T}, Js::MPolyIdeal{T}...)` | Intersection of two or more ideals. |\n",
    "| `quotient(I::MPolyIdeal{T}, J::MPolyIdeal{T})` | Ideal quotient $I:J = \\{ f \\in R \\vert fJ \\subset I\\} \\subset R$ of `I` by `J`. Alternatively, use `I:J`. |\n",
    "| `quotient(I::MPolyIdeal{T}, f::MPolyElem{T})` | Ideal quotient of `I` by the ideal generated by `f`. ALternatively, use `I:f`. |\n",
    "| `saturation(I::MPolyIdeal{T}, J::MPolyIdeal{T})` | Saturation $I:J^{\\infty} = \\{f \\in R \\vert fJ^k \\subset I , k \\geq 1\\}$ of `I` wih respect to `J`. |\n",
    "| `saturation_with_index(I::MPolyIdeal{T},J::MPolyIdeal{T})` | Saturation $I:J^\\infty$ together with the smallest integer $m$ such that $I:J^m=I:J^\\infty$. |\n",
    "| `eliminate(I::MPolyIdeal{T}, V::Vector{T})` | Eliminates the variables in the vector `V` from the ideal `I` and returns all generators of `I` that contain only the remaining variables. |\n",
    "\n",
    "##### Example"
   ]
  },
  {
   "cell_type": "code",
   "execution_count": 25,
   "id": "2abb2255",
   "metadata": {},
   "outputs": [
    {
     "data": {
      "text/plain": [
       "(ideal(x^3, x^2*y, x*y^2, y^3), ideal(x, y, z^2), ideal(x*z^2, y*z^2))"
      ]
     },
     "execution_count": 25,
     "metadata": {},
     "output_type": "execute_result"
    }
   ],
   "source": [
    "R, (x, y, z) = polynomial_ring(QQ, [\"x\", \"y\", \"z\"])\n",
    "I = ideal(R, [x, y])\n",
    "J = ideal(R, [z^2])\n",
    "\n",
    "(I^3, I+J, I*J)"
   ]
  },
  {
   "cell_type": "code",
   "execution_count": 26,
   "id": "37f2c4c9",
   "metadata": {},
   "outputs": [
    {
     "data": {
      "text/plain": [
       "4-element Vector{MPolyIdeal{QQMPolyRingElem}}:\n",
       " ideal(x*y, y^3, x^4 - x^2)\n",
       " ideal(y, x^3 - x)\n",
       " ideal(y, x^2 - 1)\n",
       " ideal(x^4 - x^2)"
      ]
     },
     "execution_count": 26,
     "metadata": {},
     "output_type": "execute_result"
    }
   ],
   "source": [
    "R, (x, y) = polynomial_ring(QQ, [\"x\", \"y\"])\n",
    "I = ideal(R, [y^2-x^3+x, x*y])\n",
    "J = ideal(R, [x, y])^2\n",
    "\n",
    "[intersect(I, J), quotient(I, J), saturation(I, J), eliminate(I, [y])]"
   ]
  },
  {
   "cell_type": "markdown",
   "id": "4c07512e",
   "metadata": {},
   "source": [
    "### Tests on Ideals\n",
    "\n",
    "The following properties of an ideal can be tested:\n",
    "\n",
    "| Method | Description |\n",
    "| :----------- | :----------- |\n",
    "| `is_zero(I::MPolyIdeal)` | Checks whether `I` is the zero ideal. |\n",
    "| `is_one(I::MPolyIdeal)` | Checks whether `I` is generated by $1$. |\n",
    "| `is_monomial(I::MPolyIdeal)` | Checks whether `I` is generated by monomials. |\n",
    "| `is_subset(I::MPolyIdeal{T}, J::MPolyIdeal{T})` | Checks whether `I` is contained in `J`. |\n",
    "| `==(I::MPolyIdeal{T}, J::MPolyIdeal{T})` | Checks whether `I` is equal to `J`. |\n",
    "| `ideal_membership(f::T, I::MPolyIdeal{T})` | Checks whether `f` is contained in `I`. |\n",
    "| `radical_membership(f::T, I::MPolyIdeal{T})` | Checks whether `f` is contained in the radical of `I`. |\n",
    "| `is_prime(I::MPolyIdeal)` | Checks whether `I` is prime. |\n",
    "| `is_primary(I::MPolyIdeal)` | Checks whether `I` is primary. |\n",
    "\n",
    "##### Example"
   ]
  },
  {
   "cell_type": "code",
   "execution_count": 27,
   "id": "adbe40ea",
   "metadata": {},
   "outputs": [
    {
     "data": {
      "text/plain": [
       "(true, true, false, true, false, true)"
      ]
     },
     "execution_count": 27,
     "metadata": {},
     "output_type": "execute_result"
    }
   ],
   "source": [
    "R, (x, y) = polynomial_ring(QQ, [\"x\", \"y\"])\n",
    "I = ideal(R, [x, y])^2\n",
    "J = ideal(R, [x^2])\n",
    "f = x\n",
    "\n",
    "(is_monomial(I), is_subset(J, I), ideal_membership(f, J), radical_membership(f,J), is_prime(J), is_primary(J))"
   ]
  },
  {
   "cell_type": "markdown",
   "id": "07ed9da0",
   "metadata": {},
   "source": [
    "### Decomposition of Ideals\n",
    "\n",
    "The following methods can be used to decompose an ideal in a polynomial ring over a field:\n",
    "\n",
    "| Method | Description |\n",
    "| :----------- | :----------- |\n",
    "| `radical(I::MPolyIdeal)` | Radical of `I`. |\n",
    "| `primary_decomposition(I::MPolyIdeal; alg = :GTZ)` | Minimal primary decomposition of `I`, given as vector of tuples $(Q_i, P_i)$ where $Q_i$ is a primary ideal with associated prime ideal $P_i$. |\n",
    "| `absolute_primary_decomposition(I::MPolyIdeal{<:MPolyElem{fmpq}})` | Absolute minimal primary decomposition of `I`. |\n",
    "| `minimal_primes(I::MPolyIdeal; alg = :GTZ)` | Vector containing the minimal associated prime ideals of `I`. Alternatively, use `alg = :charSets`. |\n",
    "| `equidimensional_decomposition_weak(I::MPolyIdeal)` | Vector of equidimensional ideals where the last entry is the equidimensional hull of `I`, that is, the intersection of the primary components of `I` of maximal dimension. |\n",
    "| `equidimensional_decomposition_radical(I::MPolyIdeal)` | Vector of equidimensional radical ideals increasingly ordered by dimension. For each dimension, the returned radical ideal is the intersection of the associated primes of `I` of that dimension. |\n",
    "| `equidimensional_hull(I::MPolyIdeal)` | Intersection of the primary components of `I` of maximal dimension. In the case of polynomials over the integers, return the intersection of the primary components of `I` of minimal height.|\n",
    "| `equidimensional_hull_radical(I::MPolyIdeal)` | Intersection of the associated primes of I of maximal dimension.  |\n",
    "\n",
    "##### Example"
   ]
  },
  {
   "cell_type": "code",
   "execution_count": 28,
   "id": "77a67fa0",
   "metadata": {},
   "outputs": [
    {
     "data": {
      "text/plain": [
       "ideal(x^4 - x^3*y - x^3 - x^2 - x*y^2 + x*y + x + y^3 + y^2)"
      ]
     },
     "execution_count": 28,
     "metadata": {},
     "output_type": "execute_result"
    }
   ],
   "source": [
    "# radical ideal in a polynomial ring\n",
    "R, (x, y) = polynomial_ring(QQ, [\"x\", \"y\"])\n",
    "I = intersect(ideal(R, [x, y])^2, ideal(R, [y^2-x^3+x]), ideal(R, [x-y-1])^2)\n",
    "radical(I)"
   ]
  },
  {
   "cell_type": "code",
   "execution_count": 29,
   "id": "9b75bc5f",
   "metadata": {},
   "outputs": [
    {
     "data": {
      "text/plain": [
       "3-element Vector{Tuple{MPolyIdeal{QQMPolyRingElem}, MPolyIdeal{QQMPolyRingElem}}}:\n",
       " (ideal(x^3 - x - y^2), ideal(x^3 - x - y^2))\n",
       " (ideal(x^2 - 2*x*y - 2*x + y^2 + 2*y + 1), ideal(x - y - 1))\n",
       " (ideal(y, x^2), ideal(x, y))"
      ]
     },
     "execution_count": 29,
     "metadata": {},
     "output_type": "execute_result"
    }
   ],
   "source": [
    "# primary decomposition of an ideal\n",
    "R, (x, y) = polynomial_ring(QQ, [\"x\", \"y\"])\n",
    "I = intersect(ideal(R, [x, y])^2, ideal(R, [y^2-x^3+x]), ideal(R, [x-y-1])^2)\n",
    "primary_decomposition(I)"
   ]
  },
  {
   "cell_type": "code",
   "execution_count": 30,
   "id": "6850bf39",
   "metadata": {},
   "outputs": [
    {
     "data": {
      "text/plain": [
       "2-element Vector{MPolyIdeal{QQMPolyRingElem}}:\n",
       " ideal(x - y - 1)\n",
       " ideal(x^3 - x - y^2)"
      ]
     },
     "execution_count": 30,
     "metadata": {},
     "output_type": "execute_result"
    }
   ],
   "source": [
    "# minimal associated primare ideals\n",
    "R, (x, y) = polynomial_ring(QQ, [\"x\", \"y\"])\n",
    "I = intersect(ideal(R, [x, y])^2, ideal(R, [y^2-x^3+x]), ideal(R, [x-y-1])^2)\n",
    "minimal_primes(I)"
   ]
  },
  {
   "cell_type": "code",
   "execution_count": 31,
   "id": "99683f2e",
   "metadata": {},
   "outputs": [
    {
     "data": {
      "text/plain": [
       "2-element Vector{MPolyIdeal{QQMPolyRingElem}}:\n",
       " ideal(y, x)\n",
       " ideal(x^5 - 2*x^4*y - 2*x^4 + x^3*y^2 + 2*x^3*y - x^2*y^2 + 2*x^2*y + 2*x^2 + 2*x*y^3 + x*y^2 - 2*x*y - x - y^4 - 2*y^3 - y^2)"
      ]
     },
     "execution_count": 31,
     "metadata": {},
     "output_type": "execute_result"
    }
   ],
   "source": [
    "# equidimensional ideals\n",
    "R, (x, y) = polynomial_ring(QQ, [\"x\", \"y\"])\n",
    "I = intersect(ideal(R, [x, y])^2, ideal(R, [y^2-x^3+x]), ideal(R, [x-y-1])^2)\n",
    "equidimensional_decomposition_weak(I)"
   ]
  },
  {
   "cell_type": "code",
   "execution_count": 32,
   "id": "6ad9772c",
   "metadata": {},
   "outputs": [
    {
     "data": {
      "text/plain": [
       "2-element Vector{MPolyIdeal{QQMPolyRingElem}}:\n",
       " ideal(y, x)\n",
       " ideal(x^4 - x^3*y - x^3 - x^2 - x*y^2 + x*y + x + y^3 + y^2)"
      ]
     },
     "execution_count": 32,
     "metadata": {},
     "output_type": "execute_result"
    }
   ],
   "source": [
    "# equidimensional radical ideals\n",
    "R, (x, y) = polynomial_ring(QQ, [\"x\", \"y\"])\n",
    "I = intersect(ideal(R, [x, y])^2, ideal(R, [y^2-x^3+x]), ideal(R, [x-y-1])^2)\n",
    "equidimensional_decomposition_radical(I)"
   ]
  },
  {
   "cell_type": "markdown",
   "id": "0c438a46",
   "metadata": {},
   "source": [
    "### Homogenization and Dehomogenization\n",
    "\n",
    "#### Homogenization\n",
    "\n",
    "The homogenization of an element of a $\\mathbb{Z}^m$-graded polynomial ring is done by the following methods:\n",
    "\n",
    "| Method |\n",
    "| :----------- |\n",
    "| `homogenization(f::MPolyRingElem, W::Union{ZZMatrix, Matrix{<:IntegerUnion}}, var::String, pos::Int = 1)` |\n",
    "| `homogenization(V::Vector{T},  W::Union{ZZMatrix, Matrix{<:IntegerUnion}}, var::String, pos::Int = 1) where {T <: MPolyRingElem}` |\n",
    "| `homogenization(I::MPolyIdeal{T},  W::Union{ZZMatrix, Matrix{<:IntegerUnion}}, var::String, pos::Int = 1) where {T <: MPolyRingElem}` |\n",
    "\n",
    "If $m$ is the number of rows of `W`, extend the parent polynomial ring of `f` by inserting $m$ extra variables, starting at position `pos`. \n",
    "Correspondingly, extend the integer matrix `W` by inserting the standard unit vectors of size mm as new columns, starting at column `pos`. \n",
    "Grade the extended ring by converting the columns of the extended matrix to elements of the group $\\mathbb{Z}^m$ and assigning these as weights to the variables. \n",
    "Homogenize `f` with respect to the induced ZmZm-grading on the original ring, using the extra variables as homogenizing variables. \n",
    "Return the result as an element of the extended ring with its $\\mathbb{Z}^m$-grading. \n",
    "If $m=1$, the extra variable prints as `var`. \n",
    "Otherwise, the extra variables print as `var[i]`, for $i=1,...,m$.\n",
    "\n",
    "Multiple elements can be homogenized in this way by specifying them as a vector `V`. \n",
    "For an ideal `I`, the generators of `I` are homogenized and then the ideal generated by these homogenizations is defined in the extended polynomial ring. \n",
    "This ideal is then saturated with the ideal generated by the additional homogenised variables.\n",
    "\n",
    "#### Dehomogenization\n",
    "\n",
    "The dehomogenization of an element of a $\\mathbb{Z}^m$-graded polynomial ring is done by the following methods:\n",
    "\n",
    "| Method |\n",
    "| :----------- |\n",
    "| `dehomogenization(F::MPolyDecRingElem, pos::Int)` |\n",
    "| `dehomogenization(V::Vector{T}, pos::Int) where {T <: MPolyDecRingElem}` |\n",
    "| `dehomogenization(I::MPolyIdeal{T}, pos::Int) where {T <: MPolyDecRingElem}` |\n",
    "\n",
    "Given an element `F` of a $\\mathbb{Z}^m$-graded ring, where the generators of $\\mathbb{Z}^m$ are the assigned weights to the variables at positions `pos`, ..., `pos`$-1+m$, dehomogenize `F` using the variables at these positions. \n",
    "Return the result as an element of a polynomial ring not depending on the variables at these positions.\n",
    "\n",
    "Multiple elements can be dehomogenized by specifying them as a vector `V`. \n",
    "Similarly, an ideal `I` can be dehomogenized.\n",
    "\n",
    "##### Example"
   ]
  },
  {
   "cell_type": "code",
   "execution_count": 33,
   "id": "09f1023c",
   "metadata": {},
   "outputs": [
    {
     "ename": "LoadError",
     "evalue": "MethodError: no method matching homogenization(::QQMPolyRingElem, ::Matrix{Int64}, ::String, ::Int64)\n\n\u001b[0mClosest candidates are:\n\u001b[0m  homogenization(::MPolyRingElem, ::Union{ZZMatrix, Matrix{<:Union{Integer, ZZRingElem}}}, ::Union{Char, AbstractString, Symbol}; pos)\n\u001b[0m\u001b[90m   @\u001b[39m \u001b[35mOscar\u001b[39m \u001b[90m/datadisk/Computer/Mathematics_software/PackagesForJulia/Oscar.jl/src/Rings/\u001b[39m\u001b[90m\u001b[4mmpoly-graded.jl:1689\u001b[24m\u001b[39m\n\u001b[0m  homogenization(\u001b[91m::Vector{T}\u001b[39m, ::Union{ZZMatrix, Matrix{<:Union{Integer, ZZRingElem}}}, ::Union{Char, AbstractString, Symbol}; pos) where T<:MPolyRingElem\n\u001b[0m\u001b[90m   @\u001b[39m \u001b[35mOscar\u001b[39m \u001b[90m/datadisk/Computer/Mathematics_software/PackagesForJulia/Oscar.jl/src/Rings/\u001b[39m\u001b[90m\u001b[4mmpoly-graded.jl:1709\u001b[24m\u001b[39m\n\u001b[0m  homogenization(\u001b[91m::MPolyIdeal{T}\u001b[39m, ::Union{ZZMatrix, Matrix{<:Union{Integer, ZZRingElem}}}, ::Union{Char, AbstractString, Symbol}; pos, extra_gens_flag) where T<:MPolyRingElem\n\u001b[0m\u001b[90m   @\u001b[39m \u001b[35mOscar\u001b[39m \u001b[90m/datadisk/Computer/Mathematics_software/PackagesForJulia/Oscar.jl/src/Rings/\u001b[39m\u001b[90m\u001b[4mmpoly-graded.jl:1875\u001b[24m\u001b[39m\n\u001b[0m  ...\n",
     "output_type": "error",
     "traceback": [
      "MethodError: no method matching homogenization(::QQMPolyRingElem, ::Matrix{Int64}, ::String, ::Int64)\n\n\u001b[0mClosest candidates are:\n\u001b[0m  homogenization(::MPolyRingElem, ::Union{ZZMatrix, Matrix{<:Union{Integer, ZZRingElem}}}, ::Union{Char, AbstractString, Symbol}; pos)\n\u001b[0m\u001b[90m   @\u001b[39m \u001b[35mOscar\u001b[39m \u001b[90m/datadisk/Computer/Mathematics_software/PackagesForJulia/Oscar.jl/src/Rings/\u001b[39m\u001b[90m\u001b[4mmpoly-graded.jl:1689\u001b[24m\u001b[39m\n\u001b[0m  homogenization(\u001b[91m::Vector{T}\u001b[39m, ::Union{ZZMatrix, Matrix{<:Union{Integer, ZZRingElem}}}, ::Union{Char, AbstractString, Symbol}; pos) where T<:MPolyRingElem\n\u001b[0m\u001b[90m   @\u001b[39m \u001b[35mOscar\u001b[39m \u001b[90m/datadisk/Computer/Mathematics_software/PackagesForJulia/Oscar.jl/src/Rings/\u001b[39m\u001b[90m\u001b[4mmpoly-graded.jl:1709\u001b[24m\u001b[39m\n\u001b[0m  homogenization(\u001b[91m::MPolyIdeal{T}\u001b[39m, ::Union{ZZMatrix, Matrix{<:Union{Integer, ZZRingElem}}}, ::Union{Char, AbstractString, Symbol}; pos, extra_gens_flag) where T<:MPolyRingElem\n\u001b[0m\u001b[90m   @\u001b[39m \u001b[35mOscar\u001b[39m \u001b[90m/datadisk/Computer/Mathematics_software/PackagesForJulia/Oscar.jl/src/Rings/\u001b[39m\u001b[90m\u001b[4mmpoly-graded.jl:1875\u001b[24m\u001b[39m\n\u001b[0m  ...\n",
      "",
      "Stacktrace:",
      " [1] top-level scope",
      "   @ In[33]:5"
     ]
    }
   ],
   "source": [
    "# homogenization\n",
    "R, (x, y) = polynomial_ring(QQ, [\"x\", \"y\"])\n",
    "f = x^3+x^2*y+x*y^2+y^3\n",
    "W = [1 2; 3 4]\n",
    "L = homogenization(f, W, \"z\", 3)\n",
    "[L, parent(L)]"
   ]
  },
  {
   "cell_type": "code",
   "execution_count": 34,
   "id": "c1d6aeee",
   "metadata": {},
   "outputs": [
    {
     "data": {
      "text/plain": [
       "2-element Vector{Any}:\n",
       " -y - z^2 + 1\n",
       " Multivariate polynomial ring in 2 variables over QQ"
      ]
     },
     "execution_count": 34,
     "metadata": {},
     "output_type": "execute_result"
    }
   ],
   "source": [
    "# dehomogenization\n",
    "S, (x, y, z) = graded_polynomial_ring(QQ, [\"x\", \"y\", \"z\"])\n",
    "F = x^3-x^2*y-x*z^2\n",
    "f = dehomogenization(F, 1)\n",
    "[f, parent(f)]"
   ]
  },
  {
   "cell_type": "markdown",
   "id": "7fdcff72",
   "metadata": {},
   "source": [
    "### Generating Special Ideals\n",
    "\n",
    "- The katsura ideal `katsura(n)` is generated by $u_m - \\sum_{l=n}^{m} u_{l-m}u_l$ and $1-\\sum_{l=-n}^{n} u_l$ where `n` is a natural number, $u_{-i}=u_i$, $u_i=0$ for all $i>n$ and $m \\in \\{-n,...,n\\}$.\n",
    "\n",
    "| Method | Description |\n",
    "| :----------- | :----------- |\n",
    "| `katsura(n::Int)` | Katsura ideal. |\n",
    "| `katsura(R::MPolyRing)` | Katsura ideal in the given polynomial ring `R`. |\n",
    "\n",
    "##### Example"
   ]
  },
  {
   "cell_type": "code",
   "execution_count": 35,
   "id": "2436ae84",
   "metadata": {},
   "outputs": [
    {
     "data": {
      "text/plain": [
       "ideal(x1 + 2*x2 + 2*x3 - 1, x1^2 - x1 + 2*x2^2 + 2*x3^2, 2*x1*x2 + 2*x2*x3 - x2)"
      ]
     },
     "execution_count": 35,
     "metadata": {},
     "output_type": "execute_result"
    }
   ],
   "source": [
    "katsura(2)"
   ]
  }
 ],
 "metadata": {
  "kernelspec": {
   "display_name": "Julia 1.9.2",
   "language": "julia",
   "name": "julia-1.9"
  },
  "language_info": {
   "file_extension": ".jl",
   "mimetype": "application/julia",
   "name": "julia",
   "version": "1.9.2"
  }
 },
 "nbformat": 4,
 "nbformat_minor": 5
}
