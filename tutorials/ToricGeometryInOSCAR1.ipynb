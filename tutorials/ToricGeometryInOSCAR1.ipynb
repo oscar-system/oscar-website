{
 "cells": [
  {
   "cell_type": "markdown",
   "id": "a6df9a27",
   "metadata": {},
   "source": [
    "# Toric Varieties\n",
    "\n",
    "This tutorial provides an introduction to (normal) toric varieties in OSCAR.\n",
    "The aim is to describe the basic constructions for toric varieties and to explain them with minimal examples.\n",
    "In order to facilitate the introduction, some of the methods are not presented in their entirety.\n",
    "For a full description of the topic, see https://docs.oscar-system.org/stable/AlgebraicGeometry/ToricVarieties/intro/.\n",
    "\n",
    "\n",
    "The reader is assumed to be familiar with OSCAR's commutative algebra and polyhedral geometry methods.\n",
    "\n",
    "\n",
    "The first step is to import the OSCAR package."
   ]
  },
  {
   "cell_type": "code",
   "execution_count": 1,
   "id": "2c3cd666",
   "metadata": {},
   "outputs": [
    {
     "name": "stderr",
     "output_type": "stream",
     "text": [
      "polymake:  WARNING: Recompiling in /home/remkela/.julia/scratchspaces/d720cf60-89b5-51f5-aff5-213f193123e7/polymake_12579369564355830599_1.9_userdir/wrappers.0/build/Opt, please be patient...\n"
     ]
    },
    {
     "name": "stdout",
     "output_type": "stream",
     "text": [
      " -----    -----    -----      -      -----   \n",
      "|     |  |     |  |     |    | |    |     |  \n",
      "|     |  |        |         |   |   |     |  \n",
      "|     |   -----   |        |     |  |-----   \n",
      "|     |        |  |        |-----|  |   |    \n",
      "|     |  |     |  |     |  |     |  |    |   \n",
      " -----    -----    -----   -     -  -     -  \n",
      "\n",
      "...combining (and extending) ANTIC, GAP, Polymake and Singular\n",
      "Version\u001b[32m 0.12.0 \u001b[39m... \n",
      " ... which comes with absolutely no warranty whatsoever\n",
      "Type: '?Oscar' for more information\n",
      "(c) 2019-2023 by The OSCAR Development Team\n"
     ]
    }
   ],
   "source": [
    "using Oscar"
   ]
  },
  {
   "cell_type": "markdown",
   "id": "6f0fcc8b",
   "metadata": {},
   "source": [
    "## Normal Toric Varieties\n",
    "\n",
    "### Construction\n",
    "\n",
    "There are two types of toric varieties in OSCAR, distinguishing between affine and non-affine cases.\n",
    "Here `AffineNormalToricVariety` is the toric variety $U_\\sigma$ of a cone $\\sigma$ and `NormalToricVariety` is the toric variety $X_\\Sigma$ of a polyhedral fan $\\Sigma$.\n",
    "\n",
    "#### Construction of affine normal toric varieties\n",
    "\n",
    "| Method | Description |\n",
    "| :----------- | :----------- |\n",
    "| `affine_normal_toric_variety(C::Cone)` | Constructs the affine normal toric variety $U_C$ corresponding to the polyhedral cone `C`. |\n",
    "| `normal_toric_variety(C::Cone)` | Constructs the (affine) normal toric variety $X_\\Sigma$ corresponding to the polyhedral fan $\\Sigma = C$ consisting only of the cone `C`. |\n",
    "\n",
    "##### Example"
   ]
  },
  {
   "cell_type": "code",
   "execution_count": 2,
   "id": "7f51ee28",
   "metadata": {},
   "outputs": [
    {
     "data": {
      "text/plain": [
       "Normal, affine toric variety"
      ]
     },
     "execution_count": 2,
     "metadata": {},
     "output_type": "execute_result"
    }
   ],
   "source": [
    "# rational normal cone of degree 2\n",
    "C = positive_hull([2 -1; 0 1])\n",
    "U = affine_normal_toric_variety(C)"
   ]
  },
  {
   "cell_type": "markdown",
   "id": "6d66c9f9",
   "metadata": {},
   "source": [
    "#### Construction of normal toric varieties\n",
    "\n",
    "In OSCAR, there are three different ways to construct a normal toric variety:\n",
    "\n",
    "| Method |\n",
    "| :----------- |\n",
    "| `normal_toric_variety(rays::Vector{Vector{Int64}}, max_cones::Vector{Vector{Int64}})` |\n",
    "| `normal_toric_variety(PF::PolyhedralFan)` |\n",
    "| `normal_toric_variety(P::Polyhedron)` |\n",
    "\n",
    "- by specifying the rays `rays` and and the maximum cones `max_cones` as a vector of vectors.\n",
    "- by specifying a fan `PF`.\n",
    "- by specifying a polyhedron `P`.\n",
    "\n",
    "##### Example\n",
    "\n",
    "The projective surface $\\mathbb{P}^2$ can be constructed as follows:"
   ]
  },
  {
   "cell_type": "code",
   "execution_count": 3,
   "id": "90fc4940",
   "metadata": {},
   "outputs": [
    {
     "data": {
      "text/plain": [
       "Normal toric variety"
      ]
     },
     "execution_count": 3,
     "metadata": {},
     "output_type": "execute_result"
    }
   ],
   "source": [
    "# specifying the ray generators and the maximal cones\n",
    "ray_generators = [[1,0],[0,1],[-1,-1]]\n",
    "max_cones = [[1,2],[2,3],[1,3]]\n",
    "P2 = normal_toric_variety(ray_generators, max_cones)"
   ]
  },
  {
   "cell_type": "code",
   "execution_count": 4,
   "id": "63f3b9f1",
   "metadata": {},
   "outputs": [
    {
     "data": {
      "text/plain": [
       "Normal toric variety"
      ]
     },
     "execution_count": 4,
     "metadata": {},
     "output_type": "execute_result"
    }
   ],
   "source": [
    "# specifying the fan\n",
    "R = [1 0; 0 1; -1 -1]\n",
    "IM = IncidenceMatrix([[1,2],[2,3],[1,3]])\n",
    "PF = PolyhedralFan(R, IM)\n",
    "P2 = normal_toric_variety(PF)"
   ]
  },
  {
   "cell_type": "code",
   "execution_count": 5,
   "id": "95bd1aa8",
   "metadata": {},
   "outputs": [
    {
     "data": {
      "text/plain": [
       "Normal toric variety"
      ]
     },
     "execution_count": 5,
     "metadata": {},
     "output_type": "execute_result"
    }
   ],
   "source": [
    "# specifying the polyhedron\n",
    "P = simplex(2)\n",
    "P2 = normal_toric_variety(P)"
   ]
  },
  {
   "cell_type": "markdown",
   "id": "0827262a",
   "metadata": {},
   "source": [
    "### Famous Toric Vareties\n",
    "\n",
    "OSCAR already includes many of the most important normal toric varieties:\n",
    "\n",
    "| Method | Description |\n",
    "| :----------- | :----------- |\n",
    "| `affine_space(::Type{NormalToricVariety}, d::Int)` | Constructs the (toric) affine space of dimension `d`. |\n",
    "| `del_pezzo_surface(b::Int)` | Constructs the del Pezzo surface with `b` blowups for `b` at most 3. |\n",
    "| `hirzebruch_surface(r::Int)` | Constructs the `r`-th Hirzebruch surface.. |\n",
    "| `projective_space(::Type{NormalToricVariety}, d::Int)` | Constructs the projective space of dimension `d`. |\n",
    "| `weighted_projective_space(::Type{NormalToricVariety}, w::Vector{T})` | Constructs the weighted projective space corresponding to the weights `w`. |\n",
    "\n",
    "##### Example\n",
    "\n",
    "Constructing toric varieties using predefined methods provides some of their properties:"
   ]
  },
  {
   "cell_type": "code",
   "execution_count": 6,
   "id": "cc247924",
   "metadata": {},
   "outputs": [
    {
     "data": {
      "text/plain": [
       "Normal, non-affine, smooth, projective, gorenstein, fano, 2-dimensional toric variety without torusfactor"
      ]
     },
     "execution_count": 6,
     "metadata": {},
     "output_type": "execute_result"
    }
   ],
   "source": [
    "projective_space(NormalToricVariety, 2)"
   ]
  },
  {
   "cell_type": "markdown",
   "id": "4056aedd",
   "metadata": {},
   "source": [
    "#### Further Constructions\n",
    "\n",
    "| Method | Description |\n",
    "| :----------- | :----------- |\n",
    "| `blowup_on_ith_minimal_torus_orbit(v::AbstractNormalToricVariety, n::Int, coordinate_name::String)` | Return the blowup of the normal toric variety `v` on its `n`-th minimal torus orbit. |\n",
    "| `Base.:*(v::AbstractNormalToricVariety, w::AbstractNormalToricVariety)` | Return the Cartesian/direct product of two normal toric varieties `v` and `w`. |\n",
    "| `normal_toric_varieties_from_star_triangulations(P::Polyhedron)` | Return the list of toric varieties obtained from fine regular star triangulations of the polyhedron `P`. |\n",
    "| `normal_toric_varieties_from_glsm(charges::ZZMatrix)` | Return a normal toric variety from a Witten's Generalized-Sigma Model (GLSM). |\n",
    "\n",
    "##### Example"
   ]
  },
  {
   "cell_type": "code",
   "execution_count": 7,
   "id": "b5c373f1",
   "metadata": {},
   "outputs": [
    {
     "data": {
      "text/plain": [
       "Normal toric variety"
      ]
     },
     "execution_count": 7,
     "metadata": {},
     "output_type": "execute_result"
    }
   ],
   "source": [
    "P1 = projective_space(NormalToricVariety, 1)\n",
    "P = P1 * P1\n",
    "blowup_on_ith_minimal_torus_orbit(P, 1, \"e\")"
   ]
  },
  {
   "cell_type": "markdown",
   "id": "500666e3",
   "metadata": {},
   "source": [
    "### Properties of Toric Varieties\n",
    "\n",
    "The following properties can be checked for normal toric varieties:\n",
    "\n",
    "| Method | Description |\n",
    "| :----------- | :----------- |\n",
    "| `has_torusfactor(v::AbstractNormalToricVariety)` | Checks if the normal toric variety `v` has a torus factor. |\n",
    "| `is_affine(v::AbstractNormalToricVariety)` | Checks if the normal toric variety `v` is affine. |\n",
    "| `is_complete(v::AbstractNormalToricVariety)` | Checks if the normal toric variety `v` is complete. |\n",
    "| `is_fano(v::AbstractNormalToricVariety)` | Checks if the normal toric variety `v` is fano. |\n",
    "| `is_gorenstein(v::AbstractNormalToricVariety)` | Checks if the normal toric variety `v` is Gorenstein. |\n",
    "| `is_simplicial(v::AbstractNormalToricVariety)` | Checks if the normal toric variety `v` is simplicial. |\n",
    "| `is_smooth(v::AbstractNormalToricVariety)` | Checks if the normal toric variety `v` is smooth. |\n",
    "| `is_normal(v::AbstractNormalToricVariety)` | Checks if the normal toric variety `v` is normal. |\n",
    "| `is_orbifold(v::AbstractNormalToricVariety)` | Checks if the normal toric variety `v` is an orbifold. |\n",
    "| `is_projective(v::AbstractNormalToricVariety)` | Checks if the normal toric variety `v` is projective. |\n",
    "| `is_projective_space(v::AbstractNormalToricVariety)` | Decides if the normal toric varieties `v` is a projective space. |\n",
    "| `is_q_gorenstein(v::AbstractNormalToricVariety)` | Checks if the normal toric variety `v` is Q-Gorenstein. |\n",
    "\n",
    "##### Example"
   ]
  },
  {
   "cell_type": "code",
   "execution_count": 8,
   "id": "0a7e0e12",
   "metadata": {},
   "outputs": [
    {
     "data": {
      "text/plain": [
       "(false, false, true, true)"
      ]
     },
     "execution_count": 8,
     "metadata": {},
     "output_type": "execute_result"
    }
   ],
   "source": [
    "# Properties of the projective plane\n",
    "P2 = projective_space(NormalToricVariety, 2)\n",
    "(has_torusfactor(P2), is_affine(P2), is_complete(P2), is_smooth(P2))"
   ]
  },
  {
   "cell_type": "markdown",
   "id": "5db884e8",
   "metadata": {},
   "source": [
    "### Operations for Toric Varieties\n",
    "\n",
    "#### Affine Open Covering\n",
    "\n",
    "\n",
    "\n",
    "\n",
    "| Method | Description |\n",
    "| :----------- | :----------- |\n",
    "| `affine_open_covering(v::AbstractNormalToricVariety)` | Computes an affine open cover of the normal toric variety `v`, i.e. returns a list of affine toric varieties. |\n",
    "\n",
    "##### Example"
   ]
  },
  {
   "cell_type": "code",
   "execution_count": 9,
   "id": "b1c110b1",
   "metadata": {},
   "outputs": [
    {
     "data": {
      "text/plain": [
       "3-element Vector{AffineNormalToricVariety}:\n",
       " Normal, affine toric variety\n",
       " Normal, affine toric variety\n",
       " Normal, affine toric variety"
      ]
     },
     "execution_count": 9,
     "metadata": {},
     "output_type": "execute_result"
    }
   ],
   "source": [
    "P2 = projective_space(NormalToricVariety, 2)\n",
    "affine_open_covering(P2)"
   ]
  },
  {
   "cell_type": "markdown",
   "id": "ddec9d99",
   "metadata": {},
   "source": [
    "#### Characters, Weil Divisors, Cartier Divisors, Class Group and Picard Group\n",
    "\n",
    "The following groups can be identified for normal toric varieties:\n",
    "\n",
    "| Method | Description |\n",
    "| :----------- | :----------- |\n",
    "| `torusinvariant_cartier_divisor_group(v::AbstractNormalToricVariety)` | Cartier divisor group of an abstract normal toric variety `v`. |\n",
    "| `character_lattice(v::AbstractNormalToricVariety)` | Character lattice of a normal toric variety `v`. |\n",
    "| `class_group(v::AbstractNormalToricVariety)` | Class group of the normal toric variety `v`. |\n",
    "| `picard_group(v::AbstractNormalToricVariety)` | Picard group of an abstract normal toric variety `v`. |\n",
    "| `torusinvariant_weil_divisor_group(v::AbstractNormalToricVariety)` | Torusinvariant divisor group of a normal toric variety `v`. |\n",
    "| `torusinvariant_prime_divisors(v::AbstractNormalToricVariety)` | List of all torus invariant prime divisors in a normal toric variety `v`. |\n",
    "\n",
    "In addition, it is possible to construct the following mappings between these groups:\n",
    "\n",
    "| Method |\n",
    "| :----------- |\n",
    "| `map_from_torusinvariant_cartier_divisor_group_to_torusinvariant_weil_divisor_group(v::AbstractNormalToricVariety)` |\n",
    "| `map_from_torusinvariant_cartier_divisor_group_to_picard_group(v::AbstractNormalToricVariety)` |\n",
    "| `map_from_character_lattice_to_torusinvariant_weil_divisor_group(v::AbstractNormalToricVariety)` |\n",
    "| `map_from_torusinvariant_weil_divisor_group_to_class_group(v::AbstractNormalToricVariety)` |\n",
    "\n",
    "##### Example"
   ]
  },
  {
   "cell_type": "code",
   "execution_count": 10,
   "id": "28a3cd8f",
   "metadata": {},
   "outputs": [
    {
     "data": {
      "text/plain": [
       "4-element Vector{GrpAbFinGen}:\n",
       " GrpAb: Z^2\n",
       " GrpAb: Z\n",
       " GrpAb: Z\n",
       " GrpAb: Z^3"
      ]
     },
     "execution_count": 10,
     "metadata": {},
     "output_type": "execute_result"
    }
   ],
   "source": [
    "P2 = projective_space(NormalToricVariety, 2)\n",
    "[\n",
    "    character_lattice(P2),\n",
    "    class_group(P2),\n",
    "    picard_group(P2),\n",
    "    torusinvariant_weil_divisor_group(P2)\n",
    "]"
   ]
  },
  {
   "cell_type": "code",
   "execution_count": 11,
   "id": "698e791c",
   "metadata": {},
   "outputs": [
    {
     "data": {
      "text/plain": [
       "Map with following data\n",
       "Domain:\n",
       "=======\n",
       "Abelian group with structure: Z^2\n",
       "Codomain:\n",
       "=========\n",
       "Abelian group with structure: Z^3"
      ]
     },
     "execution_count": 11,
     "metadata": {},
     "output_type": "execute_result"
    }
   ],
   "source": [
    "P2 = projective_space(NormalToricVariety, 2)\n",
    "map_from_character_lattice_to_torusinvariant_weil_divisor_group(P2)"
   ]
  },
  {
   "cell_type": "markdown",
   "id": "a5fb869b",
   "metadata": {},
   "source": [
    "#### Cones and Fans\n",
    "\n",
    "| Method | Description |\n",
    "| :----------- | :----------- |\n",
    "| `fan(v::AbstractNormalToricVariety)` | Fan of an abstract normal toric variety `v`. |\n",
    "| `cone(v::AffineNormalToricVariety)` | Cone of the affine normal toric variety `v`. |\n",
    "| `dual_cone(v::AffineNormalToricVariety)` | Dual cone of the affine normal toric variety `v`. |\n",
    "| `hilbert_basis(v::AffineNormalToricVariety)` | Hilbert basis of the cone dual to the cone of `v`. |\n",
    "| `mori_cone(v::NormalToricVariety)` | Mori cone of the normal toric variety `v`. |\n",
    "| `nef_cone(v::NormalToricVariety)` | Nef cone of the normal toric variety `v`. |\n",
    "\n",
    "##### Example"
   ]
  },
  {
   "cell_type": "code",
   "execution_count": 12,
   "id": "60c6a3fc",
   "metadata": {},
   "outputs": [
    {
     "data": {
      "text/plain": [
       "2-element Vector{SubObjectIterator{RayVector{QQFieldElem}}}:\n",
       " [[1, 0], [0, 1], [-1, -1]]\n",
       " [[1, 0], [0, 1]]"
      ]
     },
     "execution_count": 12,
     "metadata": {},
     "output_type": "execute_result"
    }
   ],
   "source": [
    "P2 = projective_space(NormalToricVariety, 2)\n",
    "[\n",
    "    rays(fan(P2)),\n",
    "    rays(cone(affine_open_covering(P2)[1]))\n",
    "]"
   ]
  },
  {
   "cell_type": "markdown",
   "id": "4903f8af",
   "metadata": {},
   "source": [
    "#### Dimensions\n",
    "\n",
    "| Method | Description |\n",
    "| :----------- | :----------- |\n",
    "| `dim(v::AbstractNormalToricVariety)` | Dimension of the normal toric variety `v`. |\n",
    "| `dim_of_torusfactor(v::AbstractNormalToricVariety)` | Dimension of the torus factor of the normal toric variety `v`. |\n",
    "| `euler_characteristic(v::AbstractNormalToricVariety)` | Euler characteristic of the normal toric variety `v`. |\n",
    "| `betti_number(v::AbstractNormalToricVariety, i::Int)` | `i`-th Betti number of a complete and simplicial toric variety `v`. |\n",
    "\n",
    "##### Example"
   ]
  },
  {
   "cell_type": "code",
   "execution_count": 13,
   "id": "44cdc411",
   "metadata": {},
   "outputs": [
    {
     "data": {
      "text/plain": [
       "(2, 0, 3, 1, 0)"
      ]
     },
     "execution_count": 13,
     "metadata": {},
     "output_type": "execute_result"
    }
   ],
   "source": [
    "P2 = projective_space(NormalToricVariety, 2)\n",
    "(dim(P2), dim_of_torusfactor(P2), euler_characteristic(P2), betti_number(P2, 0), betti_number(P2, 1))"
   ]
  },
  {
   "cell_type": "markdown",
   "id": "9b97b607",
   "metadata": {},
   "source": [
    "#### Rings and ideals\n",
    "\n",
    "OSCAR supports several rings and ideals for toric varieties. For each of these coordinate names and the coefficient ring must be chosen. The coefficient ring is fixed to $\\mathbb{Q}$. The coordinate names are $x_1,...,x_n$ by default and can be changed using the following setter functions:\n",
    "\n",
    "| Method |\n",
    "| :----------- |\n",
    "| `set_coordinate_names(v::AbstractNormalToricVariety, coordinate_names::Vector{String})` |\n",
    "| `set_coordinate_names_of_torus(v::AbstractNormalToricVariety, coordinate_names::Vector{String})` |\n",
    "| `coordinate_names(v::AbstractNormalToricVariety)` |\n",
    "| `coordinate_names_of_torus(v::AbstractNormalToricVariety)` |\n",
    "\n",
    "nce one of the following methods of calculating rings or ideals has been used, the choice of coordinate names is fixed:\n",
    "\n",
    "| Method | Description |\n",
    "| :----------- | :----------- |\n",
    "| `cox_ring(v::AbstractNormalToricVariety)` | Cox ring (or total coordinate ring) of the normal toric variety `v`. |\n",
    "| `irrelevant_ideal(v::AbstractNormalToricVariety)` | Irrelevant ideal of a normal toric variety `v`. |\n",
    "| `ideal_of_linear_relations(v::AbstractNormalToricVariety)` | Ideal of linear relations of the simplicial and complete toric variety `v`. |\n",
    "| `stanley_reisner_ideal(v::AbstractNormalToricVariety)` | Stanley-Reisner ideal of a normal toric variety `v`. |\n",
    "| `toric_ideal(antv::AffineNormalToricVariety)` | Toric ideal defining the affine normal toric variety `v`. |\n",
    "| `coordinate_ring_of_torus(v::AbstractNormalToricVariety)` | Coordinate ring of the torus of the normal toric variety `v`. |\n",
    "\n",
    "To check if any of the above objects have been cached, use the following method:\n",
    "\n",
    "| Method |\n",
    "| :----------- |\n",
    "| `is_finalized(v::AbstractNormalToricVariety)` |\n",
    "\n",
    "The above rings and ideals can also be computed with a different choice of coordinate name and coefficient ring. To do this, a user-defined ring `R::MPolyRing` must be passed as the first argument in the above methods, e.g. `toric_ideal(R::MPolyRing, antv::AffineNormalToricVariety)`. The already cached rings and ideals will not be changed.\n",
    "\n",
    "In the same way, characters can be turned into rational functions:\n",
    "\n",
    "| Method |\n",
    "| :----------- |\n",
    "| `character_to_rational_function(v::AbstractNormalToricVariety, character::Vector{fmpz})` |\n",
    "\n",
    "##### Example"
   ]
  },
  {
   "cell_type": "code",
   "execution_count": 14,
   "id": "3b9b1713",
   "metadata": {},
   "outputs": [
    {
     "data": {
      "text/plain": [
       "Quotient of Multivariate Polynomial Ring in x1, x2, x1_, x2_ over Rational Field by ideal(x1*x1_ - 1, x2*x2_ - 1)"
      ]
     },
     "execution_count": 14,
     "metadata": {},
     "output_type": "execute_result"
    }
   ],
   "source": [
    "# Coordinate ring of the torus of the projective plane with the standard coordinate names\n",
    "P2 = projective_space(NormalToricVariety, 2)\n",
    "coordinate_ring_of_torus(P2)"
   ]
  },
  {
   "cell_type": "code",
   "execution_count": 15,
   "id": "a613e742",
   "metadata": {},
   "outputs": [
    {
     "data": {
      "text/plain": [
       "Quotient of Multivariate Polynomial Ring in y1, y2, y1_, y2_ over Rational Field by ideal(y1*y1_ - 1, y2*y2_ - 1)"
      ]
     },
     "execution_count": 15,
     "metadata": {},
     "output_type": "execute_result"
    }
   ],
   "source": [
    "# Coordinate ring of the torus of the projective plane with modified coordinate names\n",
    "P2 = projective_space(NormalToricVariety, 2)\n",
    "set_coordinate_names_of_torus(P2, [\"y1\", \"y2\"])\n",
    "coordinate_ring_of_torus(P2)"
   ]
  },
  {
   "cell_type": "code",
   "execution_count": 16,
   "id": "8ebfc64e",
   "metadata": {},
   "outputs": [
    {
     "data": {
      "text/plain": [
       "x2^2*x1_"
      ]
     },
     "execution_count": 16,
     "metadata": {},
     "output_type": "execute_result"
    }
   ],
   "source": [
    "# rational function of a character with the standard coordinate names\n",
    "P2 = projective_space(NormalToricVariety, 2)\n",
    "character_to_rational_function(P2, [-1,2])"
   ]
  },
  {
   "cell_type": "code",
   "execution_count": 17,
   "id": "798fe020",
   "metadata": {},
   "outputs": [
    {
     "data": {
      "text/plain": [
       "x2^2*x3"
      ]
     },
     "execution_count": 17,
     "metadata": {},
     "output_type": "execute_result"
    }
   ],
   "source": [
    "# rational function of a character with modified coefficient ring\n",
    "P2 = projective_space(NormalToricVariety, 2)\n",
    "R,_ = PolynomialRing(QQ, 4)\n",
    "character_to_rational_function(R, P2, [-1,2])"
   ]
  },
  {
   "cell_type": "markdown",
   "id": "efcb2f74",
   "metadata": {},
   "source": [
    "#### Auxiliary Methods\n",
    "\n",
    "- The rows of a matrix `binoms` can be converted into binomials. To do this, each row $r$ is written as $r=u-v$ with $u,v \\geq 0$ by splitting the positive and negative entries. The line $r$ then corresponds to $x^u - x^v$. Return is the resulting ideal.\n",
    "\n",
    "| Method |\n",
    "| :----------- |\n",
    "| `binomial_exponents_to_ideal(binoms::Union{AbstractMatrix, fmpz_mat})` |\n",
    "\n",
    "- The following method yields the toric ideal generated from the linear relations between the points `pts`. It is given by the set $\\{x^u - x^v \\; \\vert \\; u,v \\in \\mathbb{Z}_{\\geq 0}^{n}(pts)^T \\cdot (u-v) = 0\\}$ of binomials.\n",
    "\n",
    "| Methode |\n",
    "| :----------- |\n",
    "| `toric_ideal(pts::fmpz_mat)` | \n",
    "\n",
    "\n",
    "##### Example\n",
    "\n",
    "The matrix\n",
    "$$\n",
    "A = \n",
    "\\begin{pmatrix}\n",
    "-1 & -1 & 0 & 2 \\\\\n",
    "2 & 3 & -2 & -1 \\\\\n",
    "\\end{pmatrix}\n",
    "$$\n",
    "yields\n",
    "$$\n",
    "\\begin{aligned}\n",
    "r_1 &= (0,0,0,2) - (1,1,0,0) \\quad \\leftrightarrow \\quad x_4^2 - x_1x_2 \\\\\n",
    "r_2 &= (2,3,0,0) - (0,0,2,1) \\quad \\leftrightarrow \\quad x_1^2x_2^3 - x_3^2x_4.\n",
    "\\end{aligned}\n",
    "$$"
   ]
  },
  {
   "cell_type": "code",
   "execution_count": 18,
   "id": "ca20b4c7",
   "metadata": {},
   "outputs": [
    {
     "data": {
      "text/plain": [
       "ideal(-x1*x2 + x4^2, x1^2*x2^3 - x3^2*x4)"
      ]
     },
     "execution_count": 18,
     "metadata": {},
     "output_type": "execute_result"
    }
   ],
   "source": [
    "A = [-1 -1 0 2; 2 3 -2 -1]\n",
    "binomial_exponents_to_ideal(A)"
   ]
  },
  {
   "cell_type": "code",
   "execution_count": 19,
   "id": "04b0a580",
   "metadata": {},
   "outputs": [
    {
     "data": {
      "text/plain": [
       "ideal(x2*x3 - x4^2, -x1*x3 + x2^2*x4, -x1*x4 + x2^3, -x1*x3^2 + x2*x4^3, -x1*x3^3 + x4^5)"
      ]
     },
     "execution_count": 19,
     "metadata": {},
     "output_type": "execute_result"
    }
   ],
   "source": [
    "C = positive_hull([-2 5; 1 0]);\n",
    "H = hilbert_basis(C)\n",
    "toric_ideal(H)"
   ]
  },
  {
   "cell_type": "markdown",
   "id": "33276170",
   "metadata": {},
   "source": [
    "## Cyclic Quotient Singularities\n",
    "\n",
    "Cyclic quotient singularities are quotients of $\\mathbb{C}^2$ by the action of $\\mathbb{Z}/n\\mathbb{Z}$ acting via \n",
    "\\begin{equation*}\n",
    "    \\begin{pmatrix} \\xi & 0 \\\\ 0 & \\xi^q \\end{pmatrix},\n",
    "\\end{equation*}\n",
    "where $\\xi$ is an $n$-th root of unity and $q,n$ are coprime integers,such that $0 < q < n$.\n",
    "\n",
    "Note that OSCAR uses the *Hirzebruch-Jung continued fraction* for cyclic quotient singularities instead of the continued fraction known from the literature and used in the rest of OSCAR.\n",
    "\n",
    "### Constructors\n",
    "\n",
    "| Method | Description |\n",
    "| :----------- | :----------- |\n",
    "| `CyclicQuotientSingularity(n::fmpz, q::fmpz)` | Cyclic quotient singularity for the parameters `n` and `q`, with $0<q<n$ and $q,n$ coprime.\n",
    "\n",
    "### Attributes\n",
    "\n",
    "| Method | Description |\n",
    "| :----------- | :----------- |\n",
    "| `continued_fraction_hirzebruch_jung(cqs::CyclicQuotientSingularity)` | Hirzebruch-Jung continued fraction corresponding to $n/q$.  |\n",
    "| `dual_continued_fraction_hirzebruch_jung(cqs::CyclicQuotientSingularity)` | Hirzebruch-Jung continued fraction corresponding to $q/(n-q)$. |\n",
    "\n",
    "The rational number corresponding to a Hirzebruch-Jung continued fraction $[c_1,c_2,...,c_n]$ is \n",
    "\\begin{equation*}\n",
    "r([c_1,c_2,...,c_n]) = c_1 - \\tfrac{1}{r([c_2,...,c_n])},\n",
    "\\end{equation*}\n",
    "where $r([c_n]) = c_n$. Note that this is differs in sign from what is commonly known as continued fraction.\n",
    "\n",
    "### Auxiliary Methods\n",
    "\n",
    "The rational number corresponding to a Hirzebruch-Jung continued fraction, given as a vector of (positive) integers, can be determined by the following method:  \n",
    "\n",
    "| Method |\n",
    "| :----------- |\n",
    "| `continued_fraction_hirzebruch_jung_to_rational(v::Vector{fmpz})` |\n",
    "\n",
    "Conversely, the Hirzebruch-Jung continued fraction corresponding to a given rational number can be determined as follows:\n",
    "\n",
    "| Method |\n",
    "| :----------- |\n",
    "| `rational_to_continued_fraction_hirzebruch_jung(r::fmpq)` | \n",
    "\n",
    "##### Example"
   ]
  },
  {
   "cell_type": "code",
   "execution_count": 20,
   "id": "8d82a711",
   "metadata": {},
   "outputs": [
    {
     "data": {
      "text/plain": [
       "Cyclic quotient singularity Y(7, 5)"
      ]
     },
     "execution_count": 20,
     "metadata": {},
     "output_type": "execute_result"
    }
   ],
   "source": [
    "cqs = CyclicQuotientSingularity(7,5)"
   ]
  },
  {
   "cell_type": "code",
   "execution_count": 21,
   "id": "c43dc405",
   "metadata": {},
   "outputs": [
    {
     "data": {
      "text/plain": [
       "7//5"
      ]
     },
     "execution_count": 21,
     "metadata": {},
     "output_type": "execute_result"
    }
   ],
   "source": [
    "cf = continued_fraction_hirzebruch_jung(cqs)\n",
    "ecf = cf[1]-1//(cf[2]-fmpq(1,cf[3]))"
   ]
  },
  {
   "cell_type": "code",
   "execution_count": 22,
   "id": "593b324b",
   "metadata": {},
   "outputs": [
    {
     "data": {
      "text/plain": [
       "7//2"
      ]
     },
     "execution_count": 22,
     "metadata": {},
     "output_type": "execute_result"
    }
   ],
   "source": [
    "dcf = dual_continued_fraction_hirzebruch_jung(cqs)\n",
    "edcf = dcf[1] - fmpq(1,dcf[2])"
   ]
  },
  {
   "cell_type": "code",
   "execution_count": 23,
   "id": "e6c1746a",
   "metadata": {},
   "outputs": [
    {
     "data": {
      "text/plain": [
       "7-element Vector{ZZRingElem}:\n",
       " 17\n",
       " 11\n",
       " 23\n",
       " 46\n",
       " 18\n",
       " 19\n",
       " 37"
      ]
     },
     "execution_count": 23,
     "metadata": {},
     "output_type": "execute_result"
    }
   ],
   "source": [
    "r = fmpq(2464144958, 145732115)\n",
    "cf = rational_to_continued_fraction_hirzebruch_jung(r)"
   ]
  },
  {
   "cell_type": "code",
   "execution_count": 24,
   "id": "33a24aa7",
   "metadata": {},
   "outputs": [
    {
     "data": {
      "text/plain": [
       "2464144958//145732115"
      ]
     },
     "execution_count": 24,
     "metadata": {},
     "output_type": "execute_result"
    }
   ],
   "source": [
    "continued_fraction_hirzebruch_jung_to_rational(cf)"
   ]
  },
  {
   "cell_type": "markdown",
   "id": "0aa0c4a6",
   "metadata": {},
   "source": [
    "## Toric Divisors\n",
    "\n",
    "Toric divisors are those divisors that are invariant under the torus action. They are formal sums of the codimension one orbits, and these in turn correspond to the rays of the underlying fan.\n",
    "\n",
    "### Constructors\n",
    "\n",
    "Toric divisors can be defined in the following ways:\n",
    "\n",
    "| Method |\n",
    "| :----------- |\n",
    "| `divisor_of_character(v::AbstractNormalToricVariety, character::Vector{T}) where {T <: IntegerUnion}` |\n",
    "| `toric_divisor(v::AbstractNormalToricVariety, coeffs::Vector{T}) where {T <: IntegerUnion}` |\n",
    "\n",
    "- The first method defines a divisor of a normal toric variety `v` associated to a character.\n",
    "- The second method defines a torus-invariant divisor as a linear combination of torus-invariant prime divisors on `v`. The coefficients of the linear combination are passed as a list of integers in the second argument.\n",
    "\n",
    "Furthermore, toric divisors can be added or subtracted with the operators `+` and `-`. Multiplication with a scalar from the left is done with `*`, where only integers or scalars of type `fmpz` are allowed.\n",
    "\n",
    "##### Example"
   ]
  },
  {
   "cell_type": "code",
   "execution_count": 25,
   "id": "53625c44",
   "metadata": {},
   "outputs": [
    {
     "data": {
      "text/plain": [
       "2-element Vector{ToricDivisor}:\n",
       " Torus-invariant, non-prime divisor on a normal toric variety\n",
       " Torus-invariant, non-prime divisor on a normal toric variety"
      ]
     },
     "execution_count": 25,
     "metadata": {},
     "output_type": "execute_result"
    }
   ],
   "source": [
    "P2 = projective_space(NormalToricVariety, 2)\n",
    "[\n",
    "    divisor_of_character(P2, [1,2]),\n",
    "    toric_divisor(P2, [1,1,2])\n",
    "]"
   ]
  },
  {
   "cell_type": "markdown",
   "id": "0744d6b4",
   "metadata": {},
   "source": [
    "#### Special divisors\n",
    "\n",
    "| Method | Description |\n",
    "| :----------- | :----------- |\n",
    "| `trivial_divisor(v::AbstractNormalToricVariety)` | Trivial divisor of the normal toric variety `v`. |\n",
    "| `anticanonical_divisor(v::AbstractNormalToricVariety)` | Anticanonical divisor of the normal toric variety `v`. |\n",
    "| `canonical_divisor(v::AbstractNormalToricVariety)` | Canonical divisor of the normal toric variety `v`. |\n",
    "\n",
    "##### Example"
   ]
  },
  {
   "cell_type": "code",
   "execution_count": 26,
   "id": "66a3a49a",
   "metadata": {},
   "outputs": [
    {
     "data": {
      "text/plain": [
       "3-element Vector{ToricDivisor}:\n",
       " Torus-invariant, non-prime divisor on a normal toric variety\n",
       " Torus-invariant, non-prime divisor on a normal toric variety\n",
       " Torus-invariant, non-prime divisor on a normal toric variety"
      ]
     },
     "execution_count": 26,
     "metadata": {},
     "output_type": "execute_result"
    }
   ],
   "source": [
    "P2 = projective_space(NormalToricVariety, 2)\n",
    "[\n",
    "    trivial_divisor(P2),\n",
    "    anticanonical_divisor(P2),\n",
    "    canonical_divisor(P2)\n",
    "]"
   ]
  },
  {
   "cell_type": "markdown",
   "id": "f1613608",
   "metadata": {},
   "source": [
    "### Properties of toric divisors\n",
    "\n",
    "Equality of toric divisors can be tested via `==`.\n",
    "\n",
    "To check if a toric divisor is trivial, one can invoke `is_trivial`.\n",
    "This checks if all coefficients of the toric divisor in question are zero.\n",
    "\n",
    "In addition, the following properties of a toric variety `td` are supported:\n",
    "\n",
    "| Method |\n",
    "| :----------- |\n",
    "| `is_principal(td::ToricDivisor)` |\n",
    "| `is_ample(td::ToricDivisor)` |\n",
    "| `is_basepoint_free(td::ToricDivisor)` |\n",
    "| `is_cartier(td::ToricDivisor)` |\n",
    "| `is_effective(td::ToricDivisor)` |\n",
    "| `is_integral(td::ToricDivisor)` |\n",
    "| `is_nef(td::ToricDivisor)` |\n",
    "| `is_prime(td::ToricDivisor)` |\n",
    "| `is_q_cartier(td::ToricDivisor)` |\n",
    "| `is_very_ample(td::ToricDivisor)` |\n",
    "\n",
    "##### Example"
   ]
  },
  {
   "cell_type": "code",
   "execution_count": 27,
   "id": "2426bd80",
   "metadata": {},
   "outputs": [
    {
     "data": {
      "text/plain": [
       "2-element Vector{NTuple{5, Bool}}:\n",
       " (0, 0, 1, 1, 1)\n",
       " (1, 1, 1, 1, 0)"
      ]
     },
     "execution_count": 27,
     "metadata": {},
     "output_type": "execute_result"
    }
   ],
   "source": [
    "F2 = hirzebruch_surface(2)\n",
    "td = ToricDivisor(F2, [1,0,0,0])\n",
    "[\n",
    "    (is_principal(td), is_ample(td), is_basepoint_free(td), is_cartier(td), is_effective(td)),\n",
    "    (is_integral(td), is_nef(td), is_prime(td), is_q_cartier(td), is_very_ample(td))\n",
    "]"
   ]
  },
  {
   "cell_type": "markdown",
   "id": "dde8d272",
   "metadata": {},
   "source": [
    "### Attributes\n",
    "\n",
    "| Method | Description |\n",
    "| :----------- | :----------- |\n",
    "| `coefficients(td::ToricDivisor)` | Identifies the coefficients of a toric divisor in the group of torus invariant Weil divisors. |\n",
    "| `polyhedron(td::ToricDivisor)` | Constructs the polyhedron $P_D$ of a torus invariant divisor $D=$ `td`. |\n",
    "| `toric_variety(td::ToricDivisor)` | Returns the toric variety of a torus-invariant Weil divisor. |\n",
    "\n",
    "##### Example"
   ]
  },
  {
   "cell_type": "code",
   "execution_count": 28,
   "id": "217df1c4",
   "metadata": {},
   "outputs": [
    {
     "data": {
      "text/plain": [
       "3-element Vector{Any}:\n",
       " ZZRingElem[1, 2, 3, 4]\n",
       " Polyhedron in ambient dimension 2\n",
       " Normal, non-affine, smooth, projective, gorenstein, non-fano, 2-dimensional toric variety without torusfactor"
      ]
     },
     "execution_count": 28,
     "metadata": {},
     "output_type": "execute_result"
    }
   ],
   "source": [
    "F2 = hirzebruch_surface(2)\n",
    "D = ToricDivisor(F2, [1,2,3,4])\n",
    "[\n",
    "    coefficients(D),\n",
    "    polyhedron(D),\n",
    "    toric_variety(D)\n",
    "]"
   ]
  },
  {
   "cell_type": "markdown",
   "id": "e7603344",
   "metadata": {},
   "source": [
    "## Toric Divisor Classes\n",
    "\n",
    "Toric divisor classes are equivalence classes of Weil divisors modulo linear equivalence.\n",
    "\n",
    "### Constructors\n",
    "\n",
    "A toric divisor class of a normal toric variety `v` is defined by a list `coeffs` of integers specifying an element of the class group:\n",
    "\n",
    "| Method |\n",
    "| :----------- |\n",
    "| `toric_divisor_class(v::AbstractNormalToricVariety, coeffs::Vector{T}) where {T <: IntegerUnion}` |\n",
    "\n",
    "Furthermore, toric divisor classes can be added or subtracted with the operators `+` and `-`. Multiplication with a scalar from the left is done with `*`, where only integers or scalars of type `fmpz` are allowed.\n",
    "\n",
    "##### Example"
   ]
  },
  {
   "cell_type": "code",
   "execution_count": 29,
   "id": "dc6f252f",
   "metadata": {},
   "outputs": [
    {
     "data": {
      "text/plain": [
       "Divisor class on a normal toric variety"
      ]
     },
     "execution_count": 29,
     "metadata": {},
     "output_type": "execute_result"
    }
   ],
   "source": [
    "P2 = projective_space(NormalToricVariety, 2)\n",
    "tdc = toric_divisor_class(P2, class_group(P2)([fmpz(1)]))"
   ]
  },
  {
   "cell_type": "markdown",
   "id": "7d8d49c1",
   "metadata": {},
   "source": [
    "#### Special divisor classes\n",
    "\n",
    "| Method | Description |\n",
    "| :----------- | :----------- |\n",
    "| `trivial_divisor_class(v::AbstractNormalToricVariety)` | Trivial divisor class of a normal toric variety `v`. |\n",
    "| `anticanonical_divisor_class(v::AbstractNormalToricVariety)` | Anticanonical divisor class of a normal toric variety `v`. |\n",
    "| `canonical_divisor_class(v::AbstractNormalToricVariety)` | Canonical divisor class of a normal toric variety. `v`. |\n",
    "\n",
    "##### Example"
   ]
  },
  {
   "cell_type": "code",
   "execution_count": 30,
   "id": "5fd1dbae",
   "metadata": {},
   "outputs": [
    {
     "data": {
      "text/plain": [
       "3-element Vector{ToricDivisorClass}:\n",
       " Divisor class on a normal toric variety\n",
       " Divisor class on a normal toric variety\n",
       " Divisor class on a normal toric variety"
      ]
     },
     "execution_count": 30,
     "metadata": {},
     "output_type": "execute_result"
    }
   ],
   "source": [
    "P2 = projective_space(NormalToricVariety, 2)\n",
    "[\n",
    "    trivial_divisor_class(P2),\n",
    "    anticanonical_divisor_class(P2),\n",
    "    canonical_divisor_class(P2)\n",
    "]"
   ]
  },
  {
   "cell_type": "markdown",
   "id": "ab53bf99",
   "metadata": {},
   "source": [
    "### Properties\n",
    "\n",
    "| Method | Description |\n",
    "| :----------- | :----------- |\n",
    "| `is_trivial(tdc::ToricDivisorClass)` | Checks if a toric divisor class `tdc` is trivial. |\n",
    "| `is_effective(tdc::ToricDivisorClass)` | Checks if a toric divisor class `tdc` is effective, that is if a toric divisor in `tdc` is linearly equivalent to an effective toric divisor. |\n",
    "\n",
    "Equality of toric divisor classes can be tested via `==`.\n",
    "\n",
    "##### Example"
   ]
  },
  {
   "cell_type": "code",
   "execution_count": 31,
   "id": "01ca06a9",
   "metadata": {},
   "outputs": [
    {
     "data": {
      "text/plain": [
       "(true, false)"
      ]
     },
     "execution_count": 31,
     "metadata": {},
     "output_type": "execute_result"
    }
   ],
   "source": [
    "P2 = projective_space(NormalToricVariety,2)\n",
    "tdc1 = toric_divisor_class(P2, [1])\n",
    "tdc2 = toric_divisor_class(P2, [-1])\n",
    "(is_effective(tdc1), is_effective(tdc2))"
   ]
  },
  {
   "cell_type": "markdown",
   "id": "54fdc818",
   "metadata": {},
   "source": [
    "### Attributes\n",
    "\n",
    "| Method | Description |\n",
    "| :----------- | :----------- |\n",
    "| `divisor_class(tdc::ToricDivisorClass)` | The element of the class group corresponding to the toric divisor class  `tdc`. |\n",
    "| `toric_variety(tdc::ToricDivisorClass)` | The toric variety on which the toric divisor class `tdc` is defined. |\n",
    "| `toric_divisor(tdc::ToricDivisorClass)` | A toric divisor corresponding to the toric divisor class `tdc`. |\n",
    "\n",
    "##### Example"
   ]
  },
  {
   "cell_type": "code",
   "execution_count": 32,
   "id": "52eda265",
   "metadata": {},
   "outputs": [
    {
     "data": {
      "text/plain": [
       "3-element Vector{Any}:\n",
       " Element of\n",
       "GrpAb: Z\n",
       "with components [1]\n",
       " Normal, non-affine, smooth, projective, gorenstein, fano, 2-dimensional toric variety without torusfactor\n",
       " Torus-invariant, prime divisor on a normal toric variety"
      ]
     },
     "execution_count": 32,
     "metadata": {},
     "output_type": "execute_result"
    }
   ],
   "source": [
    "P2 = projective_space(NormalToricVariety, 2)\n",
    "tdc = toric_divisor_class(P2, class_group(P2)([1]))\n",
    "[\n",
    "    divisor_class(tdc),\n",
    "    toric_variety(tdc),\n",
    "    toric_divisor(tdc)\n",
    "]"
   ]
  },
  {
   "cell_type": "markdown",
   "id": "f5ef01c0",
   "metadata": {},
   "source": [
    "## Toric Line Bundles\n",
    "\n",
    "### Constructors\n",
    "\n",
    "Toric line bundles are defined with the following methods:\n",
    "\n",
    "| Method |\n",
    "| :----------- |\n",
    "| `toric_line_bundle(v::AbstractNormalToricVariety, c::Vector{T}) where {T <: IntegerUnion}` |\n",
    "| `toric_line_bundle(v::AbstractNormalToricVariety, d::ToricDivisor)` |\n",
    "\n",
    "The method constructs in both cases the toric line bundle on an abstract normal toric variety `v`. In the first case this is determined by the class `c` and in the second case by the Cartier divisor `d`.\n",
    "Since `d` has to be a divisor of `v`, the specification of `v` can be omitted in this case.\n",
    "\n",
    "Furthermore, toric line bundles can be tensorised via `*`. The `n`-th tensor product is calculated via `^n`. In particular, `^(-1)` calculates the inverse of a line bundle. Alternatively, the inverse can also be calculated via `inv`.\n",
    "\n",
    "##### Example"
   ]
  },
  {
   "cell_type": "code",
   "execution_count": 33,
   "id": "c8254cb2",
   "metadata": {},
   "outputs": [
    {
     "data": {
      "text/plain": [
       "2-element Vector{ToricLineBundle}:\n",
       " Toric line bundle on a normal toric variety\n",
       " Toric line bundle on a normal toric variety"
      ]
     },
     "execution_count": 33,
     "metadata": {},
     "output_type": "execute_result"
    }
   ],
   "source": [
    "P2 = projective_space(NormalToricVariety, 2)\n",
    "[\n",
    "    ToricLineBundle(P2, [fmpz(2)]),\n",
    "    ToricLineBundle(ToricDivisor(P2,[1,2,3]))\n",
    "]"
   ]
  },
  {
   "cell_type": "markdown",
   "id": "db8b659f",
   "metadata": {},
   "source": [
    "#### Special line bundles\n",
    "\n",
    "| Method | Description |\n",
    "| :----------- | :----------- |\n",
    "| `anticanonical_bundle(v::AbstractNormalToricVariety)` | Anticanonical bundle of a normal toric variety `v`. |\n",
    "| `canonical_bundle(v::AbstractNormalToricVariety)` | Canonical bundle of a normal toric variety `v`. |\n",
    "| `structure_sheaf(v::AbstractNormalToricVariety)` | Structure sheaf of a normal toric variety `v`. |\n",
    "\n",
    "##### Example"
   ]
  },
  {
   "cell_type": "code",
   "execution_count": 34,
   "id": "b630b3c7",
   "metadata": {},
   "outputs": [
    {
     "data": {
      "text/plain": [
       "3-element Vector{ToricLineBundle}:\n",
       " Toric line bundle on a normal toric variety\n",
       " Toric line bundle on a normal toric variety\n",
       " Toric line bundle on a normal toric variety"
      ]
     },
     "execution_count": 34,
     "metadata": {},
     "output_type": "execute_result"
    }
   ],
   "source": [
    "P2 = projective_space(NormalToricVariety, 2)\n",
    "[\n",
    "    anticanonical_bundle(P2),\n",
    "    canonical_bundle(P2),\n",
    "    structure_sheaf(P2)\n",
    "]"
   ]
  },
  {
   "cell_type": "markdown",
   "id": "8183af9c",
   "metadata": {},
   "source": [
    "### Properties\n",
    "\n",
    "Equality of toric line bundles can be tested via `==`.\n",
    "\n",
    "In addition, the following properties of a toric line bundle `l` are supported:\n",
    "\n",
    "| Method |\n",
    "| :----------- |\n",
    "| `is_trivial(l::ToricLineBundle)` |\n",
    "| `is_basepoint_free(l::ToricLineBundle)` |\n",
    "| `is_ample(l::ToricLineBundle)` |\n",
    "| `is_very_ample(l::ToricLineBundle)` |\n",
    "\n",
    "##### Example"
   ]
  },
  {
   "cell_type": "code",
   "execution_count": 35,
   "id": "9706dc97",
   "metadata": {},
   "outputs": [
    {
     "data": {
      "text/plain": [
       "(false, false, false, false)"
      ]
     },
     "execution_count": 35,
     "metadata": {},
     "output_type": "execute_result"
    }
   ],
   "source": [
    "F2 = hirzebruch_surface(2)\n",
    "l = ToricLineBundle(F2, [0,1])\n",
    "(is_trivial(l), is_basepoint_free(l), is_ample(l), is_very_ample(l))"
   ]
  },
  {
   "cell_type": "markdown",
   "id": "7d6033be",
   "metadata": {},
   "source": [
    "### Attributes\n",
    "\n",
    "| Method | Description |\n",
    "| :----------- | :----------- |\n",
    "| `degree(l::ToricLineBundle)` | The degree of the toric line bundle `l`. |\n",
    "| `divisor_class(l::ToricLineBundle)` | The divisor class which defines the toric line bundle `l`. |\n",
    "| `toric_divisor(l::ToricLineBundle)` | A divisor corresponding to the toric line bundle `l`. |\n",
    "| `toric_variety(l::ToricLineBundle)` | The toric variety over which the toric line bundle `l` is defined. |\n",
    "\n",
    "##### Example"
   ]
  },
  {
   "cell_type": "code",
   "execution_count": 36,
   "id": "4f982adb",
   "metadata": {},
   "outputs": [
    {
     "data": {
      "text/plain": [
       "4-element Vector{Any}:\n",
       " 2\n",
       " Element of\n",
       "GrpAb: Z\n",
       "with components [2]\n",
       " Torus-invariant, cartier, non-prime divisor on a normal toric variety\n",
       " Normal, non-affine, smooth, projective, gorenstein, fano, 2-dimensional toric variety without torusfactor"
      ]
     },
     "execution_count": 36,
     "metadata": {},
     "output_type": "execute_result"
    }
   ],
   "source": [
    "P2 = projective_space(NormalToricVariety, 2)\n",
    "l = ToricLineBundle(P2, [fmpz(2)])\n",
    "[\n",
    "    degree(l),\n",
    "    divisor_class(l),\n",
    "    toric_divisor(l),\n",
    "    toric_variety(l)\n",
    "]"
   ]
  },
  {
   "cell_type": "markdown",
   "id": "3de94c7e",
   "metadata": {},
   "source": [
    "### Further Methods\n",
    "\n",
    "| Method | Description |\n",
    "| :----------- | :----------- |\n",
    "| `basis_of_global_sections_via_rational_functions(l::ToricLineBundle)` | Returns a basis of the global sections of the toric line bundle `l` in terms of rational functions. |\n",
    "| `basis_of_global_sections_via_homogeneous_component(l::ToricLineBundle)` <br><br> `basis_of_global_sections(l::ToricLineBundle)` | Returns a basis of the global sections of the toric line bundle `l` in terms of a homogeneous component of the Cox ring of `toric_variety(l)`. |\n",
    "\n",
    "##### Example"
   ]
  },
  {
   "cell_type": "code",
   "execution_count": 37,
   "id": "774dcd9c",
   "metadata": {},
   "outputs": [
    {
     "data": {
      "text/plain": [
       "2-element Vector{Vector}:\n",
       " MPolyQuoRingElem{QQMPolyRingElem}[x1_^2, x2*x1_^2, x2^2*x1_^2, x1_, x2*x1_, 1]\n",
       " MPolyDecRingElem{QQFieldElem, QQMPolyRingElem}[x3^2, x2*x3, x2^2, x1*x3, x1*x2, x1^2]"
      ]
     },
     "execution_count": 37,
     "metadata": {},
     "output_type": "execute_result"
    }
   ],
   "source": [
    "P2 = projective_space(NormalToricVariety, 2)\n",
    "l = ToricLineBundle(P2, [fmpz(2)])\n",
    "[\n",
    "    basis_of_global_sections_via_rational_functions(l),\n",
    "    basis_of_global_sections_via_homogeneous_component(l)\n",
    "]"
   ]
  },
  {
   "cell_type": "markdown",
   "id": "50a06b48",
   "metadata": {},
   "source": [
    "## Line bundle cohomology with cohomCalg\n",
    "\n",
    "OSCAR uses the cohomCalg algorithm to compute the dimension of line bundle cohomologies and vanishing sets.\n",
    "\n",
    "### Dimensions of line bundle cohomology\n",
    "\n",
    "| Method | Description |\n",
    "| :----------- | :----------- |\n",
    "| `all_cohomologies(l::ToricLineBundle)` | Computes the dimension of all sheaf cohomologies of the toric line bundle `l`. |\n",
    "| `cohomology(l::ToricLineBundle, i::Int)` | Computes the dimension of the `i`-th sheaf cohomology of the toric line bundle `l`. |\n",
    "\n",
    "##### Example"
   ]
  },
  {
   "cell_type": "code",
   "execution_count": 38,
   "id": "62b6277f",
   "metadata": {},
   "outputs": [
    {
     "data": {
      "text/plain": [
       "3-element Vector{ZZRingElem}:\n",
       " 6\n",
       " 0\n",
       " 0"
      ]
     },
     "execution_count": 38,
     "metadata": {},
     "output_type": "execute_result"
    }
   ],
   "source": [
    "P2 = projective_space(NormalToricVariety, 2)\n",
    "l = ToricLineBundle(P2, [fmpz(2)])\n",
    "all_cohomologies(l)"
   ]
  },
  {
   "cell_type": "markdown",
   "id": "f07b7e1d",
   "metadata": {},
   "source": [
    "### Toric vanishing sets\n",
    "\n",
    "Vanishing sets describe subsets of the Picard group of toric varieties and can be described as the complement of a finite family of polyhedra. The calculation in OSCAR can only be done for smooth and complete or simplicial and projective toric varieties and is done via:\n",
    "\n",
    "| Method |\n",
    "| :----------- |\n",
    "| `vanishing_sets(variety::AbstractNormalToricVariety)` |\n",
    "\n",
    "The result is a vector of vanishing sets. The length of this vector is one greater than the dimension of the normal toric variety `v`. \n",
    "The first vanishing set in this vector describes all line bundles for which the $0$-th sheaf cohomology vanishes. More generally, the $n-1$-th sheaf cohomology vanishes if a line bundle is contained in the $n$-th vanishing set. This can be checked as follows:\n",
    "\n",
    "| Method |\n",
    "| :----------- |\n",
    "| `contains(tvs::ToricVanishingSet,l::ToricLineBundle)` |\n",
    "\n",
    "A vanishing set can in principle cover the entire Picard group. This can be checked with `isfull`. \n",
    "This methods returns true if the vanishing set is the entire Picard group and false otherwise.\n",
    "\n",
    "| Method |\n",
    "| :----------- |\n",
    "| `isfull(tvs::ToricVanishingSet)` |\n",
    "\n",
    "Beyond this, OSCAR supports the following attributes for vanishing sets:\n",
    "\n",
    "| Method | Description |\n",
    "| :----------- | :----------- |\n",
    "| `toric_variety(tvs::ToricVanishingSet)` | Toric variety of the vanishing set `tvs`. |\n",
    "| `polyhedra(tvs::ToricVanishingSet)` | Vector of the polyhedra whose complement defines the vanishing set `tvs`. |\n",
    "| `cohomology_index(tvs::ToricVanishingSet)` | Cohomology index of the toric vanishing set `tvs`. |\n",
    "\n",
    "##### Example"
   ]
  },
  {
   "cell_type": "code",
   "execution_count": 39,
   "id": "47eeca6b",
   "metadata": {},
   "outputs": [
    {
     "data": {
      "text/plain": [
       "3-element Vector{Any}:\n",
       "  Normal, non-affine, smooth, projective, gorenstein, fano, 2-dimensional toric variety without torusfactor\n",
       "  Polyhedron{QQFieldElem}[Polyhedron in ambient dimension 1]\n",
       " 0"
      ]
     },
     "execution_count": 39,
     "metadata": {},
     "output_type": "execute_result"
    }
   ],
   "source": [
    "P2 = projective_space(NormalToricVariety, 2)\n",
    "vs = vanishing_sets(P2)\n",
    "[\n",
    "    toric_variety(vs[1]),\n",
    "    polyhedra(vs[1]),\n",
    "    cohomology_index(vs[1])\n",
    "]"
   ]
  },
  {
   "cell_type": "code",
   "execution_count": 40,
   "id": "3cabda0f",
   "metadata": {},
   "outputs": [
    {
     "data": {
      "text/plain": [
       "(false, true, true)"
      ]
     },
     "execution_count": 40,
     "metadata": {},
     "output_type": "execute_result"
    }
   ],
   "source": [
    "P2 = projective_space(NormalToricVariety, 2)\n",
    "vs = vanishing_sets(P2)\n",
    "l = ToricLineBundle(P2, [fmpz(2)])\n",
    "(contains(vs[1], l), contains(vs[2], l), contains(vs[3], l))"
   ]
  },
  {
   "cell_type": "markdown",
   "id": "b9390325",
   "metadata": {},
   "source": [
    "## Cohomology Classes\n",
    "\n",
    "### Constructors\n",
    "\n",
    "| Method | Description |\n",
    "| :----------- | :----------- |\n",
    "| `cohomology_class(v::AbstractNormalToricVariety, p::MPolyQuoRingElem)` | Toric cohomology class on the toric variety `v` corresponding to the polynomial `p`. |\n",
    "| `cohomology_class(d::ToricDivisor)` | Toric cohomology class corresponding to the toric divisor `d`. |\n",
    "| `cohomology_class(c::ToricDivisorClass)` | Toric cohomology class corresponding to the toric divisor class `c`. |\n",
    "| `cohomology_class(l::ToricLineBundle)` | Toric cohomology class corresponding to the toric line bundle `l`. |\n",
    "\n",
    "Furthermore, cohomology classes can be added or subtracted with the operators `+` and `-`. \n",
    "Multiplication with a scalar from the left is done with `*`, whereby only integers or the types `ZZRingElem`, `QQFieldElem` are allowed as scalars. \n",
    "\n",
    "The wedge product of cohomology classes can be formed with `*`. \n",
    "The n-fold wedge product is formed with `^n`, where `n` must be an integer or of type `ZZRingElem`.\n",
    "\n",
    "##### Example"
   ]
  },
  {
   "cell_type": "code",
   "execution_count": 41,
   "id": "c16f86ee",
   "metadata": {},
   "outputs": [
    {
     "data": {
      "text/plain": [
       "3-element Vector{CohomologyClass}:\n",
       " Cohomology class on a normal toric variety given by 6*x3\n",
       " Cohomology class on a normal toric variety given by 2*x3\n",
       " Cohomology class on a normal toric variety given by 2*x3"
      ]
     },
     "execution_count": 41,
     "metadata": {},
     "output_type": "execute_result"
    }
   ],
   "source": [
    "P2 = projective_space(NormalToricVariety, 2)\n",
    "d = toric_divisor(P2, [1,2,3])\n",
    "tdc = toric_divisor_class(P2, [2])\n",
    "l = toric_line_bundle(P2, [2])\n",
    "[\n",
    "    cohomology_class(d),\n",
    "    cohomology_class(tdc),\n",
    "    cohomology_class(l)\n",
    "]"
   ]
  },
  {
   "cell_type": "markdown",
   "id": "e346e73d",
   "metadata": {},
   "source": [
    "### Properties\n",
    "\n",
    "| Method | Description |\n",
    "| :----------- | :----------- |\n",
    "| `is_trivial(c::CohomologyClass)` | Checks if the cohomology class `c` is trivial. |\n",
    "\n",
    "Equality of cohomology classes can be tested via `==`.\n",
    "\n",
    "### Attributes\n",
    "\n",
    "| Method | Description |\n",
    "| :----------- | :----------- |\n",
    "| `toric_variety(c::CohomologyClass)` | Normal toric variety of the cohomology class `c`. |\n",
    "| `coefficients(c::CohomologyClass)` | Coefficients of the cohomology class `c`. |\n",
    "| `exponents(c::CohomologyClass)` | Exponents of the cohomology class `c`. |\n",
    "| `polynomial(c::CohomologyClass)` | Polynomial in the cohomology ring of the normal toric variety `toric_variety(c)` which corresponds to `c`. |\n",
    "| `polynomial(c::CohomologyClass, ring::MPolyQuo)` | Polynomial in `ring` corresponding to the cohomology class in `c`. |\n",
    "\n",
    "##### Example"
   ]
  },
  {
   "cell_type": "code",
   "execution_count": 42,
   "id": "81dbaf3f",
   "metadata": {},
   "outputs": [
    {
     "data": {
      "text/plain": [
       "4-element Vector{Any}:\n",
       " Normal, non-affine, smooth, projective, gorenstein, fano, 2-dimensional toric variety without torusfactor\n",
       " QQFieldElem[6]\n",
       " [0   0   1]\n",
       " 6*x3"
      ]
     },
     "execution_count": 42,
     "metadata": {},
     "output_type": "execute_result"
    }
   ],
   "source": [
    "P2 = projective_space(NormalToricVariety, 2)\n",
    "d = toric_divisor(P2, [1,2,3])\n",
    "cc = cohomology_class(d)\n",
    "[\n",
    "    toric_variety(cc),\n",
    "    coefficients(cc),\n",
    "    exponents(cc),\n",
    "    polynomial(cc)\n",
    "]"
   ]
  },
  {
   "cell_type": "markdown",
   "id": "15b2a0ee",
   "metadata": {},
   "source": [
    "### Further Methods\n",
    "\n",
    "| Method | Description |\n",
    "| :----------- | :----------- |\n",
    "| `integrate(c::CohomologyClass)` | Integrate the cohomolgy class `c` over the normal toric variety `toric_variety(c)`. |\n",
    "\n",
    "##### Example"
   ]
  },
  {
   "cell_type": "code",
   "execution_count": 43,
   "id": "eaffd43c",
   "metadata": {},
   "outputs": [
    {
     "data": {
      "text/plain": [
       "1"
      ]
     },
     "execution_count": 43,
     "metadata": {},
     "output_type": "execute_result"
    }
   ],
   "source": [
    "P2 = projective_space(NormalToricVariety, 2)\n",
    "(x1,x2,x3) = gens(cohomology_ring(P2))\n",
    "c = cohomology_class(P2, x1+x2*x3)\n",
    "integrate(c)"
   ]
  },
  {
   "cell_type": "markdown",
   "id": "9f898703",
   "metadata": {},
   "source": [
    "### Special attributes of toric varieties\n",
    "\n",
    "| Method | Description |\n",
    "| :----------- | :----------- |\n",
    "| `cohomology_ring(v::AbstractNormalToricVariety)` | Cohomology ring of the simplicial and complete toric variety `v`. |\n",
    "| `volume_form(v::NormalToricVariety)` | Volume form of the normal toric toric variety `v`. |\n",
    "| `intersection_form(v::NormalToricVariety)` | Computes the intersection numbers among the cohomology classes associated to the torusinvariant prime divisors of the normal toric toric variety `v`. |\n",
    "\n",
    "##### Example"
   ]
  },
  {
   "cell_type": "code",
   "execution_count": 44,
   "id": "753ea8d8",
   "metadata": {},
   "outputs": [
    {
     "data": {
      "text/plain": [
       "3-element Vector{Any}:\n",
       " 3\n",
       "  x3^2\n",
       " 6"
      ]
     },
     "execution_count": 44,
     "metadata": {},
     "output_type": "execute_result"
    }
   ],
   "source": [
    "P2 = projective_space(NormalToricVariety, 2)\n",
    "[\n",
    "    ngens(cohomology_ring(P2)),\n",
    "    polynomial(volume_form(P2)),\n",
    "    length(intersection_form(P2))\n",
    "]"
   ]
  },
  {
   "cell_type": "markdown",
   "id": "7355cd5f",
   "metadata": {},
   "source": [
    "## Subvarieties\n",
    "\n",
    "OSCAR provides functionalities for closed subvarieties of simplicial toric varieties. \n",
    "For such a subvariety, a list of homogeneous polynomials or an ideal contained in the Cox ring of the associated simplicial toric variety defines the subvariety by forming the common vanishing set of the polynomials.\n",
    "\n",
    "### Constructors\n",
    "\n",
    "The following methods can be used to construct a closed subvariety of a simplicial normal toric variety:\n",
    "\n",
    "| Method |\n",
    "| :----------- |\n",
    "| `closed_subvariety_of_toric_variety(toric_variety::AbstractNormalToricVariety, defining_polynomials::Vector{MPolyDecRingElem{QQFieldElem, QQMPolyRingElem}})` |\n",
    "| `closed_subvariety_of_toric_variety(toric_variety::AbstractNormalToricVariety, defining_ideal::MPolyIdeal)` |\n",
    "\n",
    "\n",
    "### Properties\n",
    "\n",
    "| Method | Description |\n",
    "| :----------- | :----------- |\n",
    "| `is_empty(c::ClosedSubvarietyOfToricVariety)` | Checks if a closed subvariet`c` of a toric variety is empty. |\n",
    "\n",
    "### Attributes\n",
    "\n",
    "| Method | Description |\n",
    "| :----------- | :----------- |\n",
    "| `toric_variety(c::ClosedSubvarietyOfToricVariety)` | Returns the initially provided toric supervariety of `c`. |\n",
    "| `defining_ideal(c::ClosedSubvarietyOfToricVariety)` | Returns the ideal in the Cox ring that defines `c`. |\n",
    "| `radical(c::ClosedSubvarietyOfToricVariety)` | Returns the radical of the ideal `defining_ideal`. |\n",
    "\n",
    "Note that a closed subvariety can be contained in different non-isomorphic toric varieties.\n",
    "\n",
    "##### Example"
   ]
  },
  {
   "cell_type": "code",
   "execution_count": 45,
   "id": "0c17ff22",
   "metadata": {},
   "outputs": [
    {
     "data": {
      "text/plain": [
       "(false, true, true, true)"
      ]
     },
     "execution_count": 45,
     "metadata": {},
     "output_type": "execute_result"
    }
   ],
   "source": [
    "P2 = projective_space(NormalToricVariety, 2)\n",
    "(x1, x2, x3) = gens(cox_ring(P2))\n",
    "c = closed_subvariety_of_toric_variety(P2, [x1])\n",
    "(is_empty(c), toric_variety(c) == P2, defining_ideal(c) == ideal([x1]), radical(c) == ideal([x1]))"
   ]
  },
  {
   "cell_type": "markdown",
   "id": "caf754f0",
   "metadata": {},
   "source": [
    "## The Chow ring\n",
    "\n",
    "Algebraic cycles are formal linear sum of irreducible subvarieties over the integers.\n",
    "Among the algebraic cycles one can define an equivalence, the so-called rational equivalence. \n",
    "The set of equivalence classes of algebraic cycles together with the intersection product then furnishes the Chow ring of the variety in question.\n",
    "\n",
    "### Constructors\n",
    "\n",
    "The following methods construct the rational equivalence classes of the algebraic cycles:\n",
    "\n",
    "| Method |\n",
    "| :----------- |\n",
    "| `rational_equivalence_class(v::AbstractNormalToricVariety, p::MPolyQuoRingElem)` |\n",
    "| `rational_equivalence_class(v::AbstractNormalToricVariety, coefficients::Vector{T}) where {T <: IntegerUnion}` | \n",
    "| `rational_equivalence_class(c::ToricDivisorClass)` |\n",
    "| `rational_equivalence_class(l::ToricLineBundle)` |\n",
    "| `rational_equivalence_class(cc::CohomologyClass)` |\n",
    "| `rational_equivalence_class(sv::ClosedSubvarietyOfToricVariety)` |\n",
    "\n",
    "where the cycles correspond to\n",
    "- a linear combination of cones given by `p` resp. `coefficients`\n",
    "- the toric divisor `d`\n",
    "- the toric divisor class `c`\n",
    "- the toric line bundle `l`\n",
    "- the cohomology class `cc`\n",
    "\n",
    "Algebraic cycles can be added or subtracted with the operators `+` and `-`. \n",
    "Multiplication with a scalar from the left is done with `*`, where the scalars are integers or of type `ZZRingElem`.\n",
    "Since the Chow ring can also be defined as a formal linear sum of irreducible subvarieties over the rational numbers, left multiplication with scalars of type `QQFieldElem` is additionally supported.\n",
    "\n",
    "Furthermore, the intersection product of algebraic cycles is implemented via `*`.\n",
    "The n-fold intersection product is formed with `^n`, where `n` must be an integer or of type `ZZRingElem`.\n",
    "\n",
    "##### Example"
   ]
  },
  {
   "cell_type": "code",
   "execution_count": 46,
   "id": "577363a4",
   "metadata": {},
   "outputs": [
    {
     "data": {
      "text/plain": [
       "Rational equivalence class on a normal toric variety represented by 6V(x3)"
      ]
     },
     "execution_count": 46,
     "metadata": {},
     "output_type": "execute_result"
    }
   ],
   "source": [
    "P2 = projective_space(NormalToricVariety, 2)\n",
    "d = toric_divisor(P2, [1,2,3])\n",
    "ac = rational_equivalence_class(d)"
   ]
  },
  {
   "cell_type": "markdown",
   "id": "7e671590",
   "metadata": {},
   "source": [
    "### Attributes\n",
    "\n",
    "#### Defining attributes\n",
    "\n",
    "Note that on a simplicial and complete toric variety, the Chow ring is isomorphic to a certain quotient of the Cox ring.\n",
    "\n",
    "| Method | Description |\n",
    "| :----------- | :----------- |\n",
    "| `toric_variety(ac::RationalEquivalenceClass)` | Normal toric variety of a rational equivalence class `ac` of algebraic cycles. |\n",
    "| `polynomial(ac::RationalEquivalenceClass)` <br></br> `polynomial(ring::MPolyQuo,ac::RationalEquivalenceClass)`|  The ring element corresponding to a given rational equivalence class `ac` of algebraic cycles. The argument `ring` allows to obtain this ring element in a different ring. This allows to change the coefficient ring if desired. |\n",
    "\n",
    "##### Example"
   ]
  },
  {
   "cell_type": "code",
   "execution_count": 47,
   "id": "bc439f53",
   "metadata": {},
   "outputs": [
    {
     "data": {
      "text/plain": [
       "2-element Vector{Any}:\n",
       " Normal, non-affine, smooth, projective, gorenstein, fano, 2-dimensional toric variety without torusfactor\n",
       " 6*x3"
      ]
     },
     "execution_count": 47,
     "metadata": {},
     "output_type": "execute_result"
    }
   ],
   "source": [
    "P2 = projective_space(NormalToricVariety, 2)\n",
    "d = toric_divisor(P2, [1,2,3])\n",
    "ac = rational_equivalence_class(d)\n",
    "[\n",
    "    toric_variety(ac),\n",
    "    polynomial(ac)\n",
    "]"
   ]
  },
  {
   "cell_type": "markdown",
   "id": "839283b6",
   "metadata": {},
   "source": [
    "#### Representatives\n",
    "\n",
    "To interpret rational equivalence classes of algebraic cycles geometrically, one replaces self-intersections by transverse complete intersections.\n",
    "However, this requires a choice of representatives.\n",
    "The following methods make such a choice and give the corresponding values:\n",
    "\n",
    "| Method | Description |\n",
    "| :----------- | :----------- |\n",
    "| `representative(ac::RationalEquivalenceClass)` | Polynomial in the Cox ring mapping to `polynomial(ac)`. |\n",
    "| `coefficients(ac::RationalEquivalenceClass)` | Coefficients of `polynomial(ac)`. |\n",
    "| `components(ac::RationalEquivalenceClass)` | Turn each monomial of `representative(ac)` into a closed subvariety and return the list formed from these subvarieties. |\n",
    "\n",
    "##### Example"
   ]
  },
  {
   "cell_type": "code",
   "execution_count": 48,
   "id": "c7c870b0",
   "metadata": {},
   "outputs": [
    {
     "data": {
      "text/plain": [
       "3-element Vector{Any}:\n",
       "  36*x1*x3\n",
       "  QQFieldElem[36]\n",
       " 1"
      ]
     },
     "execution_count": 48,
     "metadata": {},
     "output_type": "execute_result"
    }
   ],
   "source": [
    "P2 = projective_space(NormalToricVariety, 2)\n",
    "d = toric_divisor(P2, [1,2,3])\n",
    "ac = rational_equivalence_class(d)\n",
    "[\n",
    "    representative(ac*ac),\n",
    "    coefficients(ac*ac),\n",
    "    length(components(ac*ac))\n",
    "]"
   ]
  },
  {
   "cell_type": "markdown",
   "id": "68dbe169",
   "metadata": {},
   "source": [
    "#### Other attributes\n",
    "\n",
    "| Method | Description |\n",
    "| :----------- | :----------- |\n",
    "| `cohomology_class(ac::RationalEquivalenceClass)` | Cohomology class of a rational equilvalence class of algebraic cycles. |\n",
    "\n",
    "##### Example"
   ]
  },
  {
   "cell_type": "code",
   "execution_count": 49,
   "id": "3eafb894",
   "metadata": {},
   "outputs": [
    {
     "data": {
      "text/plain": [
       "Cohomology class on a normal toric variety given by 6*x3"
      ]
     },
     "execution_count": 49,
     "metadata": {},
     "output_type": "execute_result"
    }
   ],
   "source": [
    "P2 = projective_space(NormalToricVariety, 2)\n",
    "d = toric_divisor(P2, [1,2,3])\n",
    "ac = rational_equivalence_class(d)\n",
    "cohomology_class(ac)"
   ]
  },
  {
   "cell_type": "markdown",
   "id": "19f04e40",
   "metadata": {},
   "source": [
    "### Properties\n",
    "\n",
    "| Method | Description |\n",
    "| :----------- | :----------- |\n",
    "| `is_trivial(ac::RationalEquivalenceClass)` | Checks if a rational equivalence class `ac` of algebraic cycles is trivial. |\n",
    "\n",
    "Equality of rational equivalence classes can be tested with `==`.\n",
    "\n",
    "### Special attributes of toric varieties\n",
    "\n",
    "| Method | Description |\n",
    "| :----------- | :----------- |\n",
    "| `chow_ring(v::AbstractNormalToricVariety)` | Chow ring of the simplicial toric variety `v`. |\n",
    "| `gens_of_rational_equivalence_classes(v::AbstractNormalToricVariety)` | List of generators of the Chow ring of a complete, simplicial toric variety `v`. |\n",
    "| `map_gens_of_chow_ring_to_cox_ring(v::AbstractNormalToricVariety)` | Dictionary which maps the generators of the chow ring to monomials in the Cox ring. This dictionary involves a choice, i.e. is not unique. |\n",
    "\n",
    "##### Example"
   ]
  },
  {
   "cell_type": "code",
   "execution_count": 51,
   "id": "0e7134ea",
   "metadata": {},
   "outputs": [
    {
     "data": {
      "text/plain": [
       "(3, 6, 2)"
      ]
     },
     "execution_count": 51,
     "metadata": {},
     "output_type": "execute_result"
    }
   ],
   "source": [
    "P2 = projective_space(NormalToricVariety, 2)\n",
    "(ngens(chow_ring(P2)), length(gens_of_rational_equivalence_classes(P2)), length(map_gens_of_chow_ring_to_cox_ring(P2)))"
   ]
  },
  {
   "cell_type": "markdown",
   "id": "244b1c22",
   "metadata": {},
   "source": [
    "## Toric Morphisms\n",
    "\n",
    "### Constructors\n",
    "\n",
    "The following methods construct the toric morphism given by the associated lattice morphism and the domain of the toric morphism.\n",
    "The codomain of the morphism can be specified as an optional argument.\n",
    "The methods differ only in the type in which the lattice morphism is specified.\n",
    "\n",
    "| Method |\n",
    "| :----------- |\n",
    "| `toric_morphism(domain::AbstractNormalToricVariety, mapping_matrix::Vector{Vector{T}}, codomain::T2=nothing) where {T <: IntegerUnion, T2 <: Union{AbstractNormalToricVariety, Nothing}}` |\n",
    "| `toric_morphism(domain::AbstractNormalToricVariety, mapping_matrix::Matrix{T}, codomain::T2=nothing) where {T <: IntegerUnion, T2 <: Union{AbstractNormalToricVariety, Nothing}}` |\n",
    "| `toric_morphism(domain::AbstractNormalToricVariety, mapping_matrix::ZZMatrix, codomain::T=nothing) where {T <: Union{AbstractNormalToricVariety, Nothing}}` |\n",
    "| `toric_morphism(domain::AbstractNormalToricVariety, grid_morphism::GrpAbFinGenMap, codomain::T=nothing) where {T <: Union{AbstractNormalToricVariety, Nothing}}` |\n",
    "\n",
    "The toric identity morphism from `variety` to `variety` can be definied by:\n",
    "\n",
    "| Methode |\n",
    "| :----------- |\n",
    "| `toric_identity_morphism(variety::AbstractNormalToricVariety)` |\n",
    "\n",
    "##### Example"
   ]
  },
  {
   "cell_type": "code",
   "execution_count": 52,
   "id": "0df186c4",
   "metadata": {},
   "outputs": [
    {
     "data": {
      "text/plain": [
       "A toric morphism"
      ]
     },
     "execution_count": 52,
     "metadata": {},
     "output_type": "execute_result"
    }
   ],
   "source": [
    "# Definition of the same toric morphism by means of the four functions above\n",
    "domain = projective_space(NormalToricVariety, 1)\n",
    "codomain = hirzebruch_surface(2)\n",
    "\n",
    "mapping_matrix = [[0, 1]]\n",
    "toric_morphism(domain, mapping_matrix)\n",
    "\n",
    "mapping_matrix = [0 1]\n",
    "toric_morphism(domain, mapping_matrix)\n",
    "\n",
    "mapping_matrix = matrix(ZZ, [0 1])\n",
    "toric_morphism(domain, mapping_matrix, codomain)\n",
    "\n",
    "mapping_matrix = matrix(ZZ, [[0, 1]])\n",
    "grid_morphism = hom(character_lattice(domain), character_lattice(codomain), mapping_matrix)\n",
    "toric_morphism(domain, grid_morphism, codomain)"
   ]
  },
  {
   "cell_type": "markdown",
   "id": "2e06802a",
   "metadata": {},
   "source": [
    "### Attributes of Toric Morhpisms\n",
    "\n",
    "#### General attributes\n",
    "\n",
    "| Method | Description |\n",
    "| :----------- | :----------- |\n",
    "| `domain(tm::ToricMorphism)` | Domain of the toric morphism `tm`. |\n",
    "| `image(tm::ToricMorphism)` | Image of the toric morphism `tm`. |\n",
    "| `codomain(tm::ToricMorphism)` | Codomain of the toric morphism `tm`. |\n",
    "| `grid_morphism(tm::ToricMorphism)` | Underlying grid morphism of the toric morphism `tm`. |\n",
    "| `morphism_on_torusinvariant_weil_divisor_group(tm::ToricMorphism)` | Map of the torusinvariant Weil divisors corresponding to the toric morphism `tm`. |\n",
    "| `morphism_on_torusinvariant_cartier_divisor_group(tm::ToricMorphism)` | Map of the torusinvariant Cartier divisors corresponding to the toric morphism `tm`. |\n",
    "| `morphism_on_class_group(tm::ToricMorphism)` | Map of the Class groups corresponding to the toric morphism `tm`. |\n",
    "| `morphism_on_picard_group(tm::ToricMorphism)` | Map of the Picard groups corresponding to the toric morphism `tm`. |\n",
    "\n",
    "##### Example"
   ]
  },
  {
   "cell_type": "code",
   "execution_count": 53,
   "id": "37107484",
   "metadata": {},
   "outputs": [
    {
     "data": {
      "text/plain": [
       "Normal, non-affine, smooth, projective, gorenstein, fano, 1-dimensional toric variety without torusfactor"
      ]
     },
     "execution_count": 53,
     "metadata": {},
     "output_type": "execute_result"
    }
   ],
   "source": [
    "tm = toric_identity_morphism(projective_space(NormalToricVariety, 1))\n",
    "image(tm)"
   ]
  },
  {
   "cell_type": "code",
   "execution_count": 54,
   "id": "eb3cde53",
   "metadata": {},
   "outputs": [
    {
     "data": {
      "text/plain": [
       "Map with following data\n",
       "Domain:\n",
       "=======\n",
       "Abelian group with structure: Z^2\n",
       "Codomain:\n",
       "=========\n",
       "Abelian group with structure: Z^2"
      ]
     },
     "execution_count": 54,
     "metadata": {},
     "output_type": "execute_result"
    }
   ],
   "source": [
    "tm = toric_identity_morphism(projective_space(NormalToricVariety, 1))\n",
    "morphism_on_torusinvariant_weil_divisor_group(tm)"
   ]
  },
  {
   "cell_type": "code",
   "execution_count": 55,
   "id": "d790df02",
   "metadata": {},
   "outputs": [
    {
     "data": {
      "text/plain": [
       "Map with following data\n",
       "Domain:\n",
       "=======\n",
       "Abelian group with structure: Z^2\n",
       "Codomain:\n",
       "=========\n",
       "Abelian group with structure: Z^2"
      ]
     },
     "execution_count": 55,
     "metadata": {},
     "output_type": "execute_result"
    }
   ],
   "source": [
    "P1 = projective_space(NormalToricVariety, 1)\n",
    "morphism_on_cartier_divisor_group(ToricIdentityMorphism(P1))"
   ]
  },
  {
   "cell_type": "markdown",
   "id": "43a70f1b",
   "metadata": {},
   "source": [
    "#### Special attributes of toric varieties\n",
    "\n",
    "Each toric variety $v$ can be associated with a special toric variety, the so-called Cox variety.\n",
    "It is defined in such a way that the mapping matrix of the toric morphism from the Cox variety to the variety $v$ is given by the ray generators of the variety $v$. \n",
    "Thus, if there are exactly $N$ ray generators of the fan of $v$, then the Cox variety of $v$ has a fan for which the ray generators are the standard basis of $\\mathbb{R}^n$ and the maximal cones are in a 1-1 relation to the maximal cones of the fan of $v$.\n",
    "\n",
    "| Method | Description |\n",
    "| :----------- | :----------- |\n",
    "| `morphism_from_cox_variety(variety::AbstractNormalToricVariety)` | Quotient morphism from the Cox variety to the toric variety `variety`. |\n",
    "| `cox_variety(variety::AbstractNormalToricVariety)` | Cox variety of the toric variety `variety`. |\n",
    "\n",
    "##### Example"
   ]
  },
  {
   "cell_type": "code",
   "execution_count": 56,
   "id": "3d305ac5",
   "metadata": {},
   "outputs": [
    {
     "data": {
      "text/plain": [
       "A toric morphism"
      ]
     },
     "execution_count": 56,
     "metadata": {},
     "output_type": "execute_result"
    }
   ],
   "source": [
    "P1 = projective_space(NormalToricVariety, 1)\n",
    "morphism_from_cox_variety(P1)"
   ]
  }
 ],
 "metadata": {
  "kernelspec": {
   "display_name": "Julia 1.9.0",
   "language": "julia",
   "name": "julia-1.9"
  },
  "language_info": {
   "file_extension": ".jl",
   "mimetype": "application/julia",
   "name": "julia",
   "version": "1.9.0"
  }
 },
 "nbformat": 4,
 "nbformat_minor": 5
}
